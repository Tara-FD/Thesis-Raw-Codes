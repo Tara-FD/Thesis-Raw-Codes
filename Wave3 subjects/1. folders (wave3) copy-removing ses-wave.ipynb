{
 "cells": [
  {
   "cell_type": "markdown",
   "metadata": {},
   "source": [
    "### keeping just wave3 subjects"
   ]
  },
  {
   "cell_type": "code",
   "execution_count": 1,
   "metadata": {},
   "outputs": [],
   "source": [
    "import matplotlib.pyplot as plt\n",
    "import pandas as pd\n",
    "import numpy as np\n",
    "import os \n",
    "import shutil "
   ]
  },
  {
   "cell_type": "code",
   "execution_count": 2,
   "metadata": {},
   "outputs": [
    {
     "name": "stdout",
     "output_type": "stream",
     "text": [
      "Enter your root directory: /media/tara/HD710PRO/NICAP_ADHD_sleep_DATA\n"
     ]
    }
   ],
   "source": [
    "directory = input('Enter your root directory: ')"
   ]
  },
  {
   "cell_type": "code",
   "execution_count": 4,
   "metadata": {},
   "outputs": [],
   "source": [
    "ls1 = os.listdir(directory)"
   ]
  },
  {
   "cell_type": "code",
   "execution_count": 5,
   "metadata": {},
   "outputs": [
    {
     "name": "stdout",
     "output_type": "stream",
     "text": [
      "sub-0260\n",
      "sub-0642\n",
      "sub-0015\n",
      "sub-0071\n",
      "sub-0086\n",
      "sub-0085\n",
      "sub-0259\n",
      "sub-0271\n",
      "sub-0554\n",
      "sub-0570\n",
      "sub-0982\n",
      "sub-1470\n",
      "sub-1705\n",
      "sub-1759\n",
      "sub-1403\n",
      "sub-2220\n",
      "sub-1764\n",
      "sub-2474\n",
      "sub-2531\n",
      "sub-2627\n",
      "sub-2718\n",
      "sub-2794\n",
      "sub-0517\n",
      "sub-2429\n",
      "sub-3009\n",
      "sub-4341\n",
      "sub-2523\n",
      "sub-2661\n",
      "sub-4939\n",
      "sub-5286\n",
      "sub-5449\n",
      "sub-5496\n",
      "sub-0751\n",
      "sub-0755\n",
      "sub-5685\n",
      "sub-0788\n",
      "sub-5695\n",
      "sub-4305\n",
      "sub-5889\n",
      "sub-5936\n",
      "sub-6237\n",
      "sub-6433\n",
      "sub-6466\n",
      "sub-6822\n",
      "sub-1348\n",
      "sub-1596\n",
      "sub-5532\n",
      "sub-5604\n",
      "sub-5606\n",
      "sub-6015\n",
      "sub-6240\n",
      "sub-2159\n",
      "sub-2306\n",
      "sub-6481\n",
      "sub-6515\n",
      "sub-6525\n",
      "sub-6634\n",
      "sub-6641\n",
      "sub-6799\n",
      "sub-6911\n",
      "sub-7031\n",
      "sub-7130\n",
      "sub-2348\n",
      "sub-2442\n",
      "sub-2564\n",
      "sub-2583\n",
      "sub-2670\n",
      "sub-2675\n",
      "sub-4081\n",
      "sub-4267\n",
      "sub-4350\n",
      "sub-4359\n",
      "sub-4457\n",
      "sub-4832\n",
      "sub-4906\n",
      "sub-6194\n",
      "sub-6294\n",
      "sub-6298\n",
      "sub-6299\n",
      "sub-6315\n"
     ]
    }
   ],
   "source": [
    "for subject in ls1:\n",
    "    ls2 = os.listdir(directory + '/' + subject)\n",
    "    wavedir = directory + '/' + subject + '/' + 'ses-wave3'\n",
    "    destination = '/media/tara/HD710PRO/NICAP_wave3_subjects'\n",
    "    try:\n",
    "        shutil.copytree(wavedir + '/func', destination + '/' + subject + '/func', ignore = shutil.ignore_patterns('._*'))\n",
    "        shutil.copytree(wavedir + '/anat', destination + '/' + subject + '/anat', ignore = shutil.ignore_patterns('._*'))\n",
    "    except:\n",
    "        print(subject)"
   ]
  },
  {
   "cell_type": "markdown",
   "metadata": {},
   "source": [
    "### removing ses-wave from subject names"
   ]
  },
  {
   "cell_type": "code",
   "execution_count": 7,
   "metadata": {},
   "outputs": [
    {
     "name": "stdout",
     "output_type": "stream",
     "text": [
      "Enter your root directory: /media/tara/HD710PRO/NICAP_wave3_subjects\n"
     ]
    }
   ],
   "source": [
    "directory2 = input('Enter your root directory: ')"
   ]
  },
  {
   "cell_type": "code",
   "execution_count": 8,
   "metadata": {},
   "outputs": [],
   "source": [
    "ls2 = os.listdir(directory2)"
   ]
  },
  {
   "cell_type": "code",
   "execution_count": 9,
   "metadata": {},
   "outputs": [],
   "source": [
    "for subs in ls2:\n",
    "    path1 = directory2 + '/' + subs\n",
    "    try:\n",
    "        s1 = os.listdir(path1)\n",
    "        for files in s1:\n",
    "            if files != 'design.fsf':\n",
    "                path2 = path1 + '/' + files\n",
    "                s2 = os.listdir(path2)\n",
    "                for images in s2:\n",
    "                    if images.find('ses-wave') != -1:\n",
    "                        #ses = images.split('_')[1]\n",
    "                        #print(ses)\n",
    "                        b = images.split('_')\n",
    "                        c = len(b)\n",
    "                        old_name = images\n",
    "\n",
    "                        if c==3:\n",
    "                            new_name = b[c-3] + '_' + b[c-1] \n",
    "                        elif c==4:\n",
    "                            new_name = b[c-4] + '_' + b[c-2] + '_' + b[c-1] \n",
    "                        else:\n",
    "                            new_name = b[c-5] + '_' + b[c-3] + '_' + b[c-2] + '_' + b[c-1] \n",
    "\n",
    "                        shutil.move(path2 + '/' + old_name, path2 + '/' + new_name)\n",
    "    except:\n",
    "        print(subs)"
   ]
  },
  {
   "cell_type": "code",
   "execution_count": null,
   "metadata": {},
   "outputs": [],
   "source": []
  },
  {
   "cell_type": "code",
   "execution_count": null,
   "metadata": {},
   "outputs": [],
   "source": []
  }
 ],
 "metadata": {
  "kernelspec": {
   "display_name": "Python 3",
   "language": "python",
   "name": "python3"
  },
  "language_info": {
   "codemirror_mode": {
    "name": "ipython",
    "version": 3
   },
   "file_extension": ".py",
   "mimetype": "text/x-python",
   "name": "python",
   "nbconvert_exporter": "python",
   "pygments_lexer": "ipython3",
   "version": "3.8.10"
  }
 },
 "nbformat": 4,
 "nbformat_minor": 4
}
