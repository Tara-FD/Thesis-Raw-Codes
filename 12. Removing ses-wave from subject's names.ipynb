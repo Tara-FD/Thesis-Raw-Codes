{
 "cells": [
  {
   "cell_type": "code",
   "execution_count": 64,
   "metadata": {},
   "outputs": [],
   "source": [
    "import matplotlib.pyplot as plt\n",
    "import pandas as pd\n",
    "import numpy as np\n",
    "import os \n",
    "import shutil "
   ]
  },
  {
   "cell_type": "code",
   "execution_count": 65,
   "metadata": {},
   "outputs": [
    {
     "name": "stdout",
     "output_type": "stream",
     "text": [
      "Enter the root directory: /media/tara/HD710PRO/test\n"
     ]
    }
   ],
   "source": [
    "directory = input('Enter the root directory: ')"
   ]
  },
  {
   "cell_type": "code",
   "execution_count": 66,
   "metadata": {},
   "outputs": [
    {
     "data": {
      "text/plain": [
       "['sub-0015', 'sub-0085']"
      ]
     },
     "execution_count": 66,
     "metadata": {},
     "output_type": "execute_result"
    }
   ],
   "source": [
    "ls = os.listdir(directory)\n",
    "ls"
   ]
  },
  {
   "cell_type": "code",
   "execution_count": 67,
   "metadata": {},
   "outputs": [],
   "source": [
    "for subs in ls:\n",
    "    path1 = directory + '/' + subs\n",
    "    s1 = os.listdir(path1)\n",
    "    for files in s1:\n",
    "        if files != 'design.fsf':\n",
    "            path2 = path1 + '/' + files\n",
    "            s2 = os.listdir(path2)\n",
    "            for images in s2:\n",
    "                if images.find('ses-wave') != -1:\n",
    "                    #ses = images.split('_')[1]\n",
    "                    #print(ses)\n",
    "                    b = images.split('_')\n",
    "                    c = len(b)\n",
    "                    old_name = images\n",
    "\n",
    "                    if c==3:\n",
    "                        new_name = b[c-3] + '_' + b[c-1] \n",
    "                    elif c==4:\n",
    "                        new_name = b[c-4] + '_' + b[c-2] + '_' + b[c-1] \n",
    "                    else:\n",
    "                        new_name = b[c-5] + '_' + b[c-3] + '_' + b[c-2] + '_' + b[c-1] \n",
    "\n",
    "                    shutil.move(path2 + '/' + old_name, path2 + '/' + new_name)        "
   ]
  },
  {
   "cell_type": "code",
   "execution_count": null,
   "metadata": {},
   "outputs": [],
   "source": []
  }
 ],
 "metadata": {
  "kernelspec": {
   "display_name": "Python 3",
   "language": "python",
   "name": "python3"
  },
  "language_info": {
   "codemirror_mode": {
    "name": "ipython",
    "version": 3
   },
   "file_extension": ".py",
   "mimetype": "text/x-python",
   "name": "python",
   "nbconvert_exporter": "python",
   "pygments_lexer": "ipython3",
   "version": "3.8.10"
  }
 },
 "nbformat": 4,
 "nbformat_minor": 4
}
