{
 "cells": [
  {
   "cell_type": "code",
   "execution_count": 1,
   "metadata": {},
   "outputs": [],
   "source": [
    "import pandas as pd\n",
    "import shutil, os\n",
    "import numpy as np"
   ]
  },
  {
   "cell_type": "code",
   "execution_count": 2,
   "metadata": {},
   "outputs": [
    {
     "data": {
      "text/html": [
       "<div>\n",
       "<style scoped>\n",
       "    .dataframe tbody tr th:only-of-type {\n",
       "        vertical-align: middle;\n",
       "    }\n",
       "\n",
       "    .dataframe tbody tr th {\n",
       "        vertical-align: top;\n",
       "    }\n",
       "\n",
       "    .dataframe thead th {\n",
       "        text-align: right;\n",
       "    }\n",
       "</style>\n",
       "<table border=\"1\" class=\"dataframe\">\n",
       "  <thead>\n",
       "    <tr style=\"text-align: right;\">\n",
       "      <th></th>\n",
       "      <th>parcel_name</th>\n",
       "      <th>sws_rs</th>\n",
       "      <th>sws_gb</th>\n",
       "      <th>sws_ms</th>\n",
       "      <th>sws_fa</th>\n",
       "      <th>sws_rw</th>\n",
       "      <th>sws_total</th>\n",
       "    </tr>\n",
       "  </thead>\n",
       "  <tbody>\n",
       "    <tr>\n",
       "      <th>0</th>\n",
       "      <td>gmd_17Networks_17</td>\n",
       "      <td>0.166971</td>\n",
       "      <td>0.051392</td>\n",
       "      <td>0.107496</td>\n",
       "      <td>-0.069671</td>\n",
       "      <td>0.184833</td>\n",
       "      <td>0.111557</td>\n",
       "    </tr>\n",
       "    <tr>\n",
       "      <th>1</th>\n",
       "      <td>gmd_17Networks_16</td>\n",
       "      <td>0.118898</td>\n",
       "      <td>0.035596</td>\n",
       "      <td>0.026529</td>\n",
       "      <td>0.069384</td>\n",
       "      <td>0.099563</td>\n",
       "      <td>0.092149</td>\n",
       "    </tr>\n",
       "    <tr>\n",
       "      <th>2</th>\n",
       "      <td>gmd_17Networks_15</td>\n",
       "      <td>0.040398</td>\n",
       "      <td>0.026939</td>\n",
       "      <td>0.022451</td>\n",
       "      <td>0.109657</td>\n",
       "      <td>0.005116</td>\n",
       "      <td>0.059787</td>\n",
       "    </tr>\n",
       "    <tr>\n",
       "      <th>3</th>\n",
       "      <td>gmd_17Networks_14</td>\n",
       "      <td>-0.044211</td>\n",
       "      <td>-0.076722</td>\n",
       "      <td>-0.072343</td>\n",
       "      <td>0.049435</td>\n",
       "      <td>-0.054085</td>\n",
       "      <td>-0.040322</td>\n",
       "    </tr>\n",
       "    <tr>\n",
       "      <th>4</th>\n",
       "      <td>gmd_17Networks_13</td>\n",
       "      <td>0.116004</td>\n",
       "      <td>-0.003638</td>\n",
       "      <td>0.144275</td>\n",
       "      <td>-0.098356</td>\n",
       "      <td>0.146914</td>\n",
       "      <td>0.085295</td>\n",
       "    </tr>\n",
       "  </tbody>\n",
       "</table>\n",
       "</div>"
      ],
      "text/plain": [
       "         parcel_name    sws_rs    sws_gb    sws_ms    sws_fa    sws_rw  \\\n",
       "0  gmd_17Networks_17  0.166971  0.051392  0.107496 -0.069671  0.184833   \n",
       "1  gmd_17Networks_16  0.118898  0.035596  0.026529  0.069384  0.099563   \n",
       "2  gmd_17Networks_15  0.040398  0.026939  0.022451  0.109657  0.005116   \n",
       "3  gmd_17Networks_14 -0.044211 -0.076722 -0.072343  0.049435 -0.054085   \n",
       "4  gmd_17Networks_13  0.116004 -0.003638  0.144275 -0.098356  0.146914   \n",
       "\n",
       "   sws_total  \n",
       "0   0.111557  \n",
       "1   0.092149  \n",
       "2   0.059787  \n",
       "3  -0.040322  \n",
       "4   0.085295  "
      ]
     },
     "execution_count": 2,
     "metadata": {},
     "output_type": "execute_result"
    }
   ],
   "source": [
    "df = pd.read_csv('r.csv')\n",
    "df.head()"
   ]
  },
  {
   "cell_type": "code",
   "execution_count": 4,
   "metadata": {},
   "outputs": [
    {
     "data": {
      "text/html": [
       "<div>\n",
       "<style scoped>\n",
       "    .dataframe tbody tr th:only-of-type {\n",
       "        vertical-align: middle;\n",
       "    }\n",
       "\n",
       "    .dataframe tbody tr th {\n",
       "        vertical-align: top;\n",
       "    }\n",
       "\n",
       "    .dataframe thead th {\n",
       "        text-align: right;\n",
       "    }\n",
       "</style>\n",
       "<table border=\"1\" class=\"dataframe\">\n",
       "  <thead>\n",
       "    <tr style=\"text-align: right;\">\n",
       "      <th></th>\n",
       "      <th>parcel_name</th>\n",
       "      <th>sws_rw</th>\n",
       "    </tr>\n",
       "  </thead>\n",
       "  <tbody>\n",
       "    <tr>\n",
       "      <th>0</th>\n",
       "      <td>gmd_17Networks_17</td>\n",
       "      <td>0.184833</td>\n",
       "    </tr>\n",
       "    <tr>\n",
       "      <th>1</th>\n",
       "      <td>gmd_17Networks_16</td>\n",
       "      <td>0.099563</td>\n",
       "    </tr>\n",
       "    <tr>\n",
       "      <th>2</th>\n",
       "      <td>gmd_17Networks_15</td>\n",
       "      <td>0.005116</td>\n",
       "    </tr>\n",
       "    <tr>\n",
       "      <th>3</th>\n",
       "      <td>gmd_17Networks_14</td>\n",
       "      <td>-0.054085</td>\n",
       "    </tr>\n",
       "    <tr>\n",
       "      <th>4</th>\n",
       "      <td>gmd_17Networks_13</td>\n",
       "      <td>0.146914</td>\n",
       "    </tr>\n",
       "  </tbody>\n",
       "</table>\n",
       "</div>"
      ],
      "text/plain": [
       "         parcel_name    sws_rw\n",
       "0  gmd_17Networks_17  0.184833\n",
       "1  gmd_17Networks_16  0.099563\n",
       "2  gmd_17Networks_15  0.005116\n",
       "3  gmd_17Networks_14 -0.054085\n",
       "4  gmd_17Networks_13  0.146914"
      ]
     },
     "execution_count": 4,
     "metadata": {},
     "output_type": "execute_result"
    }
   ],
   "source": [
    "df1 = df[['parcel_name' ,'sws_rw']]\n",
    "df1.head()"
   ]
  },
  {
   "cell_type": "code",
   "execution_count": 5,
   "metadata": {},
   "outputs": [
    {
     "data": {
      "text/plain": [
       "(2718, 2)"
      ]
     },
     "execution_count": 5,
     "metadata": {},
     "output_type": "execute_result"
    }
   ],
   "source": [
    "df1.shape"
   ]
  },
  {
   "cell_type": "code",
   "execution_count": 6,
   "metadata": {},
   "outputs": [],
   "source": [
    "df2 = df1.dropna()"
   ]
  },
  {
   "cell_type": "code",
   "execution_count": 7,
   "metadata": {},
   "outputs": [
    {
     "data": {
      "text/plain": [
       "(2718, 2)"
      ]
     },
     "execution_count": 7,
     "metadata": {},
     "output_type": "execute_result"
    }
   ],
   "source": [
    "df2.shape"
   ]
  },
  {
   "cell_type": "code",
   "execution_count": 8,
   "metadata": {},
   "outputs": [],
   "source": [
    "df2.insert(1, 'parc_name', np.nan)"
   ]
  },
  {
   "cell_type": "code",
   "execution_count": 9,
   "metadata": {},
   "outputs": [
    {
     "data": {
      "text/html": [
       "<div>\n",
       "<style scoped>\n",
       "    .dataframe tbody tr th:only-of-type {\n",
       "        vertical-align: middle;\n",
       "    }\n",
       "\n",
       "    .dataframe tbody tr th {\n",
       "        vertical-align: top;\n",
       "    }\n",
       "\n",
       "    .dataframe thead th {\n",
       "        text-align: right;\n",
       "    }\n",
       "</style>\n",
       "<table border=\"1\" class=\"dataframe\">\n",
       "  <thead>\n",
       "    <tr style=\"text-align: right;\">\n",
       "      <th></th>\n",
       "      <th>parcel_name</th>\n",
       "      <th>parc_name</th>\n",
       "      <th>sws_rw</th>\n",
       "    </tr>\n",
       "  </thead>\n",
       "  <tbody>\n",
       "    <tr>\n",
       "      <th>0</th>\n",
       "      <td>gmd_17Networks_17</td>\n",
       "      <td>NaN</td>\n",
       "      <td>0.184833</td>\n",
       "    </tr>\n",
       "    <tr>\n",
       "      <th>1</th>\n",
       "      <td>gmd_17Networks_16</td>\n",
       "      <td>NaN</td>\n",
       "      <td>0.099563</td>\n",
       "    </tr>\n",
       "    <tr>\n",
       "      <th>2</th>\n",
       "      <td>gmd_17Networks_15</td>\n",
       "      <td>NaN</td>\n",
       "      <td>0.005116</td>\n",
       "    </tr>\n",
       "    <tr>\n",
       "      <th>3</th>\n",
       "      <td>gmd_17Networks_14</td>\n",
       "      <td>NaN</td>\n",
       "      <td>-0.054085</td>\n",
       "    </tr>\n",
       "    <tr>\n",
       "      <th>4</th>\n",
       "      <td>gmd_17Networks_13</td>\n",
       "      <td>NaN</td>\n",
       "      <td>0.146914</td>\n",
       "    </tr>\n",
       "  </tbody>\n",
       "</table>\n",
       "</div>"
      ],
      "text/plain": [
       "         parcel_name  parc_name    sws_rw\n",
       "0  gmd_17Networks_17        NaN  0.184833\n",
       "1  gmd_17Networks_16        NaN  0.099563\n",
       "2  gmd_17Networks_15        NaN  0.005116\n",
       "3  gmd_17Networks_14        NaN -0.054085\n",
       "4  gmd_17Networks_13        NaN  0.146914"
      ]
     },
     "execution_count": 9,
     "metadata": {},
     "output_type": "execute_result"
    }
   ],
   "source": [
    "df2.head()"
   ]
  },
  {
   "cell_type": "code",
   "execution_count": 10,
   "metadata": {},
   "outputs": [],
   "source": [
    "#df2 = df2.reset_index()"
   ]
  },
  {
   "cell_type": "code",
   "execution_count": 11,
   "metadata": {},
   "outputs": [],
   "source": [
    "#df2.head()"
   ]
  },
  {
   "cell_type": "code",
   "execution_count": 12,
   "metadata": {},
   "outputs": [],
   "source": [
    "#df = df2.drop('index', axis = 1)"
   ]
  },
  {
   "cell_type": "code",
   "execution_count": 13,
   "metadata": {},
   "outputs": [],
   "source": [
    "df = df2"
   ]
  },
  {
   "cell_type": "code",
   "execution_count": 14,
   "metadata": {},
   "outputs": [
    {
     "data": {
      "text/html": [
       "<div>\n",
       "<style scoped>\n",
       "    .dataframe tbody tr th:only-of-type {\n",
       "        vertical-align: middle;\n",
       "    }\n",
       "\n",
       "    .dataframe tbody tr th {\n",
       "        vertical-align: top;\n",
       "    }\n",
       "\n",
       "    .dataframe thead th {\n",
       "        text-align: right;\n",
       "    }\n",
       "</style>\n",
       "<table border=\"1\" class=\"dataframe\">\n",
       "  <thead>\n",
       "    <tr style=\"text-align: right;\">\n",
       "      <th></th>\n",
       "      <th>parcel_name</th>\n",
       "      <th>parc_name</th>\n",
       "      <th>sws_rw</th>\n",
       "    </tr>\n",
       "  </thead>\n",
       "  <tbody>\n",
       "    <tr>\n",
       "      <th>0</th>\n",
       "      <td>gmd_17Networks_17</td>\n",
       "      <td>NaN</td>\n",
       "      <td>0.184833</td>\n",
       "    </tr>\n",
       "    <tr>\n",
       "      <th>1</th>\n",
       "      <td>gmd_17Networks_16</td>\n",
       "      <td>NaN</td>\n",
       "      <td>0.099563</td>\n",
       "    </tr>\n",
       "    <tr>\n",
       "      <th>2</th>\n",
       "      <td>gmd_17Networks_15</td>\n",
       "      <td>NaN</td>\n",
       "      <td>0.005116</td>\n",
       "    </tr>\n",
       "    <tr>\n",
       "      <th>3</th>\n",
       "      <td>gmd_17Networks_14</td>\n",
       "      <td>NaN</td>\n",
       "      <td>-0.054085</td>\n",
       "    </tr>\n",
       "    <tr>\n",
       "      <th>4</th>\n",
       "      <td>gmd_17Networks_13</td>\n",
       "      <td>NaN</td>\n",
       "      <td>0.146914</td>\n",
       "    </tr>\n",
       "  </tbody>\n",
       "</table>\n",
       "</div>"
      ],
      "text/plain": [
       "         parcel_name  parc_name    sws_rw\n",
       "0  gmd_17Networks_17        NaN  0.184833\n",
       "1  gmd_17Networks_16        NaN  0.099563\n",
       "2  gmd_17Networks_15        NaN  0.005116\n",
       "3  gmd_17Networks_14        NaN -0.054085\n",
       "4  gmd_17Networks_13        NaN  0.146914"
      ]
     },
     "execution_count": 14,
     "metadata": {},
     "output_type": "execute_result"
    }
   ],
   "source": [
    "df.head()"
   ]
  },
  {
   "cell_type": "code",
   "execution_count": 15,
   "metadata": {},
   "outputs": [
    {
     "name": "stderr",
     "output_type": "stream",
     "text": [
      "<ipython-input-15-892afac0656c>:6: SettingWithCopyWarning: \n",
      "A value is trying to be set on a copy of a slice from a DataFrame\n",
      "\n",
      "See the caveats in the documentation: https://pandas.pydata.org/pandas-docs/stable/user_guide/indexing.html#returning-a-view-versus-a-copy\n",
      "  df[\"parc_name\"][i] = df[\"parcel_name\"][i][len(marker):]\n",
      "/home/tara/Programming/env/lib/python3.8/site-packages/pandas/core/indexing.py:1636: SettingWithCopyWarning: \n",
      "A value is trying to be set on a copy of a slice from a DataFrame\n",
      "\n",
      "See the caveats in the documentation: https://pandas.pydata.org/pandas-docs/stable/user_guide/indexing.html#returning-a-view-versus-a-copy\n",
      "  self._setitem_single_block(indexer, value, name)\n"
     ]
    }
   ],
   "source": [
    "markers = ['gmd_', 'zALFF_', 'zfALFF_', 'zReHo_', 'zDCwei_', 'zDCbin_']\n",
    "for i,parc in enumerate(df[\"parcel_name\"]):\n",
    "    #for i in range(df.shape[0]):\n",
    "    for marker in markers:\n",
    "        if parc.find(marker)==0:\n",
    "            df[\"parc_name\"][i] = df[\"parcel_name\"][i][len(marker):]\n",
    "            #print(df[\"sws_total\"][i])\n",
    "            col = marker + \"sws_rw_r\" \n",
    "            if col not in df:\n",
    "                df.insert(2, col, np.nan)\n",
    "            df.iloc[i, df.columns.get_loc(col)] = df[\"sws_rw\"][i]"
   ]
  },
  {
   "cell_type": "code",
   "execution_count": 16,
   "metadata": {},
   "outputs": [
    {
     "data": {
      "text/html": [
       "<div>\n",
       "<style scoped>\n",
       "    .dataframe tbody tr th:only-of-type {\n",
       "        vertical-align: middle;\n",
       "    }\n",
       "\n",
       "    .dataframe tbody tr th {\n",
       "        vertical-align: top;\n",
       "    }\n",
       "\n",
       "    .dataframe thead th {\n",
       "        text-align: right;\n",
       "    }\n",
       "</style>\n",
       "<table border=\"1\" class=\"dataframe\">\n",
       "  <thead>\n",
       "    <tr style=\"text-align: right;\">\n",
       "      <th></th>\n",
       "      <th>parcel_name</th>\n",
       "      <th>parc_name</th>\n",
       "      <th>zALFF_sws_rw_r</th>\n",
       "      <th>zDCbin_sws_rw_r</th>\n",
       "      <th>zDCwei_sws_rw_r</th>\n",
       "      <th>zfALFF_sws_rw_r</th>\n",
       "      <th>zReHo_sws_rw_r</th>\n",
       "      <th>gmd_sws_rw_r</th>\n",
       "      <th>sws_rw</th>\n",
       "    </tr>\n",
       "  </thead>\n",
       "  <tbody>\n",
       "    <tr>\n",
       "      <th>0</th>\n",
       "      <td>gmd_17Networks_17</td>\n",
       "      <td>17Networks_17</td>\n",
       "      <td>NaN</td>\n",
       "      <td>NaN</td>\n",
       "      <td>NaN</td>\n",
       "      <td>NaN</td>\n",
       "      <td>NaN</td>\n",
       "      <td>0.184833</td>\n",
       "      <td>0.184833</td>\n",
       "    </tr>\n",
       "    <tr>\n",
       "      <th>1</th>\n",
       "      <td>gmd_17Networks_16</td>\n",
       "      <td>17Networks_16</td>\n",
       "      <td>NaN</td>\n",
       "      <td>NaN</td>\n",
       "      <td>NaN</td>\n",
       "      <td>NaN</td>\n",
       "      <td>NaN</td>\n",
       "      <td>0.099563</td>\n",
       "      <td>0.099563</td>\n",
       "    </tr>\n",
       "    <tr>\n",
       "      <th>2</th>\n",
       "      <td>gmd_17Networks_15</td>\n",
       "      <td>17Networks_15</td>\n",
       "      <td>NaN</td>\n",
       "      <td>NaN</td>\n",
       "      <td>NaN</td>\n",
       "      <td>NaN</td>\n",
       "      <td>NaN</td>\n",
       "      <td>0.005116</td>\n",
       "      <td>0.005116</td>\n",
       "    </tr>\n",
       "    <tr>\n",
       "      <th>3</th>\n",
       "      <td>gmd_17Networks_14</td>\n",
       "      <td>17Networks_14</td>\n",
       "      <td>NaN</td>\n",
       "      <td>NaN</td>\n",
       "      <td>NaN</td>\n",
       "      <td>NaN</td>\n",
       "      <td>NaN</td>\n",
       "      <td>-0.054085</td>\n",
       "      <td>-0.054085</td>\n",
       "    </tr>\n",
       "    <tr>\n",
       "      <th>4</th>\n",
       "      <td>gmd_17Networks_13</td>\n",
       "      <td>17Networks_13</td>\n",
       "      <td>NaN</td>\n",
       "      <td>NaN</td>\n",
       "      <td>NaN</td>\n",
       "      <td>NaN</td>\n",
       "      <td>NaN</td>\n",
       "      <td>0.146914</td>\n",
       "      <td>0.146914</td>\n",
       "    </tr>\n",
       "    <tr>\n",
       "      <th>...</th>\n",
       "      <td>...</td>\n",
       "      <td>...</td>\n",
       "      <td>...</td>\n",
       "      <td>...</td>\n",
       "      <td>...</td>\n",
       "      <td>...</td>\n",
       "      <td>...</td>\n",
       "      <td>...</td>\n",
       "      <td>...</td>\n",
       "    </tr>\n",
       "    <tr>\n",
       "      <th>2713</th>\n",
       "      <td>zDCbin_rHipp_L</td>\n",
       "      <td>rHipp_L</td>\n",
       "      <td>NaN</td>\n",
       "      <td>0.028442</td>\n",
       "      <td>NaN</td>\n",
       "      <td>NaN</td>\n",
       "      <td>NaN</td>\n",
       "      <td>NaN</td>\n",
       "      <td>0.028442</td>\n",
       "    </tr>\n",
       "    <tr>\n",
       "      <th>2714</th>\n",
       "      <td>zDCbin_lAmyg_R</td>\n",
       "      <td>lAmyg_R</td>\n",
       "      <td>NaN</td>\n",
       "      <td>0.088730</td>\n",
       "      <td>NaN</td>\n",
       "      <td>NaN</td>\n",
       "      <td>NaN</td>\n",
       "      <td>NaN</td>\n",
       "      <td>0.088730</td>\n",
       "    </tr>\n",
       "    <tr>\n",
       "      <th>2715</th>\n",
       "      <td>zDCbin_lAmyg_L</td>\n",
       "      <td>lAmyg_L</td>\n",
       "      <td>NaN</td>\n",
       "      <td>0.031081</td>\n",
       "      <td>NaN</td>\n",
       "      <td>NaN</td>\n",
       "      <td>NaN</td>\n",
       "      <td>NaN</td>\n",
       "      <td>0.031081</td>\n",
       "    </tr>\n",
       "    <tr>\n",
       "      <th>2716</th>\n",
       "      <td>zDCbin_mAmyg_R</td>\n",
       "      <td>mAmyg_R</td>\n",
       "      <td>NaN</td>\n",
       "      <td>-0.046212</td>\n",
       "      <td>NaN</td>\n",
       "      <td>NaN</td>\n",
       "      <td>NaN</td>\n",
       "      <td>NaN</td>\n",
       "      <td>-0.046212</td>\n",
       "    </tr>\n",
       "    <tr>\n",
       "      <th>2717</th>\n",
       "      <td>zDCbin_mAmyg_L</td>\n",
       "      <td>mAmyg_L</td>\n",
       "      <td>NaN</td>\n",
       "      <td>-0.018397</td>\n",
       "      <td>NaN</td>\n",
       "      <td>NaN</td>\n",
       "      <td>NaN</td>\n",
       "      <td>NaN</td>\n",
       "      <td>-0.018397</td>\n",
       "    </tr>\n",
       "  </tbody>\n",
       "</table>\n",
       "<p>2718 rows × 9 columns</p>\n",
       "</div>"
      ],
      "text/plain": [
       "            parcel_name      parc_name  zALFF_sws_rw_r  zDCbin_sws_rw_r  \\\n",
       "0     gmd_17Networks_17  17Networks_17             NaN              NaN   \n",
       "1     gmd_17Networks_16  17Networks_16             NaN              NaN   \n",
       "2     gmd_17Networks_15  17Networks_15             NaN              NaN   \n",
       "3     gmd_17Networks_14  17Networks_14             NaN              NaN   \n",
       "4     gmd_17Networks_13  17Networks_13             NaN              NaN   \n",
       "...                 ...            ...             ...              ...   \n",
       "2713     zDCbin_rHipp_L        rHipp_L             NaN         0.028442   \n",
       "2714     zDCbin_lAmyg_R        lAmyg_R             NaN         0.088730   \n",
       "2715     zDCbin_lAmyg_L        lAmyg_L             NaN         0.031081   \n",
       "2716     zDCbin_mAmyg_R        mAmyg_R             NaN        -0.046212   \n",
       "2717     zDCbin_mAmyg_L        mAmyg_L             NaN        -0.018397   \n",
       "\n",
       "      zDCwei_sws_rw_r  zfALFF_sws_rw_r  zReHo_sws_rw_r  gmd_sws_rw_r    sws_rw  \n",
       "0                 NaN              NaN             NaN      0.184833  0.184833  \n",
       "1                 NaN              NaN             NaN      0.099563  0.099563  \n",
       "2                 NaN              NaN             NaN      0.005116  0.005116  \n",
       "3                 NaN              NaN             NaN     -0.054085 -0.054085  \n",
       "4                 NaN              NaN             NaN      0.146914  0.146914  \n",
       "...               ...              ...             ...           ...       ...  \n",
       "2713              NaN              NaN             NaN           NaN  0.028442  \n",
       "2714              NaN              NaN             NaN           NaN  0.088730  \n",
       "2715              NaN              NaN             NaN           NaN  0.031081  \n",
       "2716              NaN              NaN             NaN           NaN -0.046212  \n",
       "2717              NaN              NaN             NaN           NaN -0.018397  \n",
       "\n",
       "[2718 rows x 9 columns]"
      ]
     },
     "execution_count": 16,
     "metadata": {},
     "output_type": "execute_result"
    }
   ],
   "source": [
    "df"
   ]
  },
  {
   "cell_type": "code",
   "execution_count": 17,
   "metadata": {},
   "outputs": [],
   "source": [
    "#df.to_csv('r_reformed.csv')"
   ]
  },
  {
   "cell_type": "markdown",
   "metadata": {},
   "source": [
    "### merging duplicates"
   ]
  },
  {
   "cell_type": "code",
   "execution_count": 18,
   "metadata": {},
   "outputs": [],
   "source": [
    "#df = pd.read_csv('r_reformed.csv')"
   ]
  },
  {
   "cell_type": "code",
   "execution_count": 19,
   "metadata": {},
   "outputs": [
    {
     "data": {
      "text/plain": [
       "(2718, 9)"
      ]
     },
     "execution_count": 19,
     "metadata": {},
     "output_type": "execute_result"
    }
   ],
   "source": [
    "df.shape"
   ]
  },
  {
   "cell_type": "code",
   "execution_count": 20,
   "metadata": {},
   "outputs": [],
   "source": [
    "df2 = df.copy()\n",
    "inds = df2['parc_name'].drop_duplicates().reset_index(drop=True)\n",
    "df2.set_index('parc_name', inplace=True)\n",
    "df3 = pd.DataFrame(columns = df2.columns)\n",
    "for ind in inds:\n",
    "    region = df2.loc[[ind]]\n",
    "    if region.shape[0] > 1 :\n",
    "        reg = region\n",
    "        cols = reg.columns\n",
    "        for col in cols:\n",
    "            reg[col] = reg[col].sum()\n",
    "        reg = reg.drop_duplicates()\n",
    "        df3 = pd.concat([df3, reg])\n",
    "        continue\n",
    "    df3 = pd.concat([df3, region])"
   ]
  },
  {
   "cell_type": "code",
   "execution_count": 21,
   "metadata": {},
   "outputs": [
    {
     "data": {
      "text/plain": [
       "(453, 8)"
      ]
     },
     "execution_count": 21,
     "metadata": {},
     "output_type": "execute_result"
    }
   ],
   "source": [
    "df3.shape"
   ]
  },
  {
   "cell_type": "code",
   "execution_count": 22,
   "metadata": {},
   "outputs": [],
   "source": [
    "df3.to_csv('SWSrw_r_reformed.csv')"
   ]
  },
  {
   "cell_type": "code",
   "execution_count": null,
   "metadata": {},
   "outputs": [],
   "source": []
  }
 ],
 "metadata": {
  "kernelspec": {
   "display_name": "Python 3",
   "language": "python",
   "name": "python3"
  },
  "language_info": {
   "codemirror_mode": {
    "name": "ipython",
    "version": 3
   },
   "file_extension": ".py",
   "mimetype": "text/x-python",
   "name": "python",
   "nbconvert_exporter": "python",
   "pygments_lexer": "ipython3",
   "version": "3.8.10"
  }
 },
 "nbformat": 4,
 "nbformat_minor": 4
}
