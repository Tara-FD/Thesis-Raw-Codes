{
 "cells": [
  {
   "cell_type": "code",
   "execution_count": 1,
   "metadata": {},
   "outputs": [],
   "source": [
    "import pandas as pd\n",
    "import shutil, os\n",
    "import numpy as np"
   ]
  },
  {
   "cell_type": "code",
   "execution_count": 2,
   "metadata": {},
   "outputs": [
    {
     "data": {
      "text/html": [
       "<div>\n",
       "<style scoped>\n",
       "    .dataframe tbody tr th:only-of-type {\n",
       "        vertical-align: middle;\n",
       "    }\n",
       "\n",
       "    .dataframe tbody tr th {\n",
       "        vertical-align: top;\n",
       "    }\n",
       "\n",
       "    .dataframe thead th {\n",
       "        text-align: right;\n",
       "    }\n",
       "</style>\n",
       "<table border=\"1\" class=\"dataframe\">\n",
       "  <thead>\n",
       "    <tr style=\"text-align: right;\">\n",
       "      <th></th>\n",
       "      <th>parcel_name</th>\n",
       "      <th>sws_rs</th>\n",
       "      <th>sws_gb</th>\n",
       "      <th>sws_ms</th>\n",
       "      <th>sws_fa</th>\n",
       "      <th>sws_rw</th>\n",
       "      <th>sws_total</th>\n",
       "    </tr>\n",
       "  </thead>\n",
       "  <tbody>\n",
       "    <tr>\n",
       "      <th>0</th>\n",
       "      <td>gmd_17Networks_17</td>\n",
       "      <td>NaN</td>\n",
       "      <td>NaN</td>\n",
       "      <td>NaN</td>\n",
       "      <td>NaN</td>\n",
       "      <td>0.048864</td>\n",
       "      <td>NaN</td>\n",
       "    </tr>\n",
       "    <tr>\n",
       "      <th>1</th>\n",
       "      <td>gmd_17Networks_1</td>\n",
       "      <td>NaN</td>\n",
       "      <td>NaN</td>\n",
       "      <td>NaN</td>\n",
       "      <td>NaN</td>\n",
       "      <td>0.042370</td>\n",
       "      <td>NaN</td>\n",
       "    </tr>\n",
       "    <tr>\n",
       "      <th>2</th>\n",
       "      <td>zReHo_17Networks_15</td>\n",
       "      <td>0.017524</td>\n",
       "      <td>NaN</td>\n",
       "      <td>NaN</td>\n",
       "      <td>NaN</td>\n",
       "      <td>0.041528</td>\n",
       "      <td>0.04454</td>\n",
       "    </tr>\n",
       "    <tr>\n",
       "      <th>3</th>\n",
       "      <td>zReHo_17Networks_11</td>\n",
       "      <td>0.016880</td>\n",
       "      <td>NaN</td>\n",
       "      <td>NaN</td>\n",
       "      <td>NaN</td>\n",
       "      <td>0.048864</td>\n",
       "      <td>NaN</td>\n",
       "    </tr>\n",
       "    <tr>\n",
       "      <th>4</th>\n",
       "      <td>zReHo_17Networks_9</td>\n",
       "      <td>0.024346</td>\n",
       "      <td>NaN</td>\n",
       "      <td>NaN</td>\n",
       "      <td>NaN</td>\n",
       "      <td>0.041528</td>\n",
       "      <td>NaN</td>\n",
       "    </tr>\n",
       "  </tbody>\n",
       "</table>\n",
       "</div>"
      ],
      "text/plain": [
       "           parcel_name    sws_rs  sws_gb  sws_ms  sws_fa    sws_rw  sws_total\n",
       "0    gmd_17Networks_17       NaN     NaN     NaN     NaN  0.048864        NaN\n",
       "1     gmd_17Networks_1       NaN     NaN     NaN     NaN  0.042370        NaN\n",
       "2  zReHo_17Networks_15  0.017524     NaN     NaN     NaN  0.041528    0.04454\n",
       "3  zReHo_17Networks_11  0.016880     NaN     NaN     NaN  0.048864        NaN\n",
       "4   zReHo_17Networks_9  0.024346     NaN     NaN     NaN  0.041528        NaN"
      ]
     },
     "execution_count": 2,
     "metadata": {},
     "output_type": "execute_result"
    }
   ],
   "source": [
    "df = pd.read_csv('fdr.csv')\n",
    "df.head()"
   ]
  },
  {
   "cell_type": "code",
   "execution_count": 3,
   "metadata": {},
   "outputs": [
    {
     "data": {
      "text/html": [
       "<div>\n",
       "<style scoped>\n",
       "    .dataframe tbody tr th:only-of-type {\n",
       "        vertical-align: middle;\n",
       "    }\n",
       "\n",
       "    .dataframe tbody tr th {\n",
       "        vertical-align: top;\n",
       "    }\n",
       "\n",
       "    .dataframe thead th {\n",
       "        text-align: right;\n",
       "    }\n",
       "</style>\n",
       "<table border=\"1\" class=\"dataframe\">\n",
       "  <thead>\n",
       "    <tr style=\"text-align: right;\">\n",
       "      <th></th>\n",
       "      <th>parcel_name</th>\n",
       "      <th>sws_rw</th>\n",
       "    </tr>\n",
       "  </thead>\n",
       "  <tbody>\n",
       "    <tr>\n",
       "      <th>0</th>\n",
       "      <td>gmd_17Networks_17</td>\n",
       "      <td>0.048864</td>\n",
       "    </tr>\n",
       "    <tr>\n",
       "      <th>1</th>\n",
       "      <td>gmd_17Networks_1</td>\n",
       "      <td>0.042370</td>\n",
       "    </tr>\n",
       "    <tr>\n",
       "      <th>2</th>\n",
       "      <td>zReHo_17Networks_15</td>\n",
       "      <td>0.041528</td>\n",
       "    </tr>\n",
       "    <tr>\n",
       "      <th>3</th>\n",
       "      <td>zReHo_17Networks_11</td>\n",
       "      <td>0.048864</td>\n",
       "    </tr>\n",
       "    <tr>\n",
       "      <th>4</th>\n",
       "      <td>zReHo_17Networks_9</td>\n",
       "      <td>0.041528</td>\n",
       "    </tr>\n",
       "  </tbody>\n",
       "</table>\n",
       "</div>"
      ],
      "text/plain": [
       "           parcel_name    sws_rw\n",
       "0    gmd_17Networks_17  0.048864\n",
       "1     gmd_17Networks_1  0.042370\n",
       "2  zReHo_17Networks_15  0.041528\n",
       "3  zReHo_17Networks_11  0.048864\n",
       "4   zReHo_17Networks_9  0.041528"
      ]
     },
     "execution_count": 3,
     "metadata": {},
     "output_type": "execute_result"
    }
   ],
   "source": [
    "df1 = df[['parcel_name' ,'sws_rw']]\n",
    "df1.head()"
   ]
  },
  {
   "cell_type": "code",
   "execution_count": 4,
   "metadata": {},
   "outputs": [
    {
     "data": {
      "text/plain": [
       "(687, 2)"
      ]
     },
     "execution_count": 4,
     "metadata": {},
     "output_type": "execute_result"
    }
   ],
   "source": [
    "df1.shape"
   ]
  },
  {
   "cell_type": "code",
   "execution_count": 5,
   "metadata": {},
   "outputs": [],
   "source": [
    "df2 = df1.dropna()"
   ]
  },
  {
   "cell_type": "code",
   "execution_count": 6,
   "metadata": {},
   "outputs": [
    {
     "data": {
      "text/plain": [
       "(162, 2)"
      ]
     },
     "execution_count": 6,
     "metadata": {},
     "output_type": "execute_result"
    }
   ],
   "source": [
    "df2.shape"
   ]
  },
  {
   "cell_type": "code",
   "execution_count": 7,
   "metadata": {},
   "outputs": [],
   "source": [
    "df2.insert(1, 'parc_name', np.nan)"
   ]
  },
  {
   "cell_type": "code",
   "execution_count": 8,
   "metadata": {},
   "outputs": [
    {
     "data": {
      "text/html": [
       "<div>\n",
       "<style scoped>\n",
       "    .dataframe tbody tr th:only-of-type {\n",
       "        vertical-align: middle;\n",
       "    }\n",
       "\n",
       "    .dataframe tbody tr th {\n",
       "        vertical-align: top;\n",
       "    }\n",
       "\n",
       "    .dataframe thead th {\n",
       "        text-align: right;\n",
       "    }\n",
       "</style>\n",
       "<table border=\"1\" class=\"dataframe\">\n",
       "  <thead>\n",
       "    <tr style=\"text-align: right;\">\n",
       "      <th></th>\n",
       "      <th>parcel_name</th>\n",
       "      <th>parc_name</th>\n",
       "      <th>sws_rw</th>\n",
       "    </tr>\n",
       "  </thead>\n",
       "  <tbody>\n",
       "    <tr>\n",
       "      <th>0</th>\n",
       "      <td>gmd_17Networks_17</td>\n",
       "      <td>NaN</td>\n",
       "      <td>0.048864</td>\n",
       "    </tr>\n",
       "    <tr>\n",
       "      <th>1</th>\n",
       "      <td>gmd_17Networks_1</td>\n",
       "      <td>NaN</td>\n",
       "      <td>0.042370</td>\n",
       "    </tr>\n",
       "    <tr>\n",
       "      <th>2</th>\n",
       "      <td>zReHo_17Networks_15</td>\n",
       "      <td>NaN</td>\n",
       "      <td>0.041528</td>\n",
       "    </tr>\n",
       "    <tr>\n",
       "      <th>3</th>\n",
       "      <td>zReHo_17Networks_11</td>\n",
       "      <td>NaN</td>\n",
       "      <td>0.048864</td>\n",
       "    </tr>\n",
       "    <tr>\n",
       "      <th>4</th>\n",
       "      <td>zReHo_17Networks_9</td>\n",
       "      <td>NaN</td>\n",
       "      <td>0.041528</td>\n",
       "    </tr>\n",
       "  </tbody>\n",
       "</table>\n",
       "</div>"
      ],
      "text/plain": [
       "           parcel_name  parc_name    sws_rw\n",
       "0    gmd_17Networks_17        NaN  0.048864\n",
       "1     gmd_17Networks_1        NaN  0.042370\n",
       "2  zReHo_17Networks_15        NaN  0.041528\n",
       "3  zReHo_17Networks_11        NaN  0.048864\n",
       "4   zReHo_17Networks_9        NaN  0.041528"
      ]
     },
     "execution_count": 8,
     "metadata": {},
     "output_type": "execute_result"
    }
   ],
   "source": [
    "df2.head()"
   ]
  },
  {
   "cell_type": "code",
   "execution_count": 9,
   "metadata": {},
   "outputs": [],
   "source": [
    "df2 = df2.reset_index()"
   ]
  },
  {
   "cell_type": "code",
   "execution_count": 10,
   "metadata": {},
   "outputs": [
    {
     "data": {
      "text/html": [
       "<div>\n",
       "<style scoped>\n",
       "    .dataframe tbody tr th:only-of-type {\n",
       "        vertical-align: middle;\n",
       "    }\n",
       "\n",
       "    .dataframe tbody tr th {\n",
       "        vertical-align: top;\n",
       "    }\n",
       "\n",
       "    .dataframe thead th {\n",
       "        text-align: right;\n",
       "    }\n",
       "</style>\n",
       "<table border=\"1\" class=\"dataframe\">\n",
       "  <thead>\n",
       "    <tr style=\"text-align: right;\">\n",
       "      <th></th>\n",
       "      <th>index</th>\n",
       "      <th>parcel_name</th>\n",
       "      <th>parc_name</th>\n",
       "      <th>sws_rw</th>\n",
       "    </tr>\n",
       "  </thead>\n",
       "  <tbody>\n",
       "    <tr>\n",
       "      <th>0</th>\n",
       "      <td>0</td>\n",
       "      <td>gmd_17Networks_17</td>\n",
       "      <td>NaN</td>\n",
       "      <td>0.048864</td>\n",
       "    </tr>\n",
       "    <tr>\n",
       "      <th>1</th>\n",
       "      <td>1</td>\n",
       "      <td>gmd_17Networks_1</td>\n",
       "      <td>NaN</td>\n",
       "      <td>0.042370</td>\n",
       "    </tr>\n",
       "    <tr>\n",
       "      <th>2</th>\n",
       "      <td>2</td>\n",
       "      <td>zReHo_17Networks_15</td>\n",
       "      <td>NaN</td>\n",
       "      <td>0.041528</td>\n",
       "    </tr>\n",
       "    <tr>\n",
       "      <th>3</th>\n",
       "      <td>3</td>\n",
       "      <td>zReHo_17Networks_11</td>\n",
       "      <td>NaN</td>\n",
       "      <td>0.048864</td>\n",
       "    </tr>\n",
       "    <tr>\n",
       "      <th>4</th>\n",
       "      <td>4</td>\n",
       "      <td>zReHo_17Networks_9</td>\n",
       "      <td>NaN</td>\n",
       "      <td>0.041528</td>\n",
       "    </tr>\n",
       "  </tbody>\n",
       "</table>\n",
       "</div>"
      ],
      "text/plain": [
       "   index          parcel_name  parc_name    sws_rw\n",
       "0      0    gmd_17Networks_17        NaN  0.048864\n",
       "1      1     gmd_17Networks_1        NaN  0.042370\n",
       "2      2  zReHo_17Networks_15        NaN  0.041528\n",
       "3      3  zReHo_17Networks_11        NaN  0.048864\n",
       "4      4   zReHo_17Networks_9        NaN  0.041528"
      ]
     },
     "execution_count": 10,
     "metadata": {},
     "output_type": "execute_result"
    }
   ],
   "source": [
    "df2.head()"
   ]
  },
  {
   "cell_type": "code",
   "execution_count": 11,
   "metadata": {},
   "outputs": [],
   "source": [
    "df = df2.drop('index', axis = 1)"
   ]
  },
  {
   "cell_type": "code",
   "execution_count": 12,
   "metadata": {},
   "outputs": [
    {
     "data": {
      "text/html": [
       "<div>\n",
       "<style scoped>\n",
       "    .dataframe tbody tr th:only-of-type {\n",
       "        vertical-align: middle;\n",
       "    }\n",
       "\n",
       "    .dataframe tbody tr th {\n",
       "        vertical-align: top;\n",
       "    }\n",
       "\n",
       "    .dataframe thead th {\n",
       "        text-align: right;\n",
       "    }\n",
       "</style>\n",
       "<table border=\"1\" class=\"dataframe\">\n",
       "  <thead>\n",
       "    <tr style=\"text-align: right;\">\n",
       "      <th></th>\n",
       "      <th>parcel_name</th>\n",
       "      <th>parc_name</th>\n",
       "      <th>sws_rw</th>\n",
       "    </tr>\n",
       "  </thead>\n",
       "  <tbody>\n",
       "    <tr>\n",
       "      <th>0</th>\n",
       "      <td>gmd_17Networks_17</td>\n",
       "      <td>NaN</td>\n",
       "      <td>0.048864</td>\n",
       "    </tr>\n",
       "    <tr>\n",
       "      <th>1</th>\n",
       "      <td>gmd_17Networks_1</td>\n",
       "      <td>NaN</td>\n",
       "      <td>0.042370</td>\n",
       "    </tr>\n",
       "    <tr>\n",
       "      <th>2</th>\n",
       "      <td>zReHo_17Networks_15</td>\n",
       "      <td>NaN</td>\n",
       "      <td>0.041528</td>\n",
       "    </tr>\n",
       "    <tr>\n",
       "      <th>3</th>\n",
       "      <td>zReHo_17Networks_11</td>\n",
       "      <td>NaN</td>\n",
       "      <td>0.048864</td>\n",
       "    </tr>\n",
       "    <tr>\n",
       "      <th>4</th>\n",
       "      <td>zReHo_17Networks_9</td>\n",
       "      <td>NaN</td>\n",
       "      <td>0.041528</td>\n",
       "    </tr>\n",
       "  </tbody>\n",
       "</table>\n",
       "</div>"
      ],
      "text/plain": [
       "           parcel_name  parc_name    sws_rw\n",
       "0    gmd_17Networks_17        NaN  0.048864\n",
       "1     gmd_17Networks_1        NaN  0.042370\n",
       "2  zReHo_17Networks_15        NaN  0.041528\n",
       "3  zReHo_17Networks_11        NaN  0.048864\n",
       "4   zReHo_17Networks_9        NaN  0.041528"
      ]
     },
     "execution_count": 12,
     "metadata": {},
     "output_type": "execute_result"
    }
   ],
   "source": [
    "df.head()"
   ]
  },
  {
   "cell_type": "code",
   "execution_count": 13,
   "metadata": {},
   "outputs": [
    {
     "name": "stderr",
     "output_type": "stream",
     "text": [
      "<ipython-input-13-8017506a785e>:6: SettingWithCopyWarning: \n",
      "A value is trying to be set on a copy of a slice from a DataFrame\n",
      "\n",
      "See the caveats in the documentation: https://pandas.pydata.org/pandas-docs/stable/user_guide/indexing.html#returning-a-view-versus-a-copy\n",
      "  df[\"parc_name\"][i] = df[\"parcel_name\"][i][len(marker):]\n",
      "/home/tara/Programming/env/lib/python3.8/site-packages/pandas/core/indexing.py:1636: SettingWithCopyWarning: \n",
      "A value is trying to be set on a copy of a slice from a DataFrame\n",
      "\n",
      "See the caveats in the documentation: https://pandas.pydata.org/pandas-docs/stable/user_guide/indexing.html#returning-a-view-versus-a-copy\n",
      "  self._setitem_single_block(indexer, value, name)\n"
     ]
    }
   ],
   "source": [
    "markers = ['gmd_', 'zALFF_', 'zfALFF_', 'zReHo_', 'zDCwei_', 'zDCbin_']\n",
    "for i,parc in enumerate(df[\"parcel_name\"]):\n",
    "    #for i in range(df.shape[0]):\n",
    "    for marker in markers:\n",
    "        if parc.find(marker)==0:\n",
    "            df[\"parc_name\"][i] = df[\"parcel_name\"][i][len(marker):]\n",
    "            #print(df[\"sws_total\"][i])\n",
    "            col = marker + \"sws_rw_fdr\" \n",
    "            if col not in df:\n",
    "                df.insert(2, col, np.nan)\n",
    "            df.iloc[i, df.columns.get_loc(col)] = df[\"sws_rw\"][i]"
   ]
  },
  {
   "cell_type": "code",
   "execution_count": 14,
   "metadata": {},
   "outputs": [
    {
     "data": {
      "text/plain": [
       "(162, 9)"
      ]
     },
     "execution_count": 14,
     "metadata": {},
     "output_type": "execute_result"
    }
   ],
   "source": [
    "#df.to_csv('fdr_reformed.csv')\n",
    "df.shape"
   ]
  },
  {
   "cell_type": "markdown",
   "metadata": {},
   "source": [
    "### merging duplicates"
   ]
  },
  {
   "cell_type": "code",
   "execution_count": 15,
   "metadata": {},
   "outputs": [],
   "source": [
    "#df = pd.read_csv('fdr_reformed.csv')\n",
    "#df.head()"
   ]
  },
  {
   "cell_type": "code",
   "execution_count": 16,
   "metadata": {},
   "outputs": [],
   "source": [
    "#df.shape"
   ]
  },
  {
   "cell_type": "code",
   "execution_count": 15,
   "metadata": {},
   "outputs": [],
   "source": [
    "df2 = df.copy()\n",
    "inds = df2['parc_name'].drop_duplicates().reset_index(drop=True)\n",
    "df2.set_index('parc_name', inplace=True)\n",
    "df3 = pd.DataFrame(columns = df2.columns)\n",
    "for ind in inds:\n",
    "    region = df2.loc[[ind]]\n",
    "    if region.shape[0] > 1 :\n",
    "        reg = region\n",
    "        cols = reg.columns\n",
    "        for col in cols:\n",
    "            reg[col] = reg[col].sum()\n",
    "        reg = reg.drop_duplicates()\n",
    "        df3 = pd.concat([df3, reg])\n",
    "        continue\n",
    "    df3 = pd.concat([df3, region])"
   ]
  },
  {
   "cell_type": "code",
   "execution_count": 16,
   "metadata": {
    "scrolled": true
   },
   "outputs": [
    {
     "data": {
      "text/plain": [
       "(112, 8)"
      ]
     },
     "execution_count": 16,
     "metadata": {},
     "output_type": "execute_result"
    }
   ],
   "source": [
    "df3.shape"
   ]
  },
  {
   "cell_type": "code",
   "execution_count": 17,
   "metadata": {},
   "outputs": [
    {
     "data": {
      "text/html": [
       "<div>\n",
       "<style scoped>\n",
       "    .dataframe tbody tr th:only-of-type {\n",
       "        vertical-align: middle;\n",
       "    }\n",
       "\n",
       "    .dataframe tbody tr th {\n",
       "        vertical-align: top;\n",
       "    }\n",
       "\n",
       "    .dataframe thead th {\n",
       "        text-align: right;\n",
       "    }\n",
       "</style>\n",
       "<table border=\"1\" class=\"dataframe\">\n",
       "  <thead>\n",
       "    <tr style=\"text-align: right;\">\n",
       "      <th></th>\n",
       "      <th>parcel_name</th>\n",
       "      <th>zALFF_sws_rw_fdr</th>\n",
       "      <th>zDCbin_sws_rw_fdr</th>\n",
       "      <th>zDCwei_sws_rw_fdr</th>\n",
       "      <th>zfALFF_sws_rw_fdr</th>\n",
       "      <th>zReHo_sws_rw_fdr</th>\n",
       "      <th>gmd_sws_rw_fdr</th>\n",
       "      <th>sws_rw</th>\n",
       "    </tr>\n",
       "  </thead>\n",
       "  <tbody>\n",
       "    <tr>\n",
       "      <th>17Networks_17</th>\n",
       "      <td>gmd_17Networks_17zALFF_17Networks_17</td>\n",
       "      <td>0.041528</td>\n",
       "      <td>0.000000</td>\n",
       "      <td>0.00000</td>\n",
       "      <td>0.000000</td>\n",
       "      <td>0.000000</td>\n",
       "      <td>0.048864</td>\n",
       "      <td>0.090392</td>\n",
       "    </tr>\n",
       "    <tr>\n",
       "      <th>17Networks_1</th>\n",
       "      <td>gmd_17Networks_1</td>\n",
       "      <td>NaN</td>\n",
       "      <td>NaN</td>\n",
       "      <td>NaN</td>\n",
       "      <td>NaN</td>\n",
       "      <td>NaN</td>\n",
       "      <td>0.042370</td>\n",
       "      <td>0.042370</td>\n",
       "    </tr>\n",
       "    <tr>\n",
       "      <th>17Networks_15</th>\n",
       "      <td>zReHo_17Networks_15zfALFF_17Networks_15</td>\n",
       "      <td>0.000000</td>\n",
       "      <td>0.000000</td>\n",
       "      <td>0.00000</td>\n",
       "      <td>0.043514</td>\n",
       "      <td>0.041528</td>\n",
       "      <td>0.000000</td>\n",
       "      <td>0.085042</td>\n",
       "    </tr>\n",
       "    <tr>\n",
       "      <th>17Networks_11</th>\n",
       "      <td>zReHo_17Networks_11</td>\n",
       "      <td>NaN</td>\n",
       "      <td>NaN</td>\n",
       "      <td>NaN</td>\n",
       "      <td>NaN</td>\n",
       "      <td>0.048864</td>\n",
       "      <td>NaN</td>\n",
       "      <td>0.048864</td>\n",
       "    </tr>\n",
       "    <tr>\n",
       "      <th>17Networks_9</th>\n",
       "      <td>zReHo_17Networks_9zfALFF_17Networks_9zDCwei_17...</td>\n",
       "      <td>0.000000</td>\n",
       "      <td>0.035376</td>\n",
       "      <td>0.03771</td>\n",
       "      <td>0.041528</td>\n",
       "      <td>0.041528</td>\n",
       "      <td>0.000000</td>\n",
       "      <td>0.156142</td>\n",
       "    </tr>\n",
       "  </tbody>\n",
       "</table>\n",
       "</div>"
      ],
      "text/plain": [
       "                                                     parcel_name  \\\n",
       "17Networks_17               gmd_17Networks_17zALFF_17Networks_17   \n",
       "17Networks_1                                    gmd_17Networks_1   \n",
       "17Networks_15            zReHo_17Networks_15zfALFF_17Networks_15   \n",
       "17Networks_11                                zReHo_17Networks_11   \n",
       "17Networks_9   zReHo_17Networks_9zfALFF_17Networks_9zDCwei_17...   \n",
       "\n",
       "               zALFF_sws_rw_fdr  zDCbin_sws_rw_fdr  zDCwei_sws_rw_fdr  \\\n",
       "17Networks_17          0.041528           0.000000            0.00000   \n",
       "17Networks_1                NaN                NaN                NaN   \n",
       "17Networks_15          0.000000           0.000000            0.00000   \n",
       "17Networks_11               NaN                NaN                NaN   \n",
       "17Networks_9           0.000000           0.035376            0.03771   \n",
       "\n",
       "               zfALFF_sws_rw_fdr  zReHo_sws_rw_fdr  gmd_sws_rw_fdr    sws_rw  \n",
       "17Networks_17           0.000000          0.000000        0.048864  0.090392  \n",
       "17Networks_1                 NaN               NaN        0.042370  0.042370  \n",
       "17Networks_15           0.043514          0.041528        0.000000  0.085042  \n",
       "17Networks_11                NaN          0.048864             NaN  0.048864  \n",
       "17Networks_9            0.041528          0.041528        0.000000  0.156142  "
      ]
     },
     "execution_count": 17,
     "metadata": {},
     "output_type": "execute_result"
    }
   ],
   "source": [
    "df3.head()"
   ]
  },
  {
   "cell_type": "code",
   "execution_count": 18,
   "metadata": {},
   "outputs": [],
   "source": [
    "#df3 = df3.reset_index()"
   ]
  },
  {
   "cell_type": "code",
   "execution_count": 19,
   "metadata": {},
   "outputs": [],
   "source": [
    "#df3.head()"
   ]
  },
  {
   "cell_type": "code",
   "execution_count": 20,
   "metadata": {},
   "outputs": [],
   "source": [
    "df3.to_csv('SWSrw_fdr_reformed.csv')"
   ]
  },
  {
   "cell_type": "code",
   "execution_count": 20,
   "metadata": {},
   "outputs": [
    {
     "data": {
      "text/plain": [
       "(156, 8)"
      ]
     },
     "execution_count": 20,
     "metadata": {},
     "output_type": "execute_result"
    }
   ],
   "source": [
    "df3.shape"
   ]
  },
  {
   "cell_type": "code",
   "execution_count": null,
   "metadata": {},
   "outputs": [],
   "source": []
  }
 ],
 "metadata": {
  "kernelspec": {
   "display_name": "Python 3",
   "language": "python",
   "name": "python3"
  },
  "language_info": {
   "codemirror_mode": {
    "name": "ipython",
    "version": 3
   },
   "file_extension": ".py",
   "mimetype": "text/x-python",
   "name": "python",
   "nbconvert_exporter": "python",
   "pygments_lexer": "ipython3",
   "version": "3.8.10"
  }
 },
 "nbformat": 4,
 "nbformat_minor": 4
}
