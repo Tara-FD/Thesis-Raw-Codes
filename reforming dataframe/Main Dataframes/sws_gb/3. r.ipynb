{
 "cells": [
  {
   "cell_type": "code",
   "execution_count": 1,
   "metadata": {},
   "outputs": [],
   "source": [
    "import pandas as pd\n",
    "import shutil, os\n",
    "import numpy as np"
   ]
  },
  {
   "cell_type": "code",
   "execution_count": 2,
   "metadata": {},
   "outputs": [
    {
     "data": {
      "text/html": [
       "<div>\n",
       "<style scoped>\n",
       "    .dataframe tbody tr th:only-of-type {\n",
       "        vertical-align: middle;\n",
       "    }\n",
       "\n",
       "    .dataframe tbody tr th {\n",
       "        vertical-align: top;\n",
       "    }\n",
       "\n",
       "    .dataframe thead th {\n",
       "        text-align: right;\n",
       "    }\n",
       "</style>\n",
       "<table border=\"1\" class=\"dataframe\">\n",
       "  <thead>\n",
       "    <tr style=\"text-align: right;\">\n",
       "      <th></th>\n",
       "      <th>parcel_name</th>\n",
       "      <th>sws_rs</th>\n",
       "      <th>sws_gb</th>\n",
       "      <th>sws_ms</th>\n",
       "      <th>sws_fa</th>\n",
       "      <th>sws_rw</th>\n",
       "      <th>sws_total</th>\n",
       "    </tr>\n",
       "  </thead>\n",
       "  <tbody>\n",
       "    <tr>\n",
       "      <th>0</th>\n",
       "      <td>gmd_17Networks_17</td>\n",
       "      <td>0.166971</td>\n",
       "      <td>0.051392</td>\n",
       "      <td>0.107496</td>\n",
       "      <td>-0.069671</td>\n",
       "      <td>0.184833</td>\n",
       "      <td>0.111557</td>\n",
       "    </tr>\n",
       "    <tr>\n",
       "      <th>1</th>\n",
       "      <td>gmd_17Networks_16</td>\n",
       "      <td>0.118898</td>\n",
       "      <td>0.035596</td>\n",
       "      <td>0.026529</td>\n",
       "      <td>0.069384</td>\n",
       "      <td>0.099563</td>\n",
       "      <td>0.092149</td>\n",
       "    </tr>\n",
       "    <tr>\n",
       "      <th>2</th>\n",
       "      <td>gmd_17Networks_15</td>\n",
       "      <td>0.040398</td>\n",
       "      <td>0.026939</td>\n",
       "      <td>0.022451</td>\n",
       "      <td>0.109657</td>\n",
       "      <td>0.005116</td>\n",
       "      <td>0.059787</td>\n",
       "    </tr>\n",
       "    <tr>\n",
       "      <th>3</th>\n",
       "      <td>gmd_17Networks_14</td>\n",
       "      <td>-0.044211</td>\n",
       "      <td>-0.076722</td>\n",
       "      <td>-0.072343</td>\n",
       "      <td>0.049435</td>\n",
       "      <td>-0.054085</td>\n",
       "      <td>-0.040322</td>\n",
       "    </tr>\n",
       "    <tr>\n",
       "      <th>4</th>\n",
       "      <td>gmd_17Networks_13</td>\n",
       "      <td>0.116004</td>\n",
       "      <td>-0.003638</td>\n",
       "      <td>0.144275</td>\n",
       "      <td>-0.098356</td>\n",
       "      <td>0.146914</td>\n",
       "      <td>0.085295</td>\n",
       "    </tr>\n",
       "  </tbody>\n",
       "</table>\n",
       "</div>"
      ],
      "text/plain": [
       "         parcel_name    sws_rs    sws_gb    sws_ms    sws_fa    sws_rw  \\\n",
       "0  gmd_17Networks_17  0.166971  0.051392  0.107496 -0.069671  0.184833   \n",
       "1  gmd_17Networks_16  0.118898  0.035596  0.026529  0.069384  0.099563   \n",
       "2  gmd_17Networks_15  0.040398  0.026939  0.022451  0.109657  0.005116   \n",
       "3  gmd_17Networks_14 -0.044211 -0.076722 -0.072343  0.049435 -0.054085   \n",
       "4  gmd_17Networks_13  0.116004 -0.003638  0.144275 -0.098356  0.146914   \n",
       "\n",
       "   sws_total  \n",
       "0   0.111557  \n",
       "1   0.092149  \n",
       "2   0.059787  \n",
       "3  -0.040322  \n",
       "4   0.085295  "
      ]
     },
     "execution_count": 2,
     "metadata": {},
     "output_type": "execute_result"
    }
   ],
   "source": [
    "df = pd.read_csv('r.csv')\n",
    "df.head()"
   ]
  },
  {
   "cell_type": "code",
   "execution_count": 3,
   "metadata": {},
   "outputs": [
    {
     "data": {
      "text/html": [
       "<div>\n",
       "<style scoped>\n",
       "    .dataframe tbody tr th:only-of-type {\n",
       "        vertical-align: middle;\n",
       "    }\n",
       "\n",
       "    .dataframe tbody tr th {\n",
       "        vertical-align: top;\n",
       "    }\n",
       "\n",
       "    .dataframe thead th {\n",
       "        text-align: right;\n",
       "    }\n",
       "</style>\n",
       "<table border=\"1\" class=\"dataframe\">\n",
       "  <thead>\n",
       "    <tr style=\"text-align: right;\">\n",
       "      <th></th>\n",
       "      <th>parcel_name</th>\n",
       "      <th>sws_gb</th>\n",
       "    </tr>\n",
       "  </thead>\n",
       "  <tbody>\n",
       "    <tr>\n",
       "      <th>0</th>\n",
       "      <td>gmd_17Networks_17</td>\n",
       "      <td>0.051392</td>\n",
       "    </tr>\n",
       "    <tr>\n",
       "      <th>1</th>\n",
       "      <td>gmd_17Networks_16</td>\n",
       "      <td>0.035596</td>\n",
       "    </tr>\n",
       "    <tr>\n",
       "      <th>2</th>\n",
       "      <td>gmd_17Networks_15</td>\n",
       "      <td>0.026939</td>\n",
       "    </tr>\n",
       "    <tr>\n",
       "      <th>3</th>\n",
       "      <td>gmd_17Networks_14</td>\n",
       "      <td>-0.076722</td>\n",
       "    </tr>\n",
       "    <tr>\n",
       "      <th>4</th>\n",
       "      <td>gmd_17Networks_13</td>\n",
       "      <td>-0.003638</td>\n",
       "    </tr>\n",
       "  </tbody>\n",
       "</table>\n",
       "</div>"
      ],
      "text/plain": [
       "         parcel_name    sws_gb\n",
       "0  gmd_17Networks_17  0.051392\n",
       "1  gmd_17Networks_16  0.035596\n",
       "2  gmd_17Networks_15  0.026939\n",
       "3  gmd_17Networks_14 -0.076722\n",
       "4  gmd_17Networks_13 -0.003638"
      ]
     },
     "execution_count": 3,
     "metadata": {},
     "output_type": "execute_result"
    }
   ],
   "source": [
    "df1 = df[['parcel_name' ,'sws_gb']]\n",
    "df1.head()"
   ]
  },
  {
   "cell_type": "code",
   "execution_count": 4,
   "metadata": {},
   "outputs": [
    {
     "data": {
      "text/plain": [
       "(2718, 2)"
      ]
     },
     "execution_count": 4,
     "metadata": {},
     "output_type": "execute_result"
    }
   ],
   "source": [
    "df1.shape"
   ]
  },
  {
   "cell_type": "code",
   "execution_count": 5,
   "metadata": {},
   "outputs": [],
   "source": [
    "df2 = df1.dropna()"
   ]
  },
  {
   "cell_type": "code",
   "execution_count": 6,
   "metadata": {},
   "outputs": [
    {
     "data": {
      "text/plain": [
       "(2718, 2)"
      ]
     },
     "execution_count": 6,
     "metadata": {},
     "output_type": "execute_result"
    }
   ],
   "source": [
    "df2.shape"
   ]
  },
  {
   "cell_type": "code",
   "execution_count": 7,
   "metadata": {},
   "outputs": [],
   "source": [
    "df2.insert(1, 'parc_name', np.nan)"
   ]
  },
  {
   "cell_type": "code",
   "execution_count": 8,
   "metadata": {},
   "outputs": [
    {
     "data": {
      "text/html": [
       "<div>\n",
       "<style scoped>\n",
       "    .dataframe tbody tr th:only-of-type {\n",
       "        vertical-align: middle;\n",
       "    }\n",
       "\n",
       "    .dataframe tbody tr th {\n",
       "        vertical-align: top;\n",
       "    }\n",
       "\n",
       "    .dataframe thead th {\n",
       "        text-align: right;\n",
       "    }\n",
       "</style>\n",
       "<table border=\"1\" class=\"dataframe\">\n",
       "  <thead>\n",
       "    <tr style=\"text-align: right;\">\n",
       "      <th></th>\n",
       "      <th>parcel_name</th>\n",
       "      <th>parc_name</th>\n",
       "      <th>sws_gb</th>\n",
       "    </tr>\n",
       "  </thead>\n",
       "  <tbody>\n",
       "    <tr>\n",
       "      <th>0</th>\n",
       "      <td>gmd_17Networks_17</td>\n",
       "      <td>NaN</td>\n",
       "      <td>0.051392</td>\n",
       "    </tr>\n",
       "    <tr>\n",
       "      <th>1</th>\n",
       "      <td>gmd_17Networks_16</td>\n",
       "      <td>NaN</td>\n",
       "      <td>0.035596</td>\n",
       "    </tr>\n",
       "    <tr>\n",
       "      <th>2</th>\n",
       "      <td>gmd_17Networks_15</td>\n",
       "      <td>NaN</td>\n",
       "      <td>0.026939</td>\n",
       "    </tr>\n",
       "    <tr>\n",
       "      <th>3</th>\n",
       "      <td>gmd_17Networks_14</td>\n",
       "      <td>NaN</td>\n",
       "      <td>-0.076722</td>\n",
       "    </tr>\n",
       "    <tr>\n",
       "      <th>4</th>\n",
       "      <td>gmd_17Networks_13</td>\n",
       "      <td>NaN</td>\n",
       "      <td>-0.003638</td>\n",
       "    </tr>\n",
       "  </tbody>\n",
       "</table>\n",
       "</div>"
      ],
      "text/plain": [
       "         parcel_name  parc_name    sws_gb\n",
       "0  gmd_17Networks_17        NaN  0.051392\n",
       "1  gmd_17Networks_16        NaN  0.035596\n",
       "2  gmd_17Networks_15        NaN  0.026939\n",
       "3  gmd_17Networks_14        NaN -0.076722\n",
       "4  gmd_17Networks_13        NaN -0.003638"
      ]
     },
     "execution_count": 8,
     "metadata": {},
     "output_type": "execute_result"
    }
   ],
   "source": [
    "df2.head()"
   ]
  },
  {
   "cell_type": "code",
   "execution_count": 9,
   "metadata": {},
   "outputs": [],
   "source": [
    "df2 = df2.reset_index()"
   ]
  },
  {
   "cell_type": "code",
   "execution_count": 10,
   "metadata": {},
   "outputs": [
    {
     "data": {
      "text/html": [
       "<div>\n",
       "<style scoped>\n",
       "    .dataframe tbody tr th:only-of-type {\n",
       "        vertical-align: middle;\n",
       "    }\n",
       "\n",
       "    .dataframe tbody tr th {\n",
       "        vertical-align: top;\n",
       "    }\n",
       "\n",
       "    .dataframe thead th {\n",
       "        text-align: right;\n",
       "    }\n",
       "</style>\n",
       "<table border=\"1\" class=\"dataframe\">\n",
       "  <thead>\n",
       "    <tr style=\"text-align: right;\">\n",
       "      <th></th>\n",
       "      <th>index</th>\n",
       "      <th>parcel_name</th>\n",
       "      <th>parc_name</th>\n",
       "      <th>sws_gb</th>\n",
       "    </tr>\n",
       "  </thead>\n",
       "  <tbody>\n",
       "    <tr>\n",
       "      <th>0</th>\n",
       "      <td>0</td>\n",
       "      <td>gmd_17Networks_17</td>\n",
       "      <td>NaN</td>\n",
       "      <td>0.051392</td>\n",
       "    </tr>\n",
       "    <tr>\n",
       "      <th>1</th>\n",
       "      <td>1</td>\n",
       "      <td>gmd_17Networks_16</td>\n",
       "      <td>NaN</td>\n",
       "      <td>0.035596</td>\n",
       "    </tr>\n",
       "    <tr>\n",
       "      <th>2</th>\n",
       "      <td>2</td>\n",
       "      <td>gmd_17Networks_15</td>\n",
       "      <td>NaN</td>\n",
       "      <td>0.026939</td>\n",
       "    </tr>\n",
       "    <tr>\n",
       "      <th>3</th>\n",
       "      <td>3</td>\n",
       "      <td>gmd_17Networks_14</td>\n",
       "      <td>NaN</td>\n",
       "      <td>-0.076722</td>\n",
       "    </tr>\n",
       "    <tr>\n",
       "      <th>4</th>\n",
       "      <td>4</td>\n",
       "      <td>gmd_17Networks_13</td>\n",
       "      <td>NaN</td>\n",
       "      <td>-0.003638</td>\n",
       "    </tr>\n",
       "  </tbody>\n",
       "</table>\n",
       "</div>"
      ],
      "text/plain": [
       "   index        parcel_name  parc_name    sws_gb\n",
       "0      0  gmd_17Networks_17        NaN  0.051392\n",
       "1      1  gmd_17Networks_16        NaN  0.035596\n",
       "2      2  gmd_17Networks_15        NaN  0.026939\n",
       "3      3  gmd_17Networks_14        NaN -0.076722\n",
       "4      4  gmd_17Networks_13        NaN -0.003638"
      ]
     },
     "execution_count": 10,
     "metadata": {},
     "output_type": "execute_result"
    }
   ],
   "source": [
    "df2.head()"
   ]
  },
  {
   "cell_type": "code",
   "execution_count": 14,
   "metadata": {},
   "outputs": [],
   "source": [
    "df2 = df.drop('index', axis = 1)"
   ]
  },
  {
   "cell_type": "code",
   "execution_count": 15,
   "metadata": {},
   "outputs": [],
   "source": [
    "df = df2"
   ]
  },
  {
   "cell_type": "code",
   "execution_count": 16,
   "metadata": {},
   "outputs": [
    {
     "data": {
      "text/html": [
       "<div>\n",
       "<style scoped>\n",
       "    .dataframe tbody tr th:only-of-type {\n",
       "        vertical-align: middle;\n",
       "    }\n",
       "\n",
       "    .dataframe tbody tr th {\n",
       "        vertical-align: top;\n",
       "    }\n",
       "\n",
       "    .dataframe thead th {\n",
       "        text-align: right;\n",
       "    }\n",
       "</style>\n",
       "<table border=\"1\" class=\"dataframe\">\n",
       "  <thead>\n",
       "    <tr style=\"text-align: right;\">\n",
       "      <th></th>\n",
       "      <th>parcel_name</th>\n",
       "      <th>parc_name</th>\n",
       "      <th>sws_gb</th>\n",
       "    </tr>\n",
       "  </thead>\n",
       "  <tbody>\n",
       "    <tr>\n",
       "      <th>0</th>\n",
       "      <td>gmd_17Networks_17</td>\n",
       "      <td>NaN</td>\n",
       "      <td>0.051392</td>\n",
       "    </tr>\n",
       "    <tr>\n",
       "      <th>1</th>\n",
       "      <td>gmd_17Networks_16</td>\n",
       "      <td>NaN</td>\n",
       "      <td>0.035596</td>\n",
       "    </tr>\n",
       "    <tr>\n",
       "      <th>2</th>\n",
       "      <td>gmd_17Networks_15</td>\n",
       "      <td>NaN</td>\n",
       "      <td>0.026939</td>\n",
       "    </tr>\n",
       "    <tr>\n",
       "      <th>3</th>\n",
       "      <td>gmd_17Networks_14</td>\n",
       "      <td>NaN</td>\n",
       "      <td>-0.076722</td>\n",
       "    </tr>\n",
       "    <tr>\n",
       "      <th>4</th>\n",
       "      <td>gmd_17Networks_13</td>\n",
       "      <td>NaN</td>\n",
       "      <td>-0.003638</td>\n",
       "    </tr>\n",
       "  </tbody>\n",
       "</table>\n",
       "</div>"
      ],
      "text/plain": [
       "         parcel_name  parc_name    sws_gb\n",
       "0  gmd_17Networks_17        NaN  0.051392\n",
       "1  gmd_17Networks_16        NaN  0.035596\n",
       "2  gmd_17Networks_15        NaN  0.026939\n",
       "3  gmd_17Networks_14        NaN -0.076722\n",
       "4  gmd_17Networks_13        NaN -0.003638"
      ]
     },
     "execution_count": 16,
     "metadata": {},
     "output_type": "execute_result"
    }
   ],
   "source": [
    "df.head()"
   ]
  },
  {
   "cell_type": "code",
   "execution_count": 17,
   "metadata": {},
   "outputs": [
    {
     "name": "stderr",
     "output_type": "stream",
     "text": [
      "<ipython-input-17-3dcbac682cc0>:6: SettingWithCopyWarning: \n",
      "A value is trying to be set on a copy of a slice from a DataFrame\n",
      "\n",
      "See the caveats in the documentation: https://pandas.pydata.org/pandas-docs/stable/user_guide/indexing.html#returning-a-view-versus-a-copy\n",
      "  df[\"parc_name\"][i] = df[\"parcel_name\"][i][len(marker):]\n",
      "/home/tara/Programming/env/lib/python3.8/site-packages/pandas/core/indexing.py:1636: SettingWithCopyWarning: \n",
      "A value is trying to be set on a copy of a slice from a DataFrame\n",
      "\n",
      "See the caveats in the documentation: https://pandas.pydata.org/pandas-docs/stable/user_guide/indexing.html#returning-a-view-versus-a-copy\n",
      "  self._setitem_single_block(indexer, value, name)\n"
     ]
    }
   ],
   "source": [
    "markers = ['gmd_', 'zALFF_', 'zfALFF_', 'zReHo_', 'zDCwei_', 'zDCbin_']\n",
    "for i,parc in enumerate(df[\"parcel_name\"]):\n",
    "    #for i in range(df.shape[0]):\n",
    "    for marker in markers:\n",
    "        if parc.find(marker)==0:\n",
    "            df[\"parc_name\"][i] = df[\"parcel_name\"][i][len(marker):]\n",
    "            #print(df[\"sws_total\"][i])\n",
    "            col = marker + \"sws_gb_r\" \n",
    "            if col not in df:\n",
    "                df.insert(2, col, np.nan)\n",
    "            df.iloc[i, df.columns.get_loc(col)] = df[\"sws_gb\"][i]"
   ]
  },
  {
   "cell_type": "code",
   "execution_count": 18,
   "metadata": {},
   "outputs": [
    {
     "data": {
      "text/plain": [
       "(2718, 9)"
      ]
     },
     "execution_count": 18,
     "metadata": {},
     "output_type": "execute_result"
    }
   ],
   "source": [
    "df.shape"
   ]
  },
  {
   "cell_type": "code",
   "execution_count": 19,
   "metadata": {},
   "outputs": [],
   "source": [
    "#df.to_csv('r_reformed.csv')"
   ]
  },
  {
   "cell_type": "markdown",
   "metadata": {},
   "source": [
    "### merging duplicates"
   ]
  },
  {
   "cell_type": "code",
   "execution_count": 20,
   "metadata": {},
   "outputs": [],
   "source": [
    "#df = pd.read_csv('r_reformed.csv')"
   ]
  },
  {
   "cell_type": "code",
   "execution_count": 21,
   "metadata": {},
   "outputs": [
    {
     "data": {
      "text/plain": [
       "(2718, 9)"
      ]
     },
     "execution_count": 21,
     "metadata": {},
     "output_type": "execute_result"
    }
   ],
   "source": [
    "df.shape"
   ]
  },
  {
   "cell_type": "code",
   "execution_count": 22,
   "metadata": {},
   "outputs": [],
   "source": [
    "df2 = df.copy()\n",
    "inds = df2['parc_name'].drop_duplicates().reset_index(drop=True)\n",
    "df2.set_index('parc_name', inplace=True)\n",
    "df3 = pd.DataFrame(columns = df2.columns)\n",
    "for ind in inds:\n",
    "    region = df2.loc[[ind]]\n",
    "    if region.shape[0] > 1 :\n",
    "        reg = region\n",
    "        cols = reg.columns\n",
    "        for col in cols:\n",
    "            reg[col] = reg[col].sum()\n",
    "        reg = reg.drop_duplicates()\n",
    "        df3 = pd.concat([df3, reg])\n",
    "        continue\n",
    "    df3 = pd.concat([df3, region])"
   ]
  },
  {
   "cell_type": "code",
   "execution_count": 23,
   "metadata": {},
   "outputs": [
    {
     "data": {
      "text/plain": [
       "(453, 8)"
      ]
     },
     "execution_count": 23,
     "metadata": {},
     "output_type": "execute_result"
    }
   ],
   "source": [
    "df3.shape"
   ]
  },
  {
   "cell_type": "code",
   "execution_count": 24,
   "metadata": {},
   "outputs": [],
   "source": [
    "df3.to_csv('SWSgb_r_reformed.csv')"
   ]
  },
  {
   "cell_type": "code",
   "execution_count": null,
   "metadata": {},
   "outputs": [],
   "source": []
  }
 ],
 "metadata": {
  "kernelspec": {
   "display_name": "Python 3",
   "language": "python",
   "name": "python3"
  },
  "language_info": {
   "codemirror_mode": {
    "name": "ipython",
    "version": 3
   },
   "file_extension": ".py",
   "mimetype": "text/x-python",
   "name": "python",
   "nbconvert_exporter": "python",
   "pygments_lexer": "ipython3",
   "version": "3.8.10"
  }
 },
 "nbformat": 4,
 "nbformat_minor": 4
}
