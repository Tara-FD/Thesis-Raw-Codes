{
 "cells": [
  {
   "cell_type": "code",
   "execution_count": 1,
   "metadata": {},
   "outputs": [],
   "source": [
    "import pandas as pd\n",
    "import shutil, os\n",
    "import numpy as np"
   ]
  },
  {
   "cell_type": "code",
   "execution_count": 2,
   "metadata": {},
   "outputs": [
    {
     "data": {
      "text/html": [
       "<div>\n",
       "<style scoped>\n",
       "    .dataframe tbody tr th:only-of-type {\n",
       "        vertical-align: middle;\n",
       "    }\n",
       "\n",
       "    .dataframe tbody tr th {\n",
       "        vertical-align: top;\n",
       "    }\n",
       "\n",
       "    .dataframe thead th {\n",
       "        text-align: right;\n",
       "    }\n",
       "</style>\n",
       "<table border=\"1\" class=\"dataframe\">\n",
       "  <thead>\n",
       "    <tr style=\"text-align: right;\">\n",
       "      <th></th>\n",
       "      <th>parcel_name</th>\n",
       "      <th>sws_rs</th>\n",
       "      <th>sws_gb</th>\n",
       "      <th>sws_ms</th>\n",
       "      <th>sws_fa</th>\n",
       "      <th>sws_rw</th>\n",
       "      <th>sws_total</th>\n",
       "    </tr>\n",
       "  </thead>\n",
       "  <tbody>\n",
       "    <tr>\n",
       "      <th>0</th>\n",
       "      <td>gmd_17Networks_17</td>\n",
       "      <td>0.071966</td>\n",
       "      <td>0.582126</td>\n",
       "      <td>0.248658</td>\n",
       "      <td>0.455413</td>\n",
       "      <td>0.046039</td>\n",
       "      <td>0.231128</td>\n",
       "    </tr>\n",
       "    <tr>\n",
       "      <th>1</th>\n",
       "      <td>gmd_17Networks_16</td>\n",
       "      <td>0.201671</td>\n",
       "      <td>0.703188</td>\n",
       "      <td>0.776469</td>\n",
       "      <td>0.457278</td>\n",
       "      <td>0.285506</td>\n",
       "      <td>0.323083</td>\n",
       "    </tr>\n",
       "    <tr>\n",
       "      <th>2</th>\n",
       "      <td>gmd_17Networks_15</td>\n",
       "      <td>0.665409</td>\n",
       "      <td>0.773109</td>\n",
       "      <td>0.810119</td>\n",
       "      <td>0.239218</td>\n",
       "      <td>0.956343</td>\n",
       "      <td>0.521962</td>\n",
       "    </tr>\n",
       "    <tr>\n",
       "      <th>3</th>\n",
       "      <td>gmd_17Networks_14</td>\n",
       "      <td>0.635989</td>\n",
       "      <td>0.410975</td>\n",
       "      <td>0.438266</td>\n",
       "      <td>0.596597</td>\n",
       "      <td>0.562483</td>\n",
       "      <td>0.666003</td>\n",
       "    </tr>\n",
       "    <tr>\n",
       "      <th>4</th>\n",
       "      <td>gmd_17Networks_13</td>\n",
       "      <td>0.212942</td>\n",
       "      <td>0.968948</td>\n",
       "      <td>0.120675</td>\n",
       "      <td>0.291418</td>\n",
       "      <td>0.113960</td>\n",
       "      <td>0.360521</td>\n",
       "    </tr>\n",
       "  </tbody>\n",
       "</table>\n",
       "</div>"
      ],
      "text/plain": [
       "         parcel_name    sws_rs    sws_gb    sws_ms    sws_fa    sws_rw  \\\n",
       "0  gmd_17Networks_17  0.071966  0.582126  0.248658  0.455413  0.046039   \n",
       "1  gmd_17Networks_16  0.201671  0.703188  0.776469  0.457278  0.285506   \n",
       "2  gmd_17Networks_15  0.665409  0.773109  0.810119  0.239218  0.956343   \n",
       "3  gmd_17Networks_14  0.635989  0.410975  0.438266  0.596597  0.562483   \n",
       "4  gmd_17Networks_13  0.212942  0.968948  0.120675  0.291418  0.113960   \n",
       "\n",
       "   sws_total  \n",
       "0   0.231128  \n",
       "1   0.323083  \n",
       "2   0.521962  \n",
       "3   0.666003  \n",
       "4   0.360521  "
      ]
     },
     "execution_count": 2,
     "metadata": {},
     "output_type": "execute_result"
    }
   ],
   "source": [
    "df = pd.read_csv('p.csv')\n",
    "df.head()"
   ]
  },
  {
   "cell_type": "code",
   "execution_count": 3,
   "metadata": {},
   "outputs": [
    {
     "data": {
      "text/html": [
       "<div>\n",
       "<style scoped>\n",
       "    .dataframe tbody tr th:only-of-type {\n",
       "        vertical-align: middle;\n",
       "    }\n",
       "\n",
       "    .dataframe tbody tr th {\n",
       "        vertical-align: top;\n",
       "    }\n",
       "\n",
       "    .dataframe thead th {\n",
       "        text-align: right;\n",
       "    }\n",
       "</style>\n",
       "<table border=\"1\" class=\"dataframe\">\n",
       "  <thead>\n",
       "    <tr style=\"text-align: right;\">\n",
       "      <th></th>\n",
       "      <th>parcel_name</th>\n",
       "      <th>sws_gb</th>\n",
       "    </tr>\n",
       "  </thead>\n",
       "  <tbody>\n",
       "    <tr>\n",
       "      <th>0</th>\n",
       "      <td>gmd_17Networks_17</td>\n",
       "      <td>0.582126</td>\n",
       "    </tr>\n",
       "    <tr>\n",
       "      <th>1</th>\n",
       "      <td>gmd_17Networks_16</td>\n",
       "      <td>0.703188</td>\n",
       "    </tr>\n",
       "    <tr>\n",
       "      <th>2</th>\n",
       "      <td>gmd_17Networks_15</td>\n",
       "      <td>0.773109</td>\n",
       "    </tr>\n",
       "    <tr>\n",
       "      <th>3</th>\n",
       "      <td>gmd_17Networks_14</td>\n",
       "      <td>0.410975</td>\n",
       "    </tr>\n",
       "    <tr>\n",
       "      <th>4</th>\n",
       "      <td>gmd_17Networks_13</td>\n",
       "      <td>0.968948</td>\n",
       "    </tr>\n",
       "  </tbody>\n",
       "</table>\n",
       "</div>"
      ],
      "text/plain": [
       "         parcel_name    sws_gb\n",
       "0  gmd_17Networks_17  0.582126\n",
       "1  gmd_17Networks_16  0.703188\n",
       "2  gmd_17Networks_15  0.773109\n",
       "3  gmd_17Networks_14  0.410975\n",
       "4  gmd_17Networks_13  0.968948"
      ]
     },
     "execution_count": 3,
     "metadata": {},
     "output_type": "execute_result"
    }
   ],
   "source": [
    "df1 = df[['parcel_name' ,'sws_gb']]\n",
    "df1.head()"
   ]
  },
  {
   "cell_type": "code",
   "execution_count": 4,
   "metadata": {},
   "outputs": [
    {
     "data": {
      "text/plain": [
       "(2718, 2)"
      ]
     },
     "execution_count": 4,
     "metadata": {},
     "output_type": "execute_result"
    }
   ],
   "source": [
    "df1.shape"
   ]
  },
  {
   "cell_type": "code",
   "execution_count": 5,
   "metadata": {},
   "outputs": [],
   "source": [
    "df2 = df1.dropna()"
   ]
  },
  {
   "cell_type": "code",
   "execution_count": 6,
   "metadata": {},
   "outputs": [
    {
     "data": {
      "text/plain": [
       "(2718, 2)"
      ]
     },
     "execution_count": 6,
     "metadata": {},
     "output_type": "execute_result"
    }
   ],
   "source": [
    "df2.shape"
   ]
  },
  {
   "cell_type": "code",
   "execution_count": 7,
   "metadata": {},
   "outputs": [],
   "source": [
    "df2.insert(1, 'parc_name', np.nan)"
   ]
  },
  {
   "cell_type": "code",
   "execution_count": 8,
   "metadata": {},
   "outputs": [
    {
     "data": {
      "text/html": [
       "<div>\n",
       "<style scoped>\n",
       "    .dataframe tbody tr th:only-of-type {\n",
       "        vertical-align: middle;\n",
       "    }\n",
       "\n",
       "    .dataframe tbody tr th {\n",
       "        vertical-align: top;\n",
       "    }\n",
       "\n",
       "    .dataframe thead th {\n",
       "        text-align: right;\n",
       "    }\n",
       "</style>\n",
       "<table border=\"1\" class=\"dataframe\">\n",
       "  <thead>\n",
       "    <tr style=\"text-align: right;\">\n",
       "      <th></th>\n",
       "      <th>parcel_name</th>\n",
       "      <th>parc_name</th>\n",
       "      <th>sws_gb</th>\n",
       "    </tr>\n",
       "  </thead>\n",
       "  <tbody>\n",
       "    <tr>\n",
       "      <th>0</th>\n",
       "      <td>gmd_17Networks_17</td>\n",
       "      <td>NaN</td>\n",
       "      <td>0.582126</td>\n",
       "    </tr>\n",
       "    <tr>\n",
       "      <th>1</th>\n",
       "      <td>gmd_17Networks_16</td>\n",
       "      <td>NaN</td>\n",
       "      <td>0.703188</td>\n",
       "    </tr>\n",
       "    <tr>\n",
       "      <th>2</th>\n",
       "      <td>gmd_17Networks_15</td>\n",
       "      <td>NaN</td>\n",
       "      <td>0.773109</td>\n",
       "    </tr>\n",
       "    <tr>\n",
       "      <th>3</th>\n",
       "      <td>gmd_17Networks_14</td>\n",
       "      <td>NaN</td>\n",
       "      <td>0.410975</td>\n",
       "    </tr>\n",
       "    <tr>\n",
       "      <th>4</th>\n",
       "      <td>gmd_17Networks_13</td>\n",
       "      <td>NaN</td>\n",
       "      <td>0.968948</td>\n",
       "    </tr>\n",
       "  </tbody>\n",
       "</table>\n",
       "</div>"
      ],
      "text/plain": [
       "         parcel_name  parc_name    sws_gb\n",
       "0  gmd_17Networks_17        NaN  0.582126\n",
       "1  gmd_17Networks_16        NaN  0.703188\n",
       "2  gmd_17Networks_15        NaN  0.773109\n",
       "3  gmd_17Networks_14        NaN  0.410975\n",
       "4  gmd_17Networks_13        NaN  0.968948"
      ]
     },
     "execution_count": 8,
     "metadata": {},
     "output_type": "execute_result"
    }
   ],
   "source": [
    "df2.head()"
   ]
  },
  {
   "cell_type": "code",
   "execution_count": 9,
   "metadata": {},
   "outputs": [],
   "source": [
    "df2 = df2.reset_index()"
   ]
  },
  {
   "cell_type": "code",
   "execution_count": 10,
   "metadata": {},
   "outputs": [
    {
     "data": {
      "text/html": [
       "<div>\n",
       "<style scoped>\n",
       "    .dataframe tbody tr th:only-of-type {\n",
       "        vertical-align: middle;\n",
       "    }\n",
       "\n",
       "    .dataframe tbody tr th {\n",
       "        vertical-align: top;\n",
       "    }\n",
       "\n",
       "    .dataframe thead th {\n",
       "        text-align: right;\n",
       "    }\n",
       "</style>\n",
       "<table border=\"1\" class=\"dataframe\">\n",
       "  <thead>\n",
       "    <tr style=\"text-align: right;\">\n",
       "      <th></th>\n",
       "      <th>index</th>\n",
       "      <th>parcel_name</th>\n",
       "      <th>parc_name</th>\n",
       "      <th>sws_rs</th>\n",
       "    </tr>\n",
       "  </thead>\n",
       "  <tbody>\n",
       "    <tr>\n",
       "      <th>0</th>\n",
       "      <td>0</td>\n",
       "      <td>gmd_17Networks_17</td>\n",
       "      <td>NaN</td>\n",
       "      <td>0.071966</td>\n",
       "    </tr>\n",
       "    <tr>\n",
       "      <th>1</th>\n",
       "      <td>1</td>\n",
       "      <td>gmd_17Networks_16</td>\n",
       "      <td>NaN</td>\n",
       "      <td>0.201671</td>\n",
       "    </tr>\n",
       "    <tr>\n",
       "      <th>2</th>\n",
       "      <td>2</td>\n",
       "      <td>gmd_17Networks_15</td>\n",
       "      <td>NaN</td>\n",
       "      <td>0.665409</td>\n",
       "    </tr>\n",
       "    <tr>\n",
       "      <th>3</th>\n",
       "      <td>3</td>\n",
       "      <td>gmd_17Networks_14</td>\n",
       "      <td>NaN</td>\n",
       "      <td>0.635989</td>\n",
       "    </tr>\n",
       "    <tr>\n",
       "      <th>4</th>\n",
       "      <td>4</td>\n",
       "      <td>gmd_17Networks_13</td>\n",
       "      <td>NaN</td>\n",
       "      <td>0.212942</td>\n",
       "    </tr>\n",
       "  </tbody>\n",
       "</table>\n",
       "</div>"
      ],
      "text/plain": [
       "   index        parcel_name  parc_name    sws_rs\n",
       "0      0  gmd_17Networks_17        NaN  0.071966\n",
       "1      1  gmd_17Networks_16        NaN  0.201671\n",
       "2      2  gmd_17Networks_15        NaN  0.665409\n",
       "3      3  gmd_17Networks_14        NaN  0.635989\n",
       "4      4  gmd_17Networks_13        NaN  0.212942"
      ]
     },
     "execution_count": 10,
     "metadata": {},
     "output_type": "execute_result"
    }
   ],
   "source": [
    "df2.head()"
   ]
  },
  {
   "cell_type": "code",
   "execution_count": 11,
   "metadata": {},
   "outputs": [],
   "source": [
    "df = df2.drop('index', axis = 1)"
   ]
  },
  {
   "cell_type": "code",
   "execution_count": 9,
   "metadata": {},
   "outputs": [],
   "source": [
    "df = df2"
   ]
  },
  {
   "cell_type": "code",
   "execution_count": 10,
   "metadata": {},
   "outputs": [
    {
     "data": {
      "text/html": [
       "<div>\n",
       "<style scoped>\n",
       "    .dataframe tbody tr th:only-of-type {\n",
       "        vertical-align: middle;\n",
       "    }\n",
       "\n",
       "    .dataframe tbody tr th {\n",
       "        vertical-align: top;\n",
       "    }\n",
       "\n",
       "    .dataframe thead th {\n",
       "        text-align: right;\n",
       "    }\n",
       "</style>\n",
       "<table border=\"1\" class=\"dataframe\">\n",
       "  <thead>\n",
       "    <tr style=\"text-align: right;\">\n",
       "      <th></th>\n",
       "      <th>parcel_name</th>\n",
       "      <th>parc_name</th>\n",
       "      <th>sws_gb</th>\n",
       "    </tr>\n",
       "  </thead>\n",
       "  <tbody>\n",
       "    <tr>\n",
       "      <th>0</th>\n",
       "      <td>gmd_17Networks_17</td>\n",
       "      <td>NaN</td>\n",
       "      <td>0.582126</td>\n",
       "    </tr>\n",
       "    <tr>\n",
       "      <th>1</th>\n",
       "      <td>gmd_17Networks_16</td>\n",
       "      <td>NaN</td>\n",
       "      <td>0.703188</td>\n",
       "    </tr>\n",
       "    <tr>\n",
       "      <th>2</th>\n",
       "      <td>gmd_17Networks_15</td>\n",
       "      <td>NaN</td>\n",
       "      <td>0.773109</td>\n",
       "    </tr>\n",
       "    <tr>\n",
       "      <th>3</th>\n",
       "      <td>gmd_17Networks_14</td>\n",
       "      <td>NaN</td>\n",
       "      <td>0.410975</td>\n",
       "    </tr>\n",
       "    <tr>\n",
       "      <th>4</th>\n",
       "      <td>gmd_17Networks_13</td>\n",
       "      <td>NaN</td>\n",
       "      <td>0.968948</td>\n",
       "    </tr>\n",
       "  </tbody>\n",
       "</table>\n",
       "</div>"
      ],
      "text/plain": [
       "         parcel_name  parc_name    sws_gb\n",
       "0  gmd_17Networks_17        NaN  0.582126\n",
       "1  gmd_17Networks_16        NaN  0.703188\n",
       "2  gmd_17Networks_15        NaN  0.773109\n",
       "3  gmd_17Networks_14        NaN  0.410975\n",
       "4  gmd_17Networks_13        NaN  0.968948"
      ]
     },
     "execution_count": 10,
     "metadata": {},
     "output_type": "execute_result"
    }
   ],
   "source": [
    "df.head()"
   ]
  },
  {
   "cell_type": "code",
   "execution_count": 11,
   "metadata": {},
   "outputs": [
    {
     "name": "stderr",
     "output_type": "stream",
     "text": [
      "<ipython-input-11-ba0fa4ffe3e6>:6: SettingWithCopyWarning: \n",
      "A value is trying to be set on a copy of a slice from a DataFrame\n",
      "\n",
      "See the caveats in the documentation: https://pandas.pydata.org/pandas-docs/stable/user_guide/indexing.html#returning-a-view-versus-a-copy\n",
      "  df[\"parc_name\"][i] = df[\"parcel_name\"][i][len(marker):]\n",
      "/home/tara/Programming/env/lib/python3.8/site-packages/pandas/core/indexing.py:1636: SettingWithCopyWarning: \n",
      "A value is trying to be set on a copy of a slice from a DataFrame\n",
      "\n",
      "See the caveats in the documentation: https://pandas.pydata.org/pandas-docs/stable/user_guide/indexing.html#returning-a-view-versus-a-copy\n",
      "  self._setitem_single_block(indexer, value, name)\n"
     ]
    }
   ],
   "source": [
    "markers = ['gmd_', 'zALFF_', 'zfALFF_', 'zReHo_', 'zDCwei_', 'zDCbin_']\n",
    "for i,parc in enumerate(df[\"parcel_name\"]):\n",
    "    #for i in range(df.shape[0]):\n",
    "    for marker in markers:\n",
    "        if parc.find(marker)==0:\n",
    "            df[\"parc_name\"][i] = df[\"parcel_name\"][i][len(marker):]\n",
    "            #print(df[\"sws_total\"][i])\n",
    "            col = marker + \"sws_gb_p\" \n",
    "            if col not in df:\n",
    "                df.insert(2, col, np.nan)\n",
    "            df.iloc[i, df.columns.get_loc(col)] = df[\"sws_gb\"][i]"
   ]
  },
  {
   "cell_type": "code",
   "execution_count": 12,
   "metadata": {},
   "outputs": [
    {
     "data": {
      "text/plain": [
       "(2718, 9)"
      ]
     },
     "execution_count": 12,
     "metadata": {},
     "output_type": "execute_result"
    }
   ],
   "source": [
    "df.shape"
   ]
  },
  {
   "cell_type": "code",
   "execution_count": 15,
   "metadata": {},
   "outputs": [],
   "source": [
    "#df.to_csv('p_reformed.csv')"
   ]
  },
  {
   "cell_type": "markdown",
   "metadata": {},
   "source": [
    "### merging duplicates"
   ]
  },
  {
   "cell_type": "code",
   "execution_count": 16,
   "metadata": {},
   "outputs": [],
   "source": [
    "#df = pd.read_csv('p_reformed.csv')\n",
    "#df.head()"
   ]
  },
  {
   "cell_type": "code",
   "execution_count": 13,
   "metadata": {},
   "outputs": [
    {
     "data": {
      "text/plain": [
       "(2718, 9)"
      ]
     },
     "execution_count": 13,
     "metadata": {},
     "output_type": "execute_result"
    }
   ],
   "source": [
    "df.shape"
   ]
  },
  {
   "cell_type": "code",
   "execution_count": 14,
   "metadata": {},
   "outputs": [],
   "source": [
    "df2 = df.copy()\n",
    "inds = df2['parc_name'].drop_duplicates().reset_index(drop=True)\n",
    "df2.set_index('parc_name', inplace=True)\n",
    "df3 = pd.DataFrame(columns = df2.columns)\n",
    "for ind in inds:\n",
    "    region = df2.loc[[ind]]\n",
    "    if region.shape[0] > 1 :\n",
    "        reg = region\n",
    "        cols = reg.columns\n",
    "        for col in cols:\n",
    "            reg[col] = reg[col].sum()\n",
    "        reg = reg.drop_duplicates()\n",
    "        df3 = pd.concat([df3, reg])\n",
    "        continue\n",
    "    df3 = pd.concat([df3, region])"
   ]
  },
  {
   "cell_type": "code",
   "execution_count": 16,
   "metadata": {},
   "outputs": [],
   "source": [
    "df3.to_csv('SWSgb_p_reformed.csv')"
   ]
  },
  {
   "cell_type": "code",
   "execution_count": 15,
   "metadata": {},
   "outputs": [
    {
     "data": {
      "text/plain": [
       "(453, 8)"
      ]
     },
     "execution_count": 15,
     "metadata": {},
     "output_type": "execute_result"
    }
   ],
   "source": [
    "df3.shape"
   ]
  },
  {
   "cell_type": "code",
   "execution_count": 17,
   "metadata": {},
   "outputs": [
    {
     "data": {
      "text/html": [
       "<div>\n",
       "<style scoped>\n",
       "    .dataframe tbody tr th:only-of-type {\n",
       "        vertical-align: middle;\n",
       "    }\n",
       "\n",
       "    .dataframe tbody tr th {\n",
       "        vertical-align: top;\n",
       "    }\n",
       "\n",
       "    .dataframe thead th {\n",
       "        text-align: right;\n",
       "    }\n",
       "</style>\n",
       "<table border=\"1\" class=\"dataframe\">\n",
       "  <thead>\n",
       "    <tr style=\"text-align: right;\">\n",
       "      <th></th>\n",
       "      <th>parcel_name</th>\n",
       "      <th>zALFF_sws_gb_p</th>\n",
       "      <th>zDCbin_sws_gb_p</th>\n",
       "      <th>zDCwei_sws_gb_p</th>\n",
       "      <th>zfALFF_sws_gb_p</th>\n",
       "      <th>zReHo_sws_gb_p</th>\n",
       "      <th>gmd_sws_gb_p</th>\n",
       "      <th>sws_gb</th>\n",
       "    </tr>\n",
       "  </thead>\n",
       "  <tbody>\n",
       "    <tr>\n",
       "      <th>17Networks_17</th>\n",
       "      <td>gmd_17Networks_17zReHo_17Networks_17zfALFF_17N...</td>\n",
       "      <td>0.366094</td>\n",
       "      <td>0.819455</td>\n",
       "      <td>0.764998</td>\n",
       "      <td>0.949608</td>\n",
       "      <td>0.419655</td>\n",
       "      <td>0.582126</td>\n",
       "      <td>3.901935</td>\n",
       "    </tr>\n",
       "    <tr>\n",
       "      <th>17Networks_16</th>\n",
       "      <td>gmd_17Networks_16zReHo_17Networks_16zfALFF_17N...</td>\n",
       "      <td>0.544756</td>\n",
       "      <td>0.639458</td>\n",
       "      <td>0.680816</td>\n",
       "      <td>0.695803</td>\n",
       "      <td>0.979621</td>\n",
       "      <td>0.703188</td>\n",
       "      <td>4.243643</td>\n",
       "    </tr>\n",
       "    <tr>\n",
       "      <th>17Networks_15</th>\n",
       "      <td>gmd_17Networks_15zReHo_17Networks_15zfALFF_17N...</td>\n",
       "      <td>0.492052</td>\n",
       "      <td>0.427861</td>\n",
       "      <td>0.509473</td>\n",
       "      <td>0.250155</td>\n",
       "      <td>0.478610</td>\n",
       "      <td>0.773109</td>\n",
       "      <td>2.931260</td>\n",
       "    </tr>\n",
       "    <tr>\n",
       "      <th>17Networks_14</th>\n",
       "      <td>gmd_17Networks_14zReHo_17Networks_14zfALFF_17N...</td>\n",
       "      <td>0.535261</td>\n",
       "      <td>0.879664</td>\n",
       "      <td>0.889848</td>\n",
       "      <td>0.941452</td>\n",
       "      <td>0.920433</td>\n",
       "      <td>0.410975</td>\n",
       "      <td>4.577634</td>\n",
       "    </tr>\n",
       "    <tr>\n",
       "      <th>17Networks_13</th>\n",
       "      <td>gmd_17Networks_13zReHo_17Networks_13zfALFF_17N...</td>\n",
       "      <td>0.464271</td>\n",
       "      <td>0.797318</td>\n",
       "      <td>0.753311</td>\n",
       "      <td>0.542369</td>\n",
       "      <td>0.924851</td>\n",
       "      <td>0.968948</td>\n",
       "      <td>4.451068</td>\n",
       "    </tr>\n",
       "  </tbody>\n",
       "</table>\n",
       "</div>"
      ],
      "text/plain": [
       "                                                     parcel_name  \\\n",
       "17Networks_17  gmd_17Networks_17zReHo_17Networks_17zfALFF_17N...   \n",
       "17Networks_16  gmd_17Networks_16zReHo_17Networks_16zfALFF_17N...   \n",
       "17Networks_15  gmd_17Networks_15zReHo_17Networks_15zfALFF_17N...   \n",
       "17Networks_14  gmd_17Networks_14zReHo_17Networks_14zfALFF_17N...   \n",
       "17Networks_13  gmd_17Networks_13zReHo_17Networks_13zfALFF_17N...   \n",
       "\n",
       "               zALFF_sws_gb_p  zDCbin_sws_gb_p  zDCwei_sws_gb_p  \\\n",
       "17Networks_17        0.366094         0.819455         0.764998   \n",
       "17Networks_16        0.544756         0.639458         0.680816   \n",
       "17Networks_15        0.492052         0.427861         0.509473   \n",
       "17Networks_14        0.535261         0.879664         0.889848   \n",
       "17Networks_13        0.464271         0.797318         0.753311   \n",
       "\n",
       "               zfALFF_sws_gb_p  zReHo_sws_gb_p  gmd_sws_gb_p    sws_gb  \n",
       "17Networks_17         0.949608        0.419655      0.582126  3.901935  \n",
       "17Networks_16         0.695803        0.979621      0.703188  4.243643  \n",
       "17Networks_15         0.250155        0.478610      0.773109  2.931260  \n",
       "17Networks_14         0.941452        0.920433      0.410975  4.577634  \n",
       "17Networks_13         0.542369        0.924851      0.968948  4.451068  "
      ]
     },
     "execution_count": 17,
     "metadata": {},
     "output_type": "execute_result"
    }
   ],
   "source": [
    "df3.head()"
   ]
  },
  {
   "cell_type": "code",
   "execution_count": 22,
   "metadata": {},
   "outputs": [
    {
     "data": {
      "text/html": [
       "<div>\n",
       "<style scoped>\n",
       "    .dataframe tbody tr th:only-of-type {\n",
       "        vertical-align: middle;\n",
       "    }\n",
       "\n",
       "    .dataframe tbody tr th {\n",
       "        vertical-align: top;\n",
       "    }\n",
       "\n",
       "    .dataframe thead th {\n",
       "        text-align: right;\n",
       "    }\n",
       "</style>\n",
       "<table border=\"1\" class=\"dataframe\">\n",
       "  <thead>\n",
       "    <tr style=\"text-align: right;\">\n",
       "      <th></th>\n",
       "      <th>Unnamed: 0</th>\n",
       "      <th>parcel_name</th>\n",
       "      <th>zALFF_sws_rs_p</th>\n",
       "      <th>zDCbin_sws_rs_p</th>\n",
       "      <th>zDCwei_sws_rs_p</th>\n",
       "      <th>zfALFF_sws_rs_p</th>\n",
       "      <th>zReHo_sws_rs_p</th>\n",
       "      <th>gmd_sws_rs_p</th>\n",
       "      <th>sws_rs</th>\n",
       "    </tr>\n",
       "  </thead>\n",
       "  <tbody>\n",
       "    <tr>\n",
       "      <th>0</th>\n",
       "      <td>17Networks_17</td>\n",
       "      <td>gmd_17Networks_17zReHo_17Networks_17zfALFF_17N...</td>\n",
       "      <td>0.259976</td>\n",
       "      <td>0.588196</td>\n",
       "      <td>0.563896</td>\n",
       "      <td>0.888731</td>\n",
       "      <td>0.300647</td>\n",
       "      <td>0.071966</td>\n",
       "      <td>2.673412</td>\n",
       "    </tr>\n",
       "    <tr>\n",
       "      <th>1</th>\n",
       "      <td>17Networks_16</td>\n",
       "      <td>gmd_17Networks_16zReHo_17Networks_16zfALFF_17N...</td>\n",
       "      <td>0.620199</td>\n",
       "      <td>0.397304</td>\n",
       "      <td>0.346826</td>\n",
       "      <td>0.282391</td>\n",
       "      <td>0.905764</td>\n",
       "      <td>0.201671</td>\n",
       "      <td>2.754155</td>\n",
       "    </tr>\n",
       "    <tr>\n",
       "      <th>2</th>\n",
       "      <td>17Networks_15</td>\n",
       "      <td>gmd_17Networks_15zReHo_17Networks_15zfALFF_17N...</td>\n",
       "      <td>0.626217</td>\n",
       "      <td>0.075195</td>\n",
       "      <td>0.055932</td>\n",
       "      <td>0.075517</td>\n",
       "      <td>0.004952</td>\n",
       "      <td>0.665409</td>\n",
       "      <td>1.503222</td>\n",
       "    </tr>\n",
       "    <tr>\n",
       "      <th>3</th>\n",
       "      <td>17Networks_14</td>\n",
       "      <td>gmd_17Networks_14zReHo_17Networks_14zfALFF_17N...</td>\n",
       "      <td>0.974232</td>\n",
       "      <td>0.291427</td>\n",
       "      <td>0.213209</td>\n",
       "      <td>0.479685</td>\n",
       "      <td>0.569029</td>\n",
       "      <td>0.635989</td>\n",
       "      <td>3.163571</td>\n",
       "    </tr>\n",
       "    <tr>\n",
       "      <th>4</th>\n",
       "      <td>17Networks_13</td>\n",
       "      <td>gmd_17Networks_13zReHo_17Networks_13zfALFF_17N...</td>\n",
       "      <td>0.966108</td>\n",
       "      <td>0.595933</td>\n",
       "      <td>0.617467</td>\n",
       "      <td>0.424920</td>\n",
       "      <td>0.559959</td>\n",
       "      <td>0.212942</td>\n",
       "      <td>3.377329</td>\n",
       "    </tr>\n",
       "  </tbody>\n",
       "</table>\n",
       "</div>"
      ],
      "text/plain": [
       "      Unnamed: 0                                        parcel_name  \\\n",
       "0  17Networks_17  gmd_17Networks_17zReHo_17Networks_17zfALFF_17N...   \n",
       "1  17Networks_16  gmd_17Networks_16zReHo_17Networks_16zfALFF_17N...   \n",
       "2  17Networks_15  gmd_17Networks_15zReHo_17Networks_15zfALFF_17N...   \n",
       "3  17Networks_14  gmd_17Networks_14zReHo_17Networks_14zfALFF_17N...   \n",
       "4  17Networks_13  gmd_17Networks_13zReHo_17Networks_13zfALFF_17N...   \n",
       "\n",
       "   zALFF_sws_rs_p  zDCbin_sws_rs_p  zDCwei_sws_rs_p  zfALFF_sws_rs_p  \\\n",
       "0        0.259976         0.588196         0.563896         0.888731   \n",
       "1        0.620199         0.397304         0.346826         0.282391   \n",
       "2        0.626217         0.075195         0.055932         0.075517   \n",
       "3        0.974232         0.291427         0.213209         0.479685   \n",
       "4        0.966108         0.595933         0.617467         0.424920   \n",
       "\n",
       "   zReHo_sws_rs_p  gmd_sws_rs_p    sws_rs  \n",
       "0        0.300647      0.071966  2.673412  \n",
       "1        0.905764      0.201671  2.754155  \n",
       "2        0.004952      0.665409  1.503222  \n",
       "3        0.569029      0.635989  3.163571  \n",
       "4        0.559959      0.212942  3.377329  "
      ]
     },
     "execution_count": 22,
     "metadata": {},
     "output_type": "execute_result"
    }
   ],
   "source": [
    "data = pd.read_csv('SWSrs_p_reformed.csv')\n",
    "data.head()"
   ]
  },
  {
   "cell_type": "code",
   "execution_count": null,
   "metadata": {},
   "outputs": [],
   "source": []
  }
 ],
 "metadata": {
  "kernelspec": {
   "display_name": "Python 3",
   "language": "python",
   "name": "python3"
  },
  "language_info": {
   "codemirror_mode": {
    "name": "ipython",
    "version": 3
   },
   "file_extension": ".py",
   "mimetype": "text/x-python",
   "name": "python",
   "nbconvert_exporter": "python",
   "pygments_lexer": "ipython3",
   "version": "3.8.10"
  }
 },
 "nbformat": 4,
 "nbformat_minor": 4
}
