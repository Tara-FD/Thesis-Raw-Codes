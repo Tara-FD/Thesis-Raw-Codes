{
 "cells": [
  {
   "cell_type": "code",
   "execution_count": 1,
   "metadata": {},
   "outputs": [],
   "source": [
    "import pandas as pd\n",
    "import shutil, os\n",
    "import numpy as np"
   ]
  },
  {
   "cell_type": "code",
   "execution_count": 2,
   "metadata": {},
   "outputs": [
    {
     "data": {
      "text/html": [
       "<div>\n",
       "<style scoped>\n",
       "    .dataframe tbody tr th:only-of-type {\n",
       "        vertical-align: middle;\n",
       "    }\n",
       "\n",
       "    .dataframe tbody tr th {\n",
       "        vertical-align: top;\n",
       "    }\n",
       "\n",
       "    .dataframe thead th {\n",
       "        text-align: right;\n",
       "    }\n",
       "</style>\n",
       "<table border=\"1\" class=\"dataframe\">\n",
       "  <thead>\n",
       "    <tr style=\"text-align: right;\">\n",
       "      <th></th>\n",
       "      <th>parcel_name</th>\n",
       "      <th>sws_rw</th>\n",
       "      <th>sws_rs</th>\n",
       "      <th>sws_gb</th>\n",
       "      <th>sws_ms</th>\n",
       "      <th>sws_fa</th>\n",
       "      <th>sws_total</th>\n",
       "    </tr>\n",
       "  </thead>\n",
       "  <tbody>\n",
       "    <tr>\n",
       "      <th>0</th>\n",
       "      <td>gmd_17Networks_17</td>\n",
       "      <td>0.175576</td>\n",
       "      <td>0.003585</td>\n",
       "      <td>0.005718</td>\n",
       "      <td>0.139167</td>\n",
       "      <td>-0.049975</td>\n",
       "      <td>0.033909</td>\n",
       "    </tr>\n",
       "    <tr>\n",
       "      <th>1</th>\n",
       "      <td>gmd_17Networks_16</td>\n",
       "      <td>0.038619</td>\n",
       "      <td>-0.065373</td>\n",
       "      <td>-0.147804</td>\n",
       "      <td>0.013676</td>\n",
       "      <td>-0.129884</td>\n",
       "      <td>-0.092584</td>\n",
       "    </tr>\n",
       "    <tr>\n",
       "      <th>2</th>\n",
       "      <td>gmd_17Networks_15</td>\n",
       "      <td>-0.136756</td>\n",
       "      <td>-0.089147</td>\n",
       "      <td>-0.022907</td>\n",
       "      <td>0.001233</td>\n",
       "      <td>-0.089863</td>\n",
       "      <td>-0.072051</td>\n",
       "    </tr>\n",
       "    <tr>\n",
       "      <th>3</th>\n",
       "      <td>gmd_17Networks_14</td>\n",
       "      <td>0.065292</td>\n",
       "      <td>-0.006713</td>\n",
       "      <td>-0.052060</td>\n",
       "      <td>-0.010530</td>\n",
       "      <td>-0.022879</td>\n",
       "      <td>-0.015831</td>\n",
       "    </tr>\n",
       "    <tr>\n",
       "      <th>4</th>\n",
       "      <td>gmd_17Networks_13</td>\n",
       "      <td>0.102230</td>\n",
       "      <td>-0.088861</td>\n",
       "      <td>-0.110288</td>\n",
       "      <td>0.105084</td>\n",
       "      <td>-0.107821</td>\n",
       "      <td>-0.054018</td>\n",
       "    </tr>\n",
       "  </tbody>\n",
       "</table>\n",
       "</div>"
      ],
      "text/plain": [
       "         parcel_name    sws_rw    sws_rs    sws_gb    sws_ms    sws_fa  \\\n",
       "0  gmd_17Networks_17  0.175576  0.003585  0.005718  0.139167 -0.049975   \n",
       "1  gmd_17Networks_16  0.038619 -0.065373 -0.147804  0.013676 -0.129884   \n",
       "2  gmd_17Networks_15 -0.136756 -0.089147 -0.022907  0.001233 -0.089863   \n",
       "3  gmd_17Networks_14  0.065292 -0.006713 -0.052060 -0.010530 -0.022879   \n",
       "4  gmd_17Networks_13  0.102230 -0.088861 -0.110288  0.105084 -0.107821   \n",
       "\n",
       "   sws_total  \n",
       "0   0.033909  \n",
       "1  -0.092584  \n",
       "2  -0.072051  \n",
       "3  -0.015831  \n",
       "4  -0.054018  "
      ]
     },
     "execution_count": 2,
     "metadata": {},
     "output_type": "execute_result"
    }
   ],
   "source": [
    "df = pd.read_csv('r.csv')\n",
    "df.head()"
   ]
  },
  {
   "cell_type": "code",
   "execution_count": 3,
   "metadata": {},
   "outputs": [
    {
     "data": {
      "text/html": [
       "<div>\n",
       "<style scoped>\n",
       "    .dataframe tbody tr th:only-of-type {\n",
       "        vertical-align: middle;\n",
       "    }\n",
       "\n",
       "    .dataframe tbody tr th {\n",
       "        vertical-align: top;\n",
       "    }\n",
       "\n",
       "    .dataframe thead th {\n",
       "        text-align: right;\n",
       "    }\n",
       "</style>\n",
       "<table border=\"1\" class=\"dataframe\">\n",
       "  <thead>\n",
       "    <tr style=\"text-align: right;\">\n",
       "      <th></th>\n",
       "      <th>parcel_name</th>\n",
       "      <th>sws_total</th>\n",
       "    </tr>\n",
       "  </thead>\n",
       "  <tbody>\n",
       "    <tr>\n",
       "      <th>0</th>\n",
       "      <td>gmd_17Networks_17</td>\n",
       "      <td>0.033909</td>\n",
       "    </tr>\n",
       "    <tr>\n",
       "      <th>1</th>\n",
       "      <td>gmd_17Networks_16</td>\n",
       "      <td>-0.092584</td>\n",
       "    </tr>\n",
       "    <tr>\n",
       "      <th>2</th>\n",
       "      <td>gmd_17Networks_15</td>\n",
       "      <td>-0.072051</td>\n",
       "    </tr>\n",
       "    <tr>\n",
       "      <th>3</th>\n",
       "      <td>gmd_17Networks_14</td>\n",
       "      <td>-0.015831</td>\n",
       "    </tr>\n",
       "    <tr>\n",
       "      <th>4</th>\n",
       "      <td>gmd_17Networks_13</td>\n",
       "      <td>-0.054018</td>\n",
       "    </tr>\n",
       "  </tbody>\n",
       "</table>\n",
       "</div>"
      ],
      "text/plain": [
       "         parcel_name  sws_total\n",
       "0  gmd_17Networks_17   0.033909\n",
       "1  gmd_17Networks_16  -0.092584\n",
       "2  gmd_17Networks_15  -0.072051\n",
       "3  gmd_17Networks_14  -0.015831\n",
       "4  gmd_17Networks_13  -0.054018"
      ]
     },
     "execution_count": 3,
     "metadata": {},
     "output_type": "execute_result"
    }
   ],
   "source": [
    "df1 = df[['parcel_name' ,'sws_total']]\n",
    "df1.head()"
   ]
  },
  {
   "cell_type": "code",
   "execution_count": 4,
   "metadata": {},
   "outputs": [
    {
     "data": {
      "text/plain": [
       "(884, 2)"
      ]
     },
     "execution_count": 4,
     "metadata": {},
     "output_type": "execute_result"
    }
   ],
   "source": [
    "df1.shape"
   ]
  },
  {
   "cell_type": "code",
   "execution_count": 5,
   "metadata": {},
   "outputs": [],
   "source": [
    "df2 = df1.dropna()"
   ]
  },
  {
   "cell_type": "code",
   "execution_count": 6,
   "metadata": {},
   "outputs": [
    {
     "data": {
      "text/plain": [
       "(884, 2)"
      ]
     },
     "execution_count": 6,
     "metadata": {},
     "output_type": "execute_result"
    }
   ],
   "source": [
    "df2.shape"
   ]
  },
  {
   "cell_type": "code",
   "execution_count": 7,
   "metadata": {},
   "outputs": [],
   "source": [
    "df2.insert(1, 'parc_name', np.nan)"
   ]
  },
  {
   "cell_type": "code",
   "execution_count": 8,
   "metadata": {},
   "outputs": [
    {
     "data": {
      "text/html": [
       "<div>\n",
       "<style scoped>\n",
       "    .dataframe tbody tr th:only-of-type {\n",
       "        vertical-align: middle;\n",
       "    }\n",
       "\n",
       "    .dataframe tbody tr th {\n",
       "        vertical-align: top;\n",
       "    }\n",
       "\n",
       "    .dataframe thead th {\n",
       "        text-align: right;\n",
       "    }\n",
       "</style>\n",
       "<table border=\"1\" class=\"dataframe\">\n",
       "  <thead>\n",
       "    <tr style=\"text-align: right;\">\n",
       "      <th></th>\n",
       "      <th>parcel_name</th>\n",
       "      <th>parc_name</th>\n",
       "      <th>sws_total</th>\n",
       "    </tr>\n",
       "  </thead>\n",
       "  <tbody>\n",
       "    <tr>\n",
       "      <th>0</th>\n",
       "      <td>gmd_17Networks_17</td>\n",
       "      <td>NaN</td>\n",
       "      <td>0.033909</td>\n",
       "    </tr>\n",
       "    <tr>\n",
       "      <th>1</th>\n",
       "      <td>gmd_17Networks_16</td>\n",
       "      <td>NaN</td>\n",
       "      <td>-0.092584</td>\n",
       "    </tr>\n",
       "    <tr>\n",
       "      <th>2</th>\n",
       "      <td>gmd_17Networks_15</td>\n",
       "      <td>NaN</td>\n",
       "      <td>-0.072051</td>\n",
       "    </tr>\n",
       "    <tr>\n",
       "      <th>3</th>\n",
       "      <td>gmd_17Networks_14</td>\n",
       "      <td>NaN</td>\n",
       "      <td>-0.015831</td>\n",
       "    </tr>\n",
       "    <tr>\n",
       "      <th>4</th>\n",
       "      <td>gmd_17Networks_13</td>\n",
       "      <td>NaN</td>\n",
       "      <td>-0.054018</td>\n",
       "    </tr>\n",
       "  </tbody>\n",
       "</table>\n",
       "</div>"
      ],
      "text/plain": [
       "         parcel_name  parc_name  sws_total\n",
       "0  gmd_17Networks_17        NaN   0.033909\n",
       "1  gmd_17Networks_16        NaN  -0.092584\n",
       "2  gmd_17Networks_15        NaN  -0.072051\n",
       "3  gmd_17Networks_14        NaN  -0.015831\n",
       "4  gmd_17Networks_13        NaN  -0.054018"
      ]
     },
     "execution_count": 8,
     "metadata": {},
     "output_type": "execute_result"
    }
   ],
   "source": [
    "df2.head()"
   ]
  },
  {
   "cell_type": "code",
   "execution_count": 9,
   "metadata": {},
   "outputs": [],
   "source": [
    "df2 = df2.reset_index()"
   ]
  },
  {
   "cell_type": "code",
   "execution_count": 10,
   "metadata": {},
   "outputs": [
    {
     "data": {
      "text/html": [
       "<div>\n",
       "<style scoped>\n",
       "    .dataframe tbody tr th:only-of-type {\n",
       "        vertical-align: middle;\n",
       "    }\n",
       "\n",
       "    .dataframe tbody tr th {\n",
       "        vertical-align: top;\n",
       "    }\n",
       "\n",
       "    .dataframe thead th {\n",
       "        text-align: right;\n",
       "    }\n",
       "</style>\n",
       "<table border=\"1\" class=\"dataframe\">\n",
       "  <thead>\n",
       "    <tr style=\"text-align: right;\">\n",
       "      <th></th>\n",
       "      <th>index</th>\n",
       "      <th>parcel_name</th>\n",
       "      <th>parc_name</th>\n",
       "      <th>sws_total</th>\n",
       "    </tr>\n",
       "  </thead>\n",
       "  <tbody>\n",
       "    <tr>\n",
       "      <th>0</th>\n",
       "      <td>0</td>\n",
       "      <td>gmd_17Networks_17</td>\n",
       "      <td>NaN</td>\n",
       "      <td>0.033909</td>\n",
       "    </tr>\n",
       "    <tr>\n",
       "      <th>1</th>\n",
       "      <td>1</td>\n",
       "      <td>gmd_17Networks_16</td>\n",
       "      <td>NaN</td>\n",
       "      <td>-0.092584</td>\n",
       "    </tr>\n",
       "    <tr>\n",
       "      <th>2</th>\n",
       "      <td>2</td>\n",
       "      <td>gmd_17Networks_15</td>\n",
       "      <td>NaN</td>\n",
       "      <td>-0.072051</td>\n",
       "    </tr>\n",
       "    <tr>\n",
       "      <th>3</th>\n",
       "      <td>3</td>\n",
       "      <td>gmd_17Networks_14</td>\n",
       "      <td>NaN</td>\n",
       "      <td>-0.015831</td>\n",
       "    </tr>\n",
       "    <tr>\n",
       "      <th>4</th>\n",
       "      <td>4</td>\n",
       "      <td>gmd_17Networks_13</td>\n",
       "      <td>NaN</td>\n",
       "      <td>-0.054018</td>\n",
       "    </tr>\n",
       "  </tbody>\n",
       "</table>\n",
       "</div>"
      ],
      "text/plain": [
       "   index        parcel_name  parc_name  sws_total\n",
       "0      0  gmd_17Networks_17        NaN   0.033909\n",
       "1      1  gmd_17Networks_16        NaN  -0.092584\n",
       "2      2  gmd_17Networks_15        NaN  -0.072051\n",
       "3      3  gmd_17Networks_14        NaN  -0.015831\n",
       "4      4  gmd_17Networks_13        NaN  -0.054018"
      ]
     },
     "execution_count": 10,
     "metadata": {},
     "output_type": "execute_result"
    }
   ],
   "source": [
    "df2.head()"
   ]
  },
  {
   "cell_type": "code",
   "execution_count": 11,
   "metadata": {},
   "outputs": [],
   "source": [
    "df = df2.drop('index', axis = 1)"
   ]
  },
  {
   "cell_type": "code",
   "execution_count": 12,
   "metadata": {},
   "outputs": [],
   "source": [
    "#df = df2"
   ]
  },
  {
   "cell_type": "code",
   "execution_count": 13,
   "metadata": {},
   "outputs": [
    {
     "data": {
      "text/html": [
       "<div>\n",
       "<style scoped>\n",
       "    .dataframe tbody tr th:only-of-type {\n",
       "        vertical-align: middle;\n",
       "    }\n",
       "\n",
       "    .dataframe tbody tr th {\n",
       "        vertical-align: top;\n",
       "    }\n",
       "\n",
       "    .dataframe thead th {\n",
       "        text-align: right;\n",
       "    }\n",
       "</style>\n",
       "<table border=\"1\" class=\"dataframe\">\n",
       "  <thead>\n",
       "    <tr style=\"text-align: right;\">\n",
       "      <th></th>\n",
       "      <th>parcel_name</th>\n",
       "      <th>parc_name</th>\n",
       "      <th>sws_total</th>\n",
       "    </tr>\n",
       "  </thead>\n",
       "  <tbody>\n",
       "    <tr>\n",
       "      <th>0</th>\n",
       "      <td>gmd_17Networks_17</td>\n",
       "      <td>NaN</td>\n",
       "      <td>0.033909</td>\n",
       "    </tr>\n",
       "    <tr>\n",
       "      <th>1</th>\n",
       "      <td>gmd_17Networks_16</td>\n",
       "      <td>NaN</td>\n",
       "      <td>-0.092584</td>\n",
       "    </tr>\n",
       "    <tr>\n",
       "      <th>2</th>\n",
       "      <td>gmd_17Networks_15</td>\n",
       "      <td>NaN</td>\n",
       "      <td>-0.072051</td>\n",
       "    </tr>\n",
       "    <tr>\n",
       "      <th>3</th>\n",
       "      <td>gmd_17Networks_14</td>\n",
       "      <td>NaN</td>\n",
       "      <td>-0.015831</td>\n",
       "    </tr>\n",
       "    <tr>\n",
       "      <th>4</th>\n",
       "      <td>gmd_17Networks_13</td>\n",
       "      <td>NaN</td>\n",
       "      <td>-0.054018</td>\n",
       "    </tr>\n",
       "  </tbody>\n",
       "</table>\n",
       "</div>"
      ],
      "text/plain": [
       "         parcel_name  parc_name  sws_total\n",
       "0  gmd_17Networks_17        NaN   0.033909\n",
       "1  gmd_17Networks_16        NaN  -0.092584\n",
       "2  gmd_17Networks_15        NaN  -0.072051\n",
       "3  gmd_17Networks_14        NaN  -0.015831\n",
       "4  gmd_17Networks_13        NaN  -0.054018"
      ]
     },
     "execution_count": 13,
     "metadata": {},
     "output_type": "execute_result"
    }
   ],
   "source": [
    "df.head()"
   ]
  },
  {
   "cell_type": "code",
   "execution_count": 14,
   "metadata": {},
   "outputs": [
    {
     "name": "stderr",
     "output_type": "stream",
     "text": [
      "<ipython-input-14-4b72eb3efb71>:6: SettingWithCopyWarning: \n",
      "A value is trying to be set on a copy of a slice from a DataFrame\n",
      "\n",
      "See the caveats in the documentation: https://pandas.pydata.org/pandas-docs/stable/user_guide/indexing.html#returning-a-view-versus-a-copy\n",
      "  df[\"parc_name\"][i] = df[\"parcel_name\"][i][len(marker):]\n",
      "/home/tara/Programming/env/lib/python3.8/site-packages/pandas/core/indexing.py:1636: SettingWithCopyWarning: \n",
      "A value is trying to be set on a copy of a slice from a DataFrame\n",
      "\n",
      "See the caveats in the documentation: https://pandas.pydata.org/pandas-docs/stable/user_guide/indexing.html#returning-a-view-versus-a-copy\n",
      "  self._setitem_single_block(indexer, value, name)\n"
     ]
    }
   ],
   "source": [
    "markers = ['gmd_', 'zALFF_', 'zfALFF_', 'zReHo_', 'zDCwei_', 'zDCbin_', 'fALFF_']\n",
    "for i,parc in enumerate(df[\"parcel_name\"]):\n",
    "    #for i in range(df.shape[0]):\n",
    "    for marker in markers:\n",
    "        if parc.find(marker)==0:\n",
    "            df[\"parc_name\"][i] = df[\"parcel_name\"][i][len(marker):]\n",
    "            #print(df[\"sws_total\"][i])\n",
    "            col = marker + \"sws_total_r\" \n",
    "            if col not in df:\n",
    "                df.insert(2, col, np.nan)\n",
    "            df.iloc[i, df.columns.get_loc(col)] = df[\"sws_total\"][i]"
   ]
  },
  {
   "cell_type": "code",
   "execution_count": 15,
   "metadata": {},
   "outputs": [
    {
     "data": {
      "text/html": [
       "<div>\n",
       "<style scoped>\n",
       "    .dataframe tbody tr th:only-of-type {\n",
       "        vertical-align: middle;\n",
       "    }\n",
       "\n",
       "    .dataframe tbody tr th {\n",
       "        vertical-align: top;\n",
       "    }\n",
       "\n",
       "    .dataframe thead th {\n",
       "        text-align: right;\n",
       "    }\n",
       "</style>\n",
       "<table border=\"1\" class=\"dataframe\">\n",
       "  <thead>\n",
       "    <tr style=\"text-align: right;\">\n",
       "      <th></th>\n",
       "      <th>parcel_name</th>\n",
       "      <th>parc_name</th>\n",
       "      <th>zALFF_sws_total_r</th>\n",
       "      <th>zfALFF_sws_total_r</th>\n",
       "      <th>zDCbin_sws_total_r</th>\n",
       "      <th>zDCwei_sws_total_r</th>\n",
       "      <th>fALFF_sws_total_r</th>\n",
       "      <th>zReHo_sws_total_r</th>\n",
       "      <th>gmd_sws_total_r</th>\n",
       "      <th>sws_total</th>\n",
       "    </tr>\n",
       "  </thead>\n",
       "  <tbody>\n",
       "    <tr>\n",
       "      <th>0</th>\n",
       "      <td>gmd_17Networks_17</td>\n",
       "      <td>17Networks_17</td>\n",
       "      <td>NaN</td>\n",
       "      <td>NaN</td>\n",
       "      <td>NaN</td>\n",
       "      <td>NaN</td>\n",
       "      <td>NaN</td>\n",
       "      <td>NaN</td>\n",
       "      <td>0.033909</td>\n",
       "      <td>0.033909</td>\n",
       "    </tr>\n",
       "    <tr>\n",
       "      <th>1</th>\n",
       "      <td>gmd_17Networks_16</td>\n",
       "      <td>17Networks_16</td>\n",
       "      <td>NaN</td>\n",
       "      <td>NaN</td>\n",
       "      <td>NaN</td>\n",
       "      <td>NaN</td>\n",
       "      <td>NaN</td>\n",
       "      <td>NaN</td>\n",
       "      <td>-0.092584</td>\n",
       "      <td>-0.092584</td>\n",
       "    </tr>\n",
       "    <tr>\n",
       "      <th>2</th>\n",
       "      <td>gmd_17Networks_15</td>\n",
       "      <td>17Networks_15</td>\n",
       "      <td>NaN</td>\n",
       "      <td>NaN</td>\n",
       "      <td>NaN</td>\n",
       "      <td>NaN</td>\n",
       "      <td>NaN</td>\n",
       "      <td>NaN</td>\n",
       "      <td>-0.072051</td>\n",
       "      <td>-0.072051</td>\n",
       "    </tr>\n",
       "    <tr>\n",
       "      <th>3</th>\n",
       "      <td>gmd_17Networks_14</td>\n",
       "      <td>17Networks_14</td>\n",
       "      <td>NaN</td>\n",
       "      <td>NaN</td>\n",
       "      <td>NaN</td>\n",
       "      <td>NaN</td>\n",
       "      <td>NaN</td>\n",
       "      <td>NaN</td>\n",
       "      <td>-0.015831</td>\n",
       "      <td>-0.015831</td>\n",
       "    </tr>\n",
       "    <tr>\n",
       "      <th>4</th>\n",
       "      <td>gmd_17Networks_13</td>\n",
       "      <td>17Networks_13</td>\n",
       "      <td>NaN</td>\n",
       "      <td>NaN</td>\n",
       "      <td>NaN</td>\n",
       "      <td>NaN</td>\n",
       "      <td>NaN</td>\n",
       "      <td>NaN</td>\n",
       "      <td>-0.054018</td>\n",
       "      <td>-0.054018</td>\n",
       "    </tr>\n",
       "  </tbody>\n",
       "</table>\n",
       "</div>"
      ],
      "text/plain": [
       "         parcel_name      parc_name  zALFF_sws_total_r  zfALFF_sws_total_r  \\\n",
       "0  gmd_17Networks_17  17Networks_17                NaN                 NaN   \n",
       "1  gmd_17Networks_16  17Networks_16                NaN                 NaN   \n",
       "2  gmd_17Networks_15  17Networks_15                NaN                 NaN   \n",
       "3  gmd_17Networks_14  17Networks_14                NaN                 NaN   \n",
       "4  gmd_17Networks_13  17Networks_13                NaN                 NaN   \n",
       "\n",
       "   zDCbin_sws_total_r  zDCwei_sws_total_r  fALFF_sws_total_r  \\\n",
       "0                 NaN                 NaN                NaN   \n",
       "1                 NaN                 NaN                NaN   \n",
       "2                 NaN                 NaN                NaN   \n",
       "3                 NaN                 NaN                NaN   \n",
       "4                 NaN                 NaN                NaN   \n",
       "\n",
       "   zReHo_sws_total_r  gmd_sws_total_r  sws_total  \n",
       "0                NaN         0.033909   0.033909  \n",
       "1                NaN        -0.092584  -0.092584  \n",
       "2                NaN        -0.072051  -0.072051  \n",
       "3                NaN        -0.015831  -0.015831  \n",
       "4                NaN        -0.054018  -0.054018  "
      ]
     },
     "execution_count": 15,
     "metadata": {},
     "output_type": "execute_result"
    }
   ],
   "source": [
    "df.head()"
   ]
  },
  {
   "cell_type": "code",
   "execution_count": null,
   "metadata": {},
   "outputs": [],
   "source": [
    "#df.to_csv('r_reformed.csv')"
   ]
  },
  {
   "cell_type": "markdown",
   "metadata": {},
   "source": [
    "### merging duplicates"
   ]
  },
  {
   "cell_type": "code",
   "execution_count": null,
   "metadata": {},
   "outputs": [],
   "source": [
    "#df = pd.read_csv('r_reformed.csv')"
   ]
  },
  {
   "cell_type": "code",
   "execution_count": 16,
   "metadata": {},
   "outputs": [
    {
     "data": {
      "text/plain": [
       "(884, 10)"
      ]
     },
     "execution_count": 16,
     "metadata": {},
     "output_type": "execute_result"
    }
   ],
   "source": [
    "df.shape"
   ]
  },
  {
   "cell_type": "code",
   "execution_count": 17,
   "metadata": {},
   "outputs": [],
   "source": [
    "df2 = df.copy()\n",
    "inds = df2['parc_name'].drop_duplicates().reset_index(drop=True)\n",
    "df2.set_index('parc_name', inplace=True)\n",
    "df3 = pd.DataFrame(columns = df2.columns)\n",
    "for ind in inds:\n",
    "    region = df2.loc[[ind]]\n",
    "    if region.shape[0] > 1 :\n",
    "        reg = region\n",
    "        cols = reg.columns\n",
    "        for col in cols:\n",
    "            reg[col] = reg[col].sum()\n",
    "        reg = reg.drop_duplicates()\n",
    "        df3 = pd.concat([df3, reg])\n",
    "        continue\n",
    "    df3 = pd.concat([df3, region])"
   ]
  },
  {
   "cell_type": "code",
   "execution_count": 18,
   "metadata": {},
   "outputs": [
    {
     "data": {
      "text/plain": [
       "(153, 9)"
      ]
     },
     "execution_count": 18,
     "metadata": {},
     "output_type": "execute_result"
    }
   ],
   "source": [
    "df3.shape"
   ]
  },
  {
   "cell_type": "code",
   "execution_count": 19,
   "metadata": {},
   "outputs": [],
   "source": [
    "df3.to_csv('r_reformed.csv')"
   ]
  },
  {
   "cell_type": "code",
   "execution_count": null,
   "metadata": {},
   "outputs": [],
   "source": []
  }
 ],
 "metadata": {
  "kernelspec": {
   "display_name": "Python 3",
   "language": "python",
   "name": "python3"
  },
  "language_info": {
   "codemirror_mode": {
    "name": "ipython",
    "version": 3
   },
   "file_extension": ".py",
   "mimetype": "text/x-python",
   "name": "python",
   "nbconvert_exporter": "python",
   "pygments_lexer": "ipython3",
   "version": "3.8.10"
  }
 },
 "nbformat": 4,
 "nbformat_minor": 4
}
