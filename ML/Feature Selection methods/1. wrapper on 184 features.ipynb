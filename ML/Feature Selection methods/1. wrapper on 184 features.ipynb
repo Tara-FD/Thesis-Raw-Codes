{
 "cells": [
  {
   "cell_type": "code",
   "execution_count": 1,
   "metadata": {},
   "outputs": [],
   "source": [
    "%config Completer.use_jedi = False"
   ]
  },
  {
   "cell_type": "code",
   "execution_count": 2,
   "metadata": {},
   "outputs": [],
   "source": [
    "#pip install mlxtend"
   ]
  },
  {
   "cell_type": "code",
   "execution_count": 3,
   "metadata": {},
   "outputs": [],
   "source": [
    "import pandas as pd\n",
    "import statsmodels.api as sm\n",
    "from sklearn.ensemble import RandomForestClassifier\n",
    "from sklearn.feature_selection import SequentialFeatureSelector as SFS"
   ]
  },
  {
   "cell_type": "code",
   "execution_count": 4,
   "metadata": {
    "scrolled": true
   },
   "outputs": [
    {
     "data": {
      "text/html": [
       "<div>\n",
       "<style scoped>\n",
       "    .dataframe tbody tr th:only-of-type {\n",
       "        vertical-align: middle;\n",
       "    }\n",
       "\n",
       "    .dataframe tbody tr th {\n",
       "        vertical-align: top;\n",
       "    }\n",
       "\n",
       "    .dataframe thead th {\n",
       "        text-align: right;\n",
       "    }\n",
       "</style>\n",
       "<table border=\"1\" class=\"dataframe\">\n",
       "  <thead>\n",
       "    <tr style=\"text-align: right;\">\n",
       "      <th></th>\n",
       "      <th>Subject_ID</th>\n",
       "      <th>diagadhd</th>\n",
       "      <th>CHILDgender</th>\n",
       "      <th>zfALFF_17Networks_9</th>\n",
       "      <th>zfALFF_17Networks_2</th>\n",
       "      <th>zfALFF_lPFtha_L</th>\n",
       "      <th>zfALFF_cTtha_L</th>\n",
       "      <th>zfALFF_Otha_L</th>\n",
       "      <th>zfALFF_rTtha_R</th>\n",
       "      <th>zfALFF_rTtha_L</th>\n",
       "      <th>...</th>\n",
       "      <th>zDCwei_17Networks_RH_SomMotA_6</th>\n",
       "      <th>zDCwei_17Networks_LH_DefaultC_PHC_3</th>\n",
       "      <th>zDCwei_17Networks_LH_DefaultB_Temp_5</th>\n",
       "      <th>zDCwei_17Networks_LH_ContB_Temp_2</th>\n",
       "      <th>zDCwei_17Networks_LH_SalVentAttnA_FrMed_2</th>\n",
       "      <th>zDCwei_17Networks_LH_SalVentAttnA_FrMed_1</th>\n",
       "      <th>zDCwei_17Networks_LH_SalVentAttnA_ParMed_1</th>\n",
       "      <th>zDCwei_17Networks_LH_SalVentAttnA_ParOper_1</th>\n",
       "      <th>zDCwei_17Networks_LH_DorsAttnB_PostC_1</th>\n",
       "      <th>zDCwei_17Networks_LH_DorsAttnA_TempOcc_2</th>\n",
       "    </tr>\n",
       "  </thead>\n",
       "  <tbody>\n",
       "    <tr>\n",
       "      <th>0</th>\n",
       "      <td>sub-0015</td>\n",
       "      <td>0</td>\n",
       "      <td>1</td>\n",
       "      <td>-0.787030</td>\n",
       "      <td>-0.445804</td>\n",
       "      <td>-0.929277</td>\n",
       "      <td>-0.743303</td>\n",
       "      <td>-0.701746</td>\n",
       "      <td>-0.843242</td>\n",
       "      <td>-0.764751</td>\n",
       "      <td>...</td>\n",
       "      <td>0.570004</td>\n",
       "      <td>-0.130038</td>\n",
       "      <td>-0.047269</td>\n",
       "      <td>0.388094</td>\n",
       "      <td>0.158019</td>\n",
       "      <td>0.257226</td>\n",
       "      <td>0.094419</td>\n",
       "      <td>0.157887</td>\n",
       "      <td>0.042376</td>\n",
       "      <td>-0.074321</td>\n",
       "    </tr>\n",
       "    <tr>\n",
       "      <th>1</th>\n",
       "      <td>sub-0085</td>\n",
       "      <td>0</td>\n",
       "      <td>0</td>\n",
       "      <td>-0.601078</td>\n",
       "      <td>-0.304966</td>\n",
       "      <td>-0.397031</td>\n",
       "      <td>-0.381863</td>\n",
       "      <td>-0.449357</td>\n",
       "      <td>-0.341996</td>\n",
       "      <td>-0.347692</td>\n",
       "      <td>...</td>\n",
       "      <td>0.280915</td>\n",
       "      <td>-0.321277</td>\n",
       "      <td>-0.009029</td>\n",
       "      <td>-0.196261</td>\n",
       "      <td>0.080881</td>\n",
       "      <td>0.170051</td>\n",
       "      <td>0.153607</td>\n",
       "      <td>0.192767</td>\n",
       "      <td>-0.052853</td>\n",
       "      <td>0.049870</td>\n",
       "    </tr>\n",
       "    <tr>\n",
       "      <th>2</th>\n",
       "      <td>sub-0134</td>\n",
       "      <td>0</td>\n",
       "      <td>1</td>\n",
       "      <td>-0.799635</td>\n",
       "      <td>-0.231216</td>\n",
       "      <td>-0.840667</td>\n",
       "      <td>-0.901478</td>\n",
       "      <td>-0.487365</td>\n",
       "      <td>-0.710494</td>\n",
       "      <td>-0.512793</td>\n",
       "      <td>...</td>\n",
       "      <td>0.631763</td>\n",
       "      <td>0.249275</td>\n",
       "      <td>0.492542</td>\n",
       "      <td>0.465131</td>\n",
       "      <td>0.149572</td>\n",
       "      <td>0.168241</td>\n",
       "      <td>0.310641</td>\n",
       "      <td>0.219820</td>\n",
       "      <td>0.148504</td>\n",
       "      <td>0.236822</td>\n",
       "    </tr>\n",
       "    <tr>\n",
       "      <th>3</th>\n",
       "      <td>sub-0152</td>\n",
       "      <td>0</td>\n",
       "      <td>0</td>\n",
       "      <td>-0.485006</td>\n",
       "      <td>-0.223685</td>\n",
       "      <td>-0.294288</td>\n",
       "      <td>-0.634390</td>\n",
       "      <td>-0.597999</td>\n",
       "      <td>-0.640255</td>\n",
       "      <td>-0.425914</td>\n",
       "      <td>...</td>\n",
       "      <td>-0.034122</td>\n",
       "      <td>0.082488</td>\n",
       "      <td>0.263105</td>\n",
       "      <td>0.375573</td>\n",
       "      <td>-0.179384</td>\n",
       "      <td>0.009714</td>\n",
       "      <td>0.205987</td>\n",
       "      <td>0.018744</td>\n",
       "      <td>0.069715</td>\n",
       "      <td>0.291880</td>\n",
       "    </tr>\n",
       "    <tr>\n",
       "      <th>4</th>\n",
       "      <td>sub-0260</td>\n",
       "      <td>1</td>\n",
       "      <td>1</td>\n",
       "      <td>-0.853856</td>\n",
       "      <td>-0.356149</td>\n",
       "      <td>-0.863769</td>\n",
       "      <td>-0.617213</td>\n",
       "      <td>-0.475704</td>\n",
       "      <td>-0.797962</td>\n",
       "      <td>-0.641054</td>\n",
       "      <td>...</td>\n",
       "      <td>-0.181578</td>\n",
       "      <td>0.304288</td>\n",
       "      <td>0.449225</td>\n",
       "      <td>0.739805</td>\n",
       "      <td>0.125963</td>\n",
       "      <td>0.116520</td>\n",
       "      <td>0.293805</td>\n",
       "      <td>0.122458</td>\n",
       "      <td>-0.000745</td>\n",
       "      <td>0.174841</td>\n",
       "    </tr>\n",
       "  </tbody>\n",
       "</table>\n",
       "<p>5 rows × 187 columns</p>\n",
       "</div>"
      ],
      "text/plain": [
       "  Subject_ID  diagadhd  CHILDgender  zfALFF_17Networks_9  zfALFF_17Networks_2  \\\n",
       "0   sub-0015         0            1            -0.787030            -0.445804   \n",
       "1   sub-0085         0            0            -0.601078            -0.304966   \n",
       "2   sub-0134         0            1            -0.799635            -0.231216   \n",
       "3   sub-0152         0            0            -0.485006            -0.223685   \n",
       "4   sub-0260         1            1            -0.853856            -0.356149   \n",
       "\n",
       "   zfALFF_lPFtha_L  zfALFF_cTtha_L  zfALFF_Otha_L  zfALFF_rTtha_R  \\\n",
       "0        -0.929277       -0.743303      -0.701746       -0.843242   \n",
       "1        -0.397031       -0.381863      -0.449357       -0.341996   \n",
       "2        -0.840667       -0.901478      -0.487365       -0.710494   \n",
       "3        -0.294288       -0.634390      -0.597999       -0.640255   \n",
       "4        -0.863769       -0.617213      -0.475704       -0.797962   \n",
       "\n",
       "   zfALFF_rTtha_L  ...  zDCwei_17Networks_RH_SomMotA_6  \\\n",
       "0       -0.764751  ...                        0.570004   \n",
       "1       -0.347692  ...                        0.280915   \n",
       "2       -0.512793  ...                        0.631763   \n",
       "3       -0.425914  ...                       -0.034122   \n",
       "4       -0.641054  ...                       -0.181578   \n",
       "\n",
       "   zDCwei_17Networks_LH_DefaultC_PHC_3  zDCwei_17Networks_LH_DefaultB_Temp_5  \\\n",
       "0                            -0.130038                             -0.047269   \n",
       "1                            -0.321277                             -0.009029   \n",
       "2                             0.249275                              0.492542   \n",
       "3                             0.082488                              0.263105   \n",
       "4                             0.304288                              0.449225   \n",
       "\n",
       "   zDCwei_17Networks_LH_ContB_Temp_2  \\\n",
       "0                           0.388094   \n",
       "1                          -0.196261   \n",
       "2                           0.465131   \n",
       "3                           0.375573   \n",
       "4                           0.739805   \n",
       "\n",
       "   zDCwei_17Networks_LH_SalVentAttnA_FrMed_2  \\\n",
       "0                                   0.158019   \n",
       "1                                   0.080881   \n",
       "2                                   0.149572   \n",
       "3                                  -0.179384   \n",
       "4                                   0.125963   \n",
       "\n",
       "   zDCwei_17Networks_LH_SalVentAttnA_FrMed_1  \\\n",
       "0                                   0.257226   \n",
       "1                                   0.170051   \n",
       "2                                   0.168241   \n",
       "3                                   0.009714   \n",
       "4                                   0.116520   \n",
       "\n",
       "   zDCwei_17Networks_LH_SalVentAttnA_ParMed_1  \\\n",
       "0                                    0.094419   \n",
       "1                                    0.153607   \n",
       "2                                    0.310641   \n",
       "3                                    0.205987   \n",
       "4                                    0.293805   \n",
       "\n",
       "   zDCwei_17Networks_LH_SalVentAttnA_ParOper_1  \\\n",
       "0                                     0.157887   \n",
       "1                                     0.192767   \n",
       "2                                     0.219820   \n",
       "3                                     0.018744   \n",
       "4                                     0.122458   \n",
       "\n",
       "   zDCwei_17Networks_LH_DorsAttnB_PostC_1  \\\n",
       "0                                0.042376   \n",
       "1                               -0.052853   \n",
       "2                                0.148504   \n",
       "3                                0.069715   \n",
       "4                               -0.000745   \n",
       "\n",
       "   zDCwei_17Networks_LH_DorsAttnA_TempOcc_2  \n",
       "0                                 -0.074321  \n",
       "1                                  0.049870  \n",
       "2                                  0.236822  \n",
       "3                                  0.291880  \n",
       "4                                  0.174841  \n",
       "\n",
       "[5 rows x 187 columns]"
      ]
     },
     "execution_count": 4,
     "metadata": {},
     "output_type": "execute_result"
    }
   ],
   "source": [
    "data = pd.read_csv('df_for_RF.csv')\n",
    "data.drop('Unnamed: 0', axis=1, inplace=True)\n",
    "data.head()"
   ]
  },
  {
   "cell_type": "code",
   "execution_count": 5,
   "metadata": {},
   "outputs": [],
   "source": [
    "X = data.iloc[0:117,3:]\n",
    "y = data.iloc[0:117, 1]"
   ]
  },
  {
   "cell_type": "markdown",
   "metadata": {},
   "source": [
    "### Wrapper_bidirectional(stepwise)"
   ]
  },
  {
   "cell_type": "code",
   "execution_count": 6,
   "metadata": {},
   "outputs": [],
   "source": [
    "def stepwise_selection(data, target,SL_in=0.05,SL_out = 0.05):\n",
    "    initial_features = data.columns.tolist()\n",
    "    best_features = []\n",
    "    while (len(initial_features)>0):\n",
    "        remaining_features = list(set(initial_features)-set(best_features))\n",
    "        new_pval = pd.Series(index=remaining_features)\n",
    "        for new_column in remaining_features:\n",
    "            model = sm.OLS(target, sm.add_constant(data[best_features+[new_column]])).fit()\n",
    "            new_pval[new_column] = model.pvalues[new_column]\n",
    "        min_p_value = new_pval.min()\n",
    "        if(min_p_value<SL_in):\n",
    "            best_features.append(new_pval.idxmin())\n",
    "            while(len(best_features)>0):\n",
    "                best_features_with_constant = sm.add_constant(data[best_features])\n",
    "                p_values = sm.OLS(target, best_features_with_constant).fit().pvalues[1:]\n",
    "                max_p_value = p_values.max()\n",
    "                if(max_p_value >= SL_out):\n",
    "                    excluded_feature = p_values.idxmax()\n",
    "                    best_features.remove(excluded_feature)\n",
    "                else:\n",
    "                    break \n",
    "        else:\n",
    "            break\n",
    "    return best_features"
   ]
  },
  {
   "cell_type": "code",
   "execution_count": 7,
   "metadata": {
    "scrolled": true
   },
   "outputs": [
    {
     "name": "stderr",
     "output_type": "stream",
     "text": [
      "<ipython-input-6-824a394047ac>:6: DeprecationWarning: The default dtype for empty Series will be 'object' instead of 'float64' in a future version. Specify a dtype explicitly to silence this warning.\n",
      "  new_pval = pd.Series(index=remaining_features)\n",
      "<ipython-input-6-824a394047ac>:6: DeprecationWarning: The default dtype for empty Series will be 'object' instead of 'float64' in a future version. Specify a dtype explicitly to silence this warning.\n",
      "  new_pval = pd.Series(index=remaining_features)\n",
      "<ipython-input-6-824a394047ac>:6: DeprecationWarning: The default dtype for empty Series will be 'object' instead of 'float64' in a future version. Specify a dtype explicitly to silence this warning.\n",
      "  new_pval = pd.Series(index=remaining_features)\n",
      "<ipython-input-6-824a394047ac>:6: DeprecationWarning: The default dtype for empty Series will be 'object' instead of 'float64' in a future version. Specify a dtype explicitly to silence this warning.\n",
      "  new_pval = pd.Series(index=remaining_features)\n",
      "<ipython-input-6-824a394047ac>:6: DeprecationWarning: The default dtype for empty Series will be 'object' instead of 'float64' in a future version. Specify a dtype explicitly to silence this warning.\n",
      "  new_pval = pd.Series(index=remaining_features)\n"
     ]
    },
    {
     "data": {
      "text/plain": [
       "['zDCwei_17Networks_LH_SalVentAttnA_FrMed_1',\n",
       " 'zReHo_17Networks_RH_DorsAttnB_FEF_3',\n",
       " 'zReHo_17Networks_RH_SomMotA_17',\n",
       " 'zfALFF_17Networks_RH_ContB_PFCld_3']"
      ]
     },
     "execution_count": 7,
     "metadata": {},
     "output_type": "execute_result"
    }
   ],
   "source": [
    "stepwise_selection(X,y)"
   ]
  },
  {
   "cell_type": "code",
   "execution_count": null,
   "metadata": {},
   "outputs": [],
   "source": [
    "from mlxtend.feature_selection import SequentialFeatureSelector as SFS\n",
    "sfs1 = SFS(RandomForestClassifier(),\n",
    "         k_features=(51, 81),\n",
    "         forward=True,\n",
    "         floating=False,\n",
    "         cv=10)\n",
    "sfs1.fit(X, y)"
   ]
  },
  {
   "cell_type": "code",
   "execution_count": 29,
   "metadata": {},
   "outputs": [
    {
     "data": {
      "image/png": "[encoded data removed]",
      "text/plain": [
       "<Figure size 864x360 with 1 Axes>"
      ]
     },
     "metadata": {
      "needs_background": "light"
     },
     "output_type": "display_data"
    }
   ],
   "source": [
    "from mlxtend.plotting import plot_sequential_feature_selection as plot_sfs\n",
    "import matplotlib.pyplot as plt\n",
    "from matplotlib import pyplot as plt\n",
    "\n",
    "fig1 = plot_sfs(sfs1.get_metric_dict(), kind='std_dev', figsize=(12,5))\n",
    "plt.title('Sequential Forward Selection (w. StdErr) on RandomForest')\n",
    "\n",
    "plt.grid()\n",
    "plt.show()\n"
   ]
  },
  {
   "cell_type": "markdown",
   "metadata": {},
   "source": [
    "## Implementing bi-directional elimination using built-in functions for Random Forest:"
   ]
  },
  {
   "cell_type": "code",
   "execution_count": 30,
   "metadata": {},
   "outputs": [
    {
     "data": {
      "text/plain": [
       "('zfALFF_17Networks_9',\n",
       " 'zfALFF_17Networks_2',\n",
       " 'zfALFF_lPFtha_L',\n",
       " 'zfALFF_cTtha_L',\n",
       " 'zfALFF_Otha_L',\n",
       " 'zfALFF_rTtha_R')"
      ]
     },
     "execution_count": 30,
     "metadata": {},
     "output_type": "execute_result"
    }
   ],
   "source": [
    "# Sequential Forward Floating Selection(sffs)\n",
    "sffs = SFS(RandomForestClassifier(),\n",
    "         k_features=6,\n",
    "         forward=True,\n",
    "         floating=True,\n",
    "         cv=0)\n",
    "sffs.fit(X, y)\n",
    "sffs.k_feature_names_"
   ]
  },
  {
   "cell_type": "code",
   "execution_count": null,
   "metadata": {},
   "outputs": [],
   "source": []
  }
 ],
 "metadata": {
  "kernelspec": {
   "display_name": "Python 3",
   "language": "python",
   "name": "python3"
  },
  "language_info": {
   "codemirror_mode": {
    "name": "ipython",
    "version": 3
   },
   "file_extension": ".py",
   "mimetype": "text/x-python",
   "name": "python",
   "nbconvert_exporter": "python",
   "pygments_lexer": "ipython3",
   "version": "3.8.10"
  }
 },
 "nbformat": 4,
 "nbformat_minor": 4
}
