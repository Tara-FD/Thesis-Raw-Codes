{
 "cells": [
  {
   "cell_type": "code",
   "execution_count": 1,
   "metadata": {},
   "outputs": [],
   "source": [
    "%config Completer.use_jedi = False"
   ]
  },
  {
   "cell_type": "code",
   "execution_count": 39,
   "metadata": {},
   "outputs": [],
   "source": [
    "import numpy as np\n",
    "from matplotlib import pyplot as plt\n",
    "import pandas as pd\n",
    "import sklearn.gaussian_process as gp\n",
    "from sklearn.model_selection import train_test_split"
   ]
  },
  {
   "cell_type": "code",
   "execution_count": 34,
   "metadata": {},
   "outputs": [],
   "source": [
    "kernel = gp.kernels.ConstantKernel(1.0, (1e-1, 1e3)) * gp.kernels.RBF(10.0, (1e-3, 1e3))"
   ]
  },
  {
   "cell_type": "code",
   "execution_count": 41,
   "metadata": {},
   "outputs": [
    {
     "data": {
      "text/html": [
       "<div>\n",
       "<style scoped>\n",
       "    .dataframe tbody tr th:only-of-type {\n",
       "        vertical-align: middle;\n",
       "    }\n",
       "\n",
       "    .dataframe tbody tr th {\n",
       "        vertical-align: top;\n",
       "    }\n",
       "\n",
       "    .dataframe thead th {\n",
       "        text-align: right;\n",
       "    }\n",
       "</style>\n",
       "<table border=\"1\" class=\"dataframe\">\n",
       "  <thead>\n",
       "    <tr style=\"text-align: right;\">\n",
       "      <th></th>\n",
       "      <th>Subject_ID</th>\n",
       "      <th>cpadhd_raw</th>\n",
       "      <th>CHILDgender</th>\n",
       "      <th>zfALFF_17Networks_9</th>\n",
       "      <th>zfALFF_17Networks_2</th>\n",
       "      <th>zfALFF_lPFtha_L</th>\n",
       "      <th>zfALFF_cTtha_L</th>\n",
       "      <th>zfALFF_Otha_L</th>\n",
       "      <th>zfALFF_rTtha_R</th>\n",
       "      <th>zfALFF_rTtha_L</th>\n",
       "      <th>...</th>\n",
       "      <th>zDCwei_17Networks_RH_SomMotA_6</th>\n",
       "      <th>zDCwei_17Networks_LH_DefaultC_PHC_3</th>\n",
       "      <th>zDCwei_17Networks_LH_DefaultB_Temp_5</th>\n",
       "      <th>zDCwei_17Networks_LH_ContB_Temp_2</th>\n",
       "      <th>zDCwei_17Networks_LH_SalVentAttnA_FrMed_2</th>\n",
       "      <th>zDCwei_17Networks_LH_SalVentAttnA_FrMed_1</th>\n",
       "      <th>zDCwei_17Networks_LH_SalVentAttnA_ParMed_1</th>\n",
       "      <th>zDCwei_17Networks_LH_SalVentAttnA_ParOper_1</th>\n",
       "      <th>zDCwei_17Networks_LH_DorsAttnB_PostC_1</th>\n",
       "      <th>zDCwei_17Networks_LH_DorsAttnA_TempOcc_2</th>\n",
       "    </tr>\n",
       "  </thead>\n",
       "  <tbody>\n",
       "    <tr>\n",
       "      <th>0</th>\n",
       "      <td>sub-0015</td>\n",
       "      <td>0.0</td>\n",
       "      <td>1</td>\n",
       "      <td>-0.787030</td>\n",
       "      <td>-0.445804</td>\n",
       "      <td>-0.929277</td>\n",
       "      <td>-0.743303</td>\n",
       "      <td>-0.701746</td>\n",
       "      <td>-0.843242</td>\n",
       "      <td>-0.764751</td>\n",
       "      <td>...</td>\n",
       "      <td>0.570004</td>\n",
       "      <td>-0.130038</td>\n",
       "      <td>-0.047269</td>\n",
       "      <td>0.388094</td>\n",
       "      <td>0.158019</td>\n",
       "      <td>0.257226</td>\n",
       "      <td>0.094419</td>\n",
       "      <td>0.157887</td>\n",
       "      <td>0.042376</td>\n",
       "      <td>-0.074321</td>\n",
       "    </tr>\n",
       "    <tr>\n",
       "      <th>1</th>\n",
       "      <td>sub-0085</td>\n",
       "      <td>1.0</td>\n",
       "      <td>0</td>\n",
       "      <td>-0.601078</td>\n",
       "      <td>-0.304966</td>\n",
       "      <td>-0.397031</td>\n",
       "      <td>-0.381863</td>\n",
       "      <td>-0.449357</td>\n",
       "      <td>-0.341996</td>\n",
       "      <td>-0.347692</td>\n",
       "      <td>...</td>\n",
       "      <td>0.280915</td>\n",
       "      <td>-0.321277</td>\n",
       "      <td>-0.009029</td>\n",
       "      <td>-0.196261</td>\n",
       "      <td>0.080881</td>\n",
       "      <td>0.170051</td>\n",
       "      <td>0.153607</td>\n",
       "      <td>0.192767</td>\n",
       "      <td>-0.052853</td>\n",
       "      <td>0.049870</td>\n",
       "    </tr>\n",
       "    <tr>\n",
       "      <th>2</th>\n",
       "      <td>sub-0134</td>\n",
       "      <td>0.0</td>\n",
       "      <td>1</td>\n",
       "      <td>-0.799635</td>\n",
       "      <td>-0.231216</td>\n",
       "      <td>-0.840667</td>\n",
       "      <td>-0.901478</td>\n",
       "      <td>-0.487365</td>\n",
       "      <td>-0.710494</td>\n",
       "      <td>-0.512793</td>\n",
       "      <td>...</td>\n",
       "      <td>0.631763</td>\n",
       "      <td>0.249275</td>\n",
       "      <td>0.492542</td>\n",
       "      <td>0.465131</td>\n",
       "      <td>0.149572</td>\n",
       "      <td>0.168241</td>\n",
       "      <td>0.310641</td>\n",
       "      <td>0.219820</td>\n",
       "      <td>0.148504</td>\n",
       "      <td>0.236822</td>\n",
       "    </tr>\n",
       "    <tr>\n",
       "      <th>3</th>\n",
       "      <td>sub-0152</td>\n",
       "      <td>2.0</td>\n",
       "      <td>0</td>\n",
       "      <td>-0.485006</td>\n",
       "      <td>-0.223685</td>\n",
       "      <td>-0.294288</td>\n",
       "      <td>-0.634390</td>\n",
       "      <td>-0.597999</td>\n",
       "      <td>-0.640255</td>\n",
       "      <td>-0.425914</td>\n",
       "      <td>...</td>\n",
       "      <td>-0.034122</td>\n",
       "      <td>0.082488</td>\n",
       "      <td>0.263105</td>\n",
       "      <td>0.375573</td>\n",
       "      <td>-0.179384</td>\n",
       "      <td>0.009714</td>\n",
       "      <td>0.205987</td>\n",
       "      <td>0.018744</td>\n",
       "      <td>0.069715</td>\n",
       "      <td>0.291880</td>\n",
       "    </tr>\n",
       "    <tr>\n",
       "      <th>4</th>\n",
       "      <td>sub-0260</td>\n",
       "      <td>14.0</td>\n",
       "      <td>1</td>\n",
       "      <td>-0.853856</td>\n",
       "      <td>-0.356149</td>\n",
       "      <td>-0.863769</td>\n",
       "      <td>-0.617213</td>\n",
       "      <td>-0.475704</td>\n",
       "      <td>-0.797962</td>\n",
       "      <td>-0.641054</td>\n",
       "      <td>...</td>\n",
       "      <td>-0.181578</td>\n",
       "      <td>0.304288</td>\n",
       "      <td>0.449225</td>\n",
       "      <td>0.739805</td>\n",
       "      <td>0.125963</td>\n",
       "      <td>0.116520</td>\n",
       "      <td>0.293805</td>\n",
       "      <td>0.122458</td>\n",
       "      <td>-0.000745</td>\n",
       "      <td>0.174841</td>\n",
       "    </tr>\n",
       "  </tbody>\n",
       "</table>\n",
       "<p>5 rows × 187 columns</p>\n",
       "</div>"
      ],
      "text/plain": [
       "  Subject_ID  cpadhd_raw  CHILDgender  zfALFF_17Networks_9  \\\n",
       "0   sub-0015         0.0            1            -0.787030   \n",
       "1   sub-0085         1.0            0            -0.601078   \n",
       "2   sub-0134         0.0            1            -0.799635   \n",
       "3   sub-0152         2.0            0            -0.485006   \n",
       "4   sub-0260        14.0            1            -0.853856   \n",
       "\n",
       "   zfALFF_17Networks_2  zfALFF_lPFtha_L  zfALFF_cTtha_L  zfALFF_Otha_L  \\\n",
       "0            -0.445804        -0.929277       -0.743303      -0.701746   \n",
       "1            -0.304966        -0.397031       -0.381863      -0.449357   \n",
       "2            -0.231216        -0.840667       -0.901478      -0.487365   \n",
       "3            -0.223685        -0.294288       -0.634390      -0.597999   \n",
       "4            -0.356149        -0.863769       -0.617213      -0.475704   \n",
       "\n",
       "   zfALFF_rTtha_R  zfALFF_rTtha_L  ...  zDCwei_17Networks_RH_SomMotA_6  \\\n",
       "0       -0.843242       -0.764751  ...                        0.570004   \n",
       "1       -0.341996       -0.347692  ...                        0.280915   \n",
       "2       -0.710494       -0.512793  ...                        0.631763   \n",
       "3       -0.640255       -0.425914  ...                       -0.034122   \n",
       "4       -0.797962       -0.641054  ...                       -0.181578   \n",
       "\n",
       "   zDCwei_17Networks_LH_DefaultC_PHC_3  zDCwei_17Networks_LH_DefaultB_Temp_5  \\\n",
       "0                            -0.130038                             -0.047269   \n",
       "1                            -0.321277                             -0.009029   \n",
       "2                             0.249275                              0.492542   \n",
       "3                             0.082488                              0.263105   \n",
       "4                             0.304288                              0.449225   \n",
       "\n",
       "   zDCwei_17Networks_LH_ContB_Temp_2  \\\n",
       "0                           0.388094   \n",
       "1                          -0.196261   \n",
       "2                           0.465131   \n",
       "3                           0.375573   \n",
       "4                           0.739805   \n",
       "\n",
       "   zDCwei_17Networks_LH_SalVentAttnA_FrMed_2  \\\n",
       "0                                   0.158019   \n",
       "1                                   0.080881   \n",
       "2                                   0.149572   \n",
       "3                                  -0.179384   \n",
       "4                                   0.125963   \n",
       "\n",
       "   zDCwei_17Networks_LH_SalVentAttnA_FrMed_1  \\\n",
       "0                                   0.257226   \n",
       "1                                   0.170051   \n",
       "2                                   0.168241   \n",
       "3                                   0.009714   \n",
       "4                                   0.116520   \n",
       "\n",
       "   zDCwei_17Networks_LH_SalVentAttnA_ParMed_1  \\\n",
       "0                                    0.094419   \n",
       "1                                    0.153607   \n",
       "2                                    0.310641   \n",
       "3                                    0.205987   \n",
       "4                                    0.293805   \n",
       "\n",
       "   zDCwei_17Networks_LH_SalVentAttnA_ParOper_1  \\\n",
       "0                                     0.157887   \n",
       "1                                     0.192767   \n",
       "2                                     0.219820   \n",
       "3                                     0.018744   \n",
       "4                                     0.122458   \n",
       "\n",
       "   zDCwei_17Networks_LH_DorsAttnB_PostC_1  \\\n",
       "0                                0.042376   \n",
       "1                               -0.052853   \n",
       "2                                0.148504   \n",
       "3                                0.069715   \n",
       "4                               -0.000745   \n",
       "\n",
       "   zDCwei_17Networks_LH_DorsAttnA_TempOcc_2  \n",
       "0                                 -0.074321  \n",
       "1                                  0.049870  \n",
       "2                                  0.236822  \n",
       "3                                  0.291880  \n",
       "4                                  0.174841  \n",
       "\n",
       "[5 rows x 187 columns]"
      ]
     },
     "execution_count": 41,
     "metadata": {},
     "output_type": "execute_result"
    }
   ],
   "source": [
    "df = pd.read_csv('df_adhdraw.csv')\n",
    "df = df.drop('Unnamed: 0', axis = 1)\n",
    "df.head()"
   ]
  },
  {
   "cell_type": "code",
   "execution_count": 42,
   "metadata": {},
   "outputs": [],
   "source": [
    "df.drop(['CHILDgender', 'Subject_ID'], axis = 1, inplace = True)"
   ]
  },
  {
   "cell_type": "code",
   "execution_count": 43,
   "metadata": {},
   "outputs": [],
   "source": [
    "df = df.dropna()\n",
    "#for val in df['cpadhd_raw']:\n",
    " #   print(val)"
   ]
  },
  {
   "cell_type": "code",
   "execution_count": 44,
   "metadata": {},
   "outputs": [],
   "source": [
    "X = df.iloc[:,1:185].values\n",
    "Y = df.iloc[:,0].values"
   ]
  },
  {
   "cell_type": "code",
   "execution_count": 45,
   "metadata": {},
   "outputs": [],
   "source": [
    "x_train, x_test, y_train, y_test = train_test_split(X, Y, test_size = 0.4, random_state = 10) \n",
    "# random_state = whatever is being done to choose the test samples randomly, I want this randomness to be the same every time I run the script (otherwise everytime we have a different test dataset)"
   ]
  },
  {
   "cell_type": "code",
   "execution_count": 46,
   "metadata": {},
   "outputs": [],
   "source": [
    "model = gp.GaussianProcessRegressor(kernel=kernel, n_restarts_optimizer=10, alpha=0.1,normalize_y=True)"
   ]
  },
  {
   "cell_type": "code",
   "execution_count": 48,
   "metadata": {},
   "outputs": [
    {
     "data": {
      "text/plain": [
       "GaussianProcessRegressor(alpha=0.1, kernel=1**2 * RBF(length_scale=10),\n",
       "                         n_restarts_optimizer=10, normalize_y=True)"
      ]
     },
     "execution_count": 48,
     "metadata": {},
     "output_type": "execute_result"
    }
   ],
   "source": [
    "model.fit(x_train, y_train)"
   ]
  },
  {
   "cell_type": "code",
   "execution_count": 49,
   "metadata": {},
   "outputs": [],
   "source": [
    "params = model.kernel_.get_params()"
   ]
  },
  {
   "cell_type": "code",
   "execution_count": 50,
   "metadata": {},
   "outputs": [],
   "source": [
    "y_pred, std = model.predict(x_train, return_std=True)"
   ]
  },
  {
   "cell_type": "code",
   "execution_count": 55,
   "metadata": {},
   "outputs": [],
   "source": [
    "MSE = ((y_pred - y_train)**2).mean()"
   ]
  },
  {
   "cell_type": "code",
   "execution_count": 56,
   "metadata": {},
   "outputs": [
    {
     "data": {
      "text/plain": [
       "0.43414251527928926"
      ]
     },
     "execution_count": 56,
     "metadata": {},
     "output_type": "execute_result"
    }
   ],
   "source": [
    "MSE"
   ]
  },
  {
   "cell_type": "code",
   "execution_count": 57,
   "metadata": {},
   "outputs": [
    {
     "data": {
      "text/plain": [
       "[<matplotlib.lines.Line2D at 0x7f46409a8520>]"
      ]
     },
     "execution_count": 57,
     "metadata": {},
     "output_type": "execute_result"
    },
    {
     "data": {
      "image/png": "[encoded data removed]",
      "text/plain": [
       "<Figure size 432x288 with 1 Axes>"
      ]
     },
     "metadata": {
      "needs_background": "light"
     },
     "output_type": "display_data"
    }
   ],
   "source": [
    "plt.plot(y_pred, '*')\n",
    "plt.plot(y_test, '.')"
   ]
  },
  {
   "cell_type": "code",
   "execution_count": null,
   "metadata": {},
   "outputs": [],
   "source": []
  }
 ],
 "metadata": {
  "kernelspec": {
   "display_name": "Python 3",
   "language": "python",
   "name": "python3"
  },
  "language_info": {
   "codemirror_mode": {
    "name": "ipython",
    "version": 3
   },
   "file_extension": ".py",
   "mimetype": "text/x-python",
   "name": "python",
   "nbconvert_exporter": "python",
   "pygments_lexer": "ipython3",
   "version": "3.8.10"
  }
 },
 "nbformat": 4,
 "nbformat_minor": 4
}
