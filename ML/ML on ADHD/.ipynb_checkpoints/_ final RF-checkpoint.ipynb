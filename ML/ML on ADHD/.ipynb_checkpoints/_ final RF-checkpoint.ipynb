{
 "cells": [
  {
   "cell_type": "code",
   "execution_count": 1,
   "metadata": {},
   "outputs": [],
   "source": [
    "%config Completer.use_jedi = False"
   ]
  },
  {
   "cell_type": "code",
   "execution_count": 2,
   "metadata": {},
   "outputs": [],
   "source": [
    "import sklearn\n",
    "from matplotlib import pyplot as plt\n",
    "import numpy as np\n",
    "from sklearn.model_selection import train_test_split\n",
    "from sklearn.ensemble import RandomForestClassifier\n",
    "from sklearn import metrics\n",
    "import pandas as pd\n",
    "from sklearn.metrics import confusion_matrix\n",
    "from sklearn.metrics import plot_confusion_matrix\n",
    "from sklearn.svm import SVC\n",
    "import pprint\n",
    "import seaborn as sns\n",
    "from sklearn.ensemble import ExtraTreesClassifier\n",
    "from sklearn.model_selection import ParameterGrid"
   ]
  },
  {
   "cell_type": "code",
   "execution_count": 3,
   "metadata": {},
   "outputs": [
    {
     "data": {
      "text/html": [
       "<div>\n",
       "<style scoped>\n",
       "    .dataframe tbody tr th:only-of-type {\n",
       "        vertical-align: middle;\n",
       "    }\n",
       "\n",
       "    .dataframe tbody tr th {\n",
       "        vertical-align: top;\n",
       "    }\n",
       "\n",
       "    .dataframe thead th {\n",
       "        text-align: right;\n",
       "    }\n",
       "</style>\n",
       "<table border=\"1\" class=\"dataframe\">\n",
       "  <thead>\n",
       "    <tr style=\"text-align: right;\">\n",
       "      <th></th>\n",
       "      <th>pc1</th>\n",
       "      <th>pc2</th>\n",
       "      <th>pc3</th>\n",
       "      <th>pc4</th>\n",
       "      <th>pc5</th>\n",
       "      <th>pc6</th>\n",
       "      <th>pc7</th>\n",
       "      <th>pc8</th>\n",
       "      <th>pc9</th>\n",
       "      <th>pc10</th>\n",
       "      <th>pc11</th>\n",
       "      <th>pc12</th>\n",
       "      <th>pc13</th>\n",
       "      <th>pc14</th>\n",
       "      <th>pc15</th>\n",
       "      <th>diagadhd</th>\n",
       "    </tr>\n",
       "  </thead>\n",
       "  <tbody>\n",
       "    <tr>\n",
       "      <th>0</th>\n",
       "      <td>-6.316805</td>\n",
       "      <td>-3.993883</td>\n",
       "      <td>2.608049</td>\n",
       "      <td>-1.799177</td>\n",
       "      <td>0.421655</td>\n",
       "      <td>-0.185647</td>\n",
       "      <td>-0.866421</td>\n",
       "      <td>2.557691</td>\n",
       "      <td>0.684623</td>\n",
       "      <td>1.389368</td>\n",
       "      <td>0.938905</td>\n",
       "      <td>-1.107879</td>\n",
       "      <td>-3.008717</td>\n",
       "      <td>-2.574542</td>\n",
       "      <td>2.074565</td>\n",
       "      <td>0</td>\n",
       "    </tr>\n",
       "    <tr>\n",
       "      <th>1</th>\n",
       "      <td>-3.483505</td>\n",
       "      <td>3.740260</td>\n",
       "      <td>3.714517</td>\n",
       "      <td>-1.483981</td>\n",
       "      <td>-0.932160</td>\n",
       "      <td>-1.223809</td>\n",
       "      <td>-0.561965</td>\n",
       "      <td>-2.268734</td>\n",
       "      <td>0.385098</td>\n",
       "      <td>-1.309618</td>\n",
       "      <td>0.762300</td>\n",
       "      <td>1.392407</td>\n",
       "      <td>-1.410966</td>\n",
       "      <td>0.480299</td>\n",
       "      <td>3.181608</td>\n",
       "      <td>0</td>\n",
       "    </tr>\n",
       "    <tr>\n",
       "      <th>2</th>\n",
       "      <td>-5.072733</td>\n",
       "      <td>-1.089972</td>\n",
       "      <td>-2.044674</td>\n",
       "      <td>-0.989411</td>\n",
       "      <td>4.432155</td>\n",
       "      <td>3.538149</td>\n",
       "      <td>0.327935</td>\n",
       "      <td>-1.656317</td>\n",
       "      <td>1.972287</td>\n",
       "      <td>2.179859</td>\n",
       "      <td>-3.130990</td>\n",
       "      <td>1.615621</td>\n",
       "      <td>0.998560</td>\n",
       "      <td>1.519352</td>\n",
       "      <td>-1.185252</td>\n",
       "      <td>0</td>\n",
       "    </tr>\n",
       "    <tr>\n",
       "      <th>3</th>\n",
       "      <td>9.102420</td>\n",
       "      <td>-0.533239</td>\n",
       "      <td>0.310449</td>\n",
       "      <td>6.574843</td>\n",
       "      <td>1.080824</td>\n",
       "      <td>-0.322345</td>\n",
       "      <td>0.917680</td>\n",
       "      <td>1.597076</td>\n",
       "      <td>0.692811</td>\n",
       "      <td>-2.357757</td>\n",
       "      <td>0.643224</td>\n",
       "      <td>3.000754</td>\n",
       "      <td>0.006578</td>\n",
       "      <td>-0.434549</td>\n",
       "      <td>1.308862</td>\n",
       "      <td>0</td>\n",
       "    </tr>\n",
       "    <tr>\n",
       "      <th>4</th>\n",
       "      <td>0.069206</td>\n",
       "      <td>-1.513340</td>\n",
       "      <td>0.906819</td>\n",
       "      <td>0.405307</td>\n",
       "      <td>-0.203222</td>\n",
       "      <td>2.936823</td>\n",
       "      <td>-0.677617</td>\n",
       "      <td>0.827757</td>\n",
       "      <td>1.834682</td>\n",
       "      <td>-0.723978</td>\n",
       "      <td>0.083857</td>\n",
       "      <td>-3.246837</td>\n",
       "      <td>-1.006093</td>\n",
       "      <td>0.247815</td>\n",
       "      <td>-0.204260</td>\n",
       "      <td>1</td>\n",
       "    </tr>\n",
       "  </tbody>\n",
       "</table>\n",
       "</div>"
      ],
      "text/plain": [
       "        pc1       pc2       pc3       pc4       pc5       pc6       pc7  \\\n",
       "0 -6.316805 -3.993883  2.608049 -1.799177  0.421655 -0.185647 -0.866421   \n",
       "1 -3.483505  3.740260  3.714517 -1.483981 -0.932160 -1.223809 -0.561965   \n",
       "2 -5.072733 -1.089972 -2.044674 -0.989411  4.432155  3.538149  0.327935   \n",
       "3  9.102420 -0.533239  0.310449  6.574843  1.080824 -0.322345  0.917680   \n",
       "4  0.069206 -1.513340  0.906819  0.405307 -0.203222  2.936823 -0.677617   \n",
       "\n",
       "        pc8       pc9      pc10      pc11      pc12      pc13      pc14  \\\n",
       "0  2.557691  0.684623  1.389368  0.938905 -1.107879 -3.008717 -2.574542   \n",
       "1 -2.268734  0.385098 -1.309618  0.762300  1.392407 -1.410966  0.480299   \n",
       "2 -1.656317  1.972287  2.179859 -3.130990  1.615621  0.998560  1.519352   \n",
       "3  1.597076  0.692811 -2.357757  0.643224  3.000754  0.006578 -0.434549   \n",
       "4  0.827757  1.834682 -0.723978  0.083857 -3.246837 -1.006093  0.247815   \n",
       "\n",
       "       pc15  diagadhd  \n",
       "0  2.074565         0  \n",
       "1  3.181608         0  \n",
       "2 -1.185252         0  \n",
       "3  1.308862         0  \n",
       "4 -0.204260         1  "
      ]
     },
     "execution_count": 3,
     "metadata": {},
     "output_type": "execute_result"
    }
   ],
   "source": [
    "#df = pd.read_csv('df_for_RF.csv')\n",
    "#df = pd.read_csv('df_1_outlier.csv')\n",
    "#df = pd.read_csv('finaldf_orderd_withzeros.csv')\n",
    "#df = pd.read_csv('df_eng.csv')\n",
    "df = pd.read_csv('PCA_results.csv')\n",
    "df.drop('Unnamed: 0', axis = 1, inplace=True)\n",
    "df.head()"
   ]
  },
  {
   "cell_type": "code",
   "execution_count": 4,
   "metadata": {},
   "outputs": [
    {
     "data": {
      "text/plain": [
       "0    71\n",
       "1    46\n",
       "Name: diagadhd, dtype: int64"
      ]
     },
     "execution_count": 4,
     "metadata": {},
     "output_type": "execute_result"
    }
   ],
   "source": [
    "sizes = df['diagadhd'].value_counts(sort = 1)\n",
    "sizes"
   ]
  },
  {
   "cell_type": "code",
   "execution_count": 5,
   "metadata": {},
   "outputs": [
    {
     "data": {
      "text/plain": [
       "(117, 16)"
      ]
     },
     "execution_count": 5,
     "metadata": {},
     "output_type": "execute_result"
    }
   ],
   "source": [
    "df.shape"
   ]
  },
  {
   "cell_type": "code",
   "execution_count": 7,
   "metadata": {},
   "outputs": [],
   "source": [
    "X = df.iloc[:,:14].values\n",
    "y = df.iloc[:,15].values"
   ]
  },
  {
   "cell_type": "markdown",
   "metadata": {},
   "source": [
    "### define dependent and independent variables(adverserial validation)"
   ]
  },
  {
   "cell_type": "code",
   "execution_count": 10,
   "metadata": {},
   "outputs": [
    {
     "name": "stderr",
     "output_type": "stream",
     "text": [
      "/home/tara/Programming/env/lib/python3.8/site-packages/xgboost/sklearn.py:1224: UserWarning: The use of label encoder in XGBClassifier is deprecated and will be removed in a future release. To remove this warning, do the following: 1) Pass option use_label_encoder=False when constructing XGBClassifier object; and 2) Encode your labels (y) as integers starting with 0, i.e. 0, 1, 2, ..., [num_class - 1].\n",
      "  warnings.warn(label_encoder_deprecation_msg, UserWarning)\n"
     ]
    },
    {
     "name": "stdout",
     "output_type": "stream",
     "text": [
      "[16:45:20] WARNING: ../src/learner.cc:1115: Starting in XGBoost 1.3.0, the default evaluation metric used with the objective 'multi:softprob' was changed from 'merror' to 'mlogloss'. Explicitly set eval_metric if you'd like to restore the old behavior.\n"
     ]
    },
    {
     "ename": "ValueError",
     "evalue": "Classification metrics can't handle a mix of continuous and binary targets",
     "output_type": "error",
     "traceback": [
      "\u001b[0;31m---------------------------------------------------------------------------\u001b[0m",
      "\u001b[0;31mValueError\u001b[0m                                Traceback (most recent call last)",
      "\u001b[0;32m<ipython-input-10-18ab3d986fe9>\u001b[0m in \u001b[0;36m<module>\u001b[0;34m\u001b[0m\n\u001b[1;32m     21\u001b[0m \u001b[0mpredictions\u001b[0m \u001b[0;34m=\u001b[0m \u001b[0;34m[\u001b[0m\u001b[0mround\u001b[0m\u001b[0;34m(\u001b[0m\u001b[0mvalue\u001b[0m\u001b[0;34m)\u001b[0m \u001b[0;32mfor\u001b[0m \u001b[0mvalue\u001b[0m \u001b[0;32min\u001b[0m \u001b[0my_pred\u001b[0m\u001b[0;34m]\u001b[0m\u001b[0;34m\u001b[0m\u001b[0;34m\u001b[0m\u001b[0m\n\u001b[1;32m     22\u001b[0m \u001b[0;31m# evaluate predictions\u001b[0m\u001b[0;34m\u001b[0m\u001b[0;34m\u001b[0m\u001b[0;34m\u001b[0m\u001b[0m\n\u001b[0;32m---> 23\u001b[0;31m \u001b[0maccuracy\u001b[0m \u001b[0;34m=\u001b[0m \u001b[0maccuracy_score\u001b[0m\u001b[0;34m(\u001b[0m\u001b[0my_test\u001b[0m\u001b[0;34m,\u001b[0m \u001b[0mpredictions\u001b[0m\u001b[0;34m)\u001b[0m\u001b[0;34m\u001b[0m\u001b[0;34m\u001b[0m\u001b[0m\n\u001b[0m\u001b[1;32m     24\u001b[0m \u001b[0mprint\u001b[0m\u001b[0;34m(\u001b[0m\u001b[0;34m\"Accuracy: %.2f%%\"\u001b[0m \u001b[0;34m%\u001b[0m \u001b[0;34m(\u001b[0m\u001b[0maccuracy\u001b[0m \u001b[0;34m*\u001b[0m \u001b[0;36m100.0\u001b[0m\u001b[0;34m)\u001b[0m\u001b[0;34m)\u001b[0m\u001b[0;34m\u001b[0m\u001b[0;34m\u001b[0m\u001b[0m\n",
      "\u001b[0;32m~/Programming/env/lib/python3.8/site-packages/sklearn/metrics/_classification.py\u001b[0m in \u001b[0;36maccuracy_score\u001b[0;34m(y_true, y_pred, normalize, sample_weight)\u001b[0m\n\u001b[1;32m    209\u001b[0m \u001b[0;34m\u001b[0m\u001b[0m\n\u001b[1;32m    210\u001b[0m     \u001b[0;31m# Compute accuracy for each possible representation\u001b[0m\u001b[0;34m\u001b[0m\u001b[0;34m\u001b[0m\u001b[0;34m\u001b[0m\u001b[0m\n\u001b[0;32m--> 211\u001b[0;31m     \u001b[0my_type\u001b[0m\u001b[0;34m,\u001b[0m \u001b[0my_true\u001b[0m\u001b[0;34m,\u001b[0m \u001b[0my_pred\u001b[0m \u001b[0;34m=\u001b[0m \u001b[0m_check_targets\u001b[0m\u001b[0;34m(\u001b[0m\u001b[0my_true\u001b[0m\u001b[0;34m,\u001b[0m \u001b[0my_pred\u001b[0m\u001b[0;34m)\u001b[0m\u001b[0;34m\u001b[0m\u001b[0;34m\u001b[0m\u001b[0m\n\u001b[0m\u001b[1;32m    212\u001b[0m     \u001b[0mcheck_consistent_length\u001b[0m\u001b[0;34m(\u001b[0m\u001b[0my_true\u001b[0m\u001b[0;34m,\u001b[0m \u001b[0my_pred\u001b[0m\u001b[0;34m,\u001b[0m \u001b[0msample_weight\u001b[0m\u001b[0;34m)\u001b[0m\u001b[0;34m\u001b[0m\u001b[0;34m\u001b[0m\u001b[0m\n\u001b[1;32m    213\u001b[0m     \u001b[0;32mif\u001b[0m \u001b[0my_type\u001b[0m\u001b[0;34m.\u001b[0m\u001b[0mstartswith\u001b[0m\u001b[0;34m(\u001b[0m\u001b[0;34m\"multilabel\"\u001b[0m\u001b[0;34m)\u001b[0m\u001b[0;34m:\u001b[0m\u001b[0;34m\u001b[0m\u001b[0;34m\u001b[0m\u001b[0m\n",
      "\u001b[0;32m~/Programming/env/lib/python3.8/site-packages/sklearn/metrics/_classification.py\u001b[0m in \u001b[0;36m_check_targets\u001b[0;34m(y_true, y_pred)\u001b[0m\n\u001b[1;32m     91\u001b[0m \u001b[0;34m\u001b[0m\u001b[0m\n\u001b[1;32m     92\u001b[0m     \u001b[0;32mif\u001b[0m \u001b[0mlen\u001b[0m\u001b[0;34m(\u001b[0m\u001b[0my_type\u001b[0m\u001b[0;34m)\u001b[0m \u001b[0;34m>\u001b[0m \u001b[0;36m1\u001b[0m\u001b[0;34m:\u001b[0m\u001b[0;34m\u001b[0m\u001b[0;34m\u001b[0m\u001b[0m\n\u001b[0;32m---> 93\u001b[0;31m         raise ValueError(\n\u001b[0m\u001b[1;32m     94\u001b[0m             \"Classification metrics can't handle a mix of {0} and {1} targets\".format(\n\u001b[1;32m     95\u001b[0m                 \u001b[0mtype_true\u001b[0m\u001b[0;34m,\u001b[0m \u001b[0mtype_pred\u001b[0m\u001b[0;34m\u001b[0m\u001b[0;34m\u001b[0m\u001b[0m\n",
      "\u001b[0;31mValueError\u001b[0m: Classification metrics can't handle a mix of continuous and binary targets"
     ]
    }
   ],
   "source": [
    "# train-test split evaluation of xgboost model\n",
    "from numpy import loadtxt\n",
    "from xgboost import XGBClassifier\n",
    "from sklearn.model_selection import train_test_split\n",
    "from sklearn.metrics import accuracy_score\n",
    "from xgboost import XGBClassifier\n",
    "\n",
    "# split data into X and y\n",
    "#X_train, X_test, y_train, y_test = train_test_split(data.iloc[:,2:], data['diagadhd'], test_size=0.3)\n",
    "training_set, test_set = train_test_split(df, test_size = 0.2, random_state = 3)\n",
    "X_train = training_set.iloc[:,3:].values\n",
    "y_train = training_set.iloc[:,1].values\n",
    "X_test = test_set.iloc[:,3:].values\n",
    "y_test = test_set.iloc[:,1].values\n",
    "\n",
    "# fit model no training data\n",
    "model = XGBClassifier()\n",
    "model.fit(X_train, y_train)\n",
    "# make predictions for test data\n",
    "y_pred = model.predict(X_test)\n",
    "predictions = [round(value) for value in y_pred]\n",
    "# evaluate predictions\n",
    "accuracy = accuracy_score(y_test, predictions)\n",
    "print(\"Accuracy: %.2f%%\" % (accuracy * 100.0))"
   ]
  },
  {
   "cell_type": "markdown",
   "metadata": {},
   "source": [
    "#### grid search for hyperparameter tuning"
   ]
  },
  {
   "cell_type": "code",
   "execution_count": 11,
   "metadata": {},
   "outputs": [],
   "source": [
    "from sklearn.model_selection import RandomizedSearchCV\n",
    "\n",
    "# number of trees in RF\n",
    "n_estimators = [int(x) for x in np.linspace(start = 10, stop = 100, num = 91)]\n",
    "\n",
    "# number of features to consider at every split\n",
    "max_features = ['auto', 'sqrt']\n",
    "\n",
    "# maximum number of levels in tree\n",
    "max_depth = [int(x) for x in np.linspace(10, 110, num = 11)]\n",
    "max_depth.append(None)\n",
    "\n",
    "# minimum number of samples required to split a node\n",
    "min_sample_split = [2, 5, 10]\n",
    "\n",
    "# minimum number of samples required at each leaf node\n",
    "min_sample_leaf = [1, 2, 4]\n",
    "\n",
    "# method of selecting samples for training each tree\n",
    "bootstrap = [True, False]\n",
    "\n",
    "# create the random grid\n",
    "random_grid = {'n_estimators': n_estimators,\n",
    "              'max_features': max_features,\n",
    "              'max_depth': max_depth,\n",
    "              'min_samples_split': min_sample_split,\n",
    "              'min_samples_leaf': min_sample_leaf,\n",
    "              'bootstrap': bootstrap}\n",
    "\n",
    "#pprint(random_grid)"
   ]
  },
  {
   "cell_type": "code",
   "execution_count": 45,
   "metadata": {},
   "outputs": [
    {
     "name": "stdout",
     "output_type": "stream",
     "text": [
      "Fitting 2 folds for each of 100 candidates, totalling 200 fits\n"
     ]
    },
    {
     "data": {
      "text/plain": [
       "{'n_estimators': 25,\n",
       " 'min_samples_split': 10,\n",
       " 'min_samples_leaf': 2,\n",
       " 'max_features': 'auto',\n",
       " 'max_depth': 110,\n",
       " 'bootstrap': True}"
      ]
     },
     "execution_count": 45,
     "metadata": {},
     "output_type": "execute_result"
    }
   ],
   "source": [
    "# use the random grid to search for best hyperparameters\n",
    "rf = RandomForestClassifier()\n",
    "\n",
    "# random search of parameters using 3 fold corss validation \n",
    "rf_random = RandomizedSearchCV(estimator = rf, param_distributions = random_grid, n_iter = 100, cv = 2, verbose = 2, random_state = 15, n_jobs = -1)\n",
    "\n",
    "# fit the random search model\n",
    "rf_random.fit(X, y)\n",
    "\n",
    "rf_random.best_params_"
   ]
  },
  {
   "cell_type": "code",
   "execution_count": null,
   "metadata": {},
   "outputs": [],
   "source": []
  },
  {
   "cell_type": "code",
   "execution_count": 18,
   "metadata": {},
   "outputs": [
    {
     "name": "stdout",
     "output_type": "stream",
     "text": [
      "the random forest score without CV:  0.6666666666666666\n"
     ]
    }
   ],
   "source": [
    "rf = RandomForestClassifier(n_estimators = 72, random_state = 15, min_samples_split=10, min_samples_leaf=4, max_features='sqrt', \n",
    "                  max_depth=30, bootstrap= False)\n",
    "rf.fit(X_train, y_train)\n",
    "#rf.score(X_test, y_test)\n",
    "print('the random forest score without CV: ', rf.score(X_test, y_test))"
   ]
  },
  {
   "cell_type": "code",
   "execution_count": 19,
   "metadata": {},
   "outputs": [
    {
     "name": "stdout",
     "output_type": "stream",
     "text": [
      "Fitting 10 folds for each of 100 candidates, totalling 1000 fits\n",
      "the random forest score with CV:  0.5416666666666666\n"
     ]
    }
   ],
   "source": [
    "rf = RandomForestClassifier()\n",
    "rf_random = RandomizedSearchCV(estimator = rf, param_distributions = random_grid, n_iter = 100, cv = 10, verbose = 2, random_state = 15, n_jobs = -1)\n",
    "rf_random.fit(X_train, y_train)\n",
    "\n",
    "print('the random forest score with CV: ', rf_random.score(X_test, y_test))"
   ]
  },
  {
   "cell_type": "markdown",
   "metadata": {},
   "source": [
    "## evaluation"
   ]
  },
  {
   "cell_type": "code",
   "execution_count": 20,
   "metadata": {},
   "outputs": [
    {
     "name": "stdout",
     "output_type": "stream",
     "text": [
      "[[8 7]\n",
      " [6 3]]\n"
     ]
    }
   ],
   "source": [
    "# Confusion matrix\n",
    "confusion = metrics.confusion_matrix(y_test, y_pred)\n",
    "print(confusion)"
   ]
  },
  {
   "cell_type": "code",
   "execution_count": 21,
   "metadata": {},
   "outputs": [
    {
     "data": {
      "image/png": "[encoded data removed]",
      "text/plain": [
       "<Figure size 432x288 with 2 Axes>"
      ]
     },
     "metadata": {
      "needs_background": "light"
     },
     "output_type": "display_data"
    }
   ],
   "source": [
    "import seaborn as sns\n",
    "\n",
    "heatmap = sns.heatmap(confusion, annot=True, cmap='Oranges')\n",
    "\n",
    "heatmap.yaxis.set_ticklabels(heatmap.yaxis.get_ticklabels(),\n",
    "                            rotation=0, ha='right')\n",
    "\n",
    "heatmap.xaxis.set_ticklabels(heatmap.xaxis.get_ticklabels(),\n",
    "                            rotation=0, ha='right')\n",
    "\n",
    "plt.ylabel('True label')\n",
    "plt.xlabel('Predicted label')\n",
    "plt.title('RF Model Results')\n",
    "plt.show()"
   ]
  },
  {
   "cell_type": "code",
   "execution_count": 22,
   "metadata": {},
   "outputs": [
    {
     "data": {
      "image/png": "[encoded data removed]",
      "text/plain": [
       "<Figure size 432x288 with 1 Axes>"
      ]
     },
     "metadata": {
      "needs_background": "light"
     },
     "output_type": "display_data"
    }
   ],
   "source": [
    "import scikitplot as skplt\n",
    "import matplotlib.pyplot as plt\n",
    "\n",
    "y_pred_proba = model.predict_proba(X_test)[::,1]\n",
    "fpr, tpr, _ = metrics.roc_curve(y_test,  y_pred_proba)\n",
    "auc = metrics.roc_auc_score(y_test, y_pred_proba)\n",
    "plt.plot(fpr,tpr,label=\"auc=\"+str(auc))\n",
    "plt.legend(loc=4)\n",
    "plt.show()"
   ]
  },
  {
   "cell_type": "code",
   "execution_count": 28,
   "metadata": {},
   "outputs": [],
   "source": [
    "TP = confusion[1,1] # true positive\n",
    "TN = confusion[0,0] # true negatives\n",
    "FP = confusion[0,1] # false positives\n",
    "FN = confusion[1,0] # false negatives"
   ]
  },
  {
   "cell_type": "code",
   "execution_count": 29,
   "metadata": {},
   "outputs": [
    {
     "name": "stdout",
     "output_type": "stream",
     "text": [
      "the sensitivity if this model is:  0.6666666666666666\n"
     ]
    }
   ],
   "source": [
    "# Let's see the sensitivity of our logistic regression model\n",
    "\n",
    "print('the sensitivity if this model is: ', TP / float(TP+FN))"
   ]
  },
  {
   "cell_type": "code",
   "execution_count": 30,
   "metadata": {},
   "outputs": [
    {
     "name": "stdout",
     "output_type": "stream",
     "text": [
      "the specificity if this model is:  0.8\n"
     ]
    }
   ],
   "source": [
    "# Let us calculate specificity\n",
    "\n",
    "print('the specificity if this model is: ', TN / float(TN+FP))"
   ]
  },
  {
   "cell_type": "code",
   "execution_count": 31,
   "metadata": {},
   "outputs": [],
   "source": [
    "from sklearn import datasets\n",
    "from sklearn.tree import DecisionTreeClassifier\n",
    "from sklearn.linear_model import LogisticRegression\n",
    "from sklearn.metrics import roc_curve, roc_auc_score\n",
    "from sklearn.model_selection import train_test_split\n",
    "import matplotlib.pyplot as plt"
   ]
  },
  {
   "cell_type": "code",
   "execution_count": 32,
   "metadata": {},
   "outputs": [
    {
     "name": "stdout",
     "output_type": "stream",
     "text": [
      "roc_auc_score for DecisionTree:  0.8370370370370371\n"
     ]
    }
   ],
   "source": [
    "y_score1 = model.predict_proba(X_test)[:,1]\n",
    "y_score2 = model.predict_proba(X_test)[:,1]\n",
    "false_positive_rate1, true_positive_rate1, threshold1 = roc_curve(y_test, y_score1)\n",
    "false_positive_rate2, true_positive_rate2, threshold2 = roc_curve(y_test, y_score2)\n",
    "print('roc_auc_score for DecisionTree: ', roc_auc_score(y_test, y_score1))"
   ]
  },
  {
   "cell_type": "code",
   "execution_count": null,
   "metadata": {},
   "outputs": [],
   "source": []
  },
  {
   "cell_type": "markdown",
   "metadata": {},
   "source": [
    "### repeating RF with k best important features (ExtraTreesClassifier method)\n",
    "#### 50-best: importance>0.005"
   ]
  },
  {
   "cell_type": "code",
   "execution_count": 23,
   "metadata": {},
   "outputs": [
    {
     "data": {
      "text/plain": [
       "ExtraTreesClassifier()"
      ]
     },
     "execution_count": 23,
     "metadata": {},
     "output_type": "execute_result"
    }
   ],
   "source": [
    "model = ExtraTreesClassifier()\n",
    "model.fit(X,y)\n",
    "#print(model.feature_importances_)"
   ]
  },
  {
   "cell_type": "code",
   "execution_count": 24,
   "metadata": {},
   "outputs": [
    {
     "data": {
      "image/png": "[encoded data removed]",
      "text/plain": [
       "<Figure size 432x288 with 1 Axes>"
      ]
     },
     "metadata": {
      "needs_background": "light"
     },
     "output_type": "display_data"
    }
   ],
   "source": [
    "feat_importances = pd.Series(model.feature_importances_ , index = df.columns[2:])\n",
    "feat_importances.nlargest(50).plot(kind = 'barh')\n",
    "plt.show()"
   ]
  },
  {
   "cell_type": "code",
   "execution_count": 25,
   "metadata": {},
   "outputs": [
    {
     "data": {
      "text/html": [
       "<div>\n",
       "<style scoped>\n",
       "    .dataframe tbody tr th:only-of-type {\n",
       "        vertical-align: middle;\n",
       "    }\n",
       "\n",
       "    .dataframe tbody tr th {\n",
       "        vertical-align: top;\n",
       "    }\n",
       "\n",
       "    .dataframe thead th {\n",
       "        text-align: right;\n",
       "    }\n",
       "</style>\n",
       "<table border=\"1\" class=\"dataframe\">\n",
       "  <thead>\n",
       "    <tr style=\"text-align: right;\">\n",
       "      <th></th>\n",
       "      <th>region</th>\n",
       "      <th>importance</th>\n",
       "    </tr>\n",
       "  </thead>\n",
       "  <tbody>\n",
       "    <tr>\n",
       "      <th>0</th>\n",
       "      <td>CHILDgender</td>\n",
       "      <td>0.013926</td>\n",
       "    </tr>\n",
       "    <tr>\n",
       "      <th>1711</th>\n",
       "      <td>zfALFF_cHipp_L</td>\n",
       "      <td>0.010548</td>\n",
       "    </tr>\n",
       "    <tr>\n",
       "      <th>1203</th>\n",
       "      <td>zfALFF_17Networks_RH_DorsAttnB_PostC_1</td>\n",
       "      <td>0.010405</td>\n",
       "    </tr>\n",
       "    <tr>\n",
       "      <th>520</th>\n",
       "      <td>zDCwei_17Networks_LH_SalVentAttnA_FrMed_1</td>\n",
       "      <td>0.009530</td>\n",
       "    </tr>\n",
       "    <tr>\n",
       "      <th>81</th>\n",
       "      <td>zReHo_17Networks_LH_ContA_IPS_2</td>\n",
       "      <td>0.009211</td>\n",
       "    </tr>\n",
       "    <tr>\n",
       "      <th>...</th>\n",
       "      <td>...</td>\n",
       "      <td>...</td>\n",
       "    </tr>\n",
       "    <tr>\n",
       "      <th>721</th>\n",
       "      <td>zReHo_17Networks_LH_SomMotB_Cent_5</td>\n",
       "      <td>0.000000</td>\n",
       "    </tr>\n",
       "    <tr>\n",
       "      <th>720</th>\n",
       "      <td>zDCwei_17Networks_LH_SomMotB_Cent_5</td>\n",
       "      <td>0.000000</td>\n",
       "    </tr>\n",
       "    <tr>\n",
       "      <th>719</th>\n",
       "      <td>zfALFF_17Networks_LH_SomMotB_Cent_5</td>\n",
       "      <td>0.000000</td>\n",
       "    </tr>\n",
       "    <tr>\n",
       "      <th>718</th>\n",
       "      <td>gmd_17Networks_LH_SomMotB_Cent_5</td>\n",
       "      <td>0.000000</td>\n",
       "    </tr>\n",
       "    <tr>\n",
       "      <th>1813</th>\n",
       "      <td>zReHo_vmPu_R</td>\n",
       "      <td>0.000000</td>\n",
       "    </tr>\n",
       "  </tbody>\n",
       "</table>\n",
       "<p>1814 rows × 2 columns</p>\n",
       "</div>"
      ],
      "text/plain": [
       "                                         region  importance\n",
       "0                                   CHILDgender    0.013926\n",
       "1711                             zfALFF_cHipp_L    0.010548\n",
       "1203     zfALFF_17Networks_RH_DorsAttnB_PostC_1    0.010405\n",
       "520   zDCwei_17Networks_LH_SalVentAttnA_FrMed_1    0.009530\n",
       "81              zReHo_17Networks_LH_ContA_IPS_2    0.009211\n",
       "...                                         ...         ...\n",
       "721          zReHo_17Networks_LH_SomMotB_Cent_5    0.000000\n",
       "720         zDCwei_17Networks_LH_SomMotB_Cent_5    0.000000\n",
       "719         zfALFF_17Networks_LH_SomMotB_Cent_5    0.000000\n",
       "718            gmd_17Networks_LH_SomMotB_Cent_5    0.000000\n",
       "1813                               zReHo_vmPu_R    0.000000\n",
       "\n",
       "[1814 rows x 2 columns]"
      ]
     },
     "execution_count": 25,
     "metadata": {},
     "output_type": "execute_result"
    }
   ],
   "source": [
    "feat_imp = pd.DataFrame(feat_importances)\n",
    "feat_imp.reset_index(inplace = True)\n",
    "feat_imp.rename(columns={'index': 'region', 0:'importance'}, inplace = True)\n",
    "feat_imp.sort_values(by='importance', ascending=False,inplace=True)\n",
    "feat_imp"
   ]
  },
  {
   "cell_type": "code",
   "execution_count": 26,
   "metadata": {},
   "outputs": [
    {
     "data": {
      "text/html": [
       "<div>\n",
       "<style scoped>\n",
       "    .dataframe tbody tr th:only-of-type {\n",
       "        vertical-align: middle;\n",
       "    }\n",
       "\n",
       "    .dataframe tbody tr th {\n",
       "        vertical-align: top;\n",
       "    }\n",
       "\n",
       "    .dataframe thead th {\n",
       "        text-align: right;\n",
       "    }\n",
       "</style>\n",
       "<table border=\"1\" class=\"dataframe\">\n",
       "  <thead>\n",
       "    <tr style=\"text-align: right;\">\n",
       "      <th></th>\n",
       "      <th>region</th>\n",
       "      <th>importance</th>\n",
       "    </tr>\n",
       "  </thead>\n",
       "  <tbody>\n",
       "    <tr>\n",
       "      <th>0</th>\n",
       "      <td>CHILDgender</td>\n",
       "      <td>0.013926</td>\n",
       "    </tr>\n",
       "    <tr>\n",
       "      <th>1</th>\n",
       "      <td>zfALFF_cHipp_L</td>\n",
       "      <td>0.010548</td>\n",
       "    </tr>\n",
       "    <tr>\n",
       "      <th>2</th>\n",
       "      <td>zfALFF_17Networks_RH_DorsAttnB_PostC_1</td>\n",
       "      <td>0.010405</td>\n",
       "    </tr>\n",
       "    <tr>\n",
       "      <th>3</th>\n",
       "      <td>zDCwei_17Networks_LH_SalVentAttnA_FrMed_1</td>\n",
       "      <td>0.009530</td>\n",
       "    </tr>\n",
       "    <tr>\n",
       "      <th>4</th>\n",
       "      <td>zReHo_17Networks_LH_ContA_IPS_2</td>\n",
       "      <td>0.009211</td>\n",
       "    </tr>\n",
       "  </tbody>\n",
       "</table>\n",
       "</div>"
      ],
      "text/plain": [
       "                                      region  importance\n",
       "0                                CHILDgender    0.013926\n",
       "1                             zfALFF_cHipp_L    0.010548\n",
       "2     zfALFF_17Networks_RH_DorsAttnB_PostC_1    0.010405\n",
       "3  zDCwei_17Networks_LH_SalVentAttnA_FrMed_1    0.009530\n",
       "4            zReHo_17Networks_LH_ContA_IPS_2    0.009211"
      ]
     },
     "execution_count": 26,
     "metadata": {},
     "output_type": "execute_result"
    }
   ],
   "source": [
    "feat_imp = feat_imp.iloc[0:50,:]\n",
    "feat_imp=feat_imp.reset_index()\n",
    "feat_imp.drop('index', axis=1, inplace=True)\n",
    "feat_imp.head()"
   ]
  },
  {
   "cell_type": "code",
   "execution_count": 27,
   "metadata": {},
   "outputs": [],
   "source": [
    "feat_imp.to_csv('top50feat.csv')"
   ]
  },
  {
   "cell_type": "code",
   "execution_count": 28,
   "metadata": {},
   "outputs": [
    {
     "data": {
      "text/html": [
       "<div>\n",
       "<style scoped>\n",
       "    .dataframe tbody tr th:only-of-type {\n",
       "        vertical-align: middle;\n",
       "    }\n",
       "\n",
       "    .dataframe tbody tr th {\n",
       "        vertical-align: top;\n",
       "    }\n",
       "\n",
       "    .dataframe thead th {\n",
       "        text-align: right;\n",
       "    }\n",
       "</style>\n",
       "<table border=\"1\" class=\"dataframe\">\n",
       "  <thead>\n",
       "    <tr style=\"text-align: right;\">\n",
       "      <th></th>\n",
       "      <th>Subject_ID</th>\n",
       "      <th>diagadhd</th>\n",
       "      <th>CHILDgender</th>\n",
       "      <th>zfALFF_cHipp_L</th>\n",
       "      <th>zfALFF_17Networks_RH_DorsAttnB_PostC_1</th>\n",
       "      <th>zDCwei_17Networks_LH_SalVentAttnA_FrMed_1</th>\n",
       "      <th>zReHo_17Networks_LH_ContA_IPS_2</th>\n",
       "      <th>zReHo_17Networks_RH_DorsAttnB_FEF_3</th>\n",
       "      <th>zfALFF_17Networks_LH_DorsAttnB_PostC_5</th>\n",
       "      <th>zfALFF_17Networks_RH_SalVentAttnB_PFCl_2</th>\n",
       "      <th>...</th>\n",
       "      <th>zfALFF_rTtha_L</th>\n",
       "      <th>zfALFF_17Networks_9</th>\n",
       "      <th>zDCwei_17Networks_RH_SomMotB_S2_3</th>\n",
       "      <th>zfALFF_17Networks_LH_DorsAttnB_PostC_2</th>\n",
       "      <th>zfALFF_17Networks_RH_DefaultA_PFCm_4</th>\n",
       "      <th>zDCwei_17Networks_LH_DefaultC_PHC_3</th>\n",
       "      <th>zfALFF_17Networks_RH_SomMotA_4</th>\n",
       "      <th>zfALFF_17Networks_RH_ContB_IPL_3</th>\n",
       "      <th>gmd_17Networks_RH_VisCent_ExStr_8</th>\n",
       "      <th>zfALFF_17Networks_RH_SomMotA_2</th>\n",
       "    </tr>\n",
       "  </thead>\n",
       "  <tbody>\n",
       "    <tr>\n",
       "      <th>0</th>\n",
       "      <td>sub-0015</td>\n",
       "      <td>0</td>\n",
       "      <td>1</td>\n",
       "      <td>-0.804092</td>\n",
       "      <td>0.783703</td>\n",
       "      <td>0.257226</td>\n",
       "      <td>0.328572</td>\n",
       "      <td>0.230233</td>\n",
       "      <td>0.319226</td>\n",
       "      <td>0.613700</td>\n",
       "      <td>...</td>\n",
       "      <td>-0.764751</td>\n",
       "      <td>-0.787030</td>\n",
       "      <td>0.333203</td>\n",
       "      <td>0.168945</td>\n",
       "      <td>0.388611</td>\n",
       "      <td>-0.130038</td>\n",
       "      <td>1.050737</td>\n",
       "      <td>0.658700</td>\n",
       "      <td>0.252435</td>\n",
       "      <td>1.212068</td>\n",
       "    </tr>\n",
       "    <tr>\n",
       "      <th>1</th>\n",
       "      <td>sub-0085</td>\n",
       "      <td>0</td>\n",
       "      <td>0</td>\n",
       "      <td>-0.642705</td>\n",
       "      <td>0.157542</td>\n",
       "      <td>0.170051</td>\n",
       "      <td>0.408825</td>\n",
       "      <td>0.414221</td>\n",
       "      <td>0.357635</td>\n",
       "      <td>0.567797</td>\n",
       "      <td>...</td>\n",
       "      <td>-0.347692</td>\n",
       "      <td>-0.601078</td>\n",
       "      <td>0.112736</td>\n",
       "      <td>0.275541</td>\n",
       "      <td>0.011459</td>\n",
       "      <td>-0.321277</td>\n",
       "      <td>0.324704</td>\n",
       "      <td>0.700521</td>\n",
       "      <td>0.302461</td>\n",
       "      <td>0.717637</td>\n",
       "    </tr>\n",
       "    <tr>\n",
       "      <th>2</th>\n",
       "      <td>sub-0134</td>\n",
       "      <td>0</td>\n",
       "      <td>1</td>\n",
       "      <td>-0.736560</td>\n",
       "      <td>0.450240</td>\n",
       "      <td>0.168241</td>\n",
       "      <td>-0.185365</td>\n",
       "      <td>-0.688195</td>\n",
       "      <td>0.197949</td>\n",
       "      <td>0.647058</td>\n",
       "      <td>...</td>\n",
       "      <td>-0.512793</td>\n",
       "      <td>-0.799635</td>\n",
       "      <td>0.512785</td>\n",
       "      <td>0.114624</td>\n",
       "      <td>0.060401</td>\n",
       "      <td>0.249275</td>\n",
       "      <td>0.700185</td>\n",
       "      <td>0.510619</td>\n",
       "      <td>0.349703</td>\n",
       "      <td>0.861318</td>\n",
       "    </tr>\n",
       "    <tr>\n",
       "      <th>3</th>\n",
       "      <td>sub-0152</td>\n",
       "      <td>0</td>\n",
       "      <td>0</td>\n",
       "      <td>-0.836268</td>\n",
       "      <td>0.247815</td>\n",
       "      <td>0.009714</td>\n",
       "      <td>-0.299220</td>\n",
       "      <td>0.531633</td>\n",
       "      <td>0.129546</td>\n",
       "      <td>0.196253</td>\n",
       "      <td>...</td>\n",
       "      <td>-0.425914</td>\n",
       "      <td>-0.485006</td>\n",
       "      <td>0.087595</td>\n",
       "      <td>-0.118360</td>\n",
       "      <td>0.287245</td>\n",
       "      <td>0.082488</td>\n",
       "      <td>0.140679</td>\n",
       "      <td>-0.035870</td>\n",
       "      <td>0.303373</td>\n",
       "      <td>0.066999</td>\n",
       "    </tr>\n",
       "    <tr>\n",
       "      <th>4</th>\n",
       "      <td>sub-0260</td>\n",
       "      <td>1</td>\n",
       "      <td>1</td>\n",
       "      <td>-0.862919</td>\n",
       "      <td>0.325449</td>\n",
       "      <td>0.116520</td>\n",
       "      <td>0.598062</td>\n",
       "      <td>0.156802</td>\n",
       "      <td>0.299538</td>\n",
       "      <td>0.407705</td>\n",
       "      <td>...</td>\n",
       "      <td>-0.641054</td>\n",
       "      <td>-0.853856</td>\n",
       "      <td>0.237699</td>\n",
       "      <td>0.188894</td>\n",
       "      <td>0.252504</td>\n",
       "      <td>0.304288</td>\n",
       "      <td>0.975270</td>\n",
       "      <td>0.301569</td>\n",
       "      <td>0.364741</td>\n",
       "      <td>0.844617</td>\n",
       "    </tr>\n",
       "  </tbody>\n",
       "</table>\n",
       "<p>5 rows × 52 columns</p>\n",
       "</div>"
      ],
      "text/plain": [
       "  Subject_ID  diagadhd  CHILDgender  zfALFF_cHipp_L  \\\n",
       "0   sub-0015         0            1       -0.804092   \n",
       "1   sub-0085         0            0       -0.642705   \n",
       "2   sub-0134         0            1       -0.736560   \n",
       "3   sub-0152         0            0       -0.836268   \n",
       "4   sub-0260         1            1       -0.862919   \n",
       "\n",
       "   zfALFF_17Networks_RH_DorsAttnB_PostC_1  \\\n",
       "0                                0.783703   \n",
       "1                                0.157542   \n",
       "2                                0.450240   \n",
       "3                                0.247815   \n",
       "4                                0.325449   \n",
       "\n",
       "   zDCwei_17Networks_LH_SalVentAttnA_FrMed_1  zReHo_17Networks_LH_ContA_IPS_2  \\\n",
       "0                                   0.257226                         0.328572   \n",
       "1                                   0.170051                         0.408825   \n",
       "2                                   0.168241                        -0.185365   \n",
       "3                                   0.009714                        -0.299220   \n",
       "4                                   0.116520                         0.598062   \n",
       "\n",
       "   zReHo_17Networks_RH_DorsAttnB_FEF_3  \\\n",
       "0                             0.230233   \n",
       "1                             0.414221   \n",
       "2                            -0.688195   \n",
       "3                             0.531633   \n",
       "4                             0.156802   \n",
       "\n",
       "   zfALFF_17Networks_LH_DorsAttnB_PostC_5  \\\n",
       "0                                0.319226   \n",
       "1                                0.357635   \n",
       "2                                0.197949   \n",
       "3                                0.129546   \n",
       "4                                0.299538   \n",
       "\n",
       "   zfALFF_17Networks_RH_SalVentAttnB_PFCl_2  ...  zfALFF_rTtha_L  \\\n",
       "0                                  0.613700  ...       -0.764751   \n",
       "1                                  0.567797  ...       -0.347692   \n",
       "2                                  0.647058  ...       -0.512793   \n",
       "3                                  0.196253  ...       -0.425914   \n",
       "4                                  0.407705  ...       -0.641054   \n",
       "\n",
       "   zfALFF_17Networks_9  zDCwei_17Networks_RH_SomMotB_S2_3  \\\n",
       "0            -0.787030                           0.333203   \n",
       "1            -0.601078                           0.112736   \n",
       "2            -0.799635                           0.512785   \n",
       "3            -0.485006                           0.087595   \n",
       "4            -0.853856                           0.237699   \n",
       "\n",
       "   zfALFF_17Networks_LH_DorsAttnB_PostC_2  \\\n",
       "0                                0.168945   \n",
       "1                                0.275541   \n",
       "2                                0.114624   \n",
       "3                               -0.118360   \n",
       "4                                0.188894   \n",
       "\n",
       "   zfALFF_17Networks_RH_DefaultA_PFCm_4  zDCwei_17Networks_LH_DefaultC_PHC_3  \\\n",
       "0                              0.388611                            -0.130038   \n",
       "1                              0.011459                            -0.321277   \n",
       "2                              0.060401                             0.249275   \n",
       "3                              0.287245                             0.082488   \n",
       "4                              0.252504                             0.304288   \n",
       "\n",
       "   zfALFF_17Networks_RH_SomMotA_4  zfALFF_17Networks_RH_ContB_IPL_3  \\\n",
       "0                        1.050737                          0.658700   \n",
       "1                        0.324704                          0.700521   \n",
       "2                        0.700185                          0.510619   \n",
       "3                        0.140679                         -0.035870   \n",
       "4                        0.975270                          0.301569   \n",
       "\n",
       "   gmd_17Networks_RH_VisCent_ExStr_8  zfALFF_17Networks_RH_SomMotA_2  \n",
       "0                           0.252435                        1.212068  \n",
       "1                           0.302461                        0.717637  \n",
       "2                           0.349703                        0.861318  \n",
       "3                           0.303373                        0.066999  \n",
       "4                           0.364741                        0.844617  \n",
       "\n",
       "[5 rows x 52 columns]"
      ]
     },
     "execution_count": 28,
     "metadata": {},
     "output_type": "execute_result"
    }
   ],
   "source": [
    "df_with25imp = df[[col for col in feat_imp['region']]]\n",
    "df_with25imp.insert(0, 'Subject_ID', df['Subject_ID'])\n",
    "df_with25imp.insert(1, 'diagadhd', df['diagadhd'])\n",
    "df_with25imp.head()"
   ]
  },
  {
   "cell_type": "markdown",
   "metadata": {},
   "source": [
    "##### now applying the Random Forest:"
   ]
  },
  {
   "cell_type": "code",
   "execution_count": 29,
   "metadata": {},
   "outputs": [
    {
     "name": "stderr",
     "output_type": "stream",
     "text": [
      "/home/tara/Programming/env/lib/python3.8/site-packages/xgboost/sklearn.py:1224: UserWarning: The use of label encoder in XGBClassifier is deprecated and will be removed in a future release. To remove this warning, do the following: 1) Pass option use_label_encoder=False when constructing XGBClassifier object; and 2) Encode your labels (y) as integers starting with 0, i.e. 0, 1, 2, ..., [num_class - 1].\n",
      "  warnings.warn(label_encoder_deprecation_msg, UserWarning)\n"
     ]
    },
    {
     "name": "stdout",
     "output_type": "stream",
     "text": [
      "[14:48:25] WARNING: ../src/learner.cc:1115: Starting in XGBoost 1.3.0, the default evaluation metric used with the objective 'binary:logistic' was changed from 'error' to 'logloss'. Explicitly set eval_metric if you'd like to restore the old behavior.\n",
      "Accuracy: 75.00%\n"
     ]
    }
   ],
   "source": [
    "# train-test split evaluation of xgboost model\n",
    "from numpy import loadtxt\n",
    "from xgboost import XGBClassifier\n",
    "from sklearn.model_selection import train_test_split\n",
    "from sklearn.metrics import accuracy_score\n",
    "from xgboost import XGBClassifier\n",
    "\n",
    "# split data into X and y\n",
    "#X_train, X_test, y_train, y_test = train_test_split(data.iloc[:,2:], data['diagadhd'], test_size=0.3)\n",
    "training_set, test_set = train_test_split(df_with25imp, test_size = 0.2, random_state = 3)\n",
    "                                         \n",
    "X_train = training_set.iloc[:,2:].values\n",
    "y_train = training_set.iloc[:,1].values\n",
    "X_test = test_set.iloc[:,2:].values\n",
    "y_test = test_set.iloc[:,1].values\n",
    "\n",
    "# fit model no training data\n",
    "model = XGBClassifier()\n",
    "model.fit(X_train, y_train)\n",
    "# make predictions for test data\n",
    "y_pred = model.predict(X_test)\n",
    "predictions = [round(value) for value in y_pred]\n",
    "# evaluate predictions\n",
    "accuracy = accuracy_score(y_test, predictions)\n",
    "print(\"Accuracy: %.2f%%\" % (accuracy * 100.0))"
   ]
  },
  {
   "cell_type": "code",
   "execution_count": 30,
   "metadata": {},
   "outputs": [],
   "source": [
    "### from sklearn.model_selection import RandomizedSearchCV\n",
    "\n",
    "# number of trees in RF\n",
    "n_estimators = [int(x) for x in np.linspace(start = 10, stop = 100, num = 91)]\n",
    "\n",
    "# number of features to consider at every split\n",
    "max_features = ['auto', 'sqrt']\n",
    "\n",
    "# maximum number of levels in tree\n",
    "max_depth = [int(x) for x in np.linspace(10, 110, num = 11)]\n",
    "max_depth.append(None)\n",
    "\n",
    "# minimum number of samples required to split a node\n",
    "min_sample_split = [2, 5, 10]\n",
    "\n",
    "# minimum number of samples required at each leaf node\n",
    "min_sample_leaf = [1, 2, 4]\n",
    "\n",
    "# method of selecting samples for training each tree\n",
    "bootstrap = [True, False]\n",
    "\n",
    "# create the random grid\n",
    "random_grid = {'n_estimators': n_estimators,\n",
    "              'max_features': max_features,\n",
    "              'max_depth': max_depth,\n",
    "              'min_samples_split': min_sample_split,\n",
    "              'min_samples_leaf': min_sample_leaf,\n",
    "              'bootstrap': bootstrap}\n",
    "\n",
    "#pprint(random_grid)"
   ]
  },
  {
   "cell_type": "code",
   "execution_count": 31,
   "metadata": {},
   "outputs": [
    {
     "name": "stdout",
     "output_type": "stream",
     "text": [
      "Fitting 5 folds for each of 100 candidates, totalling 500 fits\n"
     ]
    },
    {
     "data": {
      "text/plain": [
       "{'n_estimators': 51,\n",
       " 'min_samples_split': 10,\n",
       " 'min_samples_leaf': 2,\n",
       " 'max_features': 'sqrt',\n",
       " 'max_depth': 40,\n",
       " 'bootstrap': True}"
      ]
     },
     "execution_count": 31,
     "metadata": {},
     "output_type": "execute_result"
    }
   ],
   "source": [
    "# use the random grid to search for best hyperparameters\n",
    "rf = RandomForestClassifier()\n",
    "\n",
    "# random search of parameters using 3 fold corss validation \n",
    "rf_random = RandomizedSearchCV(estimator = rf, param_distributions = random_grid, n_iter = 100, cv = 5, verbose = 2, random_state = 15, n_jobs = -1)\n",
    "\n",
    "# fit the random search model\n",
    "rf_random.fit(X, y)\n",
    "\n",
    "rf_random.best_params_"
   ]
  },
  {
   "cell_type": "code",
   "execution_count": 32,
   "metadata": {},
   "outputs": [
    {
     "name": "stdout",
     "output_type": "stream",
     "text": [
      "the random forest score without CV:  0.625\n"
     ]
    }
   ],
   "source": [
    "rf = RandomForestClassifier(n_estimators = 68, random_state = 25, min_samples_split=2, min_samples_leaf=2, max_features='auto', max_depth = 100, bootstrap= False)\n",
    "rf.fit(X_train, y_train)\n",
    "print('the random forest score without CV: ', rf.score(X_test, y_test))"
   ]
  },
  {
   "cell_type": "code",
   "execution_count": 33,
   "metadata": {},
   "outputs": [
    {
     "name": "stdout",
     "output_type": "stream",
     "text": [
      "Fitting 5 folds for each of 100 candidates, totalling 500 fits\n",
      "the random forest score with CV:  0.6666666666666666\n"
     ]
    }
   ],
   "source": [
    "rf = RandomForestClassifier()\n",
    "rf_random = RandomizedSearchCV(estimator = rf, param_distributions = random_grid, n_iter = 100, cv = 5, verbose = 2, random_state = 35, n_jobs = -1)\n",
    "rf_random.fit(X_train, y_train)\n",
    "\n",
    "print('the random forest score with CV: ', rf_random.score(X_test, y_test))"
   ]
  },
  {
   "cell_type": "markdown",
   "metadata": {},
   "source": [
    "## Evaluation"
   ]
  },
  {
   "cell_type": "code",
   "execution_count": 34,
   "metadata": {},
   "outputs": [
    {
     "name": "stdout",
     "output_type": "stream",
     "text": [
      "[[14  1]\n",
      " [ 5  4]]\n"
     ]
    }
   ],
   "source": [
    "# Confusion matrix\n",
    "confusion = metrics.confusion_matrix(y_test, y_pred)\n",
    "print(confusion)"
   ]
  },
  {
   "cell_type": "code",
   "execution_count": 35,
   "metadata": {},
   "outputs": [
    {
     "data": {
      "image/png": "[encoded data removed]",
      "text/plain": [
       "<Figure size 432x288 with 2 Axes>"
      ]
     },
     "metadata": {
      "needs_background": "light"
     },
     "output_type": "display_data"
    }
   ],
   "source": [
    "import seaborn as sns\n",
    "heatmap = sns.heatmap(confusion, annot=True, cmap='Oranges')\n",
    "\n",
    "heatmap.yaxis.set_ticklabels(heatmap.yaxis.get_ticklabels(),\n",
    "                            rotation=0, ha='right')\n",
    "\n",
    "heatmap.xaxis.set_ticklabels(heatmap.xaxis.get_ticklabels(),\n",
    "                            rotation=0, ha='right')\n",
    "\n",
    "plt.ylabel('True label')\n",
    "plt.xlabel('Predicted label')\n",
    "plt.title('RF Model Results')\n",
    "plt.show()"
   ]
  },
  {
   "cell_type": "code",
   "execution_count": 36,
   "metadata": {},
   "outputs": [
    {
     "data": {
      "image/png": "[encoded data removed]",
      "text/plain": [
       "<Figure size 432x288 with 1 Axes>"
      ]
     },
     "metadata": {
      "needs_background": "light"
     },
     "output_type": "display_data"
    }
   ],
   "source": [
    "import scikitplot as skplt\n",
    "import matplotlib.pyplot as plt\n",
    "\n",
    "y_pred_proba = model.predict_proba(X_test)[::,1]\n",
    "fpr, tpr, _ = metrics.roc_curve(y_test,  y_pred_proba)\n",
    "auc = metrics.roc_auc_score(y_test, y_pred_proba)\n",
    "plt.plot(fpr,tpr,label=\"auc=\"+str(auc))\n",
    "plt.legend(loc=4)\n",
    "plt.show()"
   ]
  },
  {
   "cell_type": "code",
   "execution_count": 48,
   "metadata": {},
   "outputs": [],
   "source": [
    "from sklearn import datasets\n",
    "from sklearn.tree import DecisionTreeClassifier\n",
    "from sklearn.linear_model import LogisticRegression\n",
    "from sklearn.metrics import roc_curve, roc_auc_score\n",
    "from sklearn.model_selection import train_test_split\n",
    "import matplotlib.pyplot as plt"
   ]
  },
  {
   "cell_type": "code",
   "execution_count": 49,
   "metadata": {},
   "outputs": [
    {
     "name": "stdout",
     "output_type": "stream",
     "text": [
      "roc_auc_score for DecisionTree:  0.8296296296296296\n"
     ]
    }
   ],
   "source": [
    "y_score1 = model.predict_proba(X_test)[:,1]\n",
    "y_score2 = model.predict_proba(X_test)[:,1]\n",
    "false_positive_rate1, true_positive_rate1, threshold1 = roc_curve(y_test, y_score1)\n",
    "false_positive_rate2, true_positive_rate2, threshold2 = roc_curve(y_test, y_score2)\n",
    "print('roc_auc_score for DecisionTree: ', roc_auc_score(y_test, y_score1))"
   ]
  },
  {
   "cell_type": "code",
   "execution_count": 50,
   "metadata": {},
   "outputs": [],
   "source": [
    "TP = confusion[1,1] # true positive\n",
    "TN = confusion[0,0] # true negatives\n",
    "FP = confusion[0,1] # false positives\n",
    "FN = confusion[1,0] # false negatives"
   ]
  },
  {
   "cell_type": "code",
   "execution_count": 51,
   "metadata": {},
   "outputs": [
    {
     "data": {
      "text/plain": [
       "0.6666666666666666"
      ]
     },
     "execution_count": 51,
     "metadata": {},
     "output_type": "execute_result"
    }
   ],
   "source": [
    "# Let's see the sensitivity of our logistic regression model\n",
    "\n",
    "TP / float(TP+FN)"
   ]
  },
  {
   "cell_type": "code",
   "execution_count": 52,
   "metadata": {},
   "outputs": [
    {
     "data": {
      "text/plain": [
       "0.8"
      ]
     },
     "execution_count": 52,
     "metadata": {},
     "output_type": "execute_result"
    }
   ],
   "source": [
    "# Let us calculate specificity\n",
    "\n",
    "TN / float(TN+FP)"
   ]
  },
  {
   "cell_type": "code",
   "execution_count": null,
   "metadata": {},
   "outputs": [],
   "source": []
  }
 ],
 "metadata": {
  "kernelspec": {
   "display_name": "Python 3",
   "language": "python",
   "name": "python3"
  },
  "language_info": {
   "codemirror_mode": {
    "name": "ipython",
    "version": 3
   },
   "file_extension": ".py",
   "mimetype": "text/x-python",
   "name": "python",
   "nbconvert_exporter": "python",
   "pygments_lexer": "ipython3",
   "version": "3.8.10"
  }
 },
 "nbformat": 4,
 "nbformat_minor": 4
}
