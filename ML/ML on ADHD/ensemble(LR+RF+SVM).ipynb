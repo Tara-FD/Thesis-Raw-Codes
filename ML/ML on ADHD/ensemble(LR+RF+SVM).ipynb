{
 "cells": [
  {
   "cell_type": "code",
   "execution_count": 1,
   "metadata": {},
   "outputs": [],
   "source": [
    "%config Completer.use_jedi = False"
   ]
  },
  {
   "cell_type": "code",
   "execution_count": 2,
   "metadata": {},
   "outputs": [],
   "source": [
    "from sklearn.model_selection import train_test_split\n",
    "from sklearn.datasets import make_moons\n",
    "from sklearn.linear_model import LogisticRegression\n",
    "from sklearn.linear_model import LinearRegression\n",
    "from sklearn.svm import SVC\n",
    "from sklearn.ensemble import RandomForestClassifier\n",
    "from sklearn.ensemble import VotingClassifier\n",
    "from sklearn.metrics import accuracy_score\n",
    "import pandas as pd\n",
    "from sklearn.model_selection import GridSearchCV, cross_val_score\n",
    "import numpy as np"
   ]
  },
  {
   "cell_type": "code",
   "execution_count": 3,
   "metadata": {},
   "outputs": [
    {
     "data": {
      "text/html": [
       "<div>\n",
       "<style scoped>\n",
       "    .dataframe tbody tr th:only-of-type {\n",
       "        vertical-align: middle;\n",
       "    }\n",
       "\n",
       "    .dataframe tbody tr th {\n",
       "        vertical-align: top;\n",
       "    }\n",
       "\n",
       "    .dataframe thead th {\n",
       "        text-align: right;\n",
       "    }\n",
       "</style>\n",
       "<table border=\"1\" class=\"dataframe\">\n",
       "  <thead>\n",
       "    <tr style=\"text-align: right;\">\n",
       "      <th></th>\n",
       "      <th>diagadhd</th>\n",
       "      <th>pc1</th>\n",
       "      <th>pc2</th>\n",
       "      <th>pc3</th>\n",
       "      <th>pc4</th>\n",
       "      <th>pc5</th>\n",
       "      <th>pc6</th>\n",
       "      <th>pc7</th>\n",
       "    </tr>\n",
       "  </thead>\n",
       "  <tbody>\n",
       "    <tr>\n",
       "      <th>0</th>\n",
       "      <td>0</td>\n",
       "      <td>-6.316805</td>\n",
       "      <td>-3.993805</td>\n",
       "      <td>2.608238</td>\n",
       "      <td>-1.798007</td>\n",
       "      <td>0.423410</td>\n",
       "      <td>-0.186947</td>\n",
       "      <td>-0.877869</td>\n",
       "    </tr>\n",
       "    <tr>\n",
       "      <th>1</th>\n",
       "      <td>0</td>\n",
       "      <td>-3.483505</td>\n",
       "      <td>3.740298</td>\n",
       "      <td>3.714569</td>\n",
       "      <td>-1.483998</td>\n",
       "      <td>-0.931064</td>\n",
       "      <td>-1.223045</td>\n",
       "      <td>-0.586351</td>\n",
       "    </tr>\n",
       "    <tr>\n",
       "      <th>2</th>\n",
       "      <td>0</td>\n",
       "      <td>-5.072733</td>\n",
       "      <td>-1.089990</td>\n",
       "      <td>-2.044430</td>\n",
       "      <td>-0.990292</td>\n",
       "      <td>4.428686</td>\n",
       "      <td>3.542252</td>\n",
       "      <td>0.361166</td>\n",
       "    </tr>\n",
       "    <tr>\n",
       "      <th>3</th>\n",
       "      <td>0</td>\n",
       "      <td>9.102421</td>\n",
       "      <td>-0.533294</td>\n",
       "      <td>0.310204</td>\n",
       "      <td>6.574085</td>\n",
       "      <td>1.079962</td>\n",
       "      <td>-0.325457</td>\n",
       "      <td>0.911585</td>\n",
       "    </tr>\n",
       "    <tr>\n",
       "      <th>4</th>\n",
       "      <td>1</td>\n",
       "      <td>0.069205</td>\n",
       "      <td>-1.513308</td>\n",
       "      <td>0.906914</td>\n",
       "      <td>0.406834</td>\n",
       "      <td>-0.200324</td>\n",
       "      <td>2.936415</td>\n",
       "      <td>-0.700523</td>\n",
       "    </tr>\n",
       "  </tbody>\n",
       "</table>\n",
       "</div>"
      ],
      "text/plain": [
       "   diagadhd       pc1       pc2       pc3       pc4       pc5       pc6  \\\n",
       "0         0 -6.316805 -3.993805  2.608238 -1.798007  0.423410 -0.186947   \n",
       "1         0 -3.483505  3.740298  3.714569 -1.483998 -0.931064 -1.223045   \n",
       "2         0 -5.072733 -1.089990 -2.044430 -0.990292  4.428686  3.542252   \n",
       "3         0  9.102421 -0.533294  0.310204  6.574085  1.079962 -0.325457   \n",
       "4         1  0.069205 -1.513308  0.906914  0.406834 -0.200324  2.936415   \n",
       "\n",
       "        pc7  \n",
       "0 -0.877869  \n",
       "1 -0.586351  \n",
       "2  0.361166  \n",
       "3  0.911585  \n",
       "4 -0.700523  "
      ]
     },
     "execution_count": 3,
     "metadata": {},
     "output_type": "execute_result"
    }
   ],
   "source": [
    "pcadf = pd.read_csv('pcadf.csv')\n",
    "pcadf.drop('Unnamed: 0', axis=1, inplace=True)\n",
    "pcadf.head()"
   ]
  },
  {
   "cell_type": "code",
   "execution_count": null,
   "metadata": {},
   "outputs": [],
   "source": [
    "pcadf = pcadf.iloc[:,0:4]\n",
    "pcadf.head()"
   ]
  },
  {
   "cell_type": "code",
   "execution_count": null,
   "metadata": {},
   "outputs": [],
   "source": [
    "pcadf.shape"
   ]
  },
  {
   "cell_type": "code",
   "execution_count": null,
   "metadata": {},
   "outputs": [],
   "source": [
    "X = pcadf.iloc[0:117,1:].values\n",
    "y = pcadf.iloc[0:117,0].values\n",
    "print(X.shape, y.shape)"
   ]
  },
  {
   "cell_type": "code",
   "execution_count": null,
   "metadata": {},
   "outputs": [],
   "source": [
    "# train-test split evaluation of xgboost model\n",
    "from numpy import loadtxt\n",
    "from xgboost import XGBClassifier\n",
    "from sklearn.model_selection import train_test_split\n",
    "from sklearn.metrics import accuracy_score\n",
    "from xgboost import XGBClassifier\n",
    "\n",
    "# split data into X and y\n",
    "#X_train, X_test, y_train, y_test = train_test_split(data.iloc[:,2:], data['diagadhd'], test_size=0.3)\n",
    "training_set, test_set = train_test_split(pcadf, test_size = 0.2, random_state = 4)\n",
    "X_train = training_set.iloc[:,1:].values\n",
    "y_train = training_set.iloc[:,0].values\n",
    "X_test = test_set.iloc[:,1:].values\n",
    "y_test = test_set.iloc[:,0].values\n",
    "\n",
    "# fit model no training data\n",
    "model = XGBClassifier()\n",
    "model.fit(X_train, y_train)\n",
    "# make predictions for test data\n",
    "y_pred = model.predict(X_test)\n",
    "predictions = [round(value) for value in y_pred]\n",
    "# evaluate predictions\n",
    "accuracy = accuracy_score(y_test, predictions)\n",
    "print(\"Accuracy: %.2f%%\" % (accuracy * 100.0))"
   ]
  },
  {
   "cell_type": "code",
   "execution_count": null,
   "metadata": {},
   "outputs": [],
   "source": [
    "log = LogisticRegression(C=0.18420699693267145, penalty='l2' )\n",
    "rnd = RandomForestClassifier(n_estimators=80,bootstrap=False,max_depth=10,max_features='auto',min_samples_leaf=2, min_samples_split=5)\n",
    "svm = SVC(C=1, kernel='linear',random_state=1 )"
   ]
  },
  {
   "cell_type": "code",
   "execution_count": null,
   "metadata": {},
   "outputs": [],
   "source": [
    "voting = VotingClassifier(\n",
    "    estimators=[('logistic_regression', log),('random_forest', rnd), ('support_vector_machine', svm)],\n",
    "    voting='hard')"
   ]
  },
  {
   "cell_type": "code",
   "execution_count": null,
   "metadata": {},
   "outputs": [],
   "source": [
    "voting.fit(X_train, y_train)"
   ]
  },
  {
   "cell_type": "code",
   "execution_count": null,
   "metadata": {},
   "outputs": [],
   "source": [
    "scores = cross_val_score(voting, X_train, y_train, scoring='accuracy', cv=10)\n",
    "print('10-CV accuracy: %.3f +/- %.3f' % (np.mean(scores), np.std(scores)))"
   ]
  },
  {
   "cell_type": "code",
   "execution_count": null,
   "metadata": {},
   "outputs": [],
   "source": [
    "scores = cross_val_score(voting, X_test, y_test, scoring='accuracy', cv=10)\n",
    "print('10-CV accuracy: %.3f +/- %.3f' % (np.mean(scores), np.std(scores)))"
   ]
  },
  {
   "cell_type": "code",
   "execution_count": null,
   "metadata": {},
   "outputs": [],
   "source": [
    "# train set accuracy\n",
    "for clf in (log, rnd, svm, voting):\n",
    "    clf.fit(X_train, y_train)\n",
    "    y_pred = clf.predict(X_test)\n",
    "    print(clf.__class__.__name__, accuracy_score(y_test, y_pred))"
   ]
  },
  {
   "cell_type": "code",
   "execution_count": null,
   "metadata": {},
   "outputs": [],
   "source": [
    "#test set accuracy\n",
    "for clf in (log, rnd, svm, voting):\n",
    "    clf.fit(X_train, y_train)\n",
    "    y_pred = clf.predict(X_test)\n",
    "    print(clf.__class__.__name__, accuracy_score(y_test, y_pred))"
   ]
  },
  {
   "cell_type": "code",
   "execution_count": null,
   "metadata": {},
   "outputs": [],
   "source": []
  },
  {
   "cell_type": "code",
   "execution_count": null,
   "metadata": {},
   "outputs": [],
   "source": []
  },
  {
   "cell_type": "code",
   "execution_count": null,
   "metadata": {},
   "outputs": [],
   "source": []
  }
 ],
 "metadata": {
  "kernelspec": {
   "display_name": "Python 3",
   "language": "python",
   "name": "python3"
  },
  "language_info": {
   "codemirror_mode": {
    "name": "ipython",
    "version": 3
   },
   "file_extension": ".py",
   "mimetype": "text/x-python",
   "name": "python",
   "nbconvert_exporter": "python",
   "pygments_lexer": "ipython3",
   "version": "3.8.10"
  }
 },
 "nbformat": 4,
 "nbformat_minor": 4
}
