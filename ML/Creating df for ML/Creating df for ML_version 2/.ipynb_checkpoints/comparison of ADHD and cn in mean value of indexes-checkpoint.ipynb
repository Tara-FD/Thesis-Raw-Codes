{
 "cells": [
  {
   "cell_type": "code",
   "execution_count": 98,
   "metadata": {},
   "outputs": [],
   "source": [
    "import pandas as pd \n",
    "import numpy as np\n",
    "from scipy import stats"
   ]
  },
  {
   "cell_type": "code",
   "execution_count": 4,
   "metadata": {},
   "outputs": [
    {
     "data": {
      "text/html": [
       "<div>\n",
       "<style scoped>\n",
       "    .dataframe tbody tr th:only-of-type {\n",
       "        vertical-align: middle;\n",
       "    }\n",
       "\n",
       "    .dataframe tbody tr th {\n",
       "        vertical-align: top;\n",
       "    }\n",
       "\n",
       "    .dataframe thead th {\n",
       "        text-align: right;\n",
       "    }\n",
       "</style>\n",
       "<table border=\"1\" class=\"dataframe\">\n",
       "  <thead>\n",
       "    <tr style=\"text-align: right;\">\n",
       "      <th></th>\n",
       "      <th>Subject_ID</th>\n",
       "      <th>diagadhd</th>\n",
       "      <th>CHILDgender</th>\n",
       "      <th>zfALFF_17Networks_9</th>\n",
       "      <th>zfALFF_17Networks_2</th>\n",
       "      <th>zfALFF_lPFtha_L</th>\n",
       "      <th>zfALFF_cTtha_L</th>\n",
       "      <th>zfALFF_Otha_L</th>\n",
       "      <th>zfALFF_rTtha_R</th>\n",
       "      <th>zfALFF_rTtha_L</th>\n",
       "      <th>...</th>\n",
       "      <th>zDCwei_17Networks_RH_SomMotA_6</th>\n",
       "      <th>zDCwei_17Networks_LH_DefaultC_PHC_3</th>\n",
       "      <th>zDCwei_17Networks_LH_DefaultB_Temp_5</th>\n",
       "      <th>zDCwei_17Networks_LH_ContB_Temp_2</th>\n",
       "      <th>zDCwei_17Networks_LH_SalVentAttnA_FrMed_2</th>\n",
       "      <th>zDCwei_17Networks_LH_SalVentAttnA_FrMed_1</th>\n",
       "      <th>zDCwei_17Networks_LH_SalVentAttnA_ParMed_1</th>\n",
       "      <th>zDCwei_17Networks_LH_SalVentAttnA_ParOper_1</th>\n",
       "      <th>zDCwei_17Networks_LH_DorsAttnB_PostC_1</th>\n",
       "      <th>zDCwei_17Networks_LH_DorsAttnA_TempOcc_2</th>\n",
       "    </tr>\n",
       "  </thead>\n",
       "  <tbody>\n",
       "    <tr>\n",
       "      <th>0</th>\n",
       "      <td>sub-0015</td>\n",
       "      <td>0</td>\n",
       "      <td>1</td>\n",
       "      <td>-0.787030</td>\n",
       "      <td>-0.445804</td>\n",
       "      <td>-0.929277</td>\n",
       "      <td>-0.743303</td>\n",
       "      <td>-0.701746</td>\n",
       "      <td>-0.843242</td>\n",
       "      <td>-0.764751</td>\n",
       "      <td>...</td>\n",
       "      <td>0.570004</td>\n",
       "      <td>-0.130038</td>\n",
       "      <td>-0.047269</td>\n",
       "      <td>0.388094</td>\n",
       "      <td>0.158019</td>\n",
       "      <td>0.257226</td>\n",
       "      <td>0.094419</td>\n",
       "      <td>0.157887</td>\n",
       "      <td>0.042376</td>\n",
       "      <td>-0.074321</td>\n",
       "    </tr>\n",
       "    <tr>\n",
       "      <th>1</th>\n",
       "      <td>sub-0085</td>\n",
       "      <td>0</td>\n",
       "      <td>0</td>\n",
       "      <td>-0.601078</td>\n",
       "      <td>-0.304966</td>\n",
       "      <td>-0.397031</td>\n",
       "      <td>-0.381863</td>\n",
       "      <td>-0.449357</td>\n",
       "      <td>-0.341996</td>\n",
       "      <td>-0.347692</td>\n",
       "      <td>...</td>\n",
       "      <td>0.280915</td>\n",
       "      <td>-0.321277</td>\n",
       "      <td>-0.009029</td>\n",
       "      <td>-0.196261</td>\n",
       "      <td>0.080881</td>\n",
       "      <td>0.170051</td>\n",
       "      <td>0.153607</td>\n",
       "      <td>0.192767</td>\n",
       "      <td>-0.052853</td>\n",
       "      <td>0.049870</td>\n",
       "    </tr>\n",
       "    <tr>\n",
       "      <th>2</th>\n",
       "      <td>sub-0134</td>\n",
       "      <td>0</td>\n",
       "      <td>1</td>\n",
       "      <td>-0.799635</td>\n",
       "      <td>-0.231216</td>\n",
       "      <td>-0.840667</td>\n",
       "      <td>-0.901478</td>\n",
       "      <td>-0.487365</td>\n",
       "      <td>-0.710494</td>\n",
       "      <td>-0.512793</td>\n",
       "      <td>...</td>\n",
       "      <td>0.631763</td>\n",
       "      <td>0.249275</td>\n",
       "      <td>0.492542</td>\n",
       "      <td>0.465131</td>\n",
       "      <td>0.149572</td>\n",
       "      <td>0.168241</td>\n",
       "      <td>0.310641</td>\n",
       "      <td>0.219820</td>\n",
       "      <td>0.148504</td>\n",
       "      <td>0.236822</td>\n",
       "    </tr>\n",
       "    <tr>\n",
       "      <th>3</th>\n",
       "      <td>sub-0152</td>\n",
       "      <td>0</td>\n",
       "      <td>0</td>\n",
       "      <td>-0.485006</td>\n",
       "      <td>-0.223685</td>\n",
       "      <td>-0.294288</td>\n",
       "      <td>-0.634390</td>\n",
       "      <td>-0.597999</td>\n",
       "      <td>-0.640255</td>\n",
       "      <td>-0.425914</td>\n",
       "      <td>...</td>\n",
       "      <td>-0.034122</td>\n",
       "      <td>0.082488</td>\n",
       "      <td>0.263105</td>\n",
       "      <td>0.375573</td>\n",
       "      <td>-0.179384</td>\n",
       "      <td>0.009714</td>\n",
       "      <td>0.205987</td>\n",
       "      <td>0.018744</td>\n",
       "      <td>0.069715</td>\n",
       "      <td>0.291880</td>\n",
       "    </tr>\n",
       "    <tr>\n",
       "      <th>4</th>\n",
       "      <td>sub-0260</td>\n",
       "      <td>1</td>\n",
       "      <td>1</td>\n",
       "      <td>-0.853856</td>\n",
       "      <td>-0.356149</td>\n",
       "      <td>-0.863769</td>\n",
       "      <td>-0.617213</td>\n",
       "      <td>-0.475704</td>\n",
       "      <td>-0.797962</td>\n",
       "      <td>-0.641054</td>\n",
       "      <td>...</td>\n",
       "      <td>-0.181578</td>\n",
       "      <td>0.304288</td>\n",
       "      <td>0.449225</td>\n",
       "      <td>0.739805</td>\n",
       "      <td>0.125963</td>\n",
       "      <td>0.116520</td>\n",
       "      <td>0.293805</td>\n",
       "      <td>0.122458</td>\n",
       "      <td>-0.000745</td>\n",
       "      <td>0.174841</td>\n",
       "    </tr>\n",
       "  </tbody>\n",
       "</table>\n",
       "<p>5 rows × 187 columns</p>\n",
       "</div>"
      ],
      "text/plain": [
       "  Subject_ID  diagadhd  CHILDgender  zfALFF_17Networks_9  zfALFF_17Networks_2  \\\n",
       "0   sub-0015         0            1            -0.787030            -0.445804   \n",
       "1   sub-0085         0            0            -0.601078            -0.304966   \n",
       "2   sub-0134         0            1            -0.799635            -0.231216   \n",
       "3   sub-0152         0            0            -0.485006            -0.223685   \n",
       "4   sub-0260         1            1            -0.853856            -0.356149   \n",
       "\n",
       "   zfALFF_lPFtha_L  zfALFF_cTtha_L  zfALFF_Otha_L  zfALFF_rTtha_R  \\\n",
       "0        -0.929277       -0.743303      -0.701746       -0.843242   \n",
       "1        -0.397031       -0.381863      -0.449357       -0.341996   \n",
       "2        -0.840667       -0.901478      -0.487365       -0.710494   \n",
       "3        -0.294288       -0.634390      -0.597999       -0.640255   \n",
       "4        -0.863769       -0.617213      -0.475704       -0.797962   \n",
       "\n",
       "   zfALFF_rTtha_L  ...  zDCwei_17Networks_RH_SomMotA_6  \\\n",
       "0       -0.764751  ...                        0.570004   \n",
       "1       -0.347692  ...                        0.280915   \n",
       "2       -0.512793  ...                        0.631763   \n",
       "3       -0.425914  ...                       -0.034122   \n",
       "4       -0.641054  ...                       -0.181578   \n",
       "\n",
       "   zDCwei_17Networks_LH_DefaultC_PHC_3  zDCwei_17Networks_LH_DefaultB_Temp_5  \\\n",
       "0                            -0.130038                             -0.047269   \n",
       "1                            -0.321277                             -0.009029   \n",
       "2                             0.249275                              0.492542   \n",
       "3                             0.082488                              0.263105   \n",
       "4                             0.304288                              0.449225   \n",
       "\n",
       "   zDCwei_17Networks_LH_ContB_Temp_2  \\\n",
       "0                           0.388094   \n",
       "1                          -0.196261   \n",
       "2                           0.465131   \n",
       "3                           0.375573   \n",
       "4                           0.739805   \n",
       "\n",
       "   zDCwei_17Networks_LH_SalVentAttnA_FrMed_2  \\\n",
       "0                                   0.158019   \n",
       "1                                   0.080881   \n",
       "2                                   0.149572   \n",
       "3                                  -0.179384   \n",
       "4                                   0.125963   \n",
       "\n",
       "   zDCwei_17Networks_LH_SalVentAttnA_FrMed_1  \\\n",
       "0                                   0.257226   \n",
       "1                                   0.170051   \n",
       "2                                   0.168241   \n",
       "3                                   0.009714   \n",
       "4                                   0.116520   \n",
       "\n",
       "   zDCwei_17Networks_LH_SalVentAttnA_ParMed_1  \\\n",
       "0                                    0.094419   \n",
       "1                                    0.153607   \n",
       "2                                    0.310641   \n",
       "3                                    0.205987   \n",
       "4                                    0.293805   \n",
       "\n",
       "   zDCwei_17Networks_LH_SalVentAttnA_ParOper_1  \\\n",
       "0                                     0.157887   \n",
       "1                                     0.192767   \n",
       "2                                     0.219820   \n",
       "3                                     0.018744   \n",
       "4                                     0.122458   \n",
       "\n",
       "   zDCwei_17Networks_LH_DorsAttnB_PostC_1  \\\n",
       "0                                0.042376   \n",
       "1                               -0.052853   \n",
       "2                                0.148504   \n",
       "3                                0.069715   \n",
       "4                               -0.000745   \n",
       "\n",
       "   zDCwei_17Networks_LH_DorsAttnA_TempOcc_2  \n",
       "0                                 -0.074321  \n",
       "1                                  0.049870  \n",
       "2                                  0.236822  \n",
       "3                                  0.291880  \n",
       "4                                  0.174841  \n",
       "\n",
       "[5 rows x 187 columns]"
      ]
     },
     "execution_count": 4,
     "metadata": {},
     "output_type": "execute_result"
    }
   ],
   "source": [
    "df = pd.read_csv('df_for_RF.csv')\n",
    "df.drop('Unnamed: 0', axis = 1, inplace = True)\n",
    "df.head()"
   ]
  },
  {
   "cell_type": "code",
   "execution_count": 54,
   "metadata": {},
   "outputs": [
    {
     "name": "stdout",
     "output_type": "stream",
     "text": [
      "Subject_ID\n",
      "diagadhd\n",
      "CHILDgender\n",
      "zfALFF_17Networks_9\n",
      "zfALFF_17Networks_2\n",
      "zfALFF_lPFtha_L\n",
      "zfALFF_cTtha_L\n",
      "zfALFF_Otha_L\n",
      "zfALFF_rTtha_R\n",
      "zfALFF_rTtha_L\n",
      "zfALFF_Stha_R\n",
      "zfALFF_Stha_L\n",
      "zfALFF_mPMtha_L\n",
      "zfALFF_mPFtha_L\n",
      "zfALFF_cHipp_L\n",
      "zfALFF_rHipp_R\n",
      "zfALFF_rHipp_L\n",
      "zfALFF_lAmyg_R\n",
      "zfALFF_lAmyg_L\n",
      "zfALFF_mAmyg_R\n",
      "zfALFF_mAmyg_L\n",
      "zfALFF_17Networks_RH_DefaultB_PFCd_3\n",
      "zfALFF_17Networks_RH_DefaultB_Temp_1\n",
      "zfALFF_17Networks_RH_DefaultA_PFCm_4\n",
      "zfALFF_17Networks_RH_DefaultA_PFCd_2\n",
      "zfALFF_17Networks_RH_DefaultA_PFCd_1\n",
      "zfALFF_17Networks_RH_DefaultA_IPL_1\n",
      "zfALFF_17Networks_RH_ContC_pCun_4\n",
      "zfALFF_17Networks_RH_ContC_pCun_2\n",
      "zfALFF_17Networks_RH_ContB_PFCmp_1\n",
      "zfALFF_17Networks_RH_ContB_PFClv_4\n",
      "zfALFF_17Networks_RH_ContB_PFCld_3\n",
      "zfALFF_17Networks_RH_ContB_PFCld_1\n",
      "zfALFF_17Networks_RH_ContB_IPL_3\n",
      "zfALFF_17Networks_RH_ContB_IPL_1\n",
      "zfALFF_17Networks_RH_ContB_Temp_2\n",
      "zfALFF_17Networks_RH_ContA_Cingm_1\n",
      "zfALFF_17Networks_RH_ContA_PFCl_5\n",
      "zfALFF_17Networks_RH_ContA_PFCl_4\n",
      "zfALFF_17Networks_RH_ContA_PFCl_3\n",
      "zfALFF_17Networks_RH_ContA_PFCl_2\n",
      "zfALFF_17Networks_RH_ContA_PFCl_1\n",
      "zfALFF_17Networks_RH_ContA_PFCd_1\n",
      "zfALFF_17Networks_RH_ContA_IPS_4\n",
      "zfALFF_17Networks_RH_ContA_IPS_3\n",
      "zfALFF_17Networks_RH_ContA_IPS_2\n",
      "zfALFF_17Networks_RH_ContA_IPS_1\n",
      "zfALFF_17Networks_RH_SalVentAttnB_PFCmp_2\n",
      "zfALFF_17Networks_RH_SalVentAttnB_PFCmp_1\n",
      "zfALFF_17Networks_RH_SalVentAttnB_PFCl_3\n",
      "zfALFF_17Networks_RH_SalVentAttnB_PFCl_2\n",
      "zfALFF_17Networks_RH_SalVentAttnB_PFCl_1\n",
      "zfALFF_17Networks_RH_SalVentAttnB_PFClv_1\n",
      "zfALFF_17Networks_RH_SalVentAttnA_FrMed_3\n",
      "zfALFF_17Networks_RH_SalVentAttnA_ParMed_4\n",
      "zfALFF_17Networks_RH_SalVentAttnA_ParMed_3\n",
      "zfALFF_17Networks_RH_SalVentAttnA_FrMed_2\n",
      "zfALFF_17Networks_RH_SalVentAttnA_ParMed_2\n",
      "zfALFF_17Networks_RH_SalVentAttnA_FrMed_1\n",
      "zfALFF_17Networks_RH_SalVentAttnA_FrOper_3\n",
      "zfALFF_17Networks_RH_SalVentAttnA_PrC_1\n",
      "zfALFF_17Networks_RH_SalVentAttnA_ParOper_3\n",
      "zfALFF_17Networks_RH_DorsAttnB_FEF_3\n",
      "zfALFF_17Networks_RH_DorsAttnB_FEF_2\n",
      "zfALFF_17Networks_RH_DorsAttnB_FEF_1\n",
      "zfALFF_17Networks_RH_DorsAttnB_PostC_5\n",
      "zfALFF_17Networks_RH_DorsAttnB_PostC_4\n",
      "zfALFF_17Networks_RH_DorsAttnB_PostC_3\n",
      "zfALFF_17Networks_RH_DorsAttnB_PostC_2\n",
      "zfALFF_17Networks_RH_DorsAttnB_PostC_1\n",
      "zfALFF_17Networks_RH_DorsAttnA_SPL_6\n",
      "zfALFF_17Networks_RH_DorsAttnA_SPL_5\n",
      "zfALFF_17Networks_RH_DorsAttnA_SPL_4\n",
      "zfALFF_17Networks_RH_DorsAttnA_SPL_1\n",
      "zfALFF_17Networks_RH_DorsAttnA_TempOcc_3\n",
      "zfALFF_17Networks_RH_SomMotB_Cent_3\n",
      "zfALFF_17Networks_RH_SomMotB_Cent_2\n",
      "zfALFF_17Networks_RH_SomMotB_Cent_1\n",
      "zfALFF_17Networks_RH_SomMotB_S2_6\n",
      "zfALFF_17Networks_RH_SomMotB_S2_5\n",
      "zfALFF_17Networks_RH_SomMotB_S2_1\n",
      "zfALFF_17Networks_RH_SomMotA_14\n",
      "zfALFF_17Networks_RH_SomMotA_12\n",
      "zfALFF_17Networks_RH_SomMotA_9\n",
      "zfALFF_17Networks_RH_SomMotA_7\n",
      "zfALFF_17Networks_RH_SomMotA_6\n",
      "zfALFF_17Networks_RH_SomMotA_4\n",
      "zfALFF_17Networks_RH_SomMotA_3\n",
      "zfALFF_17Networks_RH_SomMotA_2\n",
      "zfALFF_17Networks_RH_SomMotA_1\n",
      "zfALFF_17Networks_LH_TempPar_1\n",
      "zfALFF_17Networks_LH_DefaultB_PFCv_1\n",
      "zfALFF_17Networks_LH_DefaultB_PFCd_1\n",
      "zfALFF_17Networks_LH_DefaultB_IPL_1\n",
      "zfALFF_17Networks_LH_DefaultB_Temp_1\n",
      "zfALFF_17Networks_LH_DefaultA_PFCm_6\n",
      "zfALFF_17Networks_LH_DefaultA_PFCm_5\n",
      "zfALFF_17Networks_LH_DefaultA_PFCm_3\n",
      "zfALFF_17Networks_LH_DefaultA_pCunPCC_7\n",
      "zfALFF_17Networks_LH_DefaultA_PFCd_1\n",
      "zfALFF_17Networks_LH_ContC_pCun_3\n",
      "zfALFF_17Networks_LH_ContB_PFCmp_1\n",
      "zfALFF_17Networks_LH_ContB_PFClv_3\n",
      "zfALFF_17Networks_LH_ContB_PFClv_2\n",
      "zfALFF_17Networks_LH_ContA_PFCl_3\n",
      "zfALFF_17Networks_LH_ContA_PFClv_2\n",
      "zfALFF_17Networks_LH_ContA_IPS_3\n",
      "zfALFF_17Networks_LH_ContA_IPS_1\n",
      "zfALFF_17Networks_LH_LimbicA_TempPole_7\n",
      "zfALFF_17Networks_LH_LimbicA_TempPole_6\n",
      "zfALFF_17Networks_LH_LimbicA_TempPole_5\n",
      "zfALFF_17Networks_LH_LimbicA_TempPole_2\n",
      "zfALFF_17Networks_LH_LimbicA_TempPole_1\n",
      "zfALFF_17Networks_LH_SalVentAttnB_PFCmp_1\n",
      "zfALFF_17Networks_LH_SalVentAttnB_PFCl_2\n",
      "zfALFF_17Networks_LH_SalVentAttnB_PFCl_1\n",
      "zfALFF_17Networks_LH_SalVentAttnA_FrMed_2\n",
      "zfALFF_17Networks_LH_SalVentAttnA_Ins_1\n",
      "zfALFF_17Networks_LH_DorsAttnB_PostC_5\n",
      "zfALFF_17Networks_LH_DorsAttnB_PostC_2\n",
      "zfALFF_17Networks_LH_DorsAttnA_SPL_3\n",
      "zfALFF_17Networks_LH_SomMotB_Cent_3\n",
      "zfALFF_17Networks_LH_SomMotB_Aud_4\n",
      "zfALFF_17Networks_LH_SomMotB_Aud_3\n",
      "zfALFF_17Networks_LH_SomMotB_S2_2\n",
      "zfALFF_17Networks_LH_SomMotB_Aud_1\n",
      "zfALFF_17Networks_LH_SomMotA_1\n",
      "zfALFF_17Networks_LH_VisCent_Striate_1\n",
      "gmd_lPFtha_R\n",
      "gmd_dlPu_L\n",
      "gmd_17Networks_RH_DefaultB_PFCd_2\n",
      "gmd_17Networks_RH_SomMotA_11\n",
      "gmd_17Networks_RH_SomMotA_10\n",
      "gmd_17Networks_RH_SomMotA_7\n",
      "gmd_17Networks_RH_SomMotA_4\n",
      "gmd_17Networks_RH_VisPeri_ExStrSup_3\n",
      "gmd_17Networks_RH_VisCent_ExStr_9\n",
      "gmd_17Networks_RH_VisCent_ExStr_8\n",
      "gmd_17Networks_LH_DefaultB_PFCv_4\n",
      "gmd_17Networks_LH_LimbicB_OFC_1\n",
      "gmd_17Networks_LH_DorsAttnB_PostC_6\n",
      "gmd_17Networks_LH_SomMotA_11\n",
      "zReHo_17Networks_15\n",
      "zReHo_cHipp_L\n",
      "zReHo_mAmyg_L\n",
      "zReHo_17Networks_RH_DefaultA_PFCm_5\n",
      "zReHo_17Networks_RH_DefaultA_IPL_2\n",
      "zReHo_17Networks_RH_SalVentAttnA_FrOper_2\n",
      "zReHo_17Networks_RH_SalVentAttnA_Ins_3\n",
      "zReHo_17Networks_RH_DorsAttnB_FEF_3\n",
      "zReHo_17Networks_RH_DorsAttnA_TempOcc_3\n",
      "zReHo_17Networks_RH_SomMotB_S2_1\n",
      "zReHo_17Networks_RH_SomMotA_17\n",
      "zReHo_17Networks_RH_SomMotA_9\n",
      "zReHo_17Networks_RH_VisCent_ExStr_6\n",
      "zReHo_17Networks_LH_ContA_IPS_2\n",
      "zReHo_17Networks_LH_SomMotA_12\n",
      "zReHo_17Networks_LH_SomMotA_9\n",
      "zReHo_17Networks_LH_SomMotA_8\n",
      "zReHo_17Networks_LH_SomMotA_5\n",
      "zDCwei_17Networks_9\n",
      "zDCwei_lPFtha_L\n",
      "zDCwei_mPMtha_L\n",
      "zDCwei_dlPu_L\n",
      "zDCwei_17Networks_RH_TempPar_5\n",
      "zDCwei_17Networks_RH_TempPar_4\n",
      "zDCwei_17Networks_RH_ContA_PFCl_5\n",
      "zDCwei_17Networks_RH_SalVentAttnA_FrMed_4\n",
      "zDCwei_17Networks_RH_SalVentAttnA_ParMed_4\n",
      "zDCwei_17Networks_RH_SalVentAttnA_ParMed_2\n",
      "zDCwei_17Networks_RH_SalVentAttnA_FrMed_1\n",
      "zDCwei_17Networks_RH_SalVentAttnA_ParOper_1\n",
      "zDCwei_17Networks_RH_DorsAttnB_PostC_8\n",
      "zDCwei_17Networks_RH_DorsAttnA_TempOcc_1\n",
      "zDCwei_17Networks_RH_SomMotB_S2_6\n",
      "zDCwei_17Networks_RH_SomMotB_S2_3\n",
      "zDCwei_17Networks_RH_SomMotA_7\n",
      "zDCwei_17Networks_RH_SomMotA_6\n",
      "zDCwei_17Networks_LH_DefaultC_PHC_3\n",
      "zDCwei_17Networks_LH_DefaultB_Temp_5\n",
      "zDCwei_17Networks_LH_ContB_Temp_2\n",
      "zDCwei_17Networks_LH_SalVentAttnA_FrMed_2\n",
      "zDCwei_17Networks_LH_SalVentAttnA_FrMed_1\n",
      "zDCwei_17Networks_LH_SalVentAttnA_ParMed_1\n",
      "zDCwei_17Networks_LH_SalVentAttnA_ParOper_1\n",
      "zDCwei_17Networks_LH_DorsAttnB_PostC_1\n",
      "zDCwei_17Networks_LH_DorsAttnA_TempOcc_2\n"
     ]
    }
   ],
   "source": [
    "for col in df_adhd.columns:\n",
    "    print(col)"
   ]
  },
  {
   "cell_type": "code",
   "execution_count": 24,
   "metadata": {},
   "outputs": [],
   "source": [
    "df_cn = df[df['diagadhd'] == 0]\n",
    "df_adhd = df[df['diagadhd'] == 1]"
   ]
  },
  {
   "cell_type": "code",
   "execution_count": 87,
   "metadata": {},
   "outputs": [
    {
     "name": "stdout",
     "output_type": "stream",
     "text": [
      "ADHD_fALFF:  0.17858710063605973\n"
     ]
    }
   ],
   "source": [
    "i = []\n",
    "for col in df_adhd.columns:\n",
    "    if col.find('fALFF') == True:\n",
    "        i.append(list(df_adhd[col]))\n",
    "print('ADHD_fALFF: ' ,np.mean(i))"
   ]
  },
  {
   "cell_type": "code",
   "execution_count": 88,
   "metadata": {},
   "outputs": [
    {
     "name": "stdout",
     "output_type": "stream",
     "text": [
      "control_fALFF:  0.18220080326931243\n"
     ]
    }
   ],
   "source": [
    "i = []\n",
    "for col in df_cn.columns:\n",
    "    if col.find('fALFF') == True:\n",
    "        i.append(list(df_cn[col]))\n",
    "print('control_fALFF: ' ,np.mean(i))"
   ]
  },
  {
   "cell_type": "code",
   "execution_count": 89,
   "metadata": {},
   "outputs": [
    {
     "name": "stdout",
     "output_type": "stream",
     "text": [
      "ADHD_DC:  0.022499010471264083\n"
     ]
    }
   ],
   "source": [
    "i = []\n",
    "for col in df_adhd.columns:\n",
    "    if col.find('DC') == True:\n",
    "        i.append(list(df_adhd[col]))\n",
    "print('ADHD_DC: ' ,np.mean(i))"
   ]
  },
  {
   "cell_type": "code",
   "execution_count": 96,
   "metadata": {},
   "outputs": [
    {
     "name": "stdout",
     "output_type": "stream",
     "text": [
      "control_DC:  0.0523069626160292\n"
     ]
    }
   ],
   "source": [
    "i = []\n",
    "for col in df_cn.columns:\n",
    "    if col.find('DC') == True:\n",
    "        i.append(list(df_cn[col]))\n",
    "print('control_DC: ' ,np.mean(i))"
   ]
  },
  {
   "cell_type": "code",
   "execution_count": 91,
   "metadata": {},
   "outputs": [
    {
     "name": "stdout",
     "output_type": "stream",
     "text": [
      "ADHD_ReHo:  0.03740169679239069\n"
     ]
    }
   ],
   "source": [
    "i = []\n",
    "for col in df_adhd.columns:\n",
    "    if col.find('ReHo') == True:\n",
    "        i.append(list(df_adhd[col]))\n",
    "print('ADHD_ReHo: ' ,np.mean(i))"
   ]
  },
  {
   "cell_type": "code",
   "execution_count": 97,
   "metadata": {},
   "outputs": [
    {
     "name": "stdout",
     "output_type": "stream",
     "text": [
      "control_ReHo:  0.048516257426987716\n"
     ]
    }
   ],
   "source": [
    "i = []\n",
    "for col in df_cn.columns:\n",
    "    if col.find('ReHo') == True:\n",
    "        i.append(list(df_cn[col]))\n",
    "print('control_ReHo: ' ,np.mean(i))"
   ]
  },
  {
   "cell_type": "code",
   "execution_count": 117,
   "metadata": {},
   "outputs": [
    {
     "name": "stdout",
     "output_type": "stream",
     "text": [
      "ADHD_gmd:  0.5480301065352484\n"
     ]
    }
   ],
   "source": [
    "i = []\n",
    "for col in df_adhd.columns:\n",
    "    if col.find('gmd') != -1:\n",
    "        for item in list(df_adhd[col]):\n",
    "            i.append(item)\n",
    "print('ADHD_gmd: ', np.mean(i))"
   ]
  },
  {
   "cell_type": "code",
   "execution_count": 118,
   "metadata": {},
   "outputs": [
    {
     "name": "stdout",
     "output_type": "stream",
     "text": [
      "cn_gmd:  0.5480301065352484\n"
     ]
    }
   ],
   "source": [
    "j = []\n",
    "for col in df_cn.columns:\n",
    "    if col.find('gmd') != -1:\n",
    "        for item in list(df_cn[col]):\n",
    "            j.append(item)\n",
    "print('cn_gmd: ', np.mean(i))"
   ]
  },
  {
   "cell_type": "code",
   "execution_count": 120,
   "metadata": {},
   "outputs": [
    {
     "data": {
      "text/plain": [
       "Ttest_indResult(statistic=0.24840606592171333, pvalue=0.8038577074776802)"
      ]
     },
     "execution_count": 120,
     "metadata": {},
     "output_type": "execute_result"
    }
   ],
   "source": [
    "stats.ttest_ind(i,j,equal_var=False)"
   ]
  },
  {
   "cell_type": "code",
   "execution_count": 101,
   "metadata": {},
   "outputs": [],
   "source": [
    "from scipy import stats\n",
    "\n",
    "rng = np.random.default_rng()"
   ]
  },
  {
   "cell_type": "code",
   "execution_count": 102,
   "metadata": {},
   "outputs": [
    {
     "data": {
      "text/plain": [
       "Ttest_indResult(statistic=0.22853302386053836, pvalue=0.819278703707251)"
      ]
     },
     "execution_count": 102,
     "metadata": {},
     "output_type": "execute_result"
    }
   ],
   "source": [
    "rvs1 = stats.norm.rvs(loc=5, scale=10, size=500, random_state=rng)\n",
    "\n",
    "rvs2 = stats.norm.rvs(loc=5, scale=10, size=500, random_state=rng)\n",
    "\n",
    "stats.ttest_ind(rvs1, rvs2)"
   ]
  },
  {
   "cell_type": "code",
   "execution_count": null,
   "metadata": {},
   "outputs": [],
   "source": []
  }
 ],
 "metadata": {
  "kernelspec": {
   "display_name": "Python 3",
   "language": "python",
   "name": "python3"
  },
  "language_info": {
   "codemirror_mode": {
    "name": "ipython",
    "version": 3
   },
   "file_extension": ".py",
   "mimetype": "text/x-python",
   "name": "python",
   "nbconvert_exporter": "python",
   "pygments_lexer": "ipython3",
   "version": "3.8.10"
  }
 },
 "nbformat": 4,
 "nbformat_minor": 4
}
