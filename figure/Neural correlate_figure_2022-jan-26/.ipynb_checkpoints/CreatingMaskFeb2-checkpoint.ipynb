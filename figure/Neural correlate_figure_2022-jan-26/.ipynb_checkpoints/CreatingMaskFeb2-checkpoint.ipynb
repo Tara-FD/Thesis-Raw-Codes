{
 "cells": [
  {
   "cell_type": "code",
   "execution_count": 1,
   "metadata": {},
   "outputs": [],
   "source": [
    "%config Completer.use_jedi = False"
   ]
  },
  {
   "cell_type": "code",
   "execution_count": 23,
   "metadata": {},
   "outputs": [],
   "source": [
    "import pandas as pd\n",
    "import numpy as np\n",
    "from nilearn import image\n",
    "import fsl.wrappers as fsl\n",
    "import os\n",
    "import numpy as np\n",
    "import matplotlib.pyplot as plt"
   ]
  },
  {
   "cell_type": "code",
   "execution_count": 3,
   "metadata": {},
   "outputs": [],
   "source": [
    "nc = pd.read_csv('pair_cor_fdr.csv')\n",
    "lda = pd.read_csv('../LDA_figure/lda_top56.csv').drop(columns='Unnamed: 0')"
   ]
  },
  {
   "cell_type": "code",
   "execution_count": 4,
   "metadata": {},
   "outputs": [],
   "source": [
    "nc['measure'] = [i.split(\"_\")[0] for i in nc['region']]\n",
    "nc['measure'].replace({'zDCwei': 'DC', 'zfALFF': 'fALFF',\n",
    "                       'gmd': 'GMV', 'zReHo': 'ReHo'}, inplace=True)\n",
    "lda['measure'] = [i.split(\"-\")[0] for i in lda['features']]\n",
    "lda['measure'].replace({'gmv': 'GMV'}, inplace=True)"
   ]
  },
  {
   "cell_type": "code",
   "execution_count": 5,
   "metadata": {},
   "outputs": [],
   "source": [
    "lda_ms = lda['measure'].unique()\n",
    "nc_ms = nc['measure'].unique()\n",
    "for lda_m in lda_ms:\n",
    "    lda_g = lda[lda['measure']==lda_m]\n",
    "    nc_g = nc[nc['measure']==lda_m]"
   ]
  },
  {
   "cell_type": "code",
   "execution_count": 6,
   "metadata": {},
   "outputs": [],
   "source": [
    "lda['Section'] = [i.split(\"-\")[1] for i in lda['features']]\n",
    "nc['Section'] = 'cortex'"
   ]
  },
  {
   "cell_type": "code",
   "execution_count": 7,
   "metadata": {},
   "outputs": [],
   "source": [
    "for j, i in enumerate(nc['region']):\n",
    "    if i.find(\"17Networks\")==-1:\n",
    "        nc.iloc[j, nc.columns.get_loc('Section')] = 'subcortex'\n",
    "    elif (i.find(\"17Networks_9\")!=-1) or (i.find(\"17Networks_2\")!=-1) or (i.find(\"17Networks_15\")!=-1):\n",
    "        nc.iloc[j, nc.columns.get_loc('Section')] = 'cerebellum'"
   ]
  },
  {
   "cell_type": "code",
   "execution_count": 8,
   "metadata": {},
   "outputs": [],
   "source": [
    "lda['location'] = [\"-\".join(i.split(\"-\")[2:]) for i in lda['features']]\n",
    "nc['location'] = [\"-\".join(i.split(\"_\")[1:]) for i in nc['region']]\n",
    "lda['mask'] = [\"_\".join(i.split(\"-\")[2:]) for i in lda['features']]\n",
    "nc['mask'] = [\"_\".join(i.split(\"_\")[1:]) for i in nc['region']]"
   ]
  },
  {
   "cell_type": "code",
   "execution_count": 9,
   "metadata": {},
   "outputs": [],
   "source": [
    "lda['location'].replace({'17Networks-9': 'Network-9'},inplace=True)\n",
    "nc['location'].replace({'17Networks-9': 'Network-9', '17Networks-2': 'Network-2'},inplace=True)\n",
    "lda['mask'].replace({'17Networks_9': 'Network_9'},inplace=True)\n",
    "nc['mask'].replace({'17Networks_9': 'Network_9', '17Networks_15': 'Network_15',\n",
    "                    '17Networks_2': 'Network_2'},inplace=True)"
   ]
  },
  {
   "cell_type": "code",
   "execution_count": 10,
   "metadata": {},
   "outputs": [],
   "source": [
    "for j, i in enumerate(nc['location']):\n",
    "    if i.find(\"17Networks\")!=-1:\n",
    "        nc.iloc[j, nc.columns.get_loc('location')] = \"-\".join(i.split(\"-\")[1:])"
   ]
  },
  {
   "cell_type": "code",
   "execution_count": 11,
   "metadata": {},
   "outputs": [],
   "source": [
    "for loc in lda['location']:\n",
    "    if loc not in nc['location'].values:\n",
    "        print(loc)"
   ]
  },
  {
   "cell_type": "markdown",
   "metadata": {},
   "source": [
    "# Creating masks"
   ]
  },
  {
   "cell_type": "code",
   "execution_count": 165,
   "metadata": {},
   "outputs": [],
   "source": [
    "sch_regions = pd.read_csv(\"../LDA_figure/Schaefer2018_400Parcels_17Networks_order_FSLMNI152_1mm.Centroid_RAS.csv\").set_index(\"ROI Name\")\n",
    "BN_regions = pd.read_csv('../LDA_figure/BN_Atlas_246_LUT_text.csv').set_index(\"ROI_Name\")\n",
    "Buck_regions = pd.read_csv('../LDA_figure/atl-Buckner17.csv').set_index('name')"
   ]
  },
  {
   "cell_type": "code",
   "execution_count": 175,
   "metadata": {},
   "outputs": [
    {
     "name": "stdout",
     "output_type": "stream",
     "text": [
      "Creating mask for fALFF measurement\n",
      "mkdir: cannot create directory ‘../nc_final_masks_Feb2/fALFF’: File exists\n",
      "Creating mask for GMV measurement\n",
      "mkdir: cannot create directory ‘../nc_final_masks_Feb2/GMV’: File exists\n",
      "Creating mask for ReHo measurement\n",
      "mkdir: cannot create directory ‘../nc_final_masks_Feb2/ReHo’: File exists\n",
      "Creating mask for DC measurement\n",
      "mkdir: cannot create directory ‘../nc_final_masks_Feb2/DC’: File exists\n"
     ]
    }
   ],
   "source": [
    "for measure in nc['measure'].unique():\n",
    "    print(\"Creating mask for {} measurement\".format(measure))\n",
    "    drc = \"../nc_final_masks_Feb2/\"+measure\n",
    "    !mkdir $drc\n",
    "    \n",
    "    nc_measure = nc[nc['measure']==measure]\n",
    "    for i, region in enumerate(nc_measure['mask']):\n",
    "        section = nc_measure.iloc[i, nc_measure.columns.get_loc('Section')]\n",
    "        if section == 'cortex':\n",
    "            val = sch_regions.loc[[region], \"ROI Label\"].values[0]\n",
    "            name = drc+'/'+region+'.nii.gz'\n",
    "            imp = nc_measure.iloc[[i], nc_measure.columns.get_loc('sws_total')].values[0]\n",
    "            fsl.fslmaths('../LDA_figure/Schaefer2018_400Parcels_17Networks_order_FSLMNI152_2mm.nii').thr(val-0.1).uthr(val+0.1).run(name)\n",
    "            fsl.fslmaths(name).bin().mul(imp).run(name)\n",
    "        elif section == 'subcortex':\n",
    "            val = BN_regions.loc[[region], \"Value\"].values[0]\n",
    "            name = drc+'/'+region+'.nii.gz'\n",
    "            imp = nc_measure.iloc[[i], nc_measure.columns.get_loc('sws_total')].values[0]\n",
    "            fsl.fslmaths('../LDA_figure/BN_Atlas_246_2mm.nii.gz').thr(val-0.1).uthr(val+0.1).run(name)\n",
    "            fsl.fslmaths(name).bin().mul(imp).run(name)\n",
    "        else:\n",
    "            #val = Buck_regions.loc[[region], \"index\"].values[0]\n",
    "            name = drc+'/'+region+'.nii.gz'\n",
    "            imp = nc_measure.iloc[[i], nc_measure.columns.get_loc('sws_total')].values[0]\n",
    "            #fsl.fslmaths('../LDA_figure/atl-Buckner17_space-MNI_dseg.nii').thr(val-0.1).uthr(val+0.1).run(name)\n",
    "            fsl.fslmaths(name).bin().mul(imp).run(name)\n",
    "    regs = os.listdir(drc)\n",
    "    for i, reg in enumerate(regs):\n",
    "        if i != 0:\n",
    "            source = image.load_img(drc+\"/\"+measure+\".nii.gz\")\n",
    "        reg_img = image.load_img(drc+\"/\"+reg)\n",
    "        if i == 0:\n",
    "            source = reg_img\n",
    "        fsl.fslmaths(source).add(reg_img).run(drc+\"/\"+measure+\".nii.gz\")  "
   ]
  },
  {
   "cell_type": "code",
   "execution_count": 178,
   "metadata": {},
   "outputs": [],
   "source": [
    "for i, mask in enumerate(lda['mask']):\n",
    "    if lda.iloc[[i], lda.columns.get_loc('Section')].values[0] == 'cortex':\n",
    "        lda.iloc[[i], lda.columns.get_loc('mask')] = '17Networks_'+mask"
   ]
  },
  {
   "cell_type": "code",
   "execution_count": 182,
   "metadata": {},
   "outputs": [
    {
     "name": "stdout",
     "output_type": "stream",
     "text": [
      "Creating mask for GMV measurement\n",
      "mkdir: cannot create directory ‘../lda_final_masks_Feb2/GMV’: File exists\n",
      "Creating mask for DC measurement\n",
      "mkdir: cannot create directory ‘../lda_final_masks_Feb2/DC’: File exists\n",
      "Creating mask for fALFF measurement\n",
      "mkdir: cannot create directory ‘../lda_final_masks_Feb2/fALFF’: File exists\n"
     ]
    }
   ],
   "source": [
    "for measure in lda['measure'].unique():\n",
    "    print(\"Creating mask for {} measurement\".format(measure))\n",
    "    drc = \"../lda_final_masks_Feb2/\"+measure\n",
    "    !mkdir $drc\n",
    "    \n",
    "    lda_measure = lda[lda['measure']==measure]\n",
    "    for i, region in enumerate(lda_measure['mask']):\n",
    "        section = lda_measure.iloc[i, lda_measure.columns.get_loc('Section')]\n",
    "        if section == 'cortex':\n",
    "            val = sch_regions.loc[[region], \"ROI Label\"].values[0]\n",
    "            name = drc+'/'+region+'.nii.gz'\n",
    "            imp = lda_measure.iloc[[i], lda_measure.columns.get_loc('LD1')].values[0]\n",
    "            fsl.fslmaths('../LDA_figure/Schaefer2018_400Parcels_17Networks_order_FSLMNI152_2mm.nii').thr(val-0.1).uthr(val+0.1).run(name)\n",
    "            fsl.fslmaths(name).bin().mul(imp).run(name)\n",
    "        elif section == 'subcortex':\n",
    "            val = BN_regions.loc[[region], \"Value\"].values[0]\n",
    "            name = drc+'/'+region+'.nii.gz'\n",
    "            imp = lda_measure.iloc[[i], lda_measure.columns.get_loc('LD1')].values[0]\n",
    "            fsl.fslmaths('../LDA_figure/BN_Atlas_246_2mm.nii.gz').thr(val-0.1).uthr(val+0.1).run(name)\n",
    "            fsl.fslmaths(name).bin().mul(imp).run(name)\n",
    "        else:\n",
    "            #val = Buck_regions.loc[[region], \"index\"].values[0]\n",
    "            name = drc+'/'+region+'.nii.gz'\n",
    "            imp = lda_measure.iloc[[i], lda_measure.columns.get_loc('LD1')].values[0]\n",
    "            #fsl.fslmaths('../LDA_figure/atl-Buckner17_space-MNI_dseg.nii').thr(val-0.1).uthr(val+0.1).run(name)\n",
    "            fsl.fslmaths(name).bin().mul(imp).run(name)\n",
    "    regs = os.listdir(drc)\n",
    "    for i, reg in enumerate(regs):\n",
    "        if i != 0:\n",
    "            source = image.load_img(drc+\"/\"+measure+\".nii.gz\")\n",
    "        reg_img = image.load_img(drc+\"/\"+reg)\n",
    "        if i == 0:\n",
    "            source = reg_img\n",
    "        fsl.fslmaths(source).add(reg_img).run(drc+\"/\"+measure+\".nii.gz\")  "
   ]
  },
  {
   "cell_type": "markdown",
   "metadata": {},
   "source": [
    "# creating barplot"
   ]
  },
  {
   "cell_type": "code",
   "execution_count": 67,
   "metadata": {},
   "outputs": [
    {
     "data": {
      "text/html": [
       "<div>\n",
       "<style scoped>\n",
       "    .dataframe tbody tr th:only-of-type {\n",
       "        vertical-align: middle;\n",
       "    }\n",
       "\n",
       "    .dataframe tbody tr th {\n",
       "        vertical-align: top;\n",
       "    }\n",
       "\n",
       "    .dataframe thead th {\n",
       "        text-align: right;\n",
       "    }\n",
       "</style>\n",
       "<table border=\"1\" class=\"dataframe\">\n",
       "  <thead>\n",
       "    <tr style=\"text-align: right;\">\n",
       "      <th></th>\n",
       "      <th>features</th>\n",
       "      <th>LD1</th>\n",
       "      <th>measure</th>\n",
       "      <th>Section</th>\n",
       "      <th>location</th>\n",
       "      <th>mask</th>\n",
       "      <th>y_ax</th>\n",
       "    </tr>\n",
       "  </thead>\n",
       "  <tbody>\n",
       "    <tr>\n",
       "      <th>0</th>\n",
       "      <td>gmv-cortex-LH-LimbicB-OFC-1</td>\n",
       "      <td>8.264456</td>\n",
       "      <td>GMV</td>\n",
       "      <td>cortex</td>\n",
       "      <td>LH-LimbicB-OFC-1</td>\n",
       "      <td>LH_LimbicB_OFC_1</td>\n",
       "      <td>cortex-LH-LimbicB-OFC-1</td>\n",
       "    </tr>\n",
       "    <tr>\n",
       "      <th>1</th>\n",
       "      <td>gmv-cortex-RH-VisCent-ExStr-8</td>\n",
       "      <td>6.316778</td>\n",
       "      <td>GMV</td>\n",
       "      <td>cortex</td>\n",
       "      <td>RH-VisCent-ExStr-8</td>\n",
       "      <td>RH_VisCent_ExStr_8</td>\n",
       "      <td>cortex-RH-VisCent-ExStr-8</td>\n",
       "    </tr>\n",
       "    <tr>\n",
       "      <th>2</th>\n",
       "      <td>DC-cortex-LH-DorsAttnB-PostC-1</td>\n",
       "      <td>4.472864</td>\n",
       "      <td>DC</td>\n",
       "      <td>cortex</td>\n",
       "      <td>LH-DorsAttnB-PostC-1</td>\n",
       "      <td>LH_DorsAttnB_PostC_1</td>\n",
       "      <td>cortex-LH-DorsAttnB-PostC-1</td>\n",
       "    </tr>\n",
       "    <tr>\n",
       "      <th>3</th>\n",
       "      <td>DC-cortex-LH-SalVentAttnA-FrMed-1</td>\n",
       "      <td>-4.052401</td>\n",
       "      <td>DC</td>\n",
       "      <td>cortex</td>\n",
       "      <td>LH-SalVentAttnA-FrMed-1</td>\n",
       "      <td>LH_SalVentAttnA_FrMed_1</td>\n",
       "      <td>cortex-LH-SalVentAttnA-FrMed-1</td>\n",
       "    </tr>\n",
       "    <tr>\n",
       "      <th>4</th>\n",
       "      <td>gmv-cortex-RH-SomMotA-10</td>\n",
       "      <td>3.992222</td>\n",
       "      <td>GMV</td>\n",
       "      <td>cortex</td>\n",
       "      <td>RH-SomMotA-10</td>\n",
       "      <td>RH_SomMotA_10</td>\n",
       "      <td>cortex-RH-SomMotA-10</td>\n",
       "    </tr>\n",
       "  </tbody>\n",
       "</table>\n",
       "</div>"
      ],
      "text/plain": [
       "                            features       LD1 measure Section  \\\n",
       "0        gmv-cortex-LH-LimbicB-OFC-1  8.264456     GMV  cortex   \n",
       "1      gmv-cortex-RH-VisCent-ExStr-8  6.316778     GMV  cortex   \n",
       "2     DC-cortex-LH-DorsAttnB-PostC-1  4.472864      DC  cortex   \n",
       "3  DC-cortex-LH-SalVentAttnA-FrMed-1 -4.052401      DC  cortex   \n",
       "4           gmv-cortex-RH-SomMotA-10  3.992222     GMV  cortex   \n",
       "\n",
       "                  location                     mask  \\\n",
       "0         LH-LimbicB-OFC-1         LH_LimbicB_OFC_1   \n",
       "1       RH-VisCent-ExStr-8       RH_VisCent_ExStr_8   \n",
       "2     LH-DorsAttnB-PostC-1     LH_DorsAttnB_PostC_1   \n",
       "3  LH-SalVentAttnA-FrMed-1  LH_SalVentAttnA_FrMed_1   \n",
       "4            RH-SomMotA-10            RH_SomMotA_10   \n",
       "\n",
       "                             y_ax  \n",
       "0         cortex-LH-LimbicB-OFC-1  \n",
       "1       cortex-RH-VisCent-ExStr-8  \n",
       "2     cortex-LH-DorsAttnB-PostC-1  \n",
       "3  cortex-LH-SalVentAttnA-FrMed-1  \n",
       "4            cortex-RH-SomMotA-10  "
      ]
     },
     "execution_count": 67,
     "metadata": {},
     "output_type": "execute_result"
    }
   ],
   "source": [
    "lda['y_ax'] = lda['Section'] + '-' + lda['location']\n",
    "lda.head()"
   ]
  },
  {
   "cell_type": "markdown",
   "metadata": {},
   "source": [
    "- lda_falff"
   ]
  },
  {
   "cell_type": "code",
   "execution_count": 68,
   "metadata": {},
   "outputs": [
    {
     "data": {
      "text/html": [
       "<div>\n",
       "<style scoped>\n",
       "    .dataframe tbody tr th:only-of-type {\n",
       "        vertical-align: middle;\n",
       "    }\n",
       "\n",
       "    .dataframe tbody tr th {\n",
       "        vertical-align: top;\n",
       "    }\n",
       "\n",
       "    .dataframe thead th {\n",
       "        text-align: right;\n",
       "    }\n",
       "</style>\n",
       "<table border=\"1\" class=\"dataframe\">\n",
       "  <thead>\n",
       "    <tr style=\"text-align: right;\">\n",
       "      <th></th>\n",
       "      <th>LD1</th>\n",
       "      <th>LD1</th>\n",
       "    </tr>\n",
       "    <tr>\n",
       "      <th>y_ax</th>\n",
       "      <th></th>\n",
       "      <th></th>\n",
       "    </tr>\n",
       "  </thead>\n",
       "  <tbody>\n",
       "    <tr>\n",
       "      <th>subcortex-cTtha-L</th>\n",
       "      <td>3.210250</td>\n",
       "      <td>3.210250</td>\n",
       "    </tr>\n",
       "    <tr>\n",
       "      <th>cortex-LH-SomMotB-Aud-4</th>\n",
       "      <td>2.725182</td>\n",
       "      <td>2.725182</td>\n",
       "    </tr>\n",
       "    <tr>\n",
       "      <th>cortex-LH-SomMotB-S2-2</th>\n",
       "      <td>2.456045</td>\n",
       "      <td>2.456045</td>\n",
       "    </tr>\n",
       "    <tr>\n",
       "      <th>cortex-RH-SalVentAttnA-FrMed-2</th>\n",
       "      <td>2.440729</td>\n",
       "      <td>2.440729</td>\n",
       "    </tr>\n",
       "    <tr>\n",
       "      <th>cortex-LH-DorsAttnB-PostC-5</th>\n",
       "      <td>-2.293910</td>\n",
       "      <td>-2.293910</td>\n",
       "    </tr>\n",
       "  </tbody>\n",
       "</table>\n",
       "</div>"
      ],
      "text/plain": [
       "                                     LD1       LD1\n",
       "y_ax                                              \n",
       "subcortex-cTtha-L               3.210250  3.210250\n",
       "cortex-LH-SomMotB-Aud-4         2.725182  2.725182\n",
       "cortex-LH-SomMotB-S2-2          2.456045  2.456045\n",
       "cortex-RH-SalVentAttnA-FrMed-2  2.440729  2.440729\n",
       "cortex-LH-DorsAttnB-PostC-5    -2.293910 -2.293910"
      ]
     },
     "execution_count": 68,
     "metadata": {},
     "output_type": "execute_result"
    }
   ],
   "source": [
    "lda_falff = lda[lda['measure']=='fALFF']\n",
    "lda_falff_fig = lda_falff[['y_ax', 'LD1', 'LD1']].set_index('y_ax')\n",
    "lda_falff_fig.head()"
   ]
  },
  {
   "cell_type": "code",
   "execution_count": 69,
   "metadata": {},
   "outputs": [
    {
     "data": {
      "image/png": "[encoded data removed]",
      "text/plain": [
       "<Figure size 1080x504 with 2 Axes>"
      ]
     },
     "metadata": {
      "needs_background": "light"
     },
     "output_type": "display_data"
    }
   ],
   "source": [
    "maxPC = 1.01 * np.max(np.max(np.abs(lda_falff_fig.iloc[0:5, :])))\n",
    "f, axes = plt.subplots(2, 1, figsize=(15, 7), sharex=True)\n",
    "for i, ax in enumerate(axes):\n",
    "    pc_loadings = lda_falff_fig.iloc[:, i]\n",
    "    colors = ['C2' if l > 0 else 'C1' for l in pc_loadings]\n",
    "    ax.axhline(color='#8888')\n",
    "    pc_loadings.plot.bar(ax=ax, color=colors)\n",
    "    ax.set_ylabel(f'importance')\n",
    "    ax.set_ylim(-2, 9)\n",
    "plt.tight_layout()\n",
    "plt.savefig('LDA_falff_FeatureImportance.jpg')\n",
    "plt.show()"
   ]
  },
  {
   "cell_type": "markdown",
   "metadata": {},
   "source": [
    "- lda_dc"
   ]
  },
  {
   "cell_type": "code",
   "execution_count": 72,
   "metadata": {},
   "outputs": [
    {
     "data": {
      "text/html": [
       "<div>\n",
       "<style scoped>\n",
       "    .dataframe tbody tr th:only-of-type {\n",
       "        vertical-align: middle;\n",
       "    }\n",
       "\n",
       "    .dataframe tbody tr th {\n",
       "        vertical-align: top;\n",
       "    }\n",
       "\n",
       "    .dataframe thead th {\n",
       "        text-align: right;\n",
       "    }\n",
       "</style>\n",
       "<table border=\"1\" class=\"dataframe\">\n",
       "  <thead>\n",
       "    <tr style=\"text-align: right;\">\n",
       "      <th></th>\n",
       "      <th>LD1</th>\n",
       "      <th>LD1</th>\n",
       "    </tr>\n",
       "    <tr>\n",
       "      <th>y_ax</th>\n",
       "      <th></th>\n",
       "      <th></th>\n",
       "    </tr>\n",
       "  </thead>\n",
       "  <tbody>\n",
       "    <tr>\n",
       "      <th>cortex-LH-DorsAttnB-PostC-1</th>\n",
       "      <td>4.472864</td>\n",
       "      <td>4.472864</td>\n",
       "    </tr>\n",
       "    <tr>\n",
       "      <th>cortex-LH-SalVentAttnA-FrMed-1</th>\n",
       "      <td>-4.052401</td>\n",
       "      <td>-4.052401</td>\n",
       "    </tr>\n",
       "    <tr>\n",
       "      <th>cortex-RH-SalVentAttnA-ParOper-1</th>\n",
       "      <td>2.961035</td>\n",
       "      <td>2.961035</td>\n",
       "    </tr>\n",
       "    <tr>\n",
       "      <th>cortex-LH-SalVentAttnA-ParOper-1</th>\n",
       "      <td>-2.393801</td>\n",
       "      <td>-2.393801</td>\n",
       "    </tr>\n",
       "    <tr>\n",
       "      <th>cortex-RH-SalVentAttnA-ParMed-4</th>\n",
       "      <td>-2.268095</td>\n",
       "      <td>-2.268095</td>\n",
       "    </tr>\n",
       "  </tbody>\n",
       "</table>\n",
       "</div>"
      ],
      "text/plain": [
       "                                       LD1       LD1\n",
       "y_ax                                                \n",
       "cortex-LH-DorsAttnB-PostC-1       4.472864  4.472864\n",
       "cortex-LH-SalVentAttnA-FrMed-1   -4.052401 -4.052401\n",
       "cortex-RH-SalVentAttnA-ParOper-1  2.961035  2.961035\n",
       "cortex-LH-SalVentAttnA-ParOper-1 -2.393801 -2.393801\n",
       "cortex-RH-SalVentAttnA-ParMed-4  -2.268095 -2.268095"
      ]
     },
     "execution_count": 72,
     "metadata": {},
     "output_type": "execute_result"
    }
   ],
   "source": [
    "lda_dc = lda[lda['measure']=='DC']\n",
    "lda_dc_fig = lda_dc[['y_ax', 'LD1', 'LD1']].set_index('y_ax')\n",
    "lda_dc_fig.head()"
   ]
  },
  {
   "cell_type": "code",
   "execution_count": 73,
   "metadata": {},
   "outputs": [
    {
     "data": {
      "image/png": "[encoded data removed]",
      "text/plain": [
       "<Figure size 1080x504 with 2 Axes>"
      ]
     },
     "metadata": {
      "needs_background": "light"
     },
     "output_type": "display_data"
    }
   ],
   "source": [
    "maxPC = 1.01 * np.max(np.max(np.abs(lda_dc_fig.iloc[0:5, :])))\n",
    "f, axes = plt.subplots(2, 1, figsize=(15, 7), sharex=True)\n",
    "for i, ax in enumerate(axes):\n",
    "    pc_loadings = lda_dc_fig.iloc[:, i]\n",
    "    colors = ['C2' if l > 0 else 'C1' for l in pc_loadings]\n",
    "    ax.axhline(color='#8888')\n",
    "    pc_loadings.plot.bar(ax=ax, color=colors)\n",
    "    ax.set_ylabel(f'importance')\n",
    "    ax.set_ylim(-2, 9)\n",
    "plt.tight_layout()\n",
    "plt.savefig('LDA_dc_FeatureImportance.jpg')\n",
    "plt.show()"
   ]
  },
  {
   "cell_type": "markdown",
   "metadata": {},
   "source": [
    "- lda-gmv"
   ]
  },
  {
   "cell_type": "code",
   "execution_count": 74,
   "metadata": {},
   "outputs": [
    {
     "data": {
      "text/html": [
       "<div>\n",
       "<style scoped>\n",
       "    .dataframe tbody tr th:only-of-type {\n",
       "        vertical-align: middle;\n",
       "    }\n",
       "\n",
       "    .dataframe tbody tr th {\n",
       "        vertical-align: top;\n",
       "    }\n",
       "\n",
       "    .dataframe thead th {\n",
       "        text-align: right;\n",
       "    }\n",
       "</style>\n",
       "<table border=\"1\" class=\"dataframe\">\n",
       "  <thead>\n",
       "    <tr style=\"text-align: right;\">\n",
       "      <th></th>\n",
       "      <th>LD1</th>\n",
       "      <th>LD1</th>\n",
       "    </tr>\n",
       "    <tr>\n",
       "      <th>y_ax</th>\n",
       "      <th></th>\n",
       "      <th></th>\n",
       "    </tr>\n",
       "  </thead>\n",
       "  <tbody>\n",
       "    <tr>\n",
       "      <th>cortex-LH-LimbicB-OFC-1</th>\n",
       "      <td>8.264456</td>\n",
       "      <td>8.264456</td>\n",
       "    </tr>\n",
       "    <tr>\n",
       "      <th>cortex-RH-VisCent-ExStr-8</th>\n",
       "      <td>6.316778</td>\n",
       "      <td>6.316778</td>\n",
       "    </tr>\n",
       "    <tr>\n",
       "      <th>cortex-RH-SomMotA-10</th>\n",
       "      <td>3.992222</td>\n",
       "      <td>3.992222</td>\n",
       "    </tr>\n",
       "    <tr>\n",
       "      <th>subcortex-lPFtha-R</th>\n",
       "      <td>3.837399</td>\n",
       "      <td>3.837399</td>\n",
       "    </tr>\n",
       "    <tr>\n",
       "      <th>cortex-LH-DorsAttnB-PostC-6</th>\n",
       "      <td>-3.249644</td>\n",
       "      <td>-3.249644</td>\n",
       "    </tr>\n",
       "  </tbody>\n",
       "</table>\n",
       "</div>"
      ],
      "text/plain": [
       "                                  LD1       LD1\n",
       "y_ax                                           \n",
       "cortex-LH-LimbicB-OFC-1      8.264456  8.264456\n",
       "cortex-RH-VisCent-ExStr-8    6.316778  6.316778\n",
       "cortex-RH-SomMotA-10         3.992222  3.992222\n",
       "subcortex-lPFtha-R           3.837399  3.837399\n",
       "cortex-LH-DorsAttnB-PostC-6 -3.249644 -3.249644"
      ]
     },
     "execution_count": 74,
     "metadata": {},
     "output_type": "execute_result"
    }
   ],
   "source": [
    "lda_gmv = lda[lda['measure']=='GMV']\n",
    "lda_gmv_fig = lda_gmv[['y_ax', 'LD1', 'LD1']].set_index('y_ax')\n",
    "lda_gmv_fig.head()"
   ]
  },
  {
   "cell_type": "code",
   "execution_count": 75,
   "metadata": {},
   "outputs": [
    {
     "data": {
      "image/png": "[encoded data removed]",
      "text/plain": [
       "<Figure size 1080x504 with 2 Axes>"
      ]
     },
     "metadata": {
      "needs_background": "light"
     },
     "output_type": "display_data"
    }
   ],
   "source": [
    "maxPC = 1.01 * np.max(np.max(np.abs(lda_gmv_fig.iloc[0:5, :])))\n",
    "f, axes = plt.subplots(2, 1, figsize=(15, 7), sharex=True)\n",
    "for i, ax in enumerate(axes):\n",
    "    pc_loadings = lda_gmv_fig.iloc[:, i]\n",
    "    colors = ['C2' if l > 0 else 'C1' for l in pc_loadings]\n",
    "    ax.axhline(color='#8888')\n",
    "    pc_loadings.plot.bar(ax=ax, color=colors)\n",
    "    ax.set_ylabel(f'importance')\n",
    "    ax.set_ylim(-2, 9)\n",
    "plt.tight_layout()\n",
    "plt.savefig('LDA_gmv_FeatureImportance.jpg')\n",
    "plt.show()"
   ]
  }
 ],
 "metadata": {
  "kernelspec": {
   "display_name": "Python 3",
   "language": "python",
   "name": "python3"
  },
  "language_info": {
   "codemirror_mode": {
    "name": "ipython",
    "version": 3
   },
   "file_extension": ".py",
   "mimetype": "text/x-python",
   "name": "python",
   "nbconvert_exporter": "python",
   "pygments_lexer": "ipython3",
   "version": "3.8.10"
  }
 },
 "nbformat": 4,
 "nbformat_minor": 4
}
