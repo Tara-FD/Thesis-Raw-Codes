{
 "cells": [
  {
   "cell_type": "code",
   "execution_count": 1,
   "metadata": {},
   "outputs": [],
   "source": [
    "import pandas as pd"
   ]
  },
  {
   "cell_type": "code",
   "execution_count": 8,
   "metadata": {},
   "outputs": [
    {
     "data": {
      "text/html": [
       "<div>\n",
       "<style scoped>\n",
       "    .dataframe tbody tr th:only-of-type {\n",
       "        vertical-align: middle;\n",
       "    }\n",
       "\n",
       "    .dataframe tbody tr th {\n",
       "        vertical-align: top;\n",
       "    }\n",
       "\n",
       "    .dataframe thead th {\n",
       "        text-align: right;\n",
       "    }\n",
       "</style>\n",
       "<table border=\"1\" class=\"dataframe\">\n",
       "  <thead>\n",
       "    <tr style=\"text-align: right;\">\n",
       "      <th></th>\n",
       "      <th>features</th>\n",
       "      <th>LD1</th>\n",
       "    </tr>\n",
       "  </thead>\n",
       "  <tbody>\n",
       "    <tr>\n",
       "      <th>0</th>\n",
       "      <td>gmv-cortex-LH-LimbicB-OFC-1</td>\n",
       "      <td>8.264456</td>\n",
       "    </tr>\n",
       "    <tr>\n",
       "      <th>1</th>\n",
       "      <td>gmv-cortex-RH-VisCent-ExStr-8</td>\n",
       "      <td>6.316778</td>\n",
       "    </tr>\n",
       "    <tr>\n",
       "      <th>2</th>\n",
       "      <td>DC-cortex-LH-DorsAttnB-PostC-1</td>\n",
       "      <td>4.472864</td>\n",
       "    </tr>\n",
       "    <tr>\n",
       "      <th>3</th>\n",
       "      <td>DC-cortex-LH-SalVentAttnA-FrMed-1</td>\n",
       "      <td>-4.052401</td>\n",
       "    </tr>\n",
       "    <tr>\n",
       "      <th>4</th>\n",
       "      <td>gmv-cortex-RH-SomMotA-10</td>\n",
       "      <td>3.992222</td>\n",
       "    </tr>\n",
       "  </tbody>\n",
       "</table>\n",
       "</div>"
      ],
      "text/plain": [
       "                            features       LD1\n",
       "0        gmv-cortex-LH-LimbicB-OFC-1  8.264456\n",
       "1      gmv-cortex-RH-VisCent-ExStr-8  6.316778\n",
       "2     DC-cortex-LH-DorsAttnB-PostC-1  4.472864\n",
       "3  DC-cortex-LH-SalVentAttnA-FrMed-1 -4.052401\n",
       "4           gmv-cortex-RH-SomMotA-10  3.992222"
      ]
     },
     "execution_count": 8,
     "metadata": {},
     "output_type": "execute_result"
    }
   ],
   "source": [
    "df = pd.read_csv('lda_top56.csv')\n",
    "df.drop('Unnamed: 0', axis=1, inplace=True)\n",
    "df.head()"
   ]
  },
  {
   "cell_type": "markdown",
   "metadata": {},
   "source": [
    "- sub-dataframes for each index"
   ]
  },
  {
   "cell_type": "code",
   "execution_count": 29,
   "metadata": {},
   "outputs": [
    {
     "name": "stdout",
     "output_type": "stream",
     "text": [
      "8 out of 14 neural correlates of gmv\n"
     ]
    }
   ],
   "source": [
    "df_gmv = df[df['features'].str.find('gmv') != -1]\n",
    "df_gmv.shape\n",
    "print(df_gmv.shape[0], 'out of 14 neural correlates of gmv')"
   ]
  },
  {
   "cell_type": "code",
   "execution_count": 32,
   "metadata": {},
   "outputs": [
    {
     "name": "stdout",
     "output_type": "stream",
     "text": [
      "39 out of 125 neural correlates of fALFF\n"
     ]
    }
   ],
   "source": [
    "df_fALFF = df[df['features'].str.find('fALFF') != -1]\n",
    "df_fALFF.shape\n",
    "print(df_fALFF.shape[0], 'out of 125 neural correlates of fALFF')"
   ]
  },
  {
   "cell_type": "code",
   "execution_count": 33,
   "metadata": {},
   "outputs": [
    {
     "name": "stdout",
     "output_type": "stream",
     "text": [
      "11 out of 27 neural correlates of DC\n"
     ]
    }
   ],
   "source": [
    "df_DC = df[df['features'].str.find('DC') != -1]\n",
    "df_DC.shape\n",
    "print(df_DC.shape[0], 'out of 27 neural correlates of DC')"
   ]
  },
  {
   "cell_type": "code",
   "execution_count": 35,
   "metadata": {},
   "outputs": [
    {
     "name": "stdout",
     "output_type": "stream",
     "text": [
      "0 out of 18 neural correlates of ReHo\n"
     ]
    }
   ],
   "source": [
    "df_ReHo = df[df['features'].str.find('ReHo') != -1]\n",
    "df_ReHo.shape\n",
    "print(df_ReHo.shape[0], 'out of 18 neural correlates of ReHo')"
   ]
  },
  {
   "cell_type": "code",
   "execution_count": 36,
   "metadata": {},
   "outputs": [
    {
     "data": {
      "text/html": [
       "<div>\n",
       "<style scoped>\n",
       "    .dataframe tbody tr th:only-of-type {\n",
       "        vertical-align: middle;\n",
       "    }\n",
       "\n",
       "    .dataframe tbody tr th {\n",
       "        vertical-align: top;\n",
       "    }\n",
       "\n",
       "    .dataframe thead th {\n",
       "        text-align: right;\n",
       "    }\n",
       "</style>\n",
       "<table border=\"1\" class=\"dataframe\">\n",
       "  <thead>\n",
       "    <tr style=\"text-align: right;\">\n",
       "      <th></th>\n",
       "      <th>features</th>\n",
       "      <th>LD1</th>\n",
       "    </tr>\n",
       "  </thead>\n",
       "  <tbody>\n",
       "    <tr>\n",
       "      <th>0</th>\n",
       "      <td>gmv-cortex-LH-LimbicB-OFC-1</td>\n",
       "      <td>8.264456</td>\n",
       "    </tr>\n",
       "    <tr>\n",
       "      <th>1</th>\n",
       "      <td>gmv-cortex-RH-VisCent-ExStr-8</td>\n",
       "      <td>6.316778</td>\n",
       "    </tr>\n",
       "    <tr>\n",
       "      <th>4</th>\n",
       "      <td>gmv-cortex-RH-SomMotA-10</td>\n",
       "      <td>3.992222</td>\n",
       "    </tr>\n",
       "    <tr>\n",
       "      <th>5</th>\n",
       "      <td>gmv-lPFtha-R</td>\n",
       "      <td>3.837399</td>\n",
       "    </tr>\n",
       "    <tr>\n",
       "      <th>6</th>\n",
       "      <td>gmv-cortex-LH-DorsAttnB-PostC-6</td>\n",
       "      <td>-3.249644</td>\n",
       "    </tr>\n",
       "    <tr>\n",
       "      <th>16</th>\n",
       "      <td>gmv-cortex-RH-SomMotA-7</td>\n",
       "      <td>-2.182976</td>\n",
       "    </tr>\n",
       "    <tr>\n",
       "      <th>35</th>\n",
       "      <td>gmv-cortex-RH-SomMotA-11</td>\n",
       "      <td>1.340953</td>\n",
       "    </tr>\n",
       "    <tr>\n",
       "      <th>48</th>\n",
       "      <td>gmv-cortex-LH-SomMotA-11</td>\n",
       "      <td>1.170289</td>\n",
       "    </tr>\n",
       "  </tbody>\n",
       "</table>\n",
       "</div>"
      ],
      "text/plain": [
       "                           features       LD1\n",
       "0       gmv-cortex-LH-LimbicB-OFC-1  8.264456\n",
       "1     gmv-cortex-RH-VisCent-ExStr-8  6.316778\n",
       "4          gmv-cortex-RH-SomMotA-10  3.992222\n",
       "5                      gmv-lPFtha-R  3.837399\n",
       "6   gmv-cortex-LH-DorsAttnB-PostC-6 -3.249644\n",
       "16          gmv-cortex-RH-SomMotA-7 -2.182976\n",
       "35         gmv-cortex-RH-SomMotA-11  1.340953\n",
       "48         gmv-cortex-LH-SomMotA-11  1.170289"
      ]
     },
     "execution_count": 36,
     "metadata": {},
     "output_type": "execute_result"
    }
   ],
   "source": [
    "df_gmv"
   ]
  },
  {
   "cell_type": "code",
   "execution_count": null,
   "metadata": {},
   "outputs": [],
   "source": []
  }
 ],
 "metadata": {
  "kernelspec": {
   "display_name": "Python 3",
   "language": "python",
   "name": "python3"
  },
  "language_info": {
   "codemirror_mode": {
    "name": "ipython",
    "version": 3
   },
   "file_extension": ".py",
   "mimetype": "text/x-python",
   "name": "python",
   "nbconvert_exporter": "python",
   "pygments_lexer": "ipython3",
   "version": "3.8.10"
  }
 },
 "nbformat": 4,
 "nbformat_minor": 4
}
