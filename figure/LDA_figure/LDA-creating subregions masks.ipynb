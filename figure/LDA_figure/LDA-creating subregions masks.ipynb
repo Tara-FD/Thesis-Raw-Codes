{
 "cells": [
  {
   "cell_type": "code",
   "execution_count": 2,
   "metadata": {},
   "outputs": [],
   "source": [
    "%config Completer.use_jedi = False"
   ]
  },
  {
   "cell_type": "code",
   "execution_count": 3,
   "metadata": {},
   "outputs": [],
   "source": [
    "import pandas as pd\n",
    "import numpy as np\n",
    "import os \n",
    "import shutil \n",
    "from nilearn import image\n",
    "import fsl.wrappers as fsl"
   ]
  },
  {
   "cell_type": "code",
   "execution_count": 6,
   "metadata": {},
   "outputs": [
    {
     "data": {
      "text/html": [
       "<div>\n",
       "<style scoped>\n",
       "    .dataframe tbody tr th:only-of-type {\n",
       "        vertical-align: middle;\n",
       "    }\n",
       "\n",
       "    .dataframe tbody tr th {\n",
       "        vertical-align: top;\n",
       "    }\n",
       "\n",
       "    .dataframe thead th {\n",
       "        text-align: right;\n",
       "    }\n",
       "</style>\n",
       "<table border=\"1\" class=\"dataframe\">\n",
       "  <thead>\n",
       "    <tr style=\"text-align: right;\">\n",
       "      <th></th>\n",
       "      <th>features</th>\n",
       "      <th>LD1</th>\n",
       "    </tr>\n",
       "  </thead>\n",
       "  <tbody>\n",
       "    <tr>\n",
       "      <th>0</th>\n",
       "      <td>gmv-cortex-LH-LimbicB-OFC-1</td>\n",
       "      <td>8.264456</td>\n",
       "    </tr>\n",
       "    <tr>\n",
       "      <th>1</th>\n",
       "      <td>gmv-cortex-RH-VisCent-ExStr-8</td>\n",
       "      <td>6.316778</td>\n",
       "    </tr>\n",
       "    <tr>\n",
       "      <th>2</th>\n",
       "      <td>DC-cortex-LH-DorsAttnB-PostC-1</td>\n",
       "      <td>4.472864</td>\n",
       "    </tr>\n",
       "    <tr>\n",
       "      <th>3</th>\n",
       "      <td>DC-cortex-LH-SalVentAttnA-FrMed-1</td>\n",
       "      <td>-4.052401</td>\n",
       "    </tr>\n",
       "    <tr>\n",
       "      <th>4</th>\n",
       "      <td>gmv-cortex-RH-SomMotA-10</td>\n",
       "      <td>3.992222</td>\n",
       "    </tr>\n",
       "    <tr>\n",
       "      <th>5</th>\n",
       "      <td>gmv-subcortex-lPFtha-R</td>\n",
       "      <td>3.837399</td>\n",
       "    </tr>\n",
       "    <tr>\n",
       "      <th>6</th>\n",
       "      <td>gmv-cortex-LH-DorsAttnB-PostC-6</td>\n",
       "      <td>-3.249644</td>\n",
       "    </tr>\n",
       "    <tr>\n",
       "      <th>7</th>\n",
       "      <td>fALFF-subcortex-cTtha-L</td>\n",
       "      <td>3.210250</td>\n",
       "    </tr>\n",
       "    <tr>\n",
       "      <th>8</th>\n",
       "      <td>DC-cortex-RH-SalVentAttnA-ParOper-1</td>\n",
       "      <td>2.961035</td>\n",
       "    </tr>\n",
       "    <tr>\n",
       "      <th>9</th>\n",
       "      <td>fALFF-cortex-LH-SomMotB-Aud-4</td>\n",
       "      <td>2.725182</td>\n",
       "    </tr>\n",
       "    <tr>\n",
       "      <th>10</th>\n",
       "      <td>fALFF-cortex-LH-SomMotB-S2-2</td>\n",
       "      <td>2.456045</td>\n",
       "    </tr>\n",
       "    <tr>\n",
       "      <th>11</th>\n",
       "      <td>fALFF-cortex-RH-SalVentAttnA-FrMed-2</td>\n",
       "      <td>2.440729</td>\n",
       "    </tr>\n",
       "    <tr>\n",
       "      <th>12</th>\n",
       "      <td>DC-cortex-LH-SalVentAttnA-ParOper-1</td>\n",
       "      <td>-2.393801</td>\n",
       "    </tr>\n",
       "    <tr>\n",
       "      <th>13</th>\n",
       "      <td>fALFF-cortex-LH-DorsAttnB-PostC-5</td>\n",
       "      <td>-2.293910</td>\n",
       "    </tr>\n",
       "    <tr>\n",
       "      <th>14</th>\n",
       "      <td>DC-cortex-RH-SalVentAttnA-ParMed-4</td>\n",
       "      <td>-2.268095</td>\n",
       "    </tr>\n",
       "    <tr>\n",
       "      <th>15</th>\n",
       "      <td>fALFF-cortex-RH-SomMotB-S2-1</td>\n",
       "      <td>-2.253783</td>\n",
       "    </tr>\n",
       "    <tr>\n",
       "      <th>16</th>\n",
       "      <td>gmv-cortex-RH-SomMotA-7</td>\n",
       "      <td>-2.182976</td>\n",
       "    </tr>\n",
       "    <tr>\n",
       "      <th>17</th>\n",
       "      <td>fALFF-cortex-RH-SalVentAttnB-PFCmp-1</td>\n",
       "      <td>2.160399</td>\n",
       "    </tr>\n",
       "    <tr>\n",
       "      <th>18</th>\n",
       "      <td>DC-cortex-LH-DefaultB-Temp-5</td>\n",
       "      <td>-1.985988</td>\n",
       "    </tr>\n",
       "    <tr>\n",
       "      <th>19</th>\n",
       "      <td>DC-cerebellum-9</td>\n",
       "      <td>1.965099</td>\n",
       "    </tr>\n",
       "    <tr>\n",
       "      <th>20</th>\n",
       "      <td>fALFF-cortex-RH-DorsAttnB-FEF-3</td>\n",
       "      <td>-1.939142</td>\n",
       "    </tr>\n",
       "    <tr>\n",
       "      <th>21</th>\n",
       "      <td>fALFF-subcortex-mAmyg-R</td>\n",
       "      <td>-1.928694</td>\n",
       "    </tr>\n",
       "    <tr>\n",
       "      <th>22</th>\n",
       "      <td>fALFF-cortex-LH-DefaultB-Temp-1</td>\n",
       "      <td>1.891394</td>\n",
       "    </tr>\n",
       "    <tr>\n",
       "      <th>23</th>\n",
       "      <td>fALFF-cortex-RH-SalVentAttnA-FrMed-3</td>\n",
       "      <td>1.855231</td>\n",
       "    </tr>\n",
       "    <tr>\n",
       "      <th>24</th>\n",
       "      <td>fALFF-cortex-LH-DorsAttnA-SPL-3</td>\n",
       "      <td>1.822633</td>\n",
       "    </tr>\n",
       "    <tr>\n",
       "      <th>25</th>\n",
       "      <td>DC-cortex-LH-DefaultC-PHC-3</td>\n",
       "      <td>1.772202</td>\n",
       "    </tr>\n",
       "    <tr>\n",
       "      <th>26</th>\n",
       "      <td>fALFF-subcortex-rTtha-L</td>\n",
       "      <td>-1.769148</td>\n",
       "    </tr>\n",
       "    <tr>\n",
       "      <th>27</th>\n",
       "      <td>fALFF-cortex-RH-SalVentAttnB-PFClv-1</td>\n",
       "      <td>-1.655435</td>\n",
       "    </tr>\n",
       "    <tr>\n",
       "      <th>28</th>\n",
       "      <td>fALFF-cortex-LH-DorsAttnB-PostC-2</td>\n",
       "      <td>-1.584624</td>\n",
       "    </tr>\n",
       "    <tr>\n",
       "      <th>29</th>\n",
       "      <td>DC-cortex-RH-TempPar-4</td>\n",
       "      <td>-1.498042</td>\n",
       "    </tr>\n",
       "    <tr>\n",
       "      <th>30</th>\n",
       "      <td>fALFF-cortex-RH-SomMotA-3</td>\n",
       "      <td>1.467407</td>\n",
       "    </tr>\n",
       "    <tr>\n",
       "      <th>31</th>\n",
       "      <td>fALFF-subcortex-rHipp-L</td>\n",
       "      <td>1.417921</td>\n",
       "    </tr>\n",
       "    <tr>\n",
       "      <th>32</th>\n",
       "      <td>fALFF-cortex-RH-SalVentAttnB-PFCl-1</td>\n",
       "      <td>-1.362226</td>\n",
       "    </tr>\n",
       "    <tr>\n",
       "      <th>33</th>\n",
       "      <td>fALFF-cortex-LH-SomMotB-Aud-1</td>\n",
       "      <td>1.354062</td>\n",
       "    </tr>\n",
       "    <tr>\n",
       "      <th>34</th>\n",
       "      <td>fALFF-cortex-RH-DorsAttnB-PostC-2</td>\n",
       "      <td>-1.342453</td>\n",
       "    </tr>\n",
       "    <tr>\n",
       "      <th>35</th>\n",
       "      <td>gmv-cortex-RH-SomMotA-11</td>\n",
       "      <td>1.340953</td>\n",
       "    </tr>\n",
       "    <tr>\n",
       "      <th>36</th>\n",
       "      <td>fALFF-cortex-RH-SalVentAttnA-ParOper-3</td>\n",
       "      <td>1.331233</td>\n",
       "    </tr>\n",
       "    <tr>\n",
       "      <th>37</th>\n",
       "      <td>fALFF-cortex-LH-SomMotA-1</td>\n",
       "      <td>-1.325591</td>\n",
       "    </tr>\n",
       "    <tr>\n",
       "      <th>38</th>\n",
       "      <td>fALFF-cortex-LH-SalVentAttnA-FrMed-2</td>\n",
       "      <td>1.324547</td>\n",
       "    </tr>\n",
       "    <tr>\n",
       "      <th>39</th>\n",
       "      <td>fALFF-subcortex-cHipp-L</td>\n",
       "      <td>-1.315014</td>\n",
       "    </tr>\n",
       "    <tr>\n",
       "      <th>40</th>\n",
       "      <td>fALFF-cortex-LH-ContA-IPS-1</td>\n",
       "      <td>1.312525</td>\n",
       "    </tr>\n",
       "    <tr>\n",
       "      <th>41</th>\n",
       "      <td>fALFF-cortex-LH-DefaultA-PFCd-1</td>\n",
       "      <td>1.307907</td>\n",
       "    </tr>\n",
       "    <tr>\n",
       "      <th>42</th>\n",
       "      <td>fALFF-cortex-RH-SomMotB-Cent-3</td>\n",
       "      <td>1.270577</td>\n",
       "    </tr>\n",
       "    <tr>\n",
       "      <th>43</th>\n",
       "      <td>DC-cortex-LH-SalVentAttnA-ParMed-1</td>\n",
       "      <td>1.259468</td>\n",
       "    </tr>\n",
       "    <tr>\n",
       "      <th>44</th>\n",
       "      <td>fALFF-cortex-RH-ContA-Cingm-1</td>\n",
       "      <td>-1.248129</td>\n",
       "    </tr>\n",
       "    <tr>\n",
       "      <th>45</th>\n",
       "      <td>fALFF-cortex-LH-ContB-PFClv-2</td>\n",
       "      <td>1.231287</td>\n",
       "    </tr>\n",
       "    <tr>\n",
       "      <th>46</th>\n",
       "      <td>fALFF-cortex-RH-ContA-IPS-2</td>\n",
       "      <td>1.227818</td>\n",
       "    </tr>\n",
       "    <tr>\n",
       "      <th>47</th>\n",
       "      <td>fALFF-subcortex-Stha-R</td>\n",
       "      <td>-1.189314</td>\n",
       "    </tr>\n",
       "    <tr>\n",
       "      <th>48</th>\n",
       "      <td>gmv-cortex-LH-SomMotA-11</td>\n",
       "      <td>1.170289</td>\n",
       "    </tr>\n",
       "    <tr>\n",
       "      <th>49</th>\n",
       "      <td>fALFF-cortex-LH-LimbicA-TempPole-2</td>\n",
       "      <td>1.142394</td>\n",
       "    </tr>\n",
       "    <tr>\n",
       "      <th>50</th>\n",
       "      <td>fALFF-cortex-RH-SomMotB-Cent-1</td>\n",
       "      <td>-1.136523</td>\n",
       "    </tr>\n",
       "    <tr>\n",
       "      <th>51</th>\n",
       "      <td>fALFF-cortex-LH-SalVentAttnB-PFCl-1</td>\n",
       "      <td>-1.108256</td>\n",
       "    </tr>\n",
       "    <tr>\n",
       "      <th>52</th>\n",
       "      <td>DC-cortex-RH-SomMotA-6</td>\n",
       "      <td>1.100796</td>\n",
       "    </tr>\n",
       "    <tr>\n",
       "      <th>53</th>\n",
       "      <td>fALFF-cortex-RH-DorsAttnA-TempOcc-3</td>\n",
       "      <td>1.100687</td>\n",
       "    </tr>\n",
       "    <tr>\n",
       "      <th>54</th>\n",
       "      <td>fALFF-cortex-RH-DorsAttnA-SPL-4</td>\n",
       "      <td>-1.080487</td>\n",
       "    </tr>\n",
       "    <tr>\n",
       "      <th>55</th>\n",
       "      <td>fALFF-cortex-LH-VisCent-Striate-1</td>\n",
       "      <td>-1.037846</td>\n",
       "    </tr>\n",
       "    <tr>\n",
       "      <th>56</th>\n",
       "      <td>fALFF-subcortex-Stha-L</td>\n",
       "      <td>1.033924</td>\n",
       "    </tr>\n",
       "    <tr>\n",
       "      <th>57</th>\n",
       "      <td>fALFF-cortex-RH-DorsAttnB-PostC-5</td>\n",
       "      <td>1.012301</td>\n",
       "    </tr>\n",
       "  </tbody>\n",
       "</table>\n",
       "</div>"
      ],
      "text/plain": [
       "                                  features       LD1\n",
       "0              gmv-cortex-LH-LimbicB-OFC-1  8.264456\n",
       "1            gmv-cortex-RH-VisCent-ExStr-8  6.316778\n",
       "2           DC-cortex-LH-DorsAttnB-PostC-1  4.472864\n",
       "3        DC-cortex-LH-SalVentAttnA-FrMed-1 -4.052401\n",
       "4                 gmv-cortex-RH-SomMotA-10  3.992222\n",
       "5                   gmv-subcortex-lPFtha-R  3.837399\n",
       "6          gmv-cortex-LH-DorsAttnB-PostC-6 -3.249644\n",
       "7                  fALFF-subcortex-cTtha-L  3.210250\n",
       "8      DC-cortex-RH-SalVentAttnA-ParOper-1  2.961035\n",
       "9            fALFF-cortex-LH-SomMotB-Aud-4  2.725182\n",
       "10            fALFF-cortex-LH-SomMotB-S2-2  2.456045\n",
       "11    fALFF-cortex-RH-SalVentAttnA-FrMed-2  2.440729\n",
       "12     DC-cortex-LH-SalVentAttnA-ParOper-1 -2.393801\n",
       "13       fALFF-cortex-LH-DorsAttnB-PostC-5 -2.293910\n",
       "14      DC-cortex-RH-SalVentAttnA-ParMed-4 -2.268095\n",
       "15            fALFF-cortex-RH-SomMotB-S2-1 -2.253783\n",
       "16                 gmv-cortex-RH-SomMotA-7 -2.182976\n",
       "17    fALFF-cortex-RH-SalVentAttnB-PFCmp-1  2.160399\n",
       "18            DC-cortex-LH-DefaultB-Temp-5 -1.985988\n",
       "19                         DC-cerebellum-9  1.965099\n",
       "20         fALFF-cortex-RH-DorsAttnB-FEF-3 -1.939142\n",
       "21                 fALFF-subcortex-mAmyg-R -1.928694\n",
       "22         fALFF-cortex-LH-DefaultB-Temp-1  1.891394\n",
       "23    fALFF-cortex-RH-SalVentAttnA-FrMed-3  1.855231\n",
       "24         fALFF-cortex-LH-DorsAttnA-SPL-3  1.822633\n",
       "25             DC-cortex-LH-DefaultC-PHC-3  1.772202\n",
       "26                 fALFF-subcortex-rTtha-L -1.769148\n",
       "27    fALFF-cortex-RH-SalVentAttnB-PFClv-1 -1.655435\n",
       "28       fALFF-cortex-LH-DorsAttnB-PostC-2 -1.584624\n",
       "29                  DC-cortex-RH-TempPar-4 -1.498042\n",
       "30               fALFF-cortex-RH-SomMotA-3  1.467407\n",
       "31                 fALFF-subcortex-rHipp-L  1.417921\n",
       "32     fALFF-cortex-RH-SalVentAttnB-PFCl-1 -1.362226\n",
       "33           fALFF-cortex-LH-SomMotB-Aud-1  1.354062\n",
       "34       fALFF-cortex-RH-DorsAttnB-PostC-2 -1.342453\n",
       "35                gmv-cortex-RH-SomMotA-11  1.340953\n",
       "36  fALFF-cortex-RH-SalVentAttnA-ParOper-3  1.331233\n",
       "37               fALFF-cortex-LH-SomMotA-1 -1.325591\n",
       "38    fALFF-cortex-LH-SalVentAttnA-FrMed-2  1.324547\n",
       "39                 fALFF-subcortex-cHipp-L -1.315014\n",
       "40             fALFF-cortex-LH-ContA-IPS-1  1.312525\n",
       "41         fALFF-cortex-LH-DefaultA-PFCd-1  1.307907\n",
       "42          fALFF-cortex-RH-SomMotB-Cent-3  1.270577\n",
       "43      DC-cortex-LH-SalVentAttnA-ParMed-1  1.259468\n",
       "44           fALFF-cortex-RH-ContA-Cingm-1 -1.248129\n",
       "45           fALFF-cortex-LH-ContB-PFClv-2  1.231287\n",
       "46             fALFF-cortex-RH-ContA-IPS-2  1.227818\n",
       "47                  fALFF-subcortex-Stha-R -1.189314\n",
       "48                gmv-cortex-LH-SomMotA-11  1.170289\n",
       "49      fALFF-cortex-LH-LimbicA-TempPole-2  1.142394\n",
       "50          fALFF-cortex-RH-SomMotB-Cent-1 -1.136523\n",
       "51     fALFF-cortex-LH-SalVentAttnB-PFCl-1 -1.108256\n",
       "52                  DC-cortex-RH-SomMotA-6  1.100796\n",
       "53     fALFF-cortex-RH-DorsAttnA-TempOcc-3  1.100687\n",
       "54         fALFF-cortex-RH-DorsAttnA-SPL-4 -1.080487\n",
       "55       fALFF-cortex-LH-VisCent-Striate-1 -1.037846\n",
       "56                  fALFF-subcortex-Stha-L  1.033924\n",
       "57       fALFF-cortex-RH-DorsAttnB-PostC-5  1.012301"
      ]
     },
     "execution_count": 6,
     "metadata": {},
     "output_type": "execute_result"
    }
   ],
   "source": [
    "df = pd.read_csv('lda_top56.csv')\n",
    "df.drop('Unnamed: 0', axis = 1, inplace = True)\n",
    "df['features'] = df['features'].str.replace(r\"FALFF\", \"fALFF\")\n",
    "df"
   ]
  },
  {
   "cell_type": "code",
   "execution_count": 4,
   "metadata": {},
   "outputs": [],
   "source": [
    "#df.to_csv('lda_top56.csv')"
   ]
  },
  {
   "cell_type": "code",
   "execution_count": 5,
   "metadata": {},
   "outputs": [],
   "source": [
    "df[\"Measurment\"] = [meas.split(\"-\")[0] for meas in df[\"features\"]]"
   ]
  },
  {
   "cell_type": "code",
   "execution_count": 6,
   "metadata": {},
   "outputs": [],
   "source": [
    "df[\"region\"] = [\"-\".join(meas.split(\"-\")[1:]) for meas in df[\"features\"]]"
   ]
  },
  {
   "cell_type": "code",
   "execution_count": 7,
   "metadata": {},
   "outputs": [],
   "source": [
    "#df[\"region\"]"
   ]
  },
  {
   "cell_type": "code",
   "execution_count": 8,
   "metadata": {},
   "outputs": [],
   "source": [
    "reho = df[df[\"Measurment\"]==\"ReHo\"]"
   ]
  },
  {
   "cell_type": "code",
   "execution_count": 9,
   "metadata": {},
   "outputs": [],
   "source": [
    "#sch_regions"
   ]
  },
  {
   "cell_type": "code",
   "execution_count": 10,
   "metadata": {},
   "outputs": [
    {
     "data": {
      "text/html": [
       "<div>\n",
       "<style scoped>\n",
       "    .dataframe tbody tr th:only-of-type {\n",
       "        vertical-align: middle;\n",
       "    }\n",
       "\n",
       "    .dataframe tbody tr th {\n",
       "        vertical-align: top;\n",
       "    }\n",
       "\n",
       "    .dataframe thead th {\n",
       "        text-align: right;\n",
       "    }\n",
       "</style>\n",
       "<table border=\"1\" class=\"dataframe\">\n",
       "  <thead>\n",
       "    <tr style=\"text-align: right;\">\n",
       "      <th></th>\n",
       "      <th>ROI Label</th>\n",
       "      <th>R</th>\n",
       "      <th>A</th>\n",
       "      <th>S</th>\n",
       "    </tr>\n",
       "    <tr>\n",
       "      <th>ROI Name</th>\n",
       "      <th></th>\n",
       "      <th></th>\n",
       "      <th></th>\n",
       "      <th></th>\n",
       "    </tr>\n",
       "  </thead>\n",
       "  <tbody>\n",
       "    <tr>\n",
       "      <th>17Networks_LH_VisCent_ExStr_1</th>\n",
       "      <td>1</td>\n",
       "      <td>-36</td>\n",
       "      <td>-62</td>\n",
       "      <td>-17</td>\n",
       "    </tr>\n",
       "    <tr>\n",
       "      <th>17Networks_LH_VisCent_ExStr_2</th>\n",
       "      <td>2</td>\n",
       "      <td>-23</td>\n",
       "      <td>-73</td>\n",
       "      <td>-10</td>\n",
       "    </tr>\n",
       "    <tr>\n",
       "      <th>17Networks_LH_VisCent_ExStr_3</th>\n",
       "      <td>3</td>\n",
       "      <td>-36</td>\n",
       "      <td>-81</td>\n",
       "      <td>-16</td>\n",
       "    </tr>\n",
       "    <tr>\n",
       "      <th>17Networks_LH_VisCent_ExStr_4</th>\n",
       "      <td>4</td>\n",
       "      <td>-17</td>\n",
       "      <td>-86</td>\n",
       "      <td>-15</td>\n",
       "    </tr>\n",
       "    <tr>\n",
       "      <th>17Networks_LH_VisCent_ExStr_5</th>\n",
       "      <td>5</td>\n",
       "      <td>-24</td>\n",
       "      <td>-97</td>\n",
       "      <td>-12</td>\n",
       "    </tr>\n",
       "  </tbody>\n",
       "</table>\n",
       "</div>"
      ],
      "text/plain": [
       "                               ROI Label   R   A   S\n",
       "ROI Name                                            \n",
       "17Networks_LH_VisCent_ExStr_1          1 -36 -62 -17\n",
       "17Networks_LH_VisCent_ExStr_2          2 -23 -73 -10\n",
       "17Networks_LH_VisCent_ExStr_3          3 -36 -81 -16\n",
       "17Networks_LH_VisCent_ExStr_4          4 -17 -86 -15\n",
       "17Networks_LH_VisCent_ExStr_5          5 -24 -97 -12"
      ]
     },
     "execution_count": 10,
     "metadata": {},
     "output_type": "execute_result"
    }
   ],
   "source": [
    "sch_regions = pd.read_csv(\"Schaefer2018_400Parcels_17Networks_order_FSLMNI152_1mm.Centroid_RAS.csv\").set_index(\"ROI Name\")\n",
    "sch_regions.head()"
   ]
  },
  {
   "cell_type": "code",
   "execution_count": 11,
   "metadata": {},
   "outputs": [
    {
     "data": {
      "text/html": [
       "<div>\n",
       "<style scoped>\n",
       "    .dataframe tbody tr th:only-of-type {\n",
       "        vertical-align: middle;\n",
       "    }\n",
       "\n",
       "    .dataframe tbody tr th {\n",
       "        vertical-align: top;\n",
       "    }\n",
       "\n",
       "    .dataframe thead th {\n",
       "        text-align: right;\n",
       "    }\n",
       "</style>\n",
       "<table border=\"1\" class=\"dataframe\">\n",
       "  <thead>\n",
       "    <tr style=\"text-align: right;\">\n",
       "      <th></th>\n",
       "      <th>Value</th>\n",
       "    </tr>\n",
       "    <tr>\n",
       "      <th>ROI_Name</th>\n",
       "      <th></th>\n",
       "    </tr>\n",
       "  </thead>\n",
       "  <tbody>\n",
       "    <tr>\n",
       "      <th>mAmyg_L</th>\n",
       "      <td>211</td>\n",
       "    </tr>\n",
       "    <tr>\n",
       "      <th>mAmyg_R</th>\n",
       "      <td>212</td>\n",
       "    </tr>\n",
       "    <tr>\n",
       "      <th>lAmyg_L</th>\n",
       "      <td>213</td>\n",
       "    </tr>\n",
       "    <tr>\n",
       "      <th>lAmyg_R</th>\n",
       "      <td>214</td>\n",
       "    </tr>\n",
       "    <tr>\n",
       "      <th>rHipp_L</th>\n",
       "      <td>215</td>\n",
       "    </tr>\n",
       "  </tbody>\n",
       "</table>\n",
       "</div>"
      ],
      "text/plain": [
       "          Value\n",
       "ROI_Name       \n",
       "mAmyg_L     211\n",
       "mAmyg_R     212\n",
       "lAmyg_L     213\n",
       "lAmyg_R     214\n",
       "rHipp_L     215"
      ]
     },
     "execution_count": 11,
     "metadata": {},
     "output_type": "execute_result"
    }
   ],
   "source": [
    "BN_regions = pd.read_csv('BN_Atlas_246_LUT_text.csv').set_index(\"ROI_Name\")\n",
    "BN_regions.head()"
   ]
  },
  {
   "cell_type": "code",
   "execution_count": 12,
   "metadata": {},
   "outputs": [
    {
     "data": {
      "text/html": [
       "<div>\n",
       "<style scoped>\n",
       "    .dataframe tbody tr th:only-of-type {\n",
       "        vertical-align: middle;\n",
       "    }\n",
       "\n",
       "    .dataframe tbody tr th {\n",
       "        vertical-align: top;\n",
       "    }\n",
       "\n",
       "    .dataframe thead th {\n",
       "        text-align: right;\n",
       "    }\n",
       "</style>\n",
       "<table border=\"1\" class=\"dataframe\">\n",
       "  <thead>\n",
       "    <tr style=\"text-align: right;\">\n",
       "      <th></th>\n",
       "      <th>index</th>\n",
       "      <th>color</th>\n",
       "    </tr>\n",
       "    <tr>\n",
       "      <th>name</th>\n",
       "      <th></th>\n",
       "      <th></th>\n",
       "    </tr>\n",
       "  </thead>\n",
       "  <tbody>\n",
       "    <tr>\n",
       "      <th>Network_1</th>\n",
       "      <td>1</td>\n",
       "      <td>#b52bd4</td>\n",
       "    </tr>\n",
       "    <tr>\n",
       "      <th>Network_2</th>\n",
       "      <td>2</td>\n",
       "      <td>#ff0000</td>\n",
       "    </tr>\n",
       "    <tr>\n",
       "      <th>Network_3</th>\n",
       "      <td>3</td>\n",
       "      <td>#a1e1ff</td>\n",
       "    </tr>\n",
       "    <tr>\n",
       "      <th>Network_4</th>\n",
       "      <td>4</td>\n",
       "      <td>#6cffc2</td>\n",
       "    </tr>\n",
       "    <tr>\n",
       "      <th>Network_5</th>\n",
       "      <td>5</td>\n",
       "      <td>#4ac33b</td>\n",
       "    </tr>\n",
       "  </tbody>\n",
       "</table>\n",
       "</div>"
      ],
      "text/plain": [
       "           index    color\n",
       "name                     \n",
       "Network_1      1  #b52bd4\n",
       "Network_2      2  #ff0000\n",
       "Network_3      3  #a1e1ff\n",
       "Network_4      4  #6cffc2\n",
       "Network_5      5  #4ac33b"
      ]
     },
     "execution_count": 12,
     "metadata": {},
     "output_type": "execute_result"
    }
   ],
   "source": [
    "Buck_regions = pd.read_csv('atl-Buckner17.csv').set_index('name')\n",
    "Buck_regions.head()"
   ]
  },
  {
   "cell_type": "code",
   "execution_count": 169,
   "metadata": {},
   "outputs": [
    {
     "name": "stderr",
     "output_type": "stream",
     "text": [
      "terminate called after throwing an instance of 'NiftiIO::NiftiException'\n",
      "  what():  Error: cant open file reho/17Networks_LH_ContA_IPS_2.nii.gz\n"
     ]
    },
    {
     "ename": "RuntimeError",
     "evalue": "/usr/local/fsl/bin/fslmaths returned non-zero exit code: -6",
     "output_type": "error",
     "traceback": [
      "\u001b[0;31m---------------------------------------------------------------------------\u001b[0m",
      "\u001b[0;31mRuntimeError\u001b[0m                              Traceback (most recent call last)",
      "\u001b[0;32m<ipython-input-169-e4695dca7a89>\u001b[0m in \u001b[0;36m<module>\u001b[0;34m\u001b[0m\n\u001b[1;32m      4\u001b[0m         \u001b[0mname\u001b[0m \u001b[0;34m=\u001b[0m \u001b[0;34m'reho/'\u001b[0m\u001b[0;34m+\u001b[0m\u001b[0mregion\u001b[0m\u001b[0;34m+\u001b[0m\u001b[0;34m'.nii.gz'\u001b[0m\u001b[0;34m\u001b[0m\u001b[0;34m\u001b[0m\u001b[0m\n\u001b[1;32m      5\u001b[0m         \u001b[0mimp\u001b[0m \u001b[0;34m=\u001b[0m \u001b[0mreho\u001b[0m\u001b[0;34m.\u001b[0m\u001b[0miloc\u001b[0m\u001b[0;34m[\u001b[0m\u001b[0;34m[\u001b[0m\u001b[0mi\u001b[0m\u001b[0;34m]\u001b[0m\u001b[0;34m,\u001b[0m \u001b[0;36m1\u001b[0m\u001b[0;34m]\u001b[0m\u001b[0;34m.\u001b[0m\u001b[0mvalues\u001b[0m\u001b[0;34m[\u001b[0m\u001b[0;36m0\u001b[0m\u001b[0;34m]\u001b[0m\u001b[0;34m*\u001b[0m\u001b[0;36m100\u001b[0m\u001b[0;34m\u001b[0m\u001b[0;34m\u001b[0m\u001b[0m\n\u001b[0;32m----> 6\u001b[0;31m         \u001b[0mfsl\u001b[0m\u001b[0;34m.\u001b[0m\u001b[0mfslmaths\u001b[0m\u001b[0;34m(\u001b[0m\u001b[0;34m'Schaefer2018_400Parcels_17Networks_order_FSLMNI152_2mm.nii'\u001b[0m\u001b[0;34m)\u001b[0m\u001b[0;34m.\u001b[0m\u001b[0mthr\u001b[0m\u001b[0;34m(\u001b[0m\u001b[0mvalue\u001b[0m\u001b[0;34m-\u001b[0m\u001b[0;36m0.1\u001b[0m\u001b[0;34m)\u001b[0m\u001b[0;34m.\u001b[0m\u001b[0muthr\u001b[0m\u001b[0;34m(\u001b[0m\u001b[0mvalue\u001b[0m\u001b[0;34m+\u001b[0m\u001b[0;36m0.1\u001b[0m\u001b[0;34m)\u001b[0m\u001b[0;34m.\u001b[0m\u001b[0mrun\u001b[0m\u001b[0;34m(\u001b[0m\u001b[0mname\u001b[0m\u001b[0;34m)\u001b[0m\u001b[0;34m\u001b[0m\u001b[0;34m\u001b[0m\u001b[0m\n\u001b[0m\u001b[1;32m      7\u001b[0m         \u001b[0mfsl\u001b[0m\u001b[0;34m.\u001b[0m\u001b[0mfslmaths\u001b[0m\u001b[0;34m(\u001b[0m\u001b[0mname\u001b[0m\u001b[0;34m)\u001b[0m\u001b[0;34m.\u001b[0m\u001b[0mbin\u001b[0m\u001b[0;34m(\u001b[0m\u001b[0;34m)\u001b[0m\u001b[0;34m.\u001b[0m\u001b[0mmul\u001b[0m\u001b[0;34m(\u001b[0m\u001b[0mimp\u001b[0m\u001b[0;34m)\u001b[0m\u001b[0;34m.\u001b[0m\u001b[0mrun\u001b[0m\u001b[0;34m(\u001b[0m\u001b[0mname\u001b[0m\u001b[0;34m)\u001b[0m\u001b[0;34m\u001b[0m\u001b[0;34m\u001b[0m\u001b[0m\n\u001b[1;32m      8\u001b[0m \u001b[0;34m\u001b[0m\u001b[0m\n",
      "\u001b[0;32m~/Programming/env/lib/python3.8/site-packages/fsl/wrappers/fslmaths.py\u001b[0m in \u001b[0;36mrun\u001b[0;34m(self, output)\u001b[0m\n\u001b[1;32m    186\u001b[0m \u001b[0;34m\u001b[0m\u001b[0m\n\u001b[1;32m    187\u001b[0m         \u001b[0mcmd\u001b[0m   \u001b[0;34m+=\u001b[0m \u001b[0;34m[\u001b[0m\u001b[0moutput\u001b[0m\u001b[0;34m]\u001b[0m\u001b[0;34m\u001b[0m\u001b[0;34m\u001b[0m\u001b[0m\n\u001b[0;32m--> 188\u001b[0;31m         \u001b[0mresult\u001b[0m \u001b[0;34m=\u001b[0m \u001b[0mself\u001b[0m\u001b[0;34m.\u001b[0m\u001b[0m__run\u001b[0m\u001b[0;34m(\u001b[0m\u001b[0;34m*\u001b[0m\u001b[0mcmd\u001b[0m\u001b[0;34m)\u001b[0m\u001b[0;34m\u001b[0m\u001b[0;34m\u001b[0m\u001b[0m\n\u001b[0m\u001b[1;32m    189\u001b[0m \u001b[0;34m\u001b[0m\u001b[0m\n\u001b[1;32m    190\u001b[0m         \u001b[0;31m# if output is LOADed, there\u001b[0m\u001b[0;34m\u001b[0m\u001b[0;34m\u001b[0m\u001b[0;34m\u001b[0m\u001b[0m\n",
      "\u001b[0;32m~/Programming/env/lib/python3.8/site-packages/fsl/wrappers/wrapperutils.py\u001b[0m in \u001b[0;36mwrapper\u001b[0;34m(*args, **kwargs)\u001b[0m\n\u001b[1;32m   1092\u001b[0m \u001b[0;34m\u001b[0m\u001b[0m\n\u001b[1;32m   1093\u001b[0m         \u001b[0;32mdef\u001b[0m \u001b[0mwrapper\u001b[0m\u001b[0;34m(\u001b[0m\u001b[0;34m*\u001b[0m\u001b[0margs\u001b[0m\u001b[0;34m,\u001b[0m \u001b[0;34m**\u001b[0m\u001b[0mkwargs\u001b[0m\u001b[0;34m)\u001b[0m\u001b[0;34m:\u001b[0m\u001b[0;34m\u001b[0m\u001b[0;34m\u001b[0m\u001b[0m\n\u001b[0;32m-> 1094\u001b[0;31m             \u001b[0mresult\u001b[0m \u001b[0;34m=\u001b[0m \u001b[0mfot\u001b[0m\u001b[0;34m(\u001b[0m\u001b[0;34m*\u001b[0m\u001b[0margs\u001b[0m\u001b[0;34m,\u001b[0m \u001b[0;34m**\u001b[0m\u001b[0mkwargs\u001b[0m\u001b[0;34m)\u001b[0m\u001b[0;34m\u001b[0m\u001b[0;34m\u001b[0m\u001b[0m\n\u001b[0m\u001b[1;32m   1095\u001b[0m             \u001b[0mintypes\u001b[0m\u001b[0;34m[\u001b[0m\u001b[0;34m:\u001b[0m\u001b[0;34m]\u001b[0m \u001b[0;34m=\u001b[0m \u001b[0;34m[\u001b[0m\u001b[0;34m]\u001b[0m\u001b[0;34m\u001b[0m\u001b[0;34m\u001b[0m\u001b[0m\n\u001b[1;32m   1096\u001b[0m             \u001b[0;32mreturn\u001b[0m \u001b[0mresult\u001b[0m\u001b[0;34m\u001b[0m\u001b[0;34m\u001b[0m\u001b[0m\n",
      "\u001b[0;32m~/Programming/env/lib/python3.8/site-packages/fsl/wrappers/wrapperutils.py\u001b[0m in \u001b[0;36m__call__\u001b[0;34m(self, *args, **kwargs)\u001b[0m\n\u001b[1;32m    754\u001b[0m             \u001b[0;31m# Call the function\u001b[0m\u001b[0;34m\u001b[0m\u001b[0;34m\u001b[0m\u001b[0;34m\u001b[0m\u001b[0m\n\u001b[1;32m    755\u001b[0m             \u001b[0;32mtry\u001b[0m\u001b[0;34m:\u001b[0m\u001b[0;34m\u001b[0m\u001b[0;34m\u001b[0m\u001b[0m\n\u001b[0;32m--> 756\u001b[0;31m                 \u001b[0mresult\u001b[0m \u001b[0;34m=\u001b[0m \u001b[0mfunc\u001b[0m\u001b[0;34m(\u001b[0m\u001b[0;34m*\u001b[0m\u001b[0margs\u001b[0m\u001b[0;34m,\u001b[0m \u001b[0;34m**\u001b[0m\u001b[0mkwargs\u001b[0m\u001b[0;34m)\u001b[0m\u001b[0;34m\u001b[0m\u001b[0;34m\u001b[0m\u001b[0m\n\u001b[0m\u001b[1;32m    757\u001b[0m \u001b[0;34m\u001b[0m\u001b[0m\n\u001b[1;32m    758\u001b[0m             \u001b[0;32mfinally\u001b[0m\u001b[0;34m:\u001b[0m\u001b[0;34m\u001b[0m\u001b[0;34m\u001b[0m\u001b[0m\n",
      "\u001b[0;32m~/Programming/env/lib/python3.8/site-packages/fsl/wrappers/wrapperutils.py\u001b[0m in \u001b[0;36mwrapper\u001b[0;34m(*args, **kwargs)\u001b[0m\n\u001b[1;32m    195\u001b[0m             \u001b[0mcmd\u001b[0m \u001b[0;34m=\u001b[0m \u001b[0mfunc\u001b[0m\u001b[0;34m(\u001b[0m\u001b[0;34m*\u001b[0m\u001b[0margs\u001b[0m\u001b[0;34m,\u001b[0m \u001b[0;34m**\u001b[0m\u001b[0mkwargs\u001b[0m\u001b[0;34m)\u001b[0m\u001b[0;34m\u001b[0m\u001b[0;34m\u001b[0m\u001b[0m\n\u001b[1;32m    196\u001b[0m \u001b[0;34m\u001b[0m\u001b[0m\n\u001b[0;32m--> 197\u001b[0;31m         return runner(cmd,\n\u001b[0m\u001b[1;32m    198\u001b[0m                       \u001b[0mstderr\u001b[0m\u001b[0;34m=\u001b[0m\u001b[0mstderr\u001b[0m\u001b[0;34m,\u001b[0m\u001b[0;34m\u001b[0m\u001b[0;34m\u001b[0m\u001b[0m\n\u001b[1;32m    199\u001b[0m                       \u001b[0mlog\u001b[0m\u001b[0;34m=\u001b[0m\u001b[0mlog\u001b[0m\u001b[0;34m,\u001b[0m\u001b[0;34m\u001b[0m\u001b[0;34m\u001b[0m\u001b[0m\n",
      "\u001b[0;32m~/Programming/env/lib/python3.8/site-packages/fsl/utils/run.py\u001b[0m in \u001b[0;36mrunfsl\u001b[0;34m(*args, **kwargs)\u001b[0m\n\u001b[1;32m    388\u001b[0m             args[0], ', '.join(prefixes)))\n\u001b[1;32m    389\u001b[0m \u001b[0;34m\u001b[0m\u001b[0m\n\u001b[0;32m--> 390\u001b[0;31m     \u001b[0;32mreturn\u001b[0m \u001b[0mrun\u001b[0m\u001b[0;34m(\u001b[0m\u001b[0;34m*\u001b[0m\u001b[0margs\u001b[0m\u001b[0;34m,\u001b[0m \u001b[0;34m**\u001b[0m\u001b[0mkwargs\u001b[0m\u001b[0;34m)\u001b[0m\u001b[0;34m\u001b[0m\u001b[0;34m\u001b[0m\u001b[0m\n\u001b[0m\u001b[1;32m    391\u001b[0m \u001b[0;34m\u001b[0m\u001b[0m\n\u001b[1;32m    392\u001b[0m \u001b[0;34m\u001b[0m\u001b[0m\n",
      "\u001b[0;32m~/Programming/env/lib/python3.8/site-packages/fsl/utils/run.py\u001b[0m in \u001b[0;36mrun\u001b[0;34m(*args, **kwargs)\u001b[0m\n\u001b[1;32m    227\u001b[0m \u001b[0;34m\u001b[0m\u001b[0m\n\u001b[1;32m    228\u001b[0m     \u001b[0;32mif\u001b[0m \u001b[0;32mnot\u001b[0m \u001b[0mreturnExitcode\u001b[0m \u001b[0;32mand\u001b[0m \u001b[0;34m(\u001b[0m\u001b[0mexitcode\u001b[0m \u001b[0;34m!=\u001b[0m \u001b[0;36m0\u001b[0m\u001b[0;34m)\u001b[0m\u001b[0;34m:\u001b[0m\u001b[0;34m\u001b[0m\u001b[0;34m\u001b[0m\u001b[0m\n\u001b[0;32m--> 229\u001b[0;31m         raise RuntimeError('{} returned non-zero exit code: {}'.format(\n\u001b[0m\u001b[1;32m    230\u001b[0m             args[0], exitcode))\n\u001b[1;32m    231\u001b[0m \u001b[0;34m\u001b[0m\u001b[0m\n",
      "\u001b[0;31mRuntimeError\u001b[0m: /usr/local/fsl/bin/fslmaths returned non-zero exit code: -6"
     ]
    }
   ],
   "source": [
    "for i, region in enumerate(reho[\"features\"]):\n",
    "    if (region.find(\"cortex\") != -1):\n",
    "        value = sch_regions.loc[[region], \"ROI Label\"].values[0]\n",
    "        name = 'reho/'+region+'.nii.gz'\n",
    "        imp = reho.iloc[[i], 1].values[0]\n",
    "        fsl.fslmaths('Schaefer2018_400Parcels_17Networks_order_FSLMNI152_2mm.nii').thr(value-0.1).uthr(value+0.1).run(name)\n",
    "        fsl.fslmaths(name).bin().mul(imp).run(name)\n",
    "        \n",
    "        \n",
    "    if (region.find(\"cerebellum\") == -1):\n",
    "        value = BN_regions.loc[[region], \"Value\"].values[0]\n",
    "        name = 'reho/'+region+'.nii.gz'\n",
    "        imp = reho.iloc[[i], 1].values[0]\n",
    "        fsl.fslmaths('BN_Atlas_246_2mm.nii.gz').thr(value-0.1).uthr(value+0.1).run(name)\n",
    "        fsl.fslmaths(name).bin().mul(imp).run(name)\n",
    "        \n",
    "                \n",
    "    if (region.find(\"17Network\") != -1) and ( len(region) == 12 ):\n",
    "        value = Buck_regions.loc[[region], \"index\"].values[0]\n",
    "        name = 'reho_subregions/'+region+'.nii.gz'\n",
    "        imp = reho.iloc[[i], 1].values[0]\n",
    "        fsl.fslmaths('atl-Buckner17_space-MNI_dseg.nii').thr(value-0.1).uthr(value+0.1).run(name)\n",
    "        fsl.fslmaths(name).bin().mul(imp).run(name)\n",
    "    "
   ]
  },
  {
   "cell_type": "markdown",
   "metadata": {},
   "source": [
    "## fALFF"
   ]
  },
  {
   "cell_type": "code",
   "execution_count": 16,
   "metadata": {},
   "outputs": [
    {
     "name": "stderr",
     "output_type": "stream",
     "text": [
      "<ipython-input-16-b054c76d2e17>:2: SettingWithCopyWarning: \n",
      "A value is trying to be set on a copy of a slice from a DataFrame.\n",
      "Try using .loc[row_indexer,col_indexer] = value instead\n",
      "\n",
      "See the caveats in the documentation: https://pandas.pydata.org/pandas-docs/stable/user_guide/indexing.html#returning-a-view-versus-a-copy\n",
      "  fALFF['region'] = fALFF['region'].str.replace(r\"-\", \"_\")\n",
      "<ipython-input-16-b054c76d2e17>:3: SettingWithCopyWarning: \n",
      "A value is trying to be set on a copy of a slice from a DataFrame.\n",
      "Try using .loc[row_indexer,col_indexer] = value instead\n",
      "\n",
      "See the caveats in the documentation: https://pandas.pydata.org/pandas-docs/stable/user_guide/indexing.html#returning-a-view-versus-a-copy\n",
      "  fALFF['region'] = fALFF['region'].str.replace(r\"cortex\", \"17Networks\")\n"
     ]
    },
    {
     "data": {
      "text/plain": [
       "(31, 4)"
      ]
     },
     "execution_count": 16,
     "metadata": {},
     "output_type": "execute_result"
    }
   ],
   "source": [
    "fALFF = df[df[\"Measurment\"]==\"fALFF\"]\n",
    "fALFF['region'] = fALFF['region'].str.replace(r\"-\", \"_\")\n",
    "fALFF['region'] = fALFF['region'].str.replace(r\"cortex\", \"17Networks\")\n",
    "fALFF.shape"
   ]
  },
  {
   "cell_type": "code",
   "execution_count": null,
   "metadata": {},
   "outputs": [],
   "source": []
  },
  {
   "cell_type": "code",
   "execution_count": 15,
   "metadata": {},
   "outputs": [],
   "source": [
    "for i, region in enumerate(fALFF[\"region\"]):\n",
    "    if (region.find(\"17Network\") != -1) and ( len(region) != 12 ):\n",
    "        value = sch_regions.loc[[region], \"ROI Label\"].values[0]\n",
    "        name = 'fALFF_subregions/'+region+'.nii.gz'\n",
    "        imp = fALFF.iloc[[i], 1].values[0]\n",
    "        fsl.fslmaths('Schaefer2018_400Parcels_17Networks_order_FSLMNI152_2mm.nii').thr(value-0.1).uthr(value+0.1).run(name)\n",
    "        fsl.fslmaths(name).bin().mul(imp).run(name)\n",
    "        \n",
    "        \n",
    "    if (region.find(\"17Network\") == -1):\n",
    "        value = BN_regions.loc[[region], \"Value\"].values[0]\n",
    "        name = 'fALFF_subregions/'+region+'.nii.gz'\n",
    "        imp = fALFF.iloc[[i], 1].values[0]\n",
    "        fsl.fslmaths('BN_Atlas_246_2mm.nii.gz').thr(value-0.1).uthr(value+0.1).run(name)\n",
    "        fsl.fslmaths(name).bin().mul(imp).run(name)\n",
    "        \n",
    "                \n",
    "    if (region.find(\"17Network\") != -1) and ( len(region) == 12 ):\n",
    "        value = Buck_regions.loc[[region], \"index\"].values[0]\n",
    "        name = 'fALFF_subregions/'+region+'.nii.gz'\n",
    "        imp = fALFF.iloc[[i], 1].values[0]\n",
    "        fsl.fslmaths('atl-Buckner17_space-MNI_dseg.nii').thr(value-0.1).uthr(value+0.1).run(name)\n",
    "        fsl.fslmaths(name).bin().mul(imp).run(name)"
   ]
  },
  {
   "cell_type": "markdown",
   "metadata": {},
   "source": [
    "## DC"
   ]
  },
  {
   "cell_type": "code",
   "execution_count": 18,
   "metadata": {},
   "outputs": [
    {
     "name": "stderr",
     "output_type": "stream",
     "text": [
      "<ipython-input-18-f441f32f72d6>:2: SettingWithCopyWarning: \n",
      "A value is trying to be set on a copy of a slice from a DataFrame.\n",
      "Try using .loc[row_indexer,col_indexer] = value instead\n",
      "\n",
      "See the caveats in the documentation: https://pandas.pydata.org/pandas-docs/stable/user_guide/indexing.html#returning-a-view-versus-a-copy\n",
      "  DC['region'] = DC['region'].str.replace(r\"-\", \"_\")\n",
      "<ipython-input-18-f441f32f72d6>:3: SettingWithCopyWarning: \n",
      "A value is trying to be set on a copy of a slice from a DataFrame.\n",
      "Try using .loc[row_indexer,col_indexer] = value instead\n",
      "\n",
      "See the caveats in the documentation: https://pandas.pydata.org/pandas-docs/stable/user_guide/indexing.html#returning-a-view-versus-a-copy\n",
      "  DC['region'] = DC['region'].str.replace(r\"cortex\", \"17Networks\")\n",
      "<ipython-input-18-f441f32f72d6>:4: SettingWithCopyWarning: \n",
      "A value is trying to be set on a copy of a slice from a DataFrame.\n",
      "Try using .loc[row_indexer,col_indexer] = value instead\n",
      "\n",
      "See the caveats in the documentation: https://pandas.pydata.org/pandas-docs/stable/user_guide/indexing.html#returning-a-view-versus-a-copy\n",
      "  DC['region'] = DC['region'].str.replace(r\"cerebellum\", \"Network\")\n"
     ]
    },
    {
     "data": {
      "text/plain": [
       "(11, 4)"
      ]
     },
     "execution_count": 18,
     "metadata": {},
     "output_type": "execute_result"
    }
   ],
   "source": [
    "DC = df[df[\"Measurment\"]==\"DC\"]\n",
    "DC['region'] = DC['region'].str.replace(r\"-\", \"_\")\n",
    "DC['region'] = DC['region'].str.replace(r\"cortex\", \"17Networks\")\n",
    "DC['region'] = DC['region'].str.replace(r\"cerebellum\", \"Network\")\n",
    "DC.shape"
   ]
  },
  {
   "cell_type": "code",
   "execution_count": 167,
   "metadata": {},
   "outputs": [
    {
     "data": {
      "text/plain": [
       "-1.98598789335336"
      ]
     },
     "execution_count": 167,
     "metadata": {},
     "output_type": "execute_result"
    }
   ],
   "source": [
    "DC.iloc[[5], 1].values[0]"
   ]
  },
  {
   "cell_type": "code",
   "execution_count": 152,
   "metadata": {},
   "outputs": [
    {
     "data": {
      "text/plain": [
       "6"
      ]
     },
     "execution_count": 152,
     "metadata": {},
     "output_type": "execute_result"
    }
   ],
   "source": [
    "i"
   ]
  },
  {
   "cell_type": "code",
   "execution_count": 168,
   "metadata": {},
   "outputs": [],
   "source": [
    "for i, region in enumerate(DC[\"region\"]):\n",
    "    if (region.find(\"17Network\") != -1) and ( len(region) != 12 ):\n",
    "        value = sch_regions.loc[[region], \"ROI Label\"].values[0]\n",
    "        name = 'DC_subregions/'+region+'.nii.gz'\n",
    "        imp = DC.iloc[[i], 1].values[0]\n",
    "        fsl.fslmaths('Schaefer2018_400Parcels_17Networks_order_FSLMNI152_2mm.nii').thr(value-0.1).uthr(value+0.1).run(name)\n",
    "        fsl.fslmaths(name).bin().mul(imp).run(name)\n",
    "        \n",
    "        \n",
    "    if (region.find(\"Network\") == -1):\n",
    "        value = BN_regions.loc[[region], \"Value\"].values[0]\n",
    "        name = 'DC_subregions/'+region+'.nii.gz'\n",
    "        imp = DC.iloc[[i], 1].values[0]\n",
    "        fsl.fslmaths('BN_Atlas_246_2mm.nii.gz').thr(value-0.1).uthr(value+0.1).run(name)\n",
    "        fsl.fslmaths(name).bin().mul(imp).run(name)\n",
    "        \n",
    "                \n",
    "    if (region.find(\"Network\") != -1) and ( len(region) == 9 ):\n",
    "        reg = \"Network_\" + region.split(\"_\")[1]\n",
    "        value = Buck_regions.loc[[reg], \"index\"].values[0]\n",
    "        name = 'DC_subregions/'+reg+'.nii.gz'\n",
    "        imp = DC.iloc[[i], 1].values[0]\n",
    "        fsl.fslmaths('atl-Buckner17_space-MNI_dseg.nii').thr(value-0.1).uthr(value+0.1).run(name)\n",
    "        fsl.fslmaths(name).bin().mul(imp).run(name)\n",
    "        "
   ]
  },
  {
   "cell_type": "markdown",
   "metadata": {},
   "source": [
    "## gmd"
   ]
  },
  {
   "cell_type": "code",
   "execution_count": 20,
   "metadata": {},
   "outputs": [
    {
     "name": "stderr",
     "output_type": "stream",
     "text": [
      "<ipython-input-20-368ace3c0485>:2: SettingWithCopyWarning: \n",
      "A value is trying to be set on a copy of a slice from a DataFrame.\n",
      "Try using .loc[row_indexer,col_indexer] = value instead\n",
      "\n",
      "See the caveats in the documentation: https://pandas.pydata.org/pandas-docs/stable/user_guide/indexing.html#returning-a-view-versus-a-copy\n",
      "  gmd['region'] = gmd['region'].str.replace(r\"-\", \"_\")\n",
      "<ipython-input-20-368ace3c0485>:3: SettingWithCopyWarning: \n",
      "A value is trying to be set on a copy of a slice from a DataFrame.\n",
      "Try using .loc[row_indexer,col_indexer] = value instead\n",
      "\n",
      "See the caveats in the documentation: https://pandas.pydata.org/pandas-docs/stable/user_guide/indexing.html#returning-a-view-versus-a-copy\n",
      "  gmd['region'] = gmd['region'].str.replace(r\"cortex\", \"17Networks\")\n",
      "<ipython-input-20-368ace3c0485>:4: SettingWithCopyWarning: \n",
      "A value is trying to be set on a copy of a slice from a DataFrame.\n",
      "Try using .loc[row_indexer,col_indexer] = value instead\n",
      "\n",
      "See the caveats in the documentation: https://pandas.pydata.org/pandas-docs/stable/user_guide/indexing.html#returning-a-view-versus-a-copy\n",
      "  gmd['region'] = gmd['region'].str.replace(r\"cerebellum\", \"Network\")\n",
      "<ipython-input-20-368ace3c0485>:5: SettingWithCopyWarning: \n",
      "A value is trying to be set on a copy of a slice from a DataFrame.\n",
      "Try using .loc[row_indexer,col_indexer] = value instead\n",
      "\n",
      "See the caveats in the documentation: https://pandas.pydata.org/pandas-docs/stable/user_guide/indexing.html#returning-a-view-versus-a-copy\n",
      "  gmd['region'] = gmd['region'].str.replace(r\"sub17Networks_lPFtha_R\", \"lPFtha_R\")\n"
     ]
    },
    {
     "data": {
      "text/plain": [
       "(8, 4)"
      ]
     },
     "execution_count": 20,
     "metadata": {},
     "output_type": "execute_result"
    }
   ],
   "source": [
    "\n",
    "gmd = df[df[\"Measurment\"]==\"gmv\"]\n",
    "gmd['region'] = gmd['region'].str.replace(r\"-\", \"_\")\n",
    "gmd['region'] = gmd['region'].str.replace(r\"cortex\", \"17Networks\")\n",
    "gmd['region'] = gmd['region'].str.replace(r\"cerebellum\", \"Network\")\n",
    "gmd['region'] = gmd['region'].str.replace(r\"sub17Networks_lPFtha_R\", \"lPFtha_R\")\n",
    "gmd.shape"
   ]
  },
  {
   "cell_type": "code",
   "execution_count": 170,
   "metadata": {},
   "outputs": [],
   "source": [
    "for i, region in enumerate(gmd[\"region\"]):\n",
    "    if (region.find(\"17Network\") != -1) and ( len(region) != 12 ):\n",
    "        value = sch_regions.loc[[region], \"ROI Label\"].values[0]\n",
    "        name = 'gmd_subregions/'+region+'.nii.gz'\n",
    "        imp = gmd.iloc[[i], 1].values[0]\n",
    "        fsl.fslmaths('Schaefer2018_400Parcels_17Networks_order_FSLMNI152_2mm.nii').thr(value-0.1).uthr(value+0.1).run(name)\n",
    "        fsl.fslmaths(name).bin().mul(imp).run(name)\n",
    "        \n",
    "        \n",
    "    if (region.find(\"17Network\") == -1):\n",
    "        value = BN_regions.loc[[region], \"Value\"].values[0]\n",
    "        name = 'gmd_subregions/'+region+'.nii.gz'\n",
    "        imp = gmd.iloc[[i], 1].values[0]\n",
    "        fsl.fslmaths('BN_Atlas_246_2mm.nii.gz').thr(value-0.1).uthr(value+0.1).run(name)\n",
    "        fsl.fslmaths(name).bin().mul(imp).run(name)\n",
    "        \n",
    "                \n",
    "    if (region.find(\"17Network\") != -1) and ( len(region) == 9 ):\n",
    "        reg = \"Network_\" + region.split(\"_\")[1]\n",
    "        value = Buck_regions.loc[[reg], \"index\"].values[0]\n",
    "        name = 'gmd_subregions/'+reg+'.nii.gz'\n",
    "        imp = gmd.iloc[[i], 1].values[0]\n",
    "        fsl.fslmaths('atl-Buckner17_space-MNI_dseg.nii').thr(value-0.1).uthr(value+0.1).run(name)\n",
    "        fsl.fslmaths(name).bin().mul(imp).run(name)\n",
    "        \n",
    "        "
   ]
  },
  {
   "cell_type": "code",
   "execution_count": null,
   "metadata": {},
   "outputs": [],
   "source": []
  },
  {
   "cell_type": "code",
   "execution_count": 171,
   "metadata": {},
   "outputs": [],
   "source": [
    "regs = os.listdir(\"reho_subregions\")\n",
    "for i, reg in enumerate(regs):\n",
    "    if i != 0:\n",
    "        source = image.load_img(\"reho_subregions/reho.nii.gz\")\n",
    "    reg_img = image.load_img(\"reho_subregions/\"+reg)\n",
    "    if i == 0:\n",
    "        source = reg_img\n",
    "    fsl.fslmaths(source).add(reg_img).run(\"reho_subregions/reho.nii.gz\")"
   ]
  },
  {
   "cell_type": "code",
   "execution_count": 16,
   "metadata": {},
   "outputs": [],
   "source": [
    "regs = os.listdir(\"fALFF_subregions\")\n",
    "for i, reg in enumerate(regs):\n",
    "    if i != 0:\n",
    "        source = image.load_img(\"fALFF_subregions/fALFF.nii.gz\")\n",
    "    reg_img = image.load_img(\"fALFF_subregions/\"+reg)\n",
    "    if i == 0:\n",
    "        source = reg_img\n",
    "    fsl.fslmaths(source).add(reg_img).run(\"fALFF_subregions/fALFF.nii.gz\")"
   ]
  },
  {
   "cell_type": "code",
   "execution_count": 158,
   "metadata": {},
   "outputs": [
    {
     "data": {
      "text/plain": [
       "'Network_9.nii.gz'"
      ]
     },
     "execution_count": 158,
     "metadata": {},
     "output_type": "execute_result"
    }
   ],
   "source": [
    "reg"
   ]
  },
  {
   "cell_type": "code",
   "execution_count": 174,
   "metadata": {},
   "outputs": [],
   "source": [
    "regs = os.listdir(\"DC_subregions\")\n",
    "for i, reg in enumerate(regs):\n",
    "    if i != 0:\n",
    "        source = image.load_img(\"DC_subregions/DC.nii.gz\")\n",
    "    reg_img = image.load_img(\"DC_subregions/\"+reg)\n",
    "    if i == 0:\n",
    "        source = reg_img\n",
    "    fsl.fslmaths(source).add(reg_img).run(\"DC_subregions/DC.nii.gz\")"
   ]
  },
  {
   "cell_type": "code",
   "execution_count": 173,
   "metadata": {},
   "outputs": [],
   "source": [
    "regs = os.listdir(\"gmd_subregions\")\n",
    "for i, reg in enumerate(regs):\n",
    "    if i != 0:\n",
    "        source = image.load_img(\"gmd_subregions/gmd.nii.gz\")\n",
    "    reg_img = image.load_img(\"gmd_subregions/\"+reg)\n",
    "    if i == 0:\n",
    "        source = reg_img\n",
    "    fsl.fslmaths(source).add(reg_img).run(\"gmd_subregions/gmd.nii.gz\")"
   ]
  },
  {
   "cell_type": "code",
   "execution_count": null,
   "metadata": {},
   "outputs": [],
   "source": []
  },
  {
   "cell_type": "code",
   "execution_count": null,
   "metadata": {},
   "outputs": [],
   "source": []
  },
  {
   "cell_type": "code",
   "execution_count": null,
   "metadata": {},
   "outputs": [],
   "source": []
  },
  {
   "cell_type": "code",
   "execution_count": null,
   "metadata": {},
   "outputs": [],
   "source": []
  },
  {
   "cell_type": "code",
   "execution_count": null,
   "metadata": {},
   "outputs": [],
   "source": []
  }
 ],
 "metadata": {
  "kernelspec": {
   "display_name": "Python 3",
   "language": "python",
   "name": "python3"
  },
  "language_info": {
   "codemirror_mode": {
    "name": "ipython",
    "version": 3
   },
   "file_extension": ".py",
   "mimetype": "text/x-python",
   "name": "python",
   "nbconvert_exporter": "python",
   "pygments_lexer": "ipython3",
   "version": "3.8.10"
  }
 },
 "nbformat": 4,
 "nbformat_minor": 4
}
