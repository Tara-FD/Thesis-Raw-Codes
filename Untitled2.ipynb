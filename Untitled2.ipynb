{
 "cells": [
  {
   "cell_type": "code",
   "execution_count": 1,
   "metadata": {},
   "outputs": [
    {
     "name": "stdout",
     "output_type": "stream",
     "text": [
      "Requirement already satisfied: fslpy in /home/tara/Programming/env/lib/python3.8/site-packages (3.6.4)\n",
      "Requirement already satisfied: nibabel>=2.4 in /home/tara/Programming/env/lib/python3.8/site-packages (from fslpy) (3.2.1)\n",
      "Requirement already satisfied: scipy>=0.18 in /home/tara/Programming/env/lib/python3.8/site-packages (from fslpy) (1.6.0)\n",
      "Requirement already satisfied: numpy>=1 in /home/tara/Programming/env/lib/python3.8/site-packages (from fslpy) (1.19.5)\n",
      "Requirement already satisfied: h5py>=2.9 in /home/tara/Programming/env/lib/python3.8/site-packages (from fslpy) (3.3.0)\n",
      "Requirement already satisfied: numpy>=1 in /home/tara/Programming/env/lib/python3.8/site-packages (from fslpy) (1.19.5)\n",
      "Requirement already satisfied: numpy>=1 in /home/tara/Programming/env/lib/python3.8/site-packages (from fslpy) (1.19.5)\n",
      "Requirement already satisfied: packaging>=14.3 in /home/tara/Programming/env/lib/python3.8/site-packages (from nibabel>=2.4->fslpy) (20.8)\n",
      "Requirement already satisfied: pyparsing>=2.0.2 in /home/tara/Programming/env/lib/python3.8/site-packages (from packaging>=14.3->nibabel>=2.4->fslpy) (2.4.7)\n",
      "Requirement already satisfied: numpy>=1 in /home/tara/Programming/env/lib/python3.8/site-packages (from fslpy) (1.19.5)\n",
      "\u001b[33mWARNING: You are using pip version 20.3.1; however, version 21.3.1 is available.\n",
      "You should consider upgrading via the '/home/tara/Programming/env/bin/python -m pip install --upgrade pip' command.\u001b[0m\n",
      "Note: you may need to restart the kernel to use updated packages.\n"
     ]
    }
   ],
   "source": [
    "pip install fslpy"
   ]
  },
  {
   "cell_type": "code",
   "execution_count": null,
   "metadata": {},
   "outputs": [],
   "source": []
  }
 ],
 "metadata": {
  "kernelspec": {
   "display_name": "Python 3",
   "language": "python",
   "name": "python3"
  },
  "language_info": {
   "codemirror_mode": {
    "name": "ipython",
    "version": 3
   },
   "file_extension": ".py",
   "mimetype": "text/x-python",
   "name": "python",
   "nbconvert_exporter": "python",
   "pygments_lexer": "ipython3",
   "version": "3.8.10"
  }
 },
 "nbformat": 4,
 "nbformat_minor": 4
}
