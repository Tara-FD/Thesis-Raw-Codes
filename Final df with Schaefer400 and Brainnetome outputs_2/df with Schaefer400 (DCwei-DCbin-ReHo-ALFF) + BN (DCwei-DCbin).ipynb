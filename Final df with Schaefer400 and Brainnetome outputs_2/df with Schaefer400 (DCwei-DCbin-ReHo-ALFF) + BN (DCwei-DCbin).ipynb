{
 "cells": [
  {
   "cell_type": "code",
   "execution_count": 7,
   "metadata": {},
   "outputs": [],
   "source": [
    "import nibabel as nl\n",
    "import numpy as np\n",
    "import pandas as pd\n",
    "import os, shutil\n",
    "import matplotlib.pyplot as plt"
   ]
  },
  {
   "cell_type": "code",
   "execution_count": 8,
   "metadata": {},
   "outputs": [
    {
     "data": {
      "text/html": [
       "<div>\n",
       "<style scoped>\n",
       "    .dataframe tbody tr th:only-of-type {\n",
       "        vertical-align: middle;\n",
       "    }\n",
       "\n",
       "    .dataframe tbody tr th {\n",
       "        vertical-align: top;\n",
       "    }\n",
       "\n",
       "    .dataframe thead th {\n",
       "        text-align: right;\n",
       "    }\n",
       "</style>\n",
       "<table border=\"1\" class=\"dataframe\">\n",
       "  <thead>\n",
       "    <tr style=\"text-align: right;\">\n",
       "      <th></th>\n",
       "      <th>Subject_ID</th>\n",
       "      <th>sws_rw</th>\n",
       "      <th>sws_rs</th>\n",
       "      <th>sws_ms</th>\n",
       "      <th>sws_fa</th>\n",
       "      <th>sws_gb</th>\n",
       "      <th>sws_total</th>\n",
       "      <th>zDCwei_17Networks_RH_TempPar_10</th>\n",
       "      <th>zDCwei_17Networks_RH_TempPar_9</th>\n",
       "      <th>zDCwei_17Networks_RH_TempPar_8</th>\n",
       "      <th>...</th>\n",
       "      <th>zReHo_17Networks_RH_DorsAttnA_SPL_3</th>\n",
       "      <th>zReHo_17Networks_RH_DorsAttnA_SPL_2</th>\n",
       "      <th>zReHo_17Networks_RH_DorsAttnA_SPL_1</th>\n",
       "      <th>zReHo_17Networks_RH_DorsAttnA_ParOcc_3</th>\n",
       "      <th>zReHo_17Networks_RH_DorsAttnA_ParOcc_2</th>\n",
       "      <th>zReHo_17Networks_RH_DorsAttnA_ParOcc_1</th>\n",
       "      <th>zReHo_17Networks_RH_DorsAttnA_TempOcc_3</th>\n",
       "      <th>zReHo_17Networks_RH_DorsAttnA_TempOcc_2</th>\n",
       "      <th>zReHo_17Networks_RH_DorsAttnA_TempOcc_1</th>\n",
       "      <th>zReHo_17Networks_RH_SomMotB_Cent_3</th>\n",
       "    </tr>\n",
       "  </thead>\n",
       "  <tbody>\n",
       "    <tr>\n",
       "      <th>0</th>\n",
       "      <td>sub-0015</td>\n",
       "      <td>3.4</td>\n",
       "      <td>1.666667</td>\n",
       "      <td>1.833333</td>\n",
       "      <td>1.000000</td>\n",
       "      <td>1.4</td>\n",
       "      <td>1.513333</td>\n",
       "      <td>0.253102</td>\n",
       "      <td>0.000837</td>\n",
       "      <td>0.268018</td>\n",
       "      <td>...</td>\n",
       "      <td>0.632937</td>\n",
       "      <td>0.484317</td>\n",
       "      <td>0.878408</td>\n",
       "      <td>0.776844</td>\n",
       "      <td>0.120077</td>\n",
       "      <td>0.906160</td>\n",
       "      <td>1.010050</td>\n",
       "      <td>0.325154</td>\n",
       "      <td>0.070342</td>\n",
       "      <td>0.635567</td>\n",
       "    </tr>\n",
       "    <tr>\n",
       "      <th>1</th>\n",
       "      <td>sub-0085</td>\n",
       "      <td>2.8</td>\n",
       "      <td>2.166667</td>\n",
       "      <td>3.500000</td>\n",
       "      <td>2.166667</td>\n",
       "      <td>2.8</td>\n",
       "      <td>2.560000</td>\n",
       "      <td>0.497937</td>\n",
       "      <td>0.553454</td>\n",
       "      <td>0.635488</td>\n",
       "      <td>...</td>\n",
       "      <td>1.272547</td>\n",
       "      <td>0.551014</td>\n",
       "      <td>1.482868</td>\n",
       "      <td>1.110642</td>\n",
       "      <td>0.290340</td>\n",
       "      <td>0.240267</td>\n",
       "      <td>0.374478</td>\n",
       "      <td>-0.029872</td>\n",
       "      <td>-0.361664</td>\n",
       "      <td>0.516531</td>\n",
       "    </tr>\n",
       "    <tr>\n",
       "      <th>2</th>\n",
       "      <td>sub-0134</td>\n",
       "      <td>3.8</td>\n",
       "      <td>2.000000</td>\n",
       "      <td>2.166667</td>\n",
       "      <td>2.166667</td>\n",
       "      <td>3.4</td>\n",
       "      <td>2.346667</td>\n",
       "      <td>0.896547</td>\n",
       "      <td>0.253496</td>\n",
       "      <td>0.506752</td>\n",
       "      <td>...</td>\n",
       "      <td>0.510567</td>\n",
       "      <td>0.323151</td>\n",
       "      <td>0.741446</td>\n",
       "      <td>0.395507</td>\n",
       "      <td>0.640683</td>\n",
       "      <td>0.381234</td>\n",
       "      <td>0.707233</td>\n",
       "      <td>0.149791</td>\n",
       "      <td>-0.279489</td>\n",
       "      <td>0.050742</td>\n",
       "    </tr>\n",
       "    <tr>\n",
       "      <th>3</th>\n",
       "      <td>sub-0152</td>\n",
       "      <td>4.0</td>\n",
       "      <td>1.666667</td>\n",
       "      <td>1.500000</td>\n",
       "      <td>2.500000</td>\n",
       "      <td>3.0</td>\n",
       "      <td>2.066667</td>\n",
       "      <td>-0.154433</td>\n",
       "      <td>-0.033360</td>\n",
       "      <td>0.157313</td>\n",
       "      <td>...</td>\n",
       "      <td>-0.357383</td>\n",
       "      <td>-0.159408</td>\n",
       "      <td>0.082269</td>\n",
       "      <td>0.183071</td>\n",
       "      <td>-0.415082</td>\n",
       "      <td>-0.233840</td>\n",
       "      <td>-0.117080</td>\n",
       "      <td>0.584565</td>\n",
       "      <td>0.458543</td>\n",
       "      <td>0.246564</td>\n",
       "    </tr>\n",
       "    <tr>\n",
       "      <th>4</th>\n",
       "      <td>sub-0260</td>\n",
       "      <td>3.8</td>\n",
       "      <td>2.500000</td>\n",
       "      <td>3.600000</td>\n",
       "      <td>3.000000</td>\n",
       "      <td>4.0</td>\n",
       "      <td>3.120000</td>\n",
       "      <td>-0.266587</td>\n",
       "      <td>0.072713</td>\n",
       "      <td>0.212338</td>\n",
       "      <td>...</td>\n",
       "      <td>0.387290</td>\n",
       "      <td>0.171799</td>\n",
       "      <td>0.892404</td>\n",
       "      <td>0.532177</td>\n",
       "      <td>0.216433</td>\n",
       "      <td>0.554115</td>\n",
       "      <td>0.634269</td>\n",
       "      <td>0.389356</td>\n",
       "      <td>-0.211930</td>\n",
       "      <td>0.565683</td>\n",
       "    </tr>\n",
       "  </tbody>\n",
       "</table>\n",
       "<p>5 rows × 1024 columns</p>\n",
       "</div>"
      ],
      "text/plain": [
       "  Subject_ID  sws_rw    sws_rs    sws_ms    sws_fa  sws_gb  sws_total  \\\n",
       "0   sub-0015     3.4  1.666667  1.833333  1.000000     1.4   1.513333   \n",
       "1   sub-0085     2.8  2.166667  3.500000  2.166667     2.8   2.560000   \n",
       "2   sub-0134     3.8  2.000000  2.166667  2.166667     3.4   2.346667   \n",
       "3   sub-0152     4.0  1.666667  1.500000  2.500000     3.0   2.066667   \n",
       "4   sub-0260     3.8  2.500000  3.600000  3.000000     4.0   3.120000   \n",
       "\n",
       "   zDCwei_17Networks_RH_TempPar_10  zDCwei_17Networks_RH_TempPar_9  \\\n",
       "0                         0.253102                        0.000837   \n",
       "1                         0.497937                        0.553454   \n",
       "2                         0.896547                        0.253496   \n",
       "3                        -0.154433                       -0.033360   \n",
       "4                        -0.266587                        0.072713   \n",
       "\n",
       "   zDCwei_17Networks_RH_TempPar_8  ...  zReHo_17Networks_RH_DorsAttnA_SPL_3  \\\n",
       "0                        0.268018  ...                             0.632937   \n",
       "1                        0.635488  ...                             1.272547   \n",
       "2                        0.506752  ...                             0.510567   \n",
       "3                        0.157313  ...                            -0.357383   \n",
       "4                        0.212338  ...                             0.387290   \n",
       "\n",
       "   zReHo_17Networks_RH_DorsAttnA_SPL_2  zReHo_17Networks_RH_DorsAttnA_SPL_1  \\\n",
       "0                             0.484317                             0.878408   \n",
       "1                             0.551014                             1.482868   \n",
       "2                             0.323151                             0.741446   \n",
       "3                            -0.159408                             0.082269   \n",
       "4                             0.171799                             0.892404   \n",
       "\n",
       "   zReHo_17Networks_RH_DorsAttnA_ParOcc_3  \\\n",
       "0                                0.776844   \n",
       "1                                1.110642   \n",
       "2                                0.395507   \n",
       "3                                0.183071   \n",
       "4                                0.532177   \n",
       "\n",
       "   zReHo_17Networks_RH_DorsAttnA_ParOcc_2  \\\n",
       "0                                0.120077   \n",
       "1                                0.290340   \n",
       "2                                0.640683   \n",
       "3                               -0.415082   \n",
       "4                                0.216433   \n",
       "\n",
       "   zReHo_17Networks_RH_DorsAttnA_ParOcc_1  \\\n",
       "0                                0.906160   \n",
       "1                                0.240267   \n",
       "2                                0.381234   \n",
       "3                               -0.233840   \n",
       "4                                0.554115   \n",
       "\n",
       "   zReHo_17Networks_RH_DorsAttnA_TempOcc_3  \\\n",
       "0                                 1.010050   \n",
       "1                                 0.374478   \n",
       "2                                 0.707233   \n",
       "3                                -0.117080   \n",
       "4                                 0.634269   \n",
       "\n",
       "   zReHo_17Networks_RH_DorsAttnA_TempOcc_2  \\\n",
       "0                                 0.325154   \n",
       "1                                -0.029872   \n",
       "2                                 0.149791   \n",
       "3                                 0.584565   \n",
       "4                                 0.389356   \n",
       "\n",
       "   zReHo_17Networks_RH_DorsAttnA_TempOcc_1  zReHo_17Networks_RH_SomMotB_Cent_3  \n",
       "0                                 0.070342                            0.635567  \n",
       "1                                -0.361664                            0.516531  \n",
       "2                                -0.279489                            0.050742  \n",
       "3                                 0.458543                            0.246564  \n",
       "4                                -0.211930                            0.565683  \n",
       "\n",
       "[5 rows x 1024 columns]"
      ]
     },
     "execution_count": 8,
     "metadata": {},
     "output_type": "execute_result"
    }
   ],
   "source": [
    "df = pd.read_csv('final.csv')\n",
    "df.head()"
   ]
  },
  {
   "cell_type": "code",
   "execution_count": 5,
   "metadata": {},
   "outputs": [
    {
     "data": {
      "text/plain": [
       "(118, 1024)"
      ]
     },
     "execution_count": 5,
     "metadata": {},
     "output_type": "execute_result"
    }
   ],
   "source": [
    "df.shape"
   ]
  },
  {
   "cell_type": "markdown",
   "metadata": {},
   "source": [
    "## compeleting df with schaefer 400"
   ]
  },
  {
   "cell_type": "markdown",
   "metadata": {},
   "source": [
    "### list of ALFFs"
   ]
  },
  {
   "cell_type": "code",
   "execution_count": 6,
   "metadata": {},
   "outputs": [],
   "source": [
    "# opening the text file\n",
    "lis = []\n",
    "with open('allzALFF_meants_400.txt','r') as ALFFout:\n",
    "   \n",
    "    # reading each line    \n",
    "    for line in ALFFout:\n",
    "   \n",
    "        # reading each word        \n",
    "        for ALFF in line.split():\n",
    "            lis.append(float(ALFF))\n",
    "            # displaying the words           \n",
    "            #print(ALFF) "
   ]
  },
  {
   "cell_type": "markdown",
   "metadata": {},
   "source": [
    "### list of region names in Schaefer Atlas (400 parc)"
   ]
  },
  {
   "cell_type": "code",
   "execution_count": 8,
   "metadata": {},
   "outputs": [
    {
     "name": "stdout",
     "output_type": "stream",
     "text": [
      "['17Networks_LH_VisCent_ExStr_1', '17Networks_LH_VisCent_ExStr_2', '17Networks_LH_VisCent_ExStr_3', '17Networks_LH_VisCent_ExStr_4', '17Networks_LH_VisCent_ExStr_5', '17Networks_LH_VisCent_ExStr_6', '17Networks_LH_VisCent_Striate_1', '17Networks_LH_VisCent_ExStr_7', '17Networks_LH_VisCent_ExStr_8', '17Networks_LH_VisCent_ExStr_9', '17Networks_LH_VisCent_ExStr_10', '17Networks_LH_VisCent_ExStr_11', '17Networks_LH_VisPeri_ExStrInf_1', '17Networks_LH_VisPeri_ExStrInf_2', '17Networks_LH_VisPeri_ExStrInf_3', '17Networks_LH_VisPeri_ExStrInf_4', '17Networks_LH_VisPeri_ExStrInf_5', '17Networks_LH_VisPeri_StriCal_1', '17Networks_LH_VisPeri_StriCal_2', '17Networks_LH_VisPeri_ExStrSup_1', '17Networks_LH_VisPeri_ExStrSup_2', '17Networks_LH_VisPeri_ExStrSup_3', '17Networks_LH_VisPeri_ExStrSup_4', '17Networks_LH_VisPeri_ExStrSup_5', '17Networks_LH_SomMotA_1', '17Networks_LH_SomMotA_2', '17Networks_LH_SomMotA_3', '17Networks_LH_SomMotA_4', '17Networks_LH_SomMotA_5', '17Networks_LH_SomMotA_6', '17Networks_LH_SomMotA_7', '17Networks_LH_SomMotA_8', '17Networks_LH_SomMotA_9', '17Networks_LH_SomMotA_10', '17Networks_LH_SomMotA_11', '17Networks_LH_SomMotA_12', '17Networks_LH_SomMotA_13', '17Networks_LH_SomMotA_14', '17Networks_LH_SomMotA_15', '17Networks_LH_SomMotA_16', '17Networks_LH_SomMotA_17', '17Networks_LH_SomMotA_18', '17Networks_LH_SomMotA_19', '17Networks_LH_SomMotB_Aud_1', '17Networks_LH_SomMotB_Aud_2', '17Networks_LH_SomMotB_Ins_1', '17Networks_LH_SomMotB_S2_1', '17Networks_LH_SomMotB_S2_2', '17Networks_LH_SomMotB_Aud_3', '17Networks_LH_SomMotB_Aud_4', '17Networks_LH_SomMotB_S2_3', '17Networks_LH_SomMotB_S2_4', '17Networks_LH_SomMotB_S2_5', '17Networks_LH_SomMotB_S2_6', '17Networks_LH_SomMotB_Cent_1', '17Networks_LH_SomMotB_Cent_2', '17Networks_LH_SomMotB_Cent_3', '17Networks_LH_SomMotB_Cent_4', '17Networks_LH_SomMotB_Cent_5', '17Networks_LH_DorsAttnA_TempOcc_1', '17Networks_LH_DorsAttnA_TempOcc_2', '17Networks_LH_DorsAttnA_TempOcc_3', '17Networks_LH_DorsAttnA_TempOcc_4', '17Networks_LH_DorsAttnA_ParOcc_1', '17Networks_LH_DorsAttnA_ParOcc_2', '17Networks_LH_DorsAttnA_SPL_1', '17Networks_LH_DorsAttnA_SPL_2', '17Networks_LH_DorsAttnA_SPL_3', '17Networks_LH_DorsAttnA_SPL_4', '17Networks_LH_DorsAttnA_SPL_5', '17Networks_LH_DorsAttnA_SPL_6', '17Networks_LH_DorsAttnA_SPL_7', '17Networks_LH_DorsAttnB_PostC_1', '17Networks_LH_DorsAttnB_PostC_2', '17Networks_LH_DorsAttnB_PostC_3', '17Networks_LH_DorsAttnB_PostC_4', '17Networks_LH_DorsAttnB_PostC_5', '17Networks_LH_DorsAttnB_PostC_6', '17Networks_LH_DorsAttnB_PostC_7', '17Networks_LH_DorsAttnB_PostC_8', '17Networks_LH_DorsAttnB_PostC_9', '17Networks_LH_DorsAttnB_FEF_1', '17Networks_LH_DorsAttnB_FEF_2', '17Networks_LH_DorsAttnB_FEF_3', '17Networks_LH_DorsAttnB_PrCv_1', '17Networks_LH_SalVentAttnA_ParOper_1', '17Networks_LH_SalVentAttnA_ParOper_2', '17Networks_LH_SalVentAttnA_ParOper_3', '17Networks_LH_SalVentAttnA_Ins_1', '17Networks_LH_SalVentAttnA_Ins_2', '17Networks_LH_SalVentAttnA_Ins_3', '17Networks_LH_SalVentAttnA_Ins_4', '17Networks_LH_SalVentAttnA_FrOper_1', '17Networks_LH_SalVentAttnA_FrOper_2', '17Networks_LH_SalVentAttnA_ParMed_1', '17Networks_LH_SalVentAttnA_ParMed_2', '17Networks_LH_SalVentAttnA_ParMed_3', '17Networks_LH_SalVentAttnA_FrMed_1', '17Networks_LH_SalVentAttnA_FrMed_2', '17Networks_LH_SalVentAttnA_FrMed_3', '17Networks_LH_SalVentAttnB_PFCl_1', '17Networks_LH_SalVentAttnB_PFCl_2', '17Networks_LH_SalVentAttnB_PFCl_3', '17Networks_LH_SalVentAttnB_Ins_1', '17Networks_LH_SalVentAttnB_Ins_2', '17Networks_LH_SalVentAttnB_Ins_3', '17Networks_LH_SalVentAttnB_OFC_1', '17Networks_LH_SalVentAttnB_PFCmp_1', '17Networks_LH_LimbicB_OFC_1', '17Networks_LH_LimbicB_OFC_2', '17Networks_LH_LimbicB_OFC_3', '17Networks_LH_LimbicB_OFC_4', '17Networks_LH_LimbicB_OFC_5', '17Networks_LH_LimbicA_TempPole_1', '17Networks_LH_LimbicA_TempPole_2', '17Networks_LH_LimbicA_TempPole_3', '17Networks_LH_LimbicA_TempPole_4', '17Networks_LH_LimbicA_TempPole_5', '17Networks_LH_LimbicA_TempPole_6', '17Networks_LH_LimbicA_TempPole_7', '17Networks_LH_ContA_Temp_1', '17Networks_LH_ContA_IPS_1', '17Networks_LH_ContA_IPS_2', '17Networks_LH_ContA_IPS_3', '17Networks_LH_ContA_IPS_4', '17Networks_LH_ContA_IPS_5', '17Networks_LH_ContA_PFCd_1', '17Networks_LH_ContA_PFClv_1', '17Networks_LH_ContA_PFClv_2', '17Networks_LH_ContA_PFCl_1', '17Networks_LH_ContA_PFCl_2', '17Networks_LH_ContA_PFCl_3', '17Networks_LH_ContA_Cingm_1', '17Networks_LH_ContB_Temp_1', '17Networks_LH_ContB_Temp_2', '17Networks_LH_ContB_IPL_1', '17Networks_LH_ContB_IPL_2', '17Networks_LH_ContB_IPL_3', '17Networks_LH_ContB_PFCd_1', '17Networks_LH_ContB_PFClv_1', '17Networks_LH_ContB_PFClv_2', '17Networks_LH_ContB_PFClv_3', '17Networks_LH_ContB_PFCmp_1', '17Networks_LH_ContC_pCun_1', '17Networks_LH_ContC_pCun_2', '17Networks_LH_ContC_pCun_3', '17Networks_LH_ContC_Cingp_1', '17Networks_LH_ContC_Cingp_2', '17Networks_LH_DefaultA_IPL_1', '17Networks_LH_DefaultA_IPL_2', '17Networks_LH_DefaultA_PFCd_1', '17Networks_LH_DefaultA_PFCd_2', '17Networks_LH_DefaultA_PFCd_3', '17Networks_LH_DefaultA_pCunPCC_1', '17Networks_LH_DefaultA_pCunPCC_2', '17Networks_LH_DefaultA_pCunPCC_3', '17Networks_LH_DefaultA_pCunPCC_4', '17Networks_LH_DefaultA_pCunPCC_5', '17Networks_LH_DefaultA_pCunPCC_6', '17Networks_LH_DefaultA_pCunPCC_7', '17Networks_LH_DefaultA_PFCm_1', '17Networks_LH_DefaultA_PFCm_2', '17Networks_LH_DefaultA_PFCm_3', '17Networks_LH_DefaultA_PFCm_4', '17Networks_LH_DefaultA_PFCm_5', '17Networks_LH_DefaultA_PFCm_6', '17Networks_LH_DefaultB_Temp_1', '17Networks_LH_DefaultB_Temp_2', '17Networks_LH_DefaultB_Temp_3', '17Networks_LH_DefaultB_Temp_4', '17Networks_LH_DefaultB_Temp_5', '17Networks_LH_DefaultB_Temp_6', '17Networks_LH_DefaultB_IPL_1', '17Networks_LH_DefaultB_IPL_2', '17Networks_LH_DefaultB_PFCd_1', '17Networks_LH_DefaultB_PFCd_2', '17Networks_LH_DefaultB_PFCd_3', '17Networks_LH_DefaultB_PFCd_4', '17Networks_LH_DefaultB_PFCd_5', '17Networks_LH_DefaultB_PFCd_6', '17Networks_LH_DefaultB_PFCl_1', '17Networks_LH_DefaultB_PFCl_2', '17Networks_LH_DefaultB_PFCv_1', '17Networks_LH_DefaultB_PFCv_2', '17Networks_LH_DefaultB_PFCv_3', '17Networks_LH_DefaultB_PFCv_4', '17Networks_LH_DefaultB_PFCv_5', '17Networks_LH_DefaultC_IPL_1', '17Networks_LH_DefaultC_Rsp_1', '17Networks_LH_DefaultC_Rsp_2', '17Networks_LH_DefaultC_Rsp_3', '17Networks_LH_DefaultC_PHC_1', '17Networks_LH_DefaultC_PHC_2', '17Networks_LH_DefaultC_PHC_3', '17Networks_LH_TempPar_1', '17Networks_LH_TempPar_2', '17Networks_LH_TempPar_3', '17Networks_LH_TempPar_4', '17Networks_LH_TempPar_5', '17Networks_LH_TempPar_6', '17Networks_RH_VisCent_ExStr_1', '17Networks_RH_VisCent_ExStr_2', '17Networks_RH_VisCent_ExStr_3', '17Networks_RH_VisCent_ExStr_4', '17Networks_RH_VisCent_ExStr_5', '17Networks_RH_VisCent_ExStr_6', '17Networks_RH_VisCent_Striate_1', '17Networks_RH_VisCent_ExStr_7', '17Networks_RH_VisCent_ExStr_8', '17Networks_RH_VisCent_ExStr_9', '17Networks_RH_VisCent_ExStr_10', '17Networks_RH_VisCent_ExStr_11', '17Networks_RH_VisPeri_ExStrInf_1', '17Networks_RH_VisPeri_ExStrInf_2', '17Networks_RH_VisPeri_ExStrInf_3', '17Networks_RH_VisPeri_ExStrInf_4', '17Networks_RH_VisPeri_ExStrInf_5', '17Networks_RH_VisPeri_StriCal_1', '17Networks_RH_VisPeri_StriCal_2', '17Networks_RH_VisPeri_ExStrSup_1', '17Networks_RH_VisPeri_ExStrSup_2', '17Networks_RH_VisPeri_ExStrSup_3', '17Networks_RH_VisPeri_ExStrSup_4', '17Networks_RH_SomMotA_1', '17Networks_RH_SomMotA_2', '17Networks_RH_SomMotA_3', '17Networks_RH_SomMotA_4', '17Networks_RH_SomMotA_5', '17Networks_RH_SomMotA_6', '17Networks_RH_SomMotA_7', '17Networks_RH_SomMotA_8', '17Networks_RH_SomMotA_9', '17Networks_RH_SomMotA_10', '17Networks_RH_SomMotA_11', '17Networks_RH_SomMotA_12', '17Networks_RH_SomMotA_13', '17Networks_RH_SomMotA_14', '17Networks_RH_SomMotA_15', '17Networks_RH_SomMotA_16', '17Networks_RH_SomMotA_17', '17Networks_RH_SomMotA_18', '17Networks_RH_SomMotA_19', '17Networks_RH_SomMotA_20', '17Networks_RH_SomMotB_Aud_1', '17Networks_RH_SomMotB_Aud_2', '17Networks_RH_SomMotB_Ins_1', '17Networks_RH_SomMotB_S2_1', '17Networks_RH_SomMotB_S2_2', '17Networks_RH_SomMotB_Aud_3', '17Networks_RH_SomMotB_S2_3', '17Networks_RH_SomMotB_S2_4', '17Networks_RH_SomMotB_S2_5', '17Networks_RH_SomMotB_S2_6', '17Networks_RH_SomMotB_S2_7', '17Networks_RH_SomMotB_S2_8', '17Networks_RH_SomMotB_Cent_1', '17Networks_RH_SomMotB_Cent_2', '17Networks_RH_SomMotB_Cent_3', '17Networks_RH_DorsAttnA_TempOcc_1', '17Networks_RH_DorsAttnA_TempOcc_2', '17Networks_RH_DorsAttnA_TempOcc_3', '17Networks_RH_DorsAttnA_ParOcc_1', '17Networks_RH_DorsAttnA_ParOcc_2', '17Networks_RH_DorsAttnA_ParOcc_3', '17Networks_RH_DorsAttnA_SPL_1', '17Networks_RH_DorsAttnA_SPL_2', '17Networks_RH_DorsAttnA_SPL_3', '17Networks_RH_DorsAttnA_SPL_4', '17Networks_RH_DorsAttnA_SPL_5', '17Networks_RH_DorsAttnA_SPL_6', '17Networks_RH_DorsAttnA_SPL_7', '17Networks_RH_DorsAttnA_SPL_8', '17Networks_RH_DorsAttnB_TempOcc_1', '17Networks_RH_DorsAttnB_PostC_1', '17Networks_RH_DorsAttnB_PostC_2', '17Networks_RH_DorsAttnB_PostC_3', '17Networks_RH_DorsAttnB_PostC_4', '17Networks_RH_DorsAttnB_PostC_5', '17Networks_RH_DorsAttnB_PostC_6', '17Networks_RH_DorsAttnB_PostC_7', '17Networks_RH_DorsAttnB_PostC_8', '17Networks_RH_DorsAttnB_FEF_1', '17Networks_RH_DorsAttnB_FEF_2', '17Networks_RH_DorsAttnB_FEF_3', '17Networks_RH_SalVentAttnA_ParOper_1', '17Networks_RH_SalVentAttnA_ParOper_2', '17Networks_RH_SalVentAttnA_ParOper_3', '17Networks_RH_SalVentAttnA_PrC_1', '17Networks_RH_SalVentAttnA_Ins_1', '17Networks_RH_SalVentAttnA_Ins_2', '17Networks_RH_SalVentAttnA_Ins_3', '17Networks_RH_SalVentAttnA_Ins_4', '17Networks_RH_SalVentAttnA_FrOper_1', '17Networks_RH_SalVentAttnA_FrOper_2', '17Networks_RH_SalVentAttnA_FrOper_3', '17Networks_RH_SalVentAttnA_FrMed_1', '17Networks_RH_SalVentAttnA_ParMed_1', '17Networks_RH_SalVentAttnA_ParMed_2', '17Networks_RH_SalVentAttnA_FrMed_2', '17Networks_RH_SalVentAttnA_ParMed_3', '17Networks_RH_SalVentAttnA_ParMed_4', '17Networks_RH_SalVentAttnA_FrMed_3', '17Networks_RH_SalVentAttnA_FrMed_4', '17Networks_RH_SalVentAttnB_IPL_1', '17Networks_RH_SalVentAttnB_PFClv_1', '17Networks_RH_SalVentAttnB_PFCl_1', '17Networks_RH_SalVentAttnB_PFCl_2', '17Networks_RH_SalVentAttnB_PFCl_3', '17Networks_RH_SalVentAttnB_Ins_1', '17Networks_RH_SalVentAttnB_Ins_2', '17Networks_RH_SalVentAttnB_PFCmp_1', '17Networks_RH_SalVentAttnB_PFCmp_2', '17Networks_RH_LimbicB_OFC_1', '17Networks_RH_LimbicB_OFC_2', '17Networks_RH_LimbicB_OFC_3', '17Networks_RH_LimbicB_OFC_4', '17Networks_RH_LimbicB_OFC_5', '17Networks_RH_LimbicB_OFC_6', '17Networks_RH_LimbicA_TempPole_1', '17Networks_RH_LimbicA_TempPole_2', '17Networks_RH_LimbicA_TempPole_3', '17Networks_RH_LimbicA_TempPole_4', '17Networks_RH_LimbicA_TempPole_5', '17Networks_RH_LimbicA_TempPole_6', '17Networks_RH_ContA_IPS_1', '17Networks_RH_ContA_IPS_2', '17Networks_RH_ContA_IPS_3', '17Networks_RH_ContA_IPS_4', '17Networks_RH_ContA_PFCd_1', '17Networks_RH_ContA_PFCl_1', '17Networks_RH_ContA_PFCl_2', '17Networks_RH_ContA_PFCl_3', '17Networks_RH_ContA_PFCl_4', '17Networks_RH_ContA_PFCl_5', '17Networks_RH_ContA_Cingm_1', '17Networks_RH_ContB_Temp_1', '17Networks_RH_ContB_Temp_2', '17Networks_RH_ContB_IPL_1', '17Networks_RH_ContB_IPL_2', '17Networks_RH_ContB_IPL_3', '17Networks_RH_ContB_IPL_4', '17Networks_RH_ContB_PFCld_1', '17Networks_RH_ContB_PFCld_2', '17Networks_RH_ContB_PFCld_3', '17Networks_RH_ContB_PFCld_4', '17Networks_RH_ContB_PFClv_1', '17Networks_RH_ContB_PFClv_2', '17Networks_RH_ContB_PFClv_3', '17Networks_RH_ContB_PFClv_4', '17Networks_RH_ContB_PFCmp_1', '17Networks_RH_ContC_pCun_1', '17Networks_RH_ContC_pCun_2', '17Networks_RH_ContC_pCun_3', '17Networks_RH_ContC_pCun_4', '17Networks_RH_ContC_pCun_5', '17Networks_RH_ContC_Cingp_1', '17Networks_RH_ContC_Cingp_2', '17Networks_RH_DefaultA_Temp_1', '17Networks_RH_DefaultA_IPL_1', '17Networks_RH_DefaultA_IPL_2', '17Networks_RH_DefaultA_PFCd_1', '17Networks_RH_DefaultA_PFCd_2', '17Networks_RH_DefaultA_pCunPCC_1', '17Networks_RH_DefaultA_pCunPCC_2', '17Networks_RH_DefaultA_pCunPCC_3', '17Networks_RH_DefaultA_pCunPCC_4', '17Networks_RH_DefaultA_pCunPCC_5', '17Networks_RH_DefaultA_PFCm_1', '17Networks_RH_DefaultA_PFCm_2', '17Networks_RH_DefaultA_PFCm_3', '17Networks_RH_DefaultA_PFCm_4', '17Networks_RH_DefaultA_PFCm_5', '17Networks_RH_DefaultA_PFCm_6', '17Networks_RH_DefaultB_Temp_1', '17Networks_RH_DefaultB_Temp_2', '17Networks_RH_DefaultB_AntTemp_1', '17Networks_RH_DefaultB_PFCd_1', '17Networks_RH_DefaultB_PFCd_2', '17Networks_RH_DefaultB_PFCd_3', '17Networks_RH_DefaultB_PFCd_4', '17Networks_RH_DefaultB_PFCd_5', '17Networks_RH_DefaultB_PFCv_1', '17Networks_RH_DefaultB_PFCv_2', '17Networks_RH_DefaultB_PFCv_3', '17Networks_RH_DefaultC_IPL_1', '17Networks_RH_DefaultC_IPL_2', '17Networks_RH_DefaultC_Rsp_1', '17Networks_RH_DefaultC_Rsp_2', '17Networks_RH_DefaultC_PHC_1', '17Networks_RH_DefaultC_PHC_2', '17Networks_RH_TempPar_1', '17Networks_RH_TempPar_2', '17Networks_RH_TempPar_3', '17Networks_RH_TempPar_4', '17Networks_RH_TempPar_5', '17Networks_RH_TempPar_6', '17Networks_RH_TempPar_7', '17Networks_RH_TempPar_8', '17Networks_RH_TempPar_9', '17Networks_RH_TempPar_10']\n"
     ]
    }
   ],
   "source": [
    "token = open('Schaefer2018_400Parcels_17Networks_order.txt','r')\n",
    "linestoken=token.readlines()\n",
    "tokens_column_number = 1\n",
    "parname=[]\n",
    "for x in linestoken:\n",
    "    parname.append(x.split()[tokens_column_number])\n",
    "token.close()\n",
    "print(parname)"
   ]
  },
  {
   "cell_type": "markdown",
   "metadata": {},
   "source": [
    "### merging regions and their values with dataframe"
   ]
  },
  {
   "cell_type": "code",
   "execution_count": 9,
   "metadata": {},
   "outputs": [],
   "source": [
    "test = df.set_index('Subject_ID')\n",
    "inds = test.index"
   ]
  },
  {
   "cell_type": "code",
   "execution_count": 12,
   "metadata": {},
   "outputs": [],
   "source": [
    "df = pd.DataFrame()\n",
    "for j, ind in enumerate(inds):\n",
    "    sub = test.loc[[ind]]\n",
    "    for i, pars in enumerate(parname):\n",
    "        col_name = 'zALFF_'+str(pars)\n",
    "        if col_name not in sub:\n",
    "            sub.insert(2, col_name, np.nan, True)\n",
    "        sub[col_name] = lis[i+j*400]\n",
    "    df = pd.concat([df, sub])"
   ]
  },
  {
   "cell_type": "code",
   "execution_count": 13,
   "metadata": {},
   "outputs": [
    {
     "data": {
      "text/plain": [
       "(118, 1423)"
      ]
     },
     "execution_count": 13,
     "metadata": {},
     "output_type": "execute_result"
    }
   ],
   "source": [
    "df.shape"
   ]
  },
  {
   "cell_type": "code",
   "execution_count": 15,
   "metadata": {},
   "outputs": [],
   "source": [
    "df.to_csv('df with Schaefer400_DCwei-DCbin-ReHo-ALFF_and_BN DCwei-DCbin.csv')"
   ]
  },
  {
   "cell_type": "code",
   "execution_count": 13,
   "metadata": {},
   "outputs": [],
   "source": [
    "df4 = df[['Subject_ID','sws_ms','sws_fa', 'sws_gb', 'sws_total']]"
   ]
  },
  {
   "cell_type": "code",
   "execution_count": 14,
   "metadata": {},
   "outputs": [],
   "source": [
    "df4.to_csv(\"df4.csv\")"
   ]
  },
  {
   "cell_type": "code",
   "execution_count": null,
   "metadata": {},
   "outputs": [],
   "source": []
  }
 ],
 "metadata": {
  "kernelspec": {
   "display_name": "Python 3",
   "language": "python",
   "name": "python3"
  },
  "language_info": {
   "codemirror_mode": {
    "name": "ipython",
    "version": 3
   },
   "file_extension": ".py",
   "mimetype": "text/x-python",
   "name": "python",
   "nbconvert_exporter": "python",
   "pygments_lexer": "ipython3",
   "version": "3.8.10"
  }
 },
 "nbformat": 4,
 "nbformat_minor": 4
}
