{
 "cells": [
  {
   "cell_type": "code",
   "execution_count": 1,
   "metadata": {},
   "outputs": [],
   "source": [
    "%config Completer.use_jedi = False"
   ]
  },
  {
   "cell_type": "code",
   "execution_count": 93,
   "metadata": {},
   "outputs": [],
   "source": [
    "from sklearn.model_selection import train_test_split\n",
    "from sklearn.datasets import make_moons\n",
    "from sklearn.linear_model import LogisticRegression\n",
    "from sklearn.linear_model import LinearRegression\n",
    "from sklearn.svm import SVC\n",
    "from sklearn.ensemble import RandomForestClassifier\n",
    "from sklearn.ensemble import VotingClassifier\n",
    "from sklearn.metrics import accuracy_score\n",
    "from sklearn.metrics import confusion_matrix\n",
    "import pandas as pd\n",
    "from sklearn.model_selection import GridSearchCV, cross_val_score\n",
    "import numpy as np\n",
    "import matplotlib.pyplot as plt\n",
    "from sklearn import metrics"
   ]
  },
  {
   "cell_type": "code",
   "execution_count": 186,
   "metadata": {},
   "outputs": [
    {
     "data": {
      "text/html": [
       "<div>\n",
       "<style scoped>\n",
       "    .dataframe tbody tr th:only-of-type {\n",
       "        vertical-align: middle;\n",
       "    }\n",
       "\n",
       "    .dataframe tbody tr th {\n",
       "        vertical-align: top;\n",
       "    }\n",
       "\n",
       "    .dataframe thead th {\n",
       "        text-align: right;\n",
       "    }\n",
       "</style>\n",
       "<table border=\"1\" class=\"dataframe\">\n",
       "  <thead>\n",
       "    <tr style=\"text-align: right;\">\n",
       "      <th></th>\n",
       "      <th>diagadhd</th>\n",
       "      <th>pc1</th>\n",
       "      <th>pc2</th>\n",
       "      <th>pc3</th>\n",
       "      <th>pc4</th>\n",
       "      <th>pc5</th>\n",
       "      <th>pc6</th>\n",
       "      <th>pc7</th>\n",
       "      <th>pc8</th>\n",
       "      <th>pc9</th>\n",
       "      <th>pc10</th>\n",
       "      <th>pc11</th>\n",
       "    </tr>\n",
       "  </thead>\n",
       "  <tbody>\n",
       "    <tr>\n",
       "      <th>0</th>\n",
       "      <td>0</td>\n",
       "      <td>-6.316805</td>\n",
       "      <td>-3.993805</td>\n",
       "      <td>2.608244</td>\n",
       "      <td>-1.797857</td>\n",
       "      <td>0.423307</td>\n",
       "      <td>-0.187192</td>\n",
       "      <td>-0.876326</td>\n",
       "      <td>2.580982</td>\n",
       "      <td>0.711263</td>\n",
       "      <td>1.395611</td>\n",
       "      <td>0.891940</td>\n",
       "    </tr>\n",
       "    <tr>\n",
       "      <th>1</th>\n",
       "      <td>0</td>\n",
       "      <td>-3.483505</td>\n",
       "      <td>3.740298</td>\n",
       "      <td>3.714569</td>\n",
       "      <td>-1.484037</td>\n",
       "      <td>-0.930910</td>\n",
       "      <td>-1.222975</td>\n",
       "      <td>-0.582311</td>\n",
       "      <td>-2.283823</td>\n",
       "      <td>0.448972</td>\n",
       "      <td>-1.363217</td>\n",
       "      <td>0.719320</td>\n",
       "    </tr>\n",
       "    <tr>\n",
       "      <th>2</th>\n",
       "      <td>0</td>\n",
       "      <td>-5.072733</td>\n",
       "      <td>-1.089991</td>\n",
       "      <td>-2.044430</td>\n",
       "      <td>-0.990274</td>\n",
       "      <td>4.428521</td>\n",
       "      <td>3.541817</td>\n",
       "      <td>0.358120</td>\n",
       "      <td>-1.682786</td>\n",
       "      <td>1.903088</td>\n",
       "      <td>2.190766</td>\n",
       "      <td>-3.164983</td>\n",
       "    </tr>\n",
       "    <tr>\n",
       "      <th>3</th>\n",
       "      <td>0</td>\n",
       "      <td>9.102421</td>\n",
       "      <td>-0.533293</td>\n",
       "      <td>0.310206</td>\n",
       "      <td>6.574120</td>\n",
       "      <td>1.079957</td>\n",
       "      <td>-0.325373</td>\n",
       "      <td>0.912234</td>\n",
       "      <td>1.602265</td>\n",
       "      <td>0.639051</td>\n",
       "      <td>-2.281226</td>\n",
       "      <td>0.750477</td>\n",
       "    </tr>\n",
       "    <tr>\n",
       "      <th>4</th>\n",
       "      <td>1</td>\n",
       "      <td>0.069205</td>\n",
       "      <td>-1.513307</td>\n",
       "      <td>0.906916</td>\n",
       "      <td>0.406835</td>\n",
       "      <td>-0.200540</td>\n",
       "      <td>2.935966</td>\n",
       "      <td>-0.702374</td>\n",
       "      <td>0.878684</td>\n",
       "      <td>1.902779</td>\n",
       "      <td>-0.771758</td>\n",
       "      <td>0.075177</td>\n",
       "    </tr>\n",
       "  </tbody>\n",
       "</table>\n",
       "</div>"
      ],
      "text/plain": [
       "   diagadhd       pc1       pc2       pc3       pc4       pc5       pc6  \\\n",
       "0         0 -6.316805 -3.993805  2.608244 -1.797857  0.423307 -0.187192   \n",
       "1         0 -3.483505  3.740298  3.714569 -1.484037 -0.930910 -1.222975   \n",
       "2         0 -5.072733 -1.089991 -2.044430 -0.990274  4.428521  3.541817   \n",
       "3         0  9.102421 -0.533293  0.310206  6.574120  1.079957 -0.325373   \n",
       "4         1  0.069205 -1.513307  0.906916  0.406835 -0.200540  2.935966   \n",
       "\n",
       "        pc7       pc8       pc9      pc10      pc11  \n",
       "0 -0.876326  2.580982  0.711263  1.395611  0.891940  \n",
       "1 -0.582311 -2.283823  0.448972 -1.363217  0.719320  \n",
       "2  0.358120 -1.682786  1.903088  2.190766 -3.164983  \n",
       "3  0.912234  1.602265  0.639051 -2.281226  0.750477  \n",
       "4 -0.702374  0.878684  1.902779 -0.771758  0.075177  "
      ]
     },
     "execution_count": 186,
     "metadata": {},
     "output_type": "execute_result"
    }
   ],
   "source": [
    "pcadf = pd.read_csv('pcadf.csv')\n",
    "pcadf.drop('Unnamed: 0', axis=1, inplace=True)\n",
    "pcadf.head()"
   ]
  },
  {
   "cell_type": "code",
   "execution_count": 187,
   "metadata": {},
   "outputs": [
    {
     "data": {
      "text/html": [
       "<div>\n",
       "<style scoped>\n",
       "    .dataframe tbody tr th:only-of-type {\n",
       "        vertical-align: middle;\n",
       "    }\n",
       "\n",
       "    .dataframe tbody tr th {\n",
       "        vertical-align: top;\n",
       "    }\n",
       "\n",
       "    .dataframe thead th {\n",
       "        text-align: right;\n",
       "    }\n",
       "</style>\n",
       "<table border=\"1\" class=\"dataframe\">\n",
       "  <thead>\n",
       "    <tr style=\"text-align: right;\">\n",
       "      <th></th>\n",
       "      <th>diagadhd</th>\n",
       "      <th>pc1</th>\n",
       "      <th>pc2</th>\n",
       "      <th>pc3</th>\n",
       "      <th>pc4</th>\n",
       "      <th>pc5</th>\n",
       "      <th>pc6</th>\n",
       "      <th>pc7</th>\n",
       "      <th>pc8</th>\n",
       "      <th>pc9</th>\n",
       "    </tr>\n",
       "  </thead>\n",
       "  <tbody>\n",
       "    <tr>\n",
       "      <th>0</th>\n",
       "      <td>0</td>\n",
       "      <td>-6.316805</td>\n",
       "      <td>-3.993805</td>\n",
       "      <td>2.608244</td>\n",
       "      <td>-1.797857</td>\n",
       "      <td>0.423307</td>\n",
       "      <td>-0.187192</td>\n",
       "      <td>-0.876326</td>\n",
       "      <td>2.580982</td>\n",
       "      <td>0.711263</td>\n",
       "    </tr>\n",
       "    <tr>\n",
       "      <th>1</th>\n",
       "      <td>0</td>\n",
       "      <td>-3.483505</td>\n",
       "      <td>3.740298</td>\n",
       "      <td>3.714569</td>\n",
       "      <td>-1.484037</td>\n",
       "      <td>-0.930910</td>\n",
       "      <td>-1.222975</td>\n",
       "      <td>-0.582311</td>\n",
       "      <td>-2.283823</td>\n",
       "      <td>0.448972</td>\n",
       "    </tr>\n",
       "    <tr>\n",
       "      <th>2</th>\n",
       "      <td>0</td>\n",
       "      <td>-5.072733</td>\n",
       "      <td>-1.089991</td>\n",
       "      <td>-2.044430</td>\n",
       "      <td>-0.990274</td>\n",
       "      <td>4.428521</td>\n",
       "      <td>3.541817</td>\n",
       "      <td>0.358120</td>\n",
       "      <td>-1.682786</td>\n",
       "      <td>1.903088</td>\n",
       "    </tr>\n",
       "    <tr>\n",
       "      <th>3</th>\n",
       "      <td>0</td>\n",
       "      <td>9.102421</td>\n",
       "      <td>-0.533293</td>\n",
       "      <td>0.310206</td>\n",
       "      <td>6.574120</td>\n",
       "      <td>1.079957</td>\n",
       "      <td>-0.325373</td>\n",
       "      <td>0.912234</td>\n",
       "      <td>1.602265</td>\n",
       "      <td>0.639051</td>\n",
       "    </tr>\n",
       "    <tr>\n",
       "      <th>4</th>\n",
       "      <td>1</td>\n",
       "      <td>0.069205</td>\n",
       "      <td>-1.513307</td>\n",
       "      <td>0.906916</td>\n",
       "      <td>0.406835</td>\n",
       "      <td>-0.200540</td>\n",
       "      <td>2.935966</td>\n",
       "      <td>-0.702374</td>\n",
       "      <td>0.878684</td>\n",
       "      <td>1.902779</td>\n",
       "    </tr>\n",
       "  </tbody>\n",
       "</table>\n",
       "</div>"
      ],
      "text/plain": [
       "   diagadhd       pc1       pc2       pc3       pc4       pc5       pc6  \\\n",
       "0         0 -6.316805 -3.993805  2.608244 -1.797857  0.423307 -0.187192   \n",
       "1         0 -3.483505  3.740298  3.714569 -1.484037 -0.930910 -1.222975   \n",
       "2         0 -5.072733 -1.089991 -2.044430 -0.990274  4.428521  3.541817   \n",
       "3         0  9.102421 -0.533293  0.310206  6.574120  1.079957 -0.325373   \n",
       "4         1  0.069205 -1.513307  0.906916  0.406835 -0.200540  2.935966   \n",
       "\n",
       "        pc7       pc8       pc9  \n",
       "0 -0.876326  2.580982  0.711263  \n",
       "1 -0.582311 -2.283823  0.448972  \n",
       "2  0.358120 -1.682786  1.903088  \n",
       "3  0.912234  1.602265  0.639051  \n",
       "4 -0.702374  0.878684  1.902779  "
      ]
     },
     "execution_count": 187,
     "metadata": {},
     "output_type": "execute_result"
    }
   ],
   "source": [
    "pcadf = pcadf.iloc[:,0:10]\n",
    "pcadf.head()"
   ]
  },
  {
   "cell_type": "code",
   "execution_count": 188,
   "metadata": {},
   "outputs": [
    {
     "data": {
      "text/plain": [
       "(117, 10)"
      ]
     },
     "execution_count": 188,
     "metadata": {},
     "output_type": "execute_result"
    }
   ],
   "source": [
    "pcadf.shape"
   ]
  },
  {
   "cell_type": "code",
   "execution_count": 189,
   "metadata": {},
   "outputs": [
    {
     "name": "stdout",
     "output_type": "stream",
     "text": [
      "(117, 9) (117,)\n"
     ]
    }
   ],
   "source": [
    "X = pcadf.iloc[0:117,1:].values\n",
    "y = pcadf.iloc[0:117,0].values\n",
    "print(X.shape, y.shape)"
   ]
  },
  {
   "cell_type": "code",
   "execution_count": 190,
   "metadata": {},
   "outputs": [
    {
     "name": "stderr",
     "output_type": "stream",
     "text": [
      "/home/tara/Programming/env/lib/python3.8/site-packages/xgboost/sklearn.py:1224: UserWarning: The use of label encoder in XGBClassifier is deprecated and will be removed in a future release. To remove this warning, do the following: 1) Pass option use_label_encoder=False when constructing XGBClassifier object; and 2) Encode your labels (y) as integers starting with 0, i.e. 0, 1, 2, ..., [num_class - 1].\n",
      "  warnings.warn(label_encoder_deprecation_msg, UserWarning)\n"
     ]
    },
    {
     "name": "stdout",
     "output_type": "stream",
     "text": [
      "[16:59:53] WARNING: ../src/learner.cc:1115: Starting in XGBoost 1.3.0, the default evaluation metric used with the objective 'binary:logistic' was changed from 'error' to 'logloss'. Explicitly set eval_metric if you'd like to restore the old behavior.\n",
      "Accuracy: 70.83%\n"
     ]
    }
   ],
   "source": [
    "# train-test split evaluation of xgboost model\n",
    "from numpy import loadtxt\n",
    "from xgboost import XGBClassifier\n",
    "from sklearn.model_selection import train_test_split\n",
    "from sklearn.metrics import accuracy_score\n",
    "from xgboost import XGBClassifier\n",
    "\n",
    "# split data into X and y\n",
    "#X_train, X_test, y_train, y_test = train_test_split(data.iloc[:,2:], data['diagadhd'], test_size=0.3)\n",
    "training_set, test_set = train_test_split(pcadf, test_size = 0.2, random_state = 7)\n",
    "X_train = training_set.iloc[:,1:].values\n",
    "y_train = training_set.iloc[:,0].values\n",
    "X_test = test_set.iloc[:,1:].values\n",
    "y_test = test_set.iloc[:,0].values\n",
    "\n",
    "# fit model no training data\n",
    "model = XGBClassifier()\n",
    "model.fit(X_train, y_train)\n",
    "# make predictions for test data\n",
    "y_pred = model.predict(X_test)\n",
    "predictions = [round(value) for value in y_pred]\n",
    "# evaluate predictions\n",
    "accuracy = accuracy_score(y_test, predictions)\n",
    "print(\"Accuracy: %.2f%%\" % (accuracy * 100.0))"
   ]
  },
  {
   "cell_type": "code",
   "execution_count": 191,
   "metadata": {},
   "outputs": [],
   "source": [
    "log = LogisticRegression(C=0.18420699693267145, penalty='l2' )\n",
    "rnd = RandomForestClassifier(n_estimators=80,bootstrap=False,max_depth=10,max_features='auto',min_samples_leaf=2, min_samples_split=5)\n",
    "svm = SVC(C=1, kernel='linear',random_state=1 )"
   ]
  },
  {
   "cell_type": "code",
   "execution_count": 192,
   "metadata": {},
   "outputs": [],
   "source": [
    "voting = VotingClassifier(\n",
    "    estimators=[('logistic_regression', log),('random_forest', rnd), ('support_vector_machine', svm)],\n",
    "    voting='hard')"
   ]
  },
  {
   "cell_type": "code",
   "execution_count": 193,
   "metadata": {},
   "outputs": [
    {
     "data": {
      "text/plain": [
       "VotingClassifier(estimators=[('logistic_regression',\n",
       "                              LogisticRegression(C=0.18420699693267145)),\n",
       "                             ('random_forest',\n",
       "                              RandomForestClassifier(bootstrap=False,\n",
       "                                                     max_depth=10,\n",
       "                                                     min_samples_leaf=2,\n",
       "                                                     min_samples_split=5,\n",
       "                                                     n_estimators=80)),\n",
       "                             ('support_vector_machine',\n",
       "                              SVC(C=1, kernel='linear', random_state=1))])"
      ]
     },
     "execution_count": 193,
     "metadata": {},
     "output_type": "execute_result"
    }
   ],
   "source": [
    "voting.fit(X_train, y_train)"
   ]
  },
  {
   "cell_type": "code",
   "execution_count": 194,
   "metadata": {},
   "outputs": [
    {
     "name": "stdout",
     "output_type": "stream",
     "text": [
      "10-CV accuracy: 0.614 +/- 0.128\n"
     ]
    }
   ],
   "source": [
    "scores = cross_val_score(voting, X_train, y_train, scoring='accuracy', cv=10)\n",
    "print('10-CV accuracy: %.3f +/- %.3f' % (np.mean(scores), np.std(scores)))"
   ]
  },
  {
   "cell_type": "code",
   "execution_count": 195,
   "metadata": {},
   "outputs": [
    {
     "name": "stdout",
     "output_type": "stream",
     "text": [
      "10-CV accuracy: 0.783 +/- 0.317\n"
     ]
    }
   ],
   "source": [
    "scores = cross_val_score(voting, X_test, y_test, scoring='accuracy', cv=10)\n",
    "print('10-CV accuracy: %.3f +/- %.3f' % (np.mean(scores), np.std(scores)))"
   ]
  },
  {
   "cell_type": "code",
   "execution_count": 196,
   "metadata": {},
   "outputs": [
    {
     "name": "stdout",
     "output_type": "stream",
     "text": [
      "LogisticRegression 0.5833333333333334\n",
      "RandomForestClassifier 0.625\n",
      "SVC 0.625\n",
      "VotingClassifier 0.625\n"
     ]
    }
   ],
   "source": [
    "# train set accuracy\n",
    "for clf in (log, rnd, svm, voting):\n",
    "    clf.fit(X_train, y_train)\n",
    "    y_pred = clf.predict(X_test)\n",
    "    print(clf.__class__.__name__, accuracy_score(y_test, y_pred))"
   ]
  },
  {
   "cell_type": "code",
   "execution_count": 197,
   "metadata": {},
   "outputs": [
    {
     "name": "stdout",
     "output_type": "stream",
     "text": [
      "LogisticRegression 0.5833333333333334\n",
      "RandomForestClassifier 0.7083333333333334\n",
      "SVC 0.625\n",
      "VotingClassifier 0.625\n"
     ]
    }
   ],
   "source": [
    "#test set accuracy\n",
    "for clf in (log, rnd, svm, voting):\n",
    "    clf.fit(X_train, y_train)\n",
    "    y_pred = clf.predict(X_test)\n",
    "    print(clf.__class__.__name__, accuracy_score(y_test, y_pred))"
   ]
  },
  {
   "cell_type": "markdown",
   "metadata": {},
   "source": [
    "## Evaluation"
   ]
  },
  {
   "cell_type": "code",
   "execution_count": 199,
   "metadata": {},
   "outputs": [
    {
     "name": "stdout",
     "output_type": "stream",
     "text": [
      "[[13  1]\n",
      " [ 8  2]]\n"
     ]
    }
   ],
   "source": [
    "# Confusion matrix\n",
    "confusion = confusion_matrix(y_test, voting.predict(X_test))\n",
    "print(confusion)"
   ]
  },
  {
   "cell_type": "code",
   "execution_count": 200,
   "metadata": {},
   "outputs": [
    {
     "data": {
      "image/png": "[encoded data removed]",
      "text/plain": [
       "<Figure size 432x288 with 2 Axes>"
      ]
     },
     "metadata": {
      "needs_background": "light"
     },
     "output_type": "display_data"
    }
   ],
   "source": [
    "import seaborn as sns\n",
    "\n",
    "heatmap = sns.heatmap(confusion, annot=True, cmap='Oranges')\n",
    "\n",
    "heatmap.yaxis.set_ticklabels(heatmap.yaxis.get_ticklabels(),\n",
    "                            rotation=0, ha='right')\n",
    "\n",
    "heatmap.xaxis.set_ticklabels(heatmap.xaxis.get_ticklabels(),\n",
    "                            rotation=0, ha='right')\n",
    "\n",
    "plt.ylabel('True label')\n",
    "plt.xlabel('Predicted label')\n",
    "plt.title('RF Model Results')\n",
    "plt.show()"
   ]
  },
  {
   "cell_type": "code",
   "execution_count": 201,
   "metadata": {},
   "outputs": [
    {
     "data": {
      "image/png": "[encoded data removed]",
      "text/plain": [
       "<Figure size 432x288 with 1 Axes>"
      ]
     },
     "metadata": {
      "needs_background": "light"
     },
     "output_type": "display_data"
    }
   ],
   "source": [
    "import scikitplot as skplt\n",
    "import matplotlib.pyplot as plt\n",
    "\n",
    "y_pred_proba = model.predict_proba(X_test)[::,1]\n",
    "fpr, tpr, _ = metrics.roc_curve(y_test,  y_pred_proba)\n",
    "auc = metrics.roc_auc_score(y_test, y_pred_proba)\n",
    "plt.plot(fpr,tpr,label=\"auc=\"+str(auc))\n",
    "plt.legend(loc=4)\n",
    "plt.show()"
   ]
  },
  {
   "cell_type": "code",
   "execution_count": 87,
   "metadata": {},
   "outputs": [
    {
     "name": "stdout",
     "output_type": "stream",
     "text": [
      "the sensitivity if this model is:  0.2\n",
      "the specificity if this model is:  0.9285714285714286\n"
     ]
    }
   ],
   "source": [
    "TP = confusion[1,1] # true positive\n",
    "TN = confusion[0,0] # true negatives\n",
    "FP = confusion[0,1] # false positives\n",
    "FN = confusion[1,0] # false negatives\n",
    "\n",
    "# Let's see the sensitivity of our logistic regression model\n",
    "\n",
    "print('the sensitivity if this model is: ', TP / float(TP+FN))\n",
    "\n",
    "# Let us calculate specificity\n",
    "\n",
    "print('the specificity if this model is: ', TN / float(TN+FP))"
   ]
  },
  {
   "cell_type": "code",
   "execution_count": 88,
   "metadata": {},
   "outputs": [
    {
     "name": "stdout",
     "output_type": "stream",
     "text": [
      "roc_auc_score for SVM:  0.5928571428571429\n"
     ]
    }
   ],
   "source": [
    "from sklearn import datasets\n",
    "from sklearn.tree import DecisionTreeClassifier\n",
    "from sklearn.linear_model import LogisticRegression\n",
    "from sklearn.metrics import roc_curve, roc_auc_score\n",
    "from sklearn.model_selection import train_test_split\n",
    "import matplotlib.pyplot as plt\n",
    "\n",
    "y_score1 = model.predict_proba(X_test)[:,1]\n",
    "y_score2 = model.predict_proba(X_test)[:,1]\n",
    "false_positive_rate1, true_positive_rate1, threshold1 = roc_curve(y_test, y_score1)\n",
    "false_positive_rate2, true_positive_rate2, threshold2 = roc_curve(y_test, y_score2)\n",
    "print('roc_auc_score for SVM: ', roc_auc_score(y_test, y_score1))"
   ]
  },
  {
   "cell_type": "code",
   "execution_count": null,
   "metadata": {},
   "outputs": [],
   "source": []
  }
 ],
 "metadata": {
  "kernelspec": {
   "display_name": "Python 3",
   "language": "python",
   "name": "python3"
  },
  "language_info": {
   "codemirror_mode": {
    "name": "ipython",
    "version": 3
   },
   "file_extension": ".py",
   "mimetype": "text/x-python",
   "name": "python",
   "nbconvert_exporter": "python",
   "pygments_lexer": "ipython3",
   "version": "3.8.10"
  }
 },
 "nbformat": 4,
 "nbformat_minor": 4
}
