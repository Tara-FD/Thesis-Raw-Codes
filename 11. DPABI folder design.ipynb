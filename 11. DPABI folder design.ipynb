{
 "cells": [
  {
   "cell_type": "code",
   "execution_count": 1,
   "metadata": {},
   "outputs": [],
   "source": [
    "import matplotlib.pyplot as plt\n",
    "import pandas as pd\n",
    "import numpy as np\n",
    "import os \n",
    "import shutil "
   ]
  },
  {
   "cell_type": "code",
   "execution_count": 2,
   "metadata": {},
   "outputs": [],
   "source": [
    "directory = input('Enter your root directory: ')"
   ]
  },
  {
   "cell_type": "code",
   "execution_count": 3,
   "metadata": {},
   "outputs": [],
   "source": [
    "ls = os.listdir(directory)"
   ]
  },
  {
   "cell_type": "code",
   "execution_count": 29,
   "metadata": {},
   "outputs": [],
   "source": [
    "for sub in ls:\n",
    "    original = directory + '/' + sub + '/func/' + sub + '_in_standard_space.nii.gz'\n",
    "        \n",
    "        #for waves in s1:\n",
    "        #if waves.find('.') == -1:\n",
    "        #    finalpath = os.path.join(path, waves) + '/func'\n",
    "        #    s2 = os.listdir(finalpath)\n",
    "         #   for files in s2:\n",
    "          #      if files.find('.') == 0:\n",
    "           #         continue\n",
    "            #    if files.find('func_in_standard_space.nii.gz') != -1:\n",
    "\n",
    "                    #print(files)\n",
    "    \n",
    "    \n",
    "\n",
    "                    #original = finalpath + '/' + files\n",
    "                    #target = '/media/tara/HD710PRO/Thesis/NICAP_dpabi_format/' + file \n",
    "    target = '/share/users/tfarzane/data/NICAP_dpabi_design/FunImg/' + sub\n",
    "    \n",
    "    os.makedirs(target, exist_ok = True)\n",
    "    target = target + '/' + files\n",
    "    shutil.copyfile(original, target)\n",
    "                    \n",
    "\n",
    "\n",
    "\n"
   ]
  },
  {
   "cell_type": "code",
   "execution_count": null,
   "metadata": {},
   "outputs": [],
   "source": [
    "#for s2i in s2:\n",
    " #       if s2i.find('T1w.') != -1:\n",
    "  #          original = finalpath + '/' + s2i\n",
    "   #         target = '/media/tara/HD710PRO/Thesis/test-result/' + file + '/anat' \n",
    "    #        os.makedirs(target, exist_ok = True)\n",
    "     #       target = target + '/' + s2i\n",
    "      #      shutil.copyfile(original, target)"
   ]
  },
  {
   "cell_type": "code",
   "execution_count": null,
   "metadata": {},
   "outputs": [],
   "source": []
  },
  {
   "cell_type": "code",
   "execution_count": null,
   "metadata": {},
   "outputs": [],
   "source": []
  }
 ],
 "metadata": {
  "kernelspec": {
   "display_name": "Python 3",
   "language": "python",
   "name": "python3"
  },
  "language_info": {
   "codemirror_mode": {
    "name": "ipython",
    "version": 3
   },
   "file_extension": ".py",
   "mimetype": "text/x-python",
   "name": "python",
   "nbconvert_exporter": "python",
   "pygments_lexer": "ipython3",
   "version": "3.8.5"
  }
 },
 "nbformat": 4,
 "nbformat_minor": 4
}
