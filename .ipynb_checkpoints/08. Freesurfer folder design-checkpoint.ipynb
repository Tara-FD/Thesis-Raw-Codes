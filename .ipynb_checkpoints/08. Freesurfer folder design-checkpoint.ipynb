{
 "cells": [
  {
   "cell_type": "code",
   "execution_count": 23,
   "metadata": {},
   "outputs": [],
   "source": [
    "import matplotlib.pyplot as plt\n",
    "import pandas as pd\n",
    "import numpy as np\n",
    "import os \n",
    "import shutil "
   ]
  },
  {
   "cell_type": "code",
   "execution_count": 24,
   "metadata": {},
   "outputs": [],
   "source": [
    "directory = '/media/tara/HD710PRO/Thesis/test'"
   ]
  },
  {
   "cell_type": "code",
   "execution_count": 25,
   "metadata": {},
   "outputs": [
    {
     "data": {
      "text/plain": [
       "['sub-0015', 'sub-0134', 'sub-0085']"
      ]
     },
     "execution_count": 25,
     "metadata": {},
     "output_type": "execute_result"
    }
   ],
   "source": [
    "s = os.listdir(directory)\n",
    "s"
   ]
  },
  {
   "cell_type": "code",
   "execution_count": 51,
   "metadata": {},
   "outputs": [],
   "source": [
    "c=-1\n",
    "for file in os.listdir(directory):\n",
    "    path = directory + '/' + file\n",
    "    s1 = os.listdir(path)\n",
    "    finalpath = os.path.join(path, s1[0]) + '/anat'\n",
    "    s2 = os.listdir(finalpath) \n",
    "    for s2i in s2:\n",
    "        if s2i.find('T1w.') != -1:\n",
    "            original = finalpath + '/' + s2i\n",
    "            target = '/media/tara/HD710PRO/Thesis/test-result/' + file + '/anat' \n",
    "            os.makedirs(target, exist_ok = True)\n",
    "            target = target + '/' + s2i\n",
    "            shutil.copyfile(original, target)"
   ]
  },
  {
   "cell_type": "code",
   "execution_count": 48,
   "metadata": {},
   "outputs": [
    {
     "data": {
      "text/plain": [
       "'sub-0015_ses-wave3_T1w.nii.gz'"
      ]
     },
     "execution_count": 48,
     "metadata": {},
     "output_type": "execute_result"
    }
   ],
   "source": [
    "s2i"
   ]
  },
  {
   "cell_type": "code",
   "execution_count": 32,
   "metadata": {},
   "outputs": [
    {
     "data": {
      "text/plain": [
       "'/media/tara/HD710PRO/Thesis/test/sub-0015/ses-wave3/anat/sub-0015_ses-wave3_T1w.nii.gz'"
      ]
     },
     "execution_count": 32,
     "metadata": {},
     "output_type": "execute_result"
    }
   ],
   "source": [
    "original = r'/media/tara/HD710PRO/Thesis/NICAP_ADHD_sleep_DATA/sub-0015/ses-wave3/anat/sub-0015_ses-wave3_T1w.nii.gz'\n",
    "target = r'/media/tara/HD710PRO/Thesis/test/sub-0015/ses-wave3/anat/sub-0015_ses-wave3_T1w.nii.gz'\n",
    "\n",
    "shutil.copyfile(original, target)"
   ]
  },
  {
   "cell_type": "code",
   "execution_count": null,
   "metadata": {},
   "outputs": [],
   "source": []
  }
 ],
 "metadata": {
  "kernelspec": {
   "display_name": "Python 3",
   "language": "python",
   "name": "python3"
  },
  "language_info": {
   "codemirror_mode": {
    "name": "ipython",
    "version": 3
   },
   "file_extension": ".py",
   "mimetype": "text/x-python",
   "name": "python",
   "nbconvert_exporter": "python",
   "pygments_lexer": "ipython3",
   "version": "3.8.5"
  }
 },
 "nbformat": 4,
 "nbformat_minor": 4
}
