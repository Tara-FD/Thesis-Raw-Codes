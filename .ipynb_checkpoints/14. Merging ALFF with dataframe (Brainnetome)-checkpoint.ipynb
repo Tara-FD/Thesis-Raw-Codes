{
 "cells": [
  {
   "cell_type": "code",
   "execution_count": 1,
   "metadata": {},
   "outputs": [],
   "source": [
    "import nibabel as nl\n",
    "import numpy as np\n",
    "import pandas as pd\n",
    "import os, shutil\n",
    "import matplotlib.pyplot as plt"
   ]
  },
  {
   "cell_type": "code",
   "execution_count": 2,
   "metadata": {},
   "outputs": [
    {
     "data": {
      "text/html": [
       "<div>\n",
       "<style scoped>\n",
       "    .dataframe tbody tr th:only-of-type {\n",
       "        vertical-align: middle;\n",
       "    }\n",
       "\n",
       "    .dataframe tbody tr th {\n",
       "        vertical-align: top;\n",
       "    }\n",
       "\n",
       "    .dataframe thead th {\n",
       "        text-align: right;\n",
       "    }\n",
       "</style>\n",
       "<table border=\"1\" class=\"dataframe\">\n",
       "  <thead>\n",
       "    <tr style=\"text-align: right;\">\n",
       "      <th></th>\n",
       "      <th>Subject_ID</th>\n",
       "      <th>imaging waves</th>\n",
       "      <th>snr_total</th>\n",
       "      <th>17Networks_RH_TempPar_10</th>\n",
       "      <th>17Networks_RH_TempPar_9</th>\n",
       "      <th>17Networks_RH_TempPar_8</th>\n",
       "      <th>17Networks_RH_TempPar_7</th>\n",
       "      <th>17Networks_RH_TempPar_6</th>\n",
       "      <th>17Networks_RH_TempPar_5</th>\n",
       "      <th>17Networks_RH_TempPar_4</th>\n",
       "      <th>...</th>\n",
       "      <th>summary_wm_mean</th>\n",
       "      <th>summary_wm_median</th>\n",
       "      <th>summary_wm_n</th>\n",
       "      <th>summary_wm_p05</th>\n",
       "      <th>summary_wm_p95</th>\n",
       "      <th>summary_wm_stdv</th>\n",
       "      <th>tpm_overlap_csf</th>\n",
       "      <th>tpm_overlap_gm</th>\n",
       "      <th>tpm_overlap_wm</th>\n",
       "      <th>wm2max</th>\n",
       "    </tr>\n",
       "  </thead>\n",
       "  <tbody>\n",
       "    <tr>\n",
       "      <th>0</th>\n",
       "      <td>sub-0015</td>\n",
       "      <td>ses-wave3</td>\n",
       "      <td>11.837327</td>\n",
       "      <td>-0.331545</td>\n",
       "      <td>0.023124</td>\n",
       "      <td>-0.203593</td>\n",
       "      <td>-0.151195</td>\n",
       "      <td>0.037073</td>\n",
       "      <td>-0.050264</td>\n",
       "      <td>-0.003429</td>\n",
       "      <td>...</td>\n",
       "      <td>995.745911</td>\n",
       "      <td>1000.011963</td>\n",
       "      <td>315498.0</td>\n",
       "      <td>901.995431</td>\n",
       "      <td>1071.995032</td>\n",
       "      <td>51.632389</td>\n",
       "      <td>0.158227</td>\n",
       "      <td>0.463963</td>\n",
       "      <td>0.496865</td>\n",
       "      <td>0.348531</td>\n",
       "    </tr>\n",
       "    <tr>\n",
       "      <th>1</th>\n",
       "      <td>sub-0085</td>\n",
       "      <td>ses-wave2</td>\n",
       "      <td>11.131926</td>\n",
       "      <td>-0.044947</td>\n",
       "      <td>-0.216448</td>\n",
       "      <td>-0.198601</td>\n",
       "      <td>-0.222929</td>\n",
       "      <td>-0.005697</td>\n",
       "      <td>-0.206885</td>\n",
       "      <td>0.096881</td>\n",
       "      <td>...</td>\n",
       "      <td>997.301331</td>\n",
       "      <td>1000.002930</td>\n",
       "      <td>263420.0</td>\n",
       "      <td>909.174200</td>\n",
       "      <td>1072.202417</td>\n",
       "      <td>51.231632</td>\n",
       "      <td>0.124368</td>\n",
       "      <td>0.418898</td>\n",
       "      <td>0.468719</td>\n",
       "      <td>0.624520</td>\n",
       "    </tr>\n",
       "  </tbody>\n",
       "</table>\n",
       "<p>2 rows × 1331 columns</p>\n",
       "</div>"
      ],
      "text/plain": [
       "  Subject_ID imaging waves  snr_total  17Networks_RH_TempPar_10  \\\n",
       "0   sub-0015     ses-wave3  11.837327                 -0.331545   \n",
       "1   sub-0085     ses-wave2  11.131926                 -0.044947   \n",
       "\n",
       "   17Networks_RH_TempPar_9  17Networks_RH_TempPar_8  17Networks_RH_TempPar_7  \\\n",
       "0                 0.023124                -0.203593                -0.151195   \n",
       "1                -0.216448                -0.198601                -0.222929   \n",
       "\n",
       "   17Networks_RH_TempPar_6  17Networks_RH_TempPar_5  17Networks_RH_TempPar_4  \\\n",
       "0                 0.037073                -0.050264                -0.003429   \n",
       "1                -0.005697                -0.206885                 0.096881   \n",
       "\n",
       "   ...  summary_wm_mean  summary_wm_median  summary_wm_n  summary_wm_p05  \\\n",
       "0  ...       995.745911        1000.011963      315498.0      901.995431   \n",
       "1  ...       997.301331        1000.002930      263420.0      909.174200   \n",
       "\n",
       "   summary_wm_p95  summary_wm_stdv  tpm_overlap_csf  tpm_overlap_gm  \\\n",
       "0     1071.995032        51.632389         0.158227        0.463963   \n",
       "1     1072.202417        51.231632         0.124368        0.418898   \n",
       "\n",
       "   tpm_overlap_wm    wm2max  \n",
       "0        0.496865  0.348531  \n",
       "1        0.468719  0.624520  \n",
       "\n",
       "[2 rows x 1331 columns]"
      ]
     },
     "execution_count": 2,
     "metadata": {},
     "output_type": "execute_result"
    }
   ],
   "source": [
    "df = pd.read_csv('df_with_schaefer.csv')\n",
    "df.head()"
   ]
  },
  {
   "cell_type": "markdown",
   "metadata": {},
   "source": [
    "### list of ALFFs of sub1 and sub2"
   ]
  },
  {
   "cell_type": "code",
   "execution_count": 3,
   "metadata": {},
   "outputs": [],
   "source": [
    "# opening the text file\n",
    "lis = []\n",
    "with open('meants_BNatlas.txt','r') as ALFFout:\n",
    "   \n",
    "    # reading each line    \n",
    "    for line in ALFFout:\n",
    "   \n",
    "        # reading each word        \n",
    "        for ALFF in line.split():\n",
    "            lis.append(float(ALFF))\n",
    "            # displaying the words           \n",
    "            #print(ALFF) "
   ]
  },
  {
   "cell_type": "code",
   "execution_count": 4,
   "metadata": {},
   "outputs": [
    {
     "data": {
      "text/plain": [
       "492"
      ]
     },
     "execution_count": 4,
     "metadata": {},
     "output_type": "execute_result"
    }
   ],
   "source": [
    "len(lis)"
   ]
  },
  {
   "cell_type": "markdown",
   "metadata": {},
   "source": [
    "### list of region names in BN Atlas (246 regions)"
   ]
  },
  {
   "cell_type": "code",
   "execution_count": 5,
   "metadata": {},
   "outputs": [
    {
     "name": "stdout",
     "output_type": "stream",
     "text": [
      "['A8m_L', 'A8m_R', 'A8dl_L', 'A8dl_R', 'A9l_L', 'A9l_R', 'A6dl_L', 'A6dl_R', 'A6m_L', 'A6m_R', 'A9m_L', 'A9m_R', 'A10m_L', 'A10m_R', 'A9/46d_L', 'A9/46d_R', 'IFJ_L', 'IFJ_R', 'A46_L', 'A46_R', 'A9/46v_L', 'A9/46v_R', 'A8vl_L', 'A8vl_R', 'A6vl_L', 'A6vl_R', 'A10l_L', 'A10l_R', 'A44d_L', 'A44d_R', 'IFS_L', 'IFS_R', 'A45c_L', 'A45c_R', 'A45r_L', 'A45r_R', 'A44op_L', 'A44op_R', 'A44v_L', 'A44v_R', 'A14m_L', 'A14m_R', 'A12/47o_L', 'A12/47o_R', 'A11l_L', 'A11l_R', 'A11m_L', 'A11m_R', 'A13_L', 'A13_R', 'A12/47l_L', 'A12/47l_R', 'A4hf_L', 'A4hf_R', 'A6cdl_L', 'A6cdl_R', 'A4ul_L', 'A4ul_R', 'A4t_L', 'A4t_R', 'A4tl_L', 'A4tl_R', 'A6cvl_L', 'A6cvl_R', 'A1/2/3ll_L', 'A1/2/3ll_R', 'A4ll_L', 'A4ll_R', 'A38m_L', 'A38m_R', 'A41/42_L', 'A41/42_R', 'TE1.0/TE1.2_L', 'TE1.0/TE1.2_R', 'A22c_L', 'A22c_R', 'A38l_L', 'A38l_R', 'A22r_L', 'A22r_R', 'A21c_L', 'A21c_R', 'A21r_L', 'A21r_R', 'A37dl_L', 'A37dl_R', 'aSTS_L', 'aSTS_R', 'A20iv_L', 'A20iv_R', 'A37elv_L', 'A37elv_R', 'A20r_L', 'A20r_R', 'A20il_L', 'A20il_R', 'A37vl_L', 'A37vl_R', 'A20cl_L', 'A20cl_R', 'A20cv_L', 'A20cv_R', 'A20rv_L', 'A20rv_R', 'A37mv_L', 'A37mv_R', 'A37lv_L', 'A37lv_R', 'A35/36r_L', 'A35/36r_R', 'A35/36c_L', 'A35/36c_R', 'TL_L', 'TL_R', 'A28/34_L', 'A28/34_R', 'TI_L', 'TI_R', 'TH_L', 'TH_R', 'rpSTS_L', 'rpSTS_R', 'cpSTS_L', 'cpSTS_R', 'A7r_L', 'A7r_R', 'A7c_L', 'A7c_R', 'A5l_L', 'A5l_R', 'A7pc_L', 'A7pc_R', 'A7ip_L', 'A7ip_R', 'A39c_L', 'A39c_R', 'A39rd_L', 'A39rd_R', 'A40rd_L', 'A40rd_R', 'A40c_L', 'A40c_R', 'A39rv_L', 'A39rv_R', 'A40rv_L', 'A40rv_R', 'A7m_L', 'A7m_R', 'A5m_L', 'A5m_R', 'dmPOS_L', 'dmPOS_R', 'A31_L', 'A31_R', 'A1/2/3ulhf_L', 'A1/2/3ulhf_R', 'A1/2/3tonIa_L', 'A1/2/3tonIa_R', 'A2_L', 'A2_R', 'A1/2/3tru_L', 'A1/2/3tru_R', 'G_L', 'G_R', 'vIa_L', 'vIa_R', 'dIa_L', 'dIa_R', 'vId/vIg_L', 'vId/vIg_R', 'dIg_L', 'dIg_R', 'dId_L', 'dId_R', 'A23d_L', 'A23d_R', 'A24rv_L', 'A24rv_R', 'A32p_L', 'A32p_R', 'A23v_L', 'A23v_R', 'A24cd_L', 'A24cd_R', 'A23c_L', 'A23c_R', 'A32sg_L', 'A32sg_R', 'cLinG_L', 'cLinG_R', 'rCunG_L', 'rCunG_R', 'cCunG_L', 'cCunG_R', 'rLinG_L', 'rLinG_R', 'vmPOS_L', 'vmPOS_R', 'mOccG_L', 'mOccG_R', 'V5/MT+_L', 'V5/MT+_R', 'OPC_L', 'OPC_R', 'iOccG_L', 'iOccG_R', 'msOccG_L', 'msOccG_R', 'lsOccG_L', 'lsOccG_R', 'mAmyg_L', 'mAmyg_R', 'lAmyg_L', 'lAmyg_R', 'rHipp_L', 'rHipp_R', 'cHipp_L', 'cHipp_R', 'vCa_L', 'vCa_R', 'GP_L', 'GP_R', 'NAC_L', 'NAC_R', 'vmPu_L', 'vmPu_R', 'dCa_L', 'dCa_R', 'dlPu_L', 'dlPu_R', 'mPFtha_L', 'mPFtha_R', 'mPMtha_L', 'mPMtha_R', 'Stha_L', 'Stha_R', 'rTtha_L', 'rTtha_R', 'PPtha_L', 'PPtha_R', 'Otha_L', 'Otha_R', 'cTtha_L', 'cTtha_R', 'lPFtha_L', 'lPFtha_R']\n"
     ]
    }
   ],
   "source": [
    "token = open('BN_Atlas_246_LUT.txt','r')\n",
    "linestoken=token.readlines()\n",
    "tokens_column_number = 1\n",
    "parname=[]\n",
    "for x in linestoken:\n",
    "    parname.append(x.split()[tokens_column_number])\n",
    "token.close()\n",
    "print(parname)"
   ]
  },
  {
   "cell_type": "code",
   "execution_count": 6,
   "metadata": {},
   "outputs": [
    {
     "data": {
      "text/plain": [
       "246"
      ]
     },
     "execution_count": 6,
     "metadata": {},
     "output_type": "execute_result"
    }
   ],
   "source": [
    "len(parname)"
   ]
  },
  {
   "cell_type": "markdown",
   "metadata": {},
   "source": [
    "### merging regions and their values with dataframe"
   ]
  },
  {
   "cell_type": "code",
   "execution_count": 7,
   "metadata": {},
   "outputs": [],
   "source": [
    "test = df.set_index('Subject_ID')\n",
    "inds = test.index"
   ]
  },
  {
   "cell_type": "code",
   "execution_count": null,
   "metadata": {},
   "outputs": [],
   "source": [
    "df = pd.DataFrame()\n",
    "for j, ind in enumerate(inds):\n",
    "    sub = test.loc[[ind]]\n",
    "    for i, pars in enumerate(parname):\n",
    "        if pars not in sub:\n",
    "            sub.insert(2, pars, np.nan, True)\n",
    "        sub[pars] = lis[i+j*400]\n",
    "    df = pd.concat([df, sub])"
   ]
  }
 ],
 "metadata": {
  "kernelspec": {
   "display_name": "Python 3",
   "language": "python",
   "name": "python3"
  },
  "language_info": {
   "codemirror_mode": {
    "name": "ipython",
    "version": 3
   },
   "file_extension": ".py",
   "mimetype": "text/x-python",
   "name": "python",
   "nbconvert_exporter": "python",
   "pygments_lexer": "ipython3",
   "version": "3.8.5"
  }
 },
 "nbformat": 4,
 "nbformat_minor": 4
}
