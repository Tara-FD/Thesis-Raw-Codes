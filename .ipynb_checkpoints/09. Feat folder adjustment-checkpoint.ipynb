{
 "cells": [
  {
   "cell_type": "code",
   "execution_count": 56,
   "metadata": {},
   "outputs": [],
   "source": [
    "import os \n",
    "import shutil "
   ]
  },
  {
   "cell_type": "markdown",
   "metadata": {},
   "source": [
    "### test (just keeping anat and func)"
   ]
  },
  {
   "cell_type": "code",
   "execution_count": 57,
   "metadata": {},
   "outputs": [],
   "source": [
    "directory = '/media/tara/HD710PRO/Thesis/putty_test'"
   ]
  },
  {
   "cell_type": "code",
   "execution_count": 58,
   "metadata": {},
   "outputs": [
    {
     "data": {
      "text/plain": [
       "['sub-0015', 'sub-0085', 'sub-0134']"
      ]
     },
     "execution_count": 58,
     "metadata": {},
     "output_type": "execute_result"
    }
   ],
   "source": [
    "s = os.listdir(directory)\n",
    "s"
   ]
  },
  {
   "cell_type": "code",
   "execution_count": 59,
   "metadata": {},
   "outputs": [],
   "source": [
    "c=-1\n",
    "for file in s:\n",
    "    path = directory + '/' + file\n",
    "    s1 = os.listdir(path)\n",
    "    #finalpath = os.path.join(path, s1[-1])\n",
    "    #s2 = os.listdir(s1) \n",
    "    for s2i in s1:\n",
    "        if s2i.find('.') != -1:\n",
    "    \n",
    "            c+=1\n",
    "        if c==0:\n",
    "            os.remove(path + '/' + s2i)\n",
    "            #print(path + '/' + s2i)\n",
    "        c=-1\n",
    "           "
   ]
  },
  {
   "cell_type": "code",
   "execution_count": 73,
   "metadata": {},
   "outputs": [],
   "source": [
    "for folder in s:\n",
    "    path2 = directory + '/' + folder\n",
    "    f1 = os.listdir(path2)\n",
    "    finalpath = os.path.join(path2, f1[-1])\n",
    "    src1 = finalpath + '/anat' \n",
    "    dest = '/media/tara/HD710PRO/Thesis/putty_test' + '/' + folder\n",
    "    try:\n",
    "        shutil.move(src1, dest) \n",
    "        src2 = finalpath + '/func'\n",
    "        shutil.move(src2, dest)\n",
    "    except:\n",
    "        ses = os.listdir(dest)\n",
    "        for fol in ses:\n",
    "            if fol.find('ses') != -1:\n",
    "                shutil.rmtree(path2 + '/' + fol)  \n",
    "        "
   ]
  },
  {
   "cell_type": "markdown",
   "metadata": {},
   "source": [
    "### :)"
   ]
  },
  {
   "cell_type": "code",
   "execution_count": null,
   "metadata": {},
   "outputs": [],
   "source": []
  }
 ],
 "metadata": {
  "kernelspec": {
   "display_name": "Python 3",
   "language": "python",
   "name": "python3"
  },
  "language_info": {
   "codemirror_mode": {
    "name": "ipython",
    "version": 3
   },
   "file_extension": ".py",
   "mimetype": "text/x-python",
   "name": "python",
   "nbconvert_exporter": "python",
   "pygments_lexer": "ipython3",
   "version": "3.8.5"
  }
 },
 "nbformat": 4,
 "nbformat_minor": 4
}
